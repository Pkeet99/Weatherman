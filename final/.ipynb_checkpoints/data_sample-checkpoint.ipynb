{
 "cells": [
  {
   "cell_type": "code",
   "execution_count": 1,
   "id": "949d4f6a",
   "metadata": {},
   "outputs": [
    {
     "name": "stdout",
     "output_type": "stream",
     "text": [
      "<class 'pandas.core.frame.DataFrame'>\n",
      "MultiIndex: 62183652 entries, ('04AEH', Timestamp('2022-04-23 14:00:00')) to ('ZYITU', Timestamp('2022-10-01 23:00:00'))\n",
      "Data columns (total 11 columns):\n",
      " #   Column  Dtype  \n",
      "---  ------  -----  \n",
      " 0   temp    float64\n",
      " 1   dwpt    float64\n",
      " 2   rhum    float64\n",
      " 3   prcp    float64\n",
      " 4   snow    float64\n",
      " 5   wdir    float64\n",
      " 6   wspd    float64\n",
      " 7   wpgt    float64\n",
      " 8   pres    float64\n",
      " 9   tsun    float64\n",
      " 10  coco    float64\n",
      "dtypes: float64(11)\n",
      "memory usage: 5.4+ GB\n"
     ]
    }
   ],
   "source": [
    "import pandas as pd\n",
    "import os\n",
    "\n",
    "ROOT_DIR = os.path.realpath(os.path.join(os.getcwd(), '..'))\n",
    "pkl_loc = os.path.join(ROOT_DIR, 'data','data', 'weatherraw.pkl')\n",
    "df = pd.read_pickle(pkl_loc)\n",
    "df.info()"
   ]
  },
  {
   "cell_type": "code",
   "execution_count": 3,
   "id": "87b2d8f3",
   "metadata": {},
   "outputs": [],
   "source": [
    "compression_opts = dict(method='zip',\n",
    "                        archive_name='data_sample.csv')  \n",
    "df.sample(100).to_csv('data_sample.zip', compression=compression_opts) "
   ]
  },
  {
   "cell_type": "code",
   "execution_count": null,
   "id": "17558782",
   "metadata": {},
   "outputs": [],
   "source": []
  }
 ],
 "metadata": {
  "kernelspec": {
   "display_name": "Python 3 (ipykernel)",
   "language": "python",
   "name": "python3"
  },
  "language_info": {
   "codemirror_mode": {
    "name": "ipython",
    "version": 3
   },
   "file_extension": ".py",
   "mimetype": "text/x-python",
   "name": "python",
   "nbconvert_exporter": "python",
   "pygments_lexer": "ipython3",
   "version": "3.9.5"
  }
 },
 "nbformat": 4,
 "nbformat_minor": 5
}
