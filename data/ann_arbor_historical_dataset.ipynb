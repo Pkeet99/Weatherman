{
 "cells": [
  {
   "cell_type": "code",
   "execution_count": 1,
   "metadata": {
    "collapsed": true
   },
   "outputs": [],
   "source": [
    "import pandas as pd\n",
    "from meteostat import Stations\n",
    "import os"
   ]
  },
  {
   "cell_type": "code",
   "execution_count": 2,
   "outputs": [],
   "source": [
    "from meteostat import Hourly\n",
    "\n",
    "Hourly.chunked = False\n",
    "\n",
    "data = Hourly('KARB0')\n",
    "data = data.fetch()"
   ],
   "metadata": {
    "collapsed": false,
    "pycharm": {
     "name": "#%%\n"
    }
   }
  },
  {
   "cell_type": "code",
   "execution_count": 3,
   "outputs": [
    {
     "data": {
      "text/plain": "                     temp  dwpt  rhum  prcp  snow   wdir  wspd  wpgt    pres  \\\ntime                                                                           \n2006-01-01 00:00:00   1.0  -1.1  86.0   NaN   NaN  240.0  14.8   NaN     NaN   \n2006-01-01 01:00:00   1.1  -0.1  92.0   0.0   NaN  240.0  14.8   NaN  1009.0   \n2006-01-01 02:00:00   0.6   0.0  96.0   NaN   NaN  250.0  13.0   NaN  1009.5   \n2006-01-01 03:00:00   1.1  -0.1  92.0   NaN   NaN  250.0  13.0   NaN  1009.6   \n2006-01-01 04:00:00   1.1  -0.7  88.0   NaN   NaN  250.0  14.8   NaN  1010.5   \n...                   ...   ...   ...   ...   ...    ...   ...   ...     ...   \n2022-10-06 00:00:00  13.7   5.1  56.0   NaN   NaN  127.0   8.3   NaN  1022.5   \n2022-10-06 06:00:00   8.8   7.2  90.0   NaN   NaN  245.0   8.3   NaN  1023.3   \n2022-10-06 12:00:00   7.6   6.4  92.0   NaN   NaN  272.0   6.5   NaN  1024.6   \n2022-10-06 18:00:00  20.4   8.7  47.0   NaN   NaN  215.0   5.0   NaN  1023.6   \n2022-10-07 00:00:00  14.9   8.8  67.0   NaN   NaN  188.0   7.2   NaN  1022.1   \n\n                     tsun  coco  \ntime                             \n2006-01-01 00:00:00   NaN   NaN  \n2006-01-01 01:00:00   NaN   NaN  \n2006-01-01 02:00:00   NaN   NaN  \n2006-01-01 03:00:00   NaN   NaN  \n2006-01-01 04:00:00   NaN   NaN  \n...                   ...   ...  \n2022-10-06 00:00:00   NaN   NaN  \n2022-10-06 06:00:00   NaN   NaN  \n2022-10-06 12:00:00   NaN   NaN  \n2022-10-06 18:00:00   NaN   NaN  \n2022-10-07 00:00:00   NaN   NaN  \n\n[146330 rows x 11 columns]",
      "text/html": "<div>\n<style scoped>\n    .dataframe tbody tr th:only-of-type {\n        vertical-align: middle;\n    }\n\n    .dataframe tbody tr th {\n        vertical-align: top;\n    }\n\n    .dataframe thead th {\n        text-align: right;\n    }\n</style>\n<table border=\"1\" class=\"dataframe\">\n  <thead>\n    <tr style=\"text-align: right;\">\n      <th></th>\n      <th>temp</th>\n      <th>dwpt</th>\n      <th>rhum</th>\n      <th>prcp</th>\n      <th>snow</th>\n      <th>wdir</th>\n      <th>wspd</th>\n      <th>wpgt</th>\n      <th>pres</th>\n      <th>tsun</th>\n      <th>coco</th>\n    </tr>\n    <tr>\n      <th>time</th>\n      <th></th>\n      <th></th>\n      <th></th>\n      <th></th>\n      <th></th>\n      <th></th>\n      <th></th>\n      <th></th>\n      <th></th>\n      <th></th>\n      <th></th>\n    </tr>\n  </thead>\n  <tbody>\n    <tr>\n      <th>2006-01-01 00:00:00</th>\n      <td>1.0</td>\n      <td>-1.1</td>\n      <td>86.0</td>\n      <td>NaN</td>\n      <td>NaN</td>\n      <td>240.0</td>\n      <td>14.8</td>\n      <td>NaN</td>\n      <td>NaN</td>\n      <td>NaN</td>\n      <td>NaN</td>\n    </tr>\n    <tr>\n      <th>2006-01-01 01:00:00</th>\n      <td>1.1</td>\n      <td>-0.1</td>\n      <td>92.0</td>\n      <td>0.0</td>\n      <td>NaN</td>\n      <td>240.0</td>\n      <td>14.8</td>\n      <td>NaN</td>\n      <td>1009.0</td>\n      <td>NaN</td>\n      <td>NaN</td>\n    </tr>\n    <tr>\n      <th>2006-01-01 02:00:00</th>\n      <td>0.6</td>\n      <td>0.0</td>\n      <td>96.0</td>\n      <td>NaN</td>\n      <td>NaN</td>\n      <td>250.0</td>\n      <td>13.0</td>\n      <td>NaN</td>\n      <td>1009.5</td>\n      <td>NaN</td>\n      <td>NaN</td>\n    </tr>\n    <tr>\n      <th>2006-01-01 03:00:00</th>\n      <td>1.1</td>\n      <td>-0.1</td>\n      <td>92.0</td>\n      <td>NaN</td>\n      <td>NaN</td>\n      <td>250.0</td>\n      <td>13.0</td>\n      <td>NaN</td>\n      <td>1009.6</td>\n      <td>NaN</td>\n      <td>NaN</td>\n    </tr>\n    <tr>\n      <th>2006-01-01 04:00:00</th>\n      <td>1.1</td>\n      <td>-0.7</td>\n      <td>88.0</td>\n      <td>NaN</td>\n      <td>NaN</td>\n      <td>250.0</td>\n      <td>14.8</td>\n      <td>NaN</td>\n      <td>1010.5</td>\n      <td>NaN</td>\n      <td>NaN</td>\n    </tr>\n    <tr>\n      <th>...</th>\n      <td>...</td>\n      <td>...</td>\n      <td>...</td>\n      <td>...</td>\n      <td>...</td>\n      <td>...</td>\n      <td>...</td>\n      <td>...</td>\n      <td>...</td>\n      <td>...</td>\n      <td>...</td>\n    </tr>\n    <tr>\n      <th>2022-10-06 00:00:00</th>\n      <td>13.7</td>\n      <td>5.1</td>\n      <td>56.0</td>\n      <td>NaN</td>\n      <td>NaN</td>\n      <td>127.0</td>\n      <td>8.3</td>\n      <td>NaN</td>\n      <td>1022.5</td>\n      <td>NaN</td>\n      <td>NaN</td>\n    </tr>\n    <tr>\n      <th>2022-10-06 06:00:00</th>\n      <td>8.8</td>\n      <td>7.2</td>\n      <td>90.0</td>\n      <td>NaN</td>\n      <td>NaN</td>\n      <td>245.0</td>\n      <td>8.3</td>\n      <td>NaN</td>\n      <td>1023.3</td>\n      <td>NaN</td>\n      <td>NaN</td>\n    </tr>\n    <tr>\n      <th>2022-10-06 12:00:00</th>\n      <td>7.6</td>\n      <td>6.4</td>\n      <td>92.0</td>\n      <td>NaN</td>\n      <td>NaN</td>\n      <td>272.0</td>\n      <td>6.5</td>\n      <td>NaN</td>\n      <td>1024.6</td>\n      <td>NaN</td>\n      <td>NaN</td>\n    </tr>\n    <tr>\n      <th>2022-10-06 18:00:00</th>\n      <td>20.4</td>\n      <td>8.7</td>\n      <td>47.0</td>\n      <td>NaN</td>\n      <td>NaN</td>\n      <td>215.0</td>\n      <td>5.0</td>\n      <td>NaN</td>\n      <td>1023.6</td>\n      <td>NaN</td>\n      <td>NaN</td>\n    </tr>\n    <tr>\n      <th>2022-10-07 00:00:00</th>\n      <td>14.9</td>\n      <td>8.8</td>\n      <td>67.0</td>\n      <td>NaN</td>\n      <td>NaN</td>\n      <td>188.0</td>\n      <td>7.2</td>\n      <td>NaN</td>\n      <td>1022.1</td>\n      <td>NaN</td>\n      <td>NaN</td>\n    </tr>\n  </tbody>\n</table>\n<p>146330 rows × 11 columns</p>\n</div>"
     },
     "execution_count": 3,
     "metadata": {},
     "output_type": "execute_result"
    }
   ],
   "source": [
    "data"
   ],
   "metadata": {
    "collapsed": false,
    "pycharm": {
     "name": "#%%\n"
    }
   }
  },
  {
   "cell_type": "code",
   "execution_count": 4,
   "outputs": [
    {
     "data": {
      "text/plain": "                     temp  dwpt  rhum  prcp  snow   wdir  wspd  wpgt    pres  \\\ntime                                                                           \n2006-01-01 00:00:00   1.0  -1.1  86.0   NaN   NaN  240.0  14.8   NaN     NaN   \n2006-01-01 01:00:00   1.1  -0.1  92.0   0.0   NaN  240.0  14.8   NaN  1009.0   \n2006-01-01 02:00:00   0.6   0.0  96.0   NaN   NaN  250.0  13.0   NaN  1009.5   \n2006-01-01 03:00:00   1.1  -0.1  92.0   NaN   NaN  250.0  13.0   NaN  1009.6   \n2006-01-01 04:00:00   1.1  -0.7  88.0   NaN   NaN  250.0  14.8   NaN  1010.5   \n...                   ...   ...   ...   ...   ...    ...   ...   ...     ...   \n2022-10-06 00:00:00  13.7   5.1  56.0   NaN   NaN  127.0   8.3   NaN  1022.5   \n2022-10-06 06:00:00   8.8   7.2  90.0   NaN   NaN  245.0   8.3   NaN  1023.3   \n2022-10-06 12:00:00   7.6   6.4  92.0   NaN   NaN  272.0   6.5   NaN  1024.6   \n2022-10-06 18:00:00  20.4   8.7  47.0   NaN   NaN  215.0   5.0   NaN  1023.6   \n2022-10-07 00:00:00  14.9   8.8  67.0   NaN   NaN  188.0   7.2   NaN  1022.1   \n\n                     tsun  coco           Timestamp       Year  DayOfYear  \\\ntime                                                                        \n2006-01-01 00:00:00   NaN   NaN 2006-01-01 00:00:00 2006-01-01        0.0   \n2006-01-01 01:00:00   NaN   NaN 2006-01-01 01:00:00 2006-01-01        0.0   \n2006-01-01 02:00:00   NaN   NaN 2006-01-01 02:00:00 2006-01-01        0.0   \n2006-01-01 03:00:00   NaN   NaN 2006-01-01 03:00:00 2006-01-01        0.0   \n2006-01-01 04:00:00   NaN   NaN 2006-01-01 04:00:00 2006-01-01        0.0   \n...                   ...   ...                 ...        ...        ...   \n2022-10-06 00:00:00   NaN   NaN 2022-10-06 00:00:00 2022-01-01      278.0   \n2022-10-06 06:00:00   NaN   NaN 2022-10-06 06:00:00 2022-01-01      278.0   \n2022-10-06 12:00:00   NaN   NaN 2022-10-06 12:00:00 2022-01-01      278.0   \n2022-10-06 18:00:00   NaN   NaN 2022-10-06 18:00:00 2022-01-01      278.0   \n2022-10-07 00:00:00   NaN   NaN 2022-10-07 00:00:00 2022-01-01      279.0   \n\n                     Hour  HourOfYear  \ntime                                   \n2006-01-01 00:00:00     1         1.0  \n2006-01-01 01:00:00     2         2.0  \n2006-01-01 02:00:00     3         3.0  \n2006-01-01 03:00:00     4         4.0  \n2006-01-01 04:00:00     5         5.0  \n...                   ...         ...  \n2022-10-06 00:00:00     1      6673.0  \n2022-10-06 06:00:00     7      6679.0  \n2022-10-06 12:00:00    13      6685.0  \n2022-10-06 18:00:00    19      6691.0  \n2022-10-07 00:00:00     1      6697.0  \n\n[146330 rows x 16 columns]",
      "text/html": "<div>\n<style scoped>\n    .dataframe tbody tr th:only-of-type {\n        vertical-align: middle;\n    }\n\n    .dataframe tbody tr th {\n        vertical-align: top;\n    }\n\n    .dataframe thead th {\n        text-align: right;\n    }\n</style>\n<table border=\"1\" class=\"dataframe\">\n  <thead>\n    <tr style=\"text-align: right;\">\n      <th></th>\n      <th>temp</th>\n      <th>dwpt</th>\n      <th>rhum</th>\n      <th>prcp</th>\n      <th>snow</th>\n      <th>wdir</th>\n      <th>wspd</th>\n      <th>wpgt</th>\n      <th>pres</th>\n      <th>tsun</th>\n      <th>coco</th>\n      <th>Timestamp</th>\n      <th>Year</th>\n      <th>DayOfYear</th>\n      <th>Hour</th>\n      <th>HourOfYear</th>\n    </tr>\n    <tr>\n      <th>time</th>\n      <th></th>\n      <th></th>\n      <th></th>\n      <th></th>\n      <th></th>\n      <th></th>\n      <th></th>\n      <th></th>\n      <th></th>\n      <th></th>\n      <th></th>\n      <th></th>\n      <th></th>\n      <th></th>\n      <th></th>\n      <th></th>\n    </tr>\n  </thead>\n  <tbody>\n    <tr>\n      <th>2006-01-01 00:00:00</th>\n      <td>1.0</td>\n      <td>-1.1</td>\n      <td>86.0</td>\n      <td>NaN</td>\n      <td>NaN</td>\n      <td>240.0</td>\n      <td>14.8</td>\n      <td>NaN</td>\n      <td>NaN</td>\n      <td>NaN</td>\n      <td>NaN</td>\n      <td>2006-01-01 00:00:00</td>\n      <td>2006-01-01</td>\n      <td>0.0</td>\n      <td>1</td>\n      <td>1.0</td>\n    </tr>\n    <tr>\n      <th>2006-01-01 01:00:00</th>\n      <td>1.1</td>\n      <td>-0.1</td>\n      <td>92.0</td>\n      <td>0.0</td>\n      <td>NaN</td>\n      <td>240.0</td>\n      <td>14.8</td>\n      <td>NaN</td>\n      <td>1009.0</td>\n      <td>NaN</td>\n      <td>NaN</td>\n      <td>2006-01-01 01:00:00</td>\n      <td>2006-01-01</td>\n      <td>0.0</td>\n      <td>2</td>\n      <td>2.0</td>\n    </tr>\n    <tr>\n      <th>2006-01-01 02:00:00</th>\n      <td>0.6</td>\n      <td>0.0</td>\n      <td>96.0</td>\n      <td>NaN</td>\n      <td>NaN</td>\n      <td>250.0</td>\n      <td>13.0</td>\n      <td>NaN</td>\n      <td>1009.5</td>\n      <td>NaN</td>\n      <td>NaN</td>\n      <td>2006-01-01 02:00:00</td>\n      <td>2006-01-01</td>\n      <td>0.0</td>\n      <td>3</td>\n      <td>3.0</td>\n    </tr>\n    <tr>\n      <th>2006-01-01 03:00:00</th>\n      <td>1.1</td>\n      <td>-0.1</td>\n      <td>92.0</td>\n      <td>NaN</td>\n      <td>NaN</td>\n      <td>250.0</td>\n      <td>13.0</td>\n      <td>NaN</td>\n      <td>1009.6</td>\n      <td>NaN</td>\n      <td>NaN</td>\n      <td>2006-01-01 03:00:00</td>\n      <td>2006-01-01</td>\n      <td>0.0</td>\n      <td>4</td>\n      <td>4.0</td>\n    </tr>\n    <tr>\n      <th>2006-01-01 04:00:00</th>\n      <td>1.1</td>\n      <td>-0.7</td>\n      <td>88.0</td>\n      <td>NaN</td>\n      <td>NaN</td>\n      <td>250.0</td>\n      <td>14.8</td>\n      <td>NaN</td>\n      <td>1010.5</td>\n      <td>NaN</td>\n      <td>NaN</td>\n      <td>2006-01-01 04:00:00</td>\n      <td>2006-01-01</td>\n      <td>0.0</td>\n      <td>5</td>\n      <td>5.0</td>\n    </tr>\n    <tr>\n      <th>...</th>\n      <td>...</td>\n      <td>...</td>\n      <td>...</td>\n      <td>...</td>\n      <td>...</td>\n      <td>...</td>\n      <td>...</td>\n      <td>...</td>\n      <td>...</td>\n      <td>...</td>\n      <td>...</td>\n      <td>...</td>\n      <td>...</td>\n      <td>...</td>\n      <td>...</td>\n      <td>...</td>\n    </tr>\n    <tr>\n      <th>2022-10-06 00:00:00</th>\n      <td>13.7</td>\n      <td>5.1</td>\n      <td>56.0</td>\n      <td>NaN</td>\n      <td>NaN</td>\n      <td>127.0</td>\n      <td>8.3</td>\n      <td>NaN</td>\n      <td>1022.5</td>\n      <td>NaN</td>\n      <td>NaN</td>\n      <td>2022-10-06 00:00:00</td>\n      <td>2022-01-01</td>\n      <td>278.0</td>\n      <td>1</td>\n      <td>6673.0</td>\n    </tr>\n    <tr>\n      <th>2022-10-06 06:00:00</th>\n      <td>8.8</td>\n      <td>7.2</td>\n      <td>90.0</td>\n      <td>NaN</td>\n      <td>NaN</td>\n      <td>245.0</td>\n      <td>8.3</td>\n      <td>NaN</td>\n      <td>1023.3</td>\n      <td>NaN</td>\n      <td>NaN</td>\n      <td>2022-10-06 06:00:00</td>\n      <td>2022-01-01</td>\n      <td>278.0</td>\n      <td>7</td>\n      <td>6679.0</td>\n    </tr>\n    <tr>\n      <th>2022-10-06 12:00:00</th>\n      <td>7.6</td>\n      <td>6.4</td>\n      <td>92.0</td>\n      <td>NaN</td>\n      <td>NaN</td>\n      <td>272.0</td>\n      <td>6.5</td>\n      <td>NaN</td>\n      <td>1024.6</td>\n      <td>NaN</td>\n      <td>NaN</td>\n      <td>2022-10-06 12:00:00</td>\n      <td>2022-01-01</td>\n      <td>278.0</td>\n      <td>13</td>\n      <td>6685.0</td>\n    </tr>\n    <tr>\n      <th>2022-10-06 18:00:00</th>\n      <td>20.4</td>\n      <td>8.7</td>\n      <td>47.0</td>\n      <td>NaN</td>\n      <td>NaN</td>\n      <td>215.0</td>\n      <td>5.0</td>\n      <td>NaN</td>\n      <td>1023.6</td>\n      <td>NaN</td>\n      <td>NaN</td>\n      <td>2022-10-06 18:00:00</td>\n      <td>2022-01-01</td>\n      <td>278.0</td>\n      <td>19</td>\n      <td>6691.0</td>\n    </tr>\n    <tr>\n      <th>2022-10-07 00:00:00</th>\n      <td>14.9</td>\n      <td>8.8</td>\n      <td>67.0</td>\n      <td>NaN</td>\n      <td>NaN</td>\n      <td>188.0</td>\n      <td>7.2</td>\n      <td>NaN</td>\n      <td>1022.1</td>\n      <td>NaN</td>\n      <td>NaN</td>\n      <td>2022-10-07 00:00:00</td>\n      <td>2022-01-01</td>\n      <td>279.0</td>\n      <td>1</td>\n      <td>6697.0</td>\n    </tr>\n  </tbody>\n</table>\n<p>146330 rows × 16 columns</p>\n</div>"
     },
     "execution_count": 4,
     "metadata": {},
     "output_type": "execute_result"
    }
   ],
   "source": [
    "data['Timestamp'] = data.index\n",
    "data['Year']       = data['Timestamp'].astype('M8[Y]')\n",
    "data['DayOfYear']  = (data['Timestamp'] - data['Year']).astype('timedelta64[D]')\n",
    "data['Hour']       = data['Timestamp'].dt.hour + 1\n",
    "data['HourOfYear'] = data['DayOfYear'] * 24 + data['Hour']\n",
    "data"
   ],
   "metadata": {
    "collapsed": false,
    "pycharm": {
     "name": "#%%\n"
    }
   }
  },
  {
   "cell_type": "code",
   "execution_count": 5,
   "outputs": [
    {
     "data": {
      "text/plain": "      HourOfYear  ATAhr-temp  ATAhr-dwpt  ATAhr-rhum  ATAhr-prcp  ATAhr-wdir  \\\n0            1.0    0.475000   -0.800000   91.250000    0.000000  140.000000   \n1            2.0   -1.011765   -4.276471   79.117647    0.473333  212.857143   \n2            3.0   -1.394118   -4.464706   80.176471    0.235714  215.714286   \n3            4.0   -1.664706   -4.594118   81.000000    0.000000  203.750000   \n4            5.0   -2.023529   -4.741176   82.176471    0.000000  208.125000   \n...          ...         ...         ...         ...         ...         ...   \n8779      8780.0    0.550000   -7.275000   56.750000    0.000000  272.500000   \n8780      8781.0    0.275000   -7.175000   58.000000    0.000000  252.500000   \n8781      8782.0    0.125000   -6.950000   59.500000    0.000000  257.500000   \n8782      8783.0   -0.700000   -7.100000   62.250000    0.000000  257.500000   \n8783      8784.0   -1.950000   -7.025000   68.500000    0.000000  267.500000   \n\n      ATAhr-wspd   ATAhr-pres  \n0      13.066667  1005.000000  \n1      12.041176  1016.131250  \n2      11.341176  1015.629412  \n3      13.523529  1015.564706  \n4      14.370588  1015.717647  \n...          ...          ...  \n8779   22.775000  1016.775000  \n8780   20.425000  1016.975000  \n8781   18.550000  1017.525000  \n8782   20.900000  1017.975000  \n8783   17.925000  1018.875000  \n\n[8784 rows x 8 columns]",
      "text/html": "<div>\n<style scoped>\n    .dataframe tbody tr th:only-of-type {\n        vertical-align: middle;\n    }\n\n    .dataframe tbody tr th {\n        vertical-align: top;\n    }\n\n    .dataframe thead th {\n        text-align: right;\n    }\n</style>\n<table border=\"1\" class=\"dataframe\">\n  <thead>\n    <tr style=\"text-align: right;\">\n      <th></th>\n      <th>HourOfYear</th>\n      <th>ATAhr-temp</th>\n      <th>ATAhr-dwpt</th>\n      <th>ATAhr-rhum</th>\n      <th>ATAhr-prcp</th>\n      <th>ATAhr-wdir</th>\n      <th>ATAhr-wspd</th>\n      <th>ATAhr-pres</th>\n    </tr>\n  </thead>\n  <tbody>\n    <tr>\n      <th>0</th>\n      <td>1.0</td>\n      <td>0.475000</td>\n      <td>-0.800000</td>\n      <td>91.250000</td>\n      <td>0.000000</td>\n      <td>140.000000</td>\n      <td>13.066667</td>\n      <td>1005.000000</td>\n    </tr>\n    <tr>\n      <th>1</th>\n      <td>2.0</td>\n      <td>-1.011765</td>\n      <td>-4.276471</td>\n      <td>79.117647</td>\n      <td>0.473333</td>\n      <td>212.857143</td>\n      <td>12.041176</td>\n      <td>1016.131250</td>\n    </tr>\n    <tr>\n      <th>2</th>\n      <td>3.0</td>\n      <td>-1.394118</td>\n      <td>-4.464706</td>\n      <td>80.176471</td>\n      <td>0.235714</td>\n      <td>215.714286</td>\n      <td>11.341176</td>\n      <td>1015.629412</td>\n    </tr>\n    <tr>\n      <th>3</th>\n      <td>4.0</td>\n      <td>-1.664706</td>\n      <td>-4.594118</td>\n      <td>81.000000</td>\n      <td>0.000000</td>\n      <td>203.750000</td>\n      <td>13.523529</td>\n      <td>1015.564706</td>\n    </tr>\n    <tr>\n      <th>4</th>\n      <td>5.0</td>\n      <td>-2.023529</td>\n      <td>-4.741176</td>\n      <td>82.176471</td>\n      <td>0.000000</td>\n      <td>208.125000</td>\n      <td>14.370588</td>\n      <td>1015.717647</td>\n    </tr>\n    <tr>\n      <th>...</th>\n      <td>...</td>\n      <td>...</td>\n      <td>...</td>\n      <td>...</td>\n      <td>...</td>\n      <td>...</td>\n      <td>...</td>\n      <td>...</td>\n    </tr>\n    <tr>\n      <th>8779</th>\n      <td>8780.0</td>\n      <td>0.550000</td>\n      <td>-7.275000</td>\n      <td>56.750000</td>\n      <td>0.000000</td>\n      <td>272.500000</td>\n      <td>22.775000</td>\n      <td>1016.775000</td>\n    </tr>\n    <tr>\n      <th>8780</th>\n      <td>8781.0</td>\n      <td>0.275000</td>\n      <td>-7.175000</td>\n      <td>58.000000</td>\n      <td>0.000000</td>\n      <td>252.500000</td>\n      <td>20.425000</td>\n      <td>1016.975000</td>\n    </tr>\n    <tr>\n      <th>8781</th>\n      <td>8782.0</td>\n      <td>0.125000</td>\n      <td>-6.950000</td>\n      <td>59.500000</td>\n      <td>0.000000</td>\n      <td>257.500000</td>\n      <td>18.550000</td>\n      <td>1017.525000</td>\n    </tr>\n    <tr>\n      <th>8782</th>\n      <td>8783.0</td>\n      <td>-0.700000</td>\n      <td>-7.100000</td>\n      <td>62.250000</td>\n      <td>0.000000</td>\n      <td>257.500000</td>\n      <td>20.900000</td>\n      <td>1017.975000</td>\n    </tr>\n    <tr>\n      <th>8783</th>\n      <td>8784.0</td>\n      <td>-1.950000</td>\n      <td>-7.025000</td>\n      <td>68.500000</td>\n      <td>0.000000</td>\n      <td>267.500000</td>\n      <td>17.925000</td>\n      <td>1018.875000</td>\n    </tr>\n  </tbody>\n</table>\n<p>8784 rows × 8 columns</p>\n</div>"
     },
     "execution_count": 5,
     "metadata": {},
     "output_type": "execute_result"
    }
   ],
   "source": [
    "all_time_avg_hr = data.groupby('HourOfYear',as_index=False).mean()\n",
    "all_time_avg_hr.drop(columns=['snow', 'wpgt', 'tsun', 'coco', 'DayOfYear', 'Hour'],inplace=True)\n",
    "all_time_avg_hr.columns = ['HourOfYear', 'ATAhr-temp', 'ATAhr-dwpt', 'ATAhr-rhum', 'ATAhr-prcp', 'ATAhr-wdir', 'ATAhr-wspd', 'ATAhr-pres']\n",
    "all_time_avg_hr"
   ],
   "metadata": {
    "collapsed": false,
    "pycharm": {
     "name": "#%%\n"
    }
   }
  },
  {
   "cell_type": "code",
   "execution_count": 6,
   "outputs": [
    {
     "data": {
      "text/plain": "     DayOfYear  ATAday-temp  ATAday-dwpt  ATAday-rhum  ATAday-prcp  \\\n0          0.0    -2.214937    -5.633418    78.324051     0.089164   \n1          1.0    -3.682598    -7.382353    76.468137     0.051515   \n2          2.0    -4.670343    -8.135294    77.551471     0.084511   \n3          3.0    -2.627179    -6.386923    75.933333     0.018237   \n4          4.0    -3.442506    -6.983292    77.137592     0.121321   \n..         ...          ...          ...          ...          ...   \n361      361.0    -0.942708    -4.149740    79.393229     0.049363   \n362      362.0    -1.147917    -4.124740    81.005208     0.135015   \n363      363.0    -1.946615    -5.254948    78.968750     0.090741   \n364      364.0    -1.479427    -4.696875    79.611979     0.110616   \n365      365.0    -2.358333    -7.440625    69.062500     0.003659   \n\n     ATAday-wdir  ATAday-wspd  ATAday-pres  \n0     211.805930    15.509391  1016.603158  \n1     211.377551    15.568305  1018.979753  \n2     211.880829    12.832353  1019.964286  \n3     231.735751    15.712051  1017.083289  \n4     241.250000    13.545209  1016.911959  \n..           ...          ...          ...  \n361   212.647887    14.802887  1018.089737  \n362   210.262391    13.640885  1017.504545  \n363   208.764706    11.920052  1018.367553  \n364   218.038674    14.206771  1017.002394  \n365   239.791667    18.472917  1015.713684  \n\n[366 rows x 8 columns]",
      "text/html": "<div>\n<style scoped>\n    .dataframe tbody tr th:only-of-type {\n        vertical-align: middle;\n    }\n\n    .dataframe tbody tr th {\n        vertical-align: top;\n    }\n\n    .dataframe thead th {\n        text-align: right;\n    }\n</style>\n<table border=\"1\" class=\"dataframe\">\n  <thead>\n    <tr style=\"text-align: right;\">\n      <th></th>\n      <th>DayOfYear</th>\n      <th>ATAday-temp</th>\n      <th>ATAday-dwpt</th>\n      <th>ATAday-rhum</th>\n      <th>ATAday-prcp</th>\n      <th>ATAday-wdir</th>\n      <th>ATAday-wspd</th>\n      <th>ATAday-pres</th>\n    </tr>\n  </thead>\n  <tbody>\n    <tr>\n      <th>0</th>\n      <td>0.0</td>\n      <td>-2.214937</td>\n      <td>-5.633418</td>\n      <td>78.324051</td>\n      <td>0.089164</td>\n      <td>211.805930</td>\n      <td>15.509391</td>\n      <td>1016.603158</td>\n    </tr>\n    <tr>\n      <th>1</th>\n      <td>1.0</td>\n      <td>-3.682598</td>\n      <td>-7.382353</td>\n      <td>76.468137</td>\n      <td>0.051515</td>\n      <td>211.377551</td>\n      <td>15.568305</td>\n      <td>1018.979753</td>\n    </tr>\n    <tr>\n      <th>2</th>\n      <td>2.0</td>\n      <td>-4.670343</td>\n      <td>-8.135294</td>\n      <td>77.551471</td>\n      <td>0.084511</td>\n      <td>211.880829</td>\n      <td>12.832353</td>\n      <td>1019.964286</td>\n    </tr>\n    <tr>\n      <th>3</th>\n      <td>3.0</td>\n      <td>-2.627179</td>\n      <td>-6.386923</td>\n      <td>75.933333</td>\n      <td>0.018237</td>\n      <td>231.735751</td>\n      <td>15.712051</td>\n      <td>1017.083289</td>\n    </tr>\n    <tr>\n      <th>4</th>\n      <td>4.0</td>\n      <td>-3.442506</td>\n      <td>-6.983292</td>\n      <td>77.137592</td>\n      <td>0.121321</td>\n      <td>241.250000</td>\n      <td>13.545209</td>\n      <td>1016.911959</td>\n    </tr>\n    <tr>\n      <th>...</th>\n      <td>...</td>\n      <td>...</td>\n      <td>...</td>\n      <td>...</td>\n      <td>...</td>\n      <td>...</td>\n      <td>...</td>\n      <td>...</td>\n    </tr>\n    <tr>\n      <th>361</th>\n      <td>361.0</td>\n      <td>-0.942708</td>\n      <td>-4.149740</td>\n      <td>79.393229</td>\n      <td>0.049363</td>\n      <td>212.647887</td>\n      <td>14.802887</td>\n      <td>1018.089737</td>\n    </tr>\n    <tr>\n      <th>362</th>\n      <td>362.0</td>\n      <td>-1.147917</td>\n      <td>-4.124740</td>\n      <td>81.005208</td>\n      <td>0.135015</td>\n      <td>210.262391</td>\n      <td>13.640885</td>\n      <td>1017.504545</td>\n    </tr>\n    <tr>\n      <th>363</th>\n      <td>363.0</td>\n      <td>-1.946615</td>\n      <td>-5.254948</td>\n      <td>78.968750</td>\n      <td>0.090741</td>\n      <td>208.764706</td>\n      <td>11.920052</td>\n      <td>1018.367553</td>\n    </tr>\n    <tr>\n      <th>364</th>\n      <td>364.0</td>\n      <td>-1.479427</td>\n      <td>-4.696875</td>\n      <td>79.611979</td>\n      <td>0.110616</td>\n      <td>218.038674</td>\n      <td>14.206771</td>\n      <td>1017.002394</td>\n    </tr>\n    <tr>\n      <th>365</th>\n      <td>365.0</td>\n      <td>-2.358333</td>\n      <td>-7.440625</td>\n      <td>69.062500</td>\n      <td>0.003659</td>\n      <td>239.791667</td>\n      <td>18.472917</td>\n      <td>1015.713684</td>\n    </tr>\n  </tbody>\n</table>\n<p>366 rows × 8 columns</p>\n</div>"
     },
     "execution_count": 6,
     "metadata": {},
     "output_type": "execute_result"
    }
   ],
   "source": [
    "all_time_avg_day = data.groupby('DayOfYear',as_index=False).mean()\n",
    "all_time_avg_day.drop(columns=['snow', 'wpgt', 'tsun', 'coco', 'HourOfYear', 'Hour'],inplace=True)\n",
    "all_time_avg_day.columns = ['DayOfYear', 'ATAday-temp', 'ATAday-dwpt', 'ATAday-rhum', 'ATAday-prcp', 'ATAday-wdir', 'ATAday-wspd', 'ATAday-pres']\n",
    "all_time_avg_day"
   ],
   "metadata": {
    "collapsed": false,
    "pycharm": {
     "name": "#%%\n"
    }
   }
  },
  {
   "cell_type": "code",
   "execution_count": 7,
   "outputs": [
    {
     "data": {
      "text/plain": "      HourOfYear  L5Ahr-temp  L5Ahr-dwpt  L5Ahr-rhum  L5Ahr-prcp  ATAhr-wdir  \\\n0            1.0        0.30       -0.70        93.0       0.000   90.000000   \n1            2.0       -3.24       -5.60        83.8       0.125  123.333333   \n2            3.0       -3.66       -5.76        85.2       0.375  123.333333   \n3            4.0       -4.10       -5.88        87.2       0.000  117.500000   \n4            5.0       -4.32       -5.78        89.6       0.000  150.000000   \n...          ...         ...         ...         ...         ...         ...   \n8779      8780.0       -1.10       -8.30        58.0       0.000  300.000000   \n8780      8781.0       -1.10       -8.30        58.0       0.000  210.000000   \n8781      8782.0       -1.10       -7.90        60.0       0.000  260.000000   \n8782      8783.0       -2.20       -8.30        63.0       0.000  210.000000   \n8783      8784.0       -5.00       -8.20        78.0       0.000  220.000000   \n\n      L5Ahr-wspd  L5Ahr-pres  \n0          12.20     1005.00  \n1           7.06     1016.60  \n2           6.26     1014.82  \n3           8.56     1014.78  \n4          10.66     1015.28  \n...          ...         ...  \n8779       11.20     1026.30  \n8780        5.40     1026.50  \n8781        7.60     1026.50  \n8782        7.60     1027.30  \n8783        5.40     1028.20  \n\n[8784 rows x 8 columns]",
      "text/html": "<div>\n<style scoped>\n    .dataframe tbody tr th:only-of-type {\n        vertical-align: middle;\n    }\n\n    .dataframe tbody tr th {\n        vertical-align: top;\n    }\n\n    .dataframe thead th {\n        text-align: right;\n    }\n</style>\n<table border=\"1\" class=\"dataframe\">\n  <thead>\n    <tr style=\"text-align: right;\">\n      <th></th>\n      <th>HourOfYear</th>\n      <th>L5Ahr-temp</th>\n      <th>L5Ahr-dwpt</th>\n      <th>L5Ahr-rhum</th>\n      <th>L5Ahr-prcp</th>\n      <th>ATAhr-wdir</th>\n      <th>L5Ahr-wspd</th>\n      <th>L5Ahr-pres</th>\n    </tr>\n  </thead>\n  <tbody>\n    <tr>\n      <th>0</th>\n      <td>1.0</td>\n      <td>0.30</td>\n      <td>-0.70</td>\n      <td>93.0</td>\n      <td>0.000</td>\n      <td>90.000000</td>\n      <td>12.20</td>\n      <td>1005.00</td>\n    </tr>\n    <tr>\n      <th>1</th>\n      <td>2.0</td>\n      <td>-3.24</td>\n      <td>-5.60</td>\n      <td>83.8</td>\n      <td>0.125</td>\n      <td>123.333333</td>\n      <td>7.06</td>\n      <td>1016.60</td>\n    </tr>\n    <tr>\n      <th>2</th>\n      <td>3.0</td>\n      <td>-3.66</td>\n      <td>-5.76</td>\n      <td>85.2</td>\n      <td>0.375</td>\n      <td>123.333333</td>\n      <td>6.26</td>\n      <td>1014.82</td>\n    </tr>\n    <tr>\n      <th>3</th>\n      <td>4.0</td>\n      <td>-4.10</td>\n      <td>-5.88</td>\n      <td>87.2</td>\n      <td>0.000</td>\n      <td>117.500000</td>\n      <td>8.56</td>\n      <td>1014.78</td>\n    </tr>\n    <tr>\n      <th>4</th>\n      <td>5.0</td>\n      <td>-4.32</td>\n      <td>-5.78</td>\n      <td>89.6</td>\n      <td>0.000</td>\n      <td>150.000000</td>\n      <td>10.66</td>\n      <td>1015.28</td>\n    </tr>\n    <tr>\n      <th>...</th>\n      <td>...</td>\n      <td>...</td>\n      <td>...</td>\n      <td>...</td>\n      <td>...</td>\n      <td>...</td>\n      <td>...</td>\n      <td>...</td>\n    </tr>\n    <tr>\n      <th>8779</th>\n      <td>8780.0</td>\n      <td>-1.10</td>\n      <td>-8.30</td>\n      <td>58.0</td>\n      <td>0.000</td>\n      <td>300.000000</td>\n      <td>11.20</td>\n      <td>1026.30</td>\n    </tr>\n    <tr>\n      <th>8780</th>\n      <td>8781.0</td>\n      <td>-1.10</td>\n      <td>-8.30</td>\n      <td>58.0</td>\n      <td>0.000</td>\n      <td>210.000000</td>\n      <td>5.40</td>\n      <td>1026.50</td>\n    </tr>\n    <tr>\n      <th>8781</th>\n      <td>8782.0</td>\n      <td>-1.10</td>\n      <td>-7.90</td>\n      <td>60.0</td>\n      <td>0.000</td>\n      <td>260.000000</td>\n      <td>7.60</td>\n      <td>1026.50</td>\n    </tr>\n    <tr>\n      <th>8782</th>\n      <td>8783.0</td>\n      <td>-2.20</td>\n      <td>-8.30</td>\n      <td>63.0</td>\n      <td>0.000</td>\n      <td>210.000000</td>\n      <td>7.60</td>\n      <td>1027.30</td>\n    </tr>\n    <tr>\n      <th>8783</th>\n      <td>8784.0</td>\n      <td>-5.00</td>\n      <td>-8.20</td>\n      <td>78.0</td>\n      <td>0.000</td>\n      <td>220.000000</td>\n      <td>5.40</td>\n      <td>1028.20</td>\n    </tr>\n  </tbody>\n</table>\n<p>8784 rows × 8 columns</p>\n</div>"
     },
     "execution_count": 7,
     "metadata": {},
     "output_type": "execute_result"
    }
   ],
   "source": [
    "data_last_5 = data[data['Year'].dt.year>2017]\n",
    "last_5_avg_hr = data_last_5.groupby('HourOfYear',as_index=False).mean()\n",
    "last_5_avg_hr.drop(columns=['snow', 'wpgt', 'tsun', 'coco', 'DayOfYear', 'Hour'],inplace=True)\n",
    "last_5_avg_hr.columns = ['HourOfYear', 'L5Ahr-temp', 'L5Ahr-dwpt', 'L5Ahr-rhum', 'L5Ahr-prcp', 'ATAhr-wdir', 'L5Ahr-wspd', 'L5Ahr-pres']\n",
    "last_5_avg_hr"
   ],
   "metadata": {
    "collapsed": false,
    "pycharm": {
     "name": "#%%\n"
    }
   }
  },
  {
   "cell_type": "code",
   "execution_count": 8,
   "outputs": [
    {
     "data": {
      "text/plain": "     DayOfYear  L5Aday-temp  L5Aday-dwpt  L5Aday-rhum  L5Aday-prcp  \\\n0          0.0    -3.288983    -5.804237    83.152542     0.060952   \n1          1.0    -3.407500    -6.185000    81.850000     0.086957   \n2          2.0    -3.948333    -6.927500    80.333333     0.059434   \n3          3.0    -2.860000    -6.244167    78.050000     0.000000   \n4          4.0    -3.745000    -7.722500    74.691667     0.010084   \n..         ...          ...          ...          ...          ...   \n361      361.0     2.036458    -0.688542    82.437500     0.065517   \n362      362.0     1.779167    -0.615625    84.541667     0.318667   \n363      363.0    -0.138542    -3.550000    78.385417     0.266667   \n364      364.0     0.371875    -1.941667    84.864583     0.336923   \n365      365.0    -1.258333    -6.633333    67.000000     0.000000   \n\n     L5Aday-wdir  L5Aday-wspd  L5Aday-pres  \n0     171.171171    12.634188  1017.743860  \n1     183.389831    12.994167  1018.110084  \n2     179.383333    11.360000  1017.025000  \n3     244.576271    12.372500  1016.362712  \n4     232.500000    13.767500  1013.643697  \n..           ...          ...          ...  \n361   178.681319    11.850000  1014.477083  \n362   188.191489    13.788542  1014.159140  \n363   169.148936    13.303125  1016.103158  \n364   168.571429    14.516667  1011.095833  \n365   293.333333    14.762500  1021.029167  \n\n[366 rows x 8 columns]",
      "text/html": "<div>\n<style scoped>\n    .dataframe tbody tr th:only-of-type {\n        vertical-align: middle;\n    }\n\n    .dataframe tbody tr th {\n        vertical-align: top;\n    }\n\n    .dataframe thead th {\n        text-align: right;\n    }\n</style>\n<table border=\"1\" class=\"dataframe\">\n  <thead>\n    <tr style=\"text-align: right;\">\n      <th></th>\n      <th>DayOfYear</th>\n      <th>L5Aday-temp</th>\n      <th>L5Aday-dwpt</th>\n      <th>L5Aday-rhum</th>\n      <th>L5Aday-prcp</th>\n      <th>L5Aday-wdir</th>\n      <th>L5Aday-wspd</th>\n      <th>L5Aday-pres</th>\n    </tr>\n  </thead>\n  <tbody>\n    <tr>\n      <th>0</th>\n      <td>0.0</td>\n      <td>-3.288983</td>\n      <td>-5.804237</td>\n      <td>83.152542</td>\n      <td>0.060952</td>\n      <td>171.171171</td>\n      <td>12.634188</td>\n      <td>1017.743860</td>\n    </tr>\n    <tr>\n      <th>1</th>\n      <td>1.0</td>\n      <td>-3.407500</td>\n      <td>-6.185000</td>\n      <td>81.850000</td>\n      <td>0.086957</td>\n      <td>183.389831</td>\n      <td>12.994167</td>\n      <td>1018.110084</td>\n    </tr>\n    <tr>\n      <th>2</th>\n      <td>2.0</td>\n      <td>-3.948333</td>\n      <td>-6.927500</td>\n      <td>80.333333</td>\n      <td>0.059434</td>\n      <td>179.383333</td>\n      <td>11.360000</td>\n      <td>1017.025000</td>\n    </tr>\n    <tr>\n      <th>3</th>\n      <td>3.0</td>\n      <td>-2.860000</td>\n      <td>-6.244167</td>\n      <td>78.050000</td>\n      <td>0.000000</td>\n      <td>244.576271</td>\n      <td>12.372500</td>\n      <td>1016.362712</td>\n    </tr>\n    <tr>\n      <th>4</th>\n      <td>4.0</td>\n      <td>-3.745000</td>\n      <td>-7.722500</td>\n      <td>74.691667</td>\n      <td>0.010084</td>\n      <td>232.500000</td>\n      <td>13.767500</td>\n      <td>1013.643697</td>\n    </tr>\n    <tr>\n      <th>...</th>\n      <td>...</td>\n      <td>...</td>\n      <td>...</td>\n      <td>...</td>\n      <td>...</td>\n      <td>...</td>\n      <td>...</td>\n      <td>...</td>\n    </tr>\n    <tr>\n      <th>361</th>\n      <td>361.0</td>\n      <td>2.036458</td>\n      <td>-0.688542</td>\n      <td>82.437500</td>\n      <td>0.065517</td>\n      <td>178.681319</td>\n      <td>11.850000</td>\n      <td>1014.477083</td>\n    </tr>\n    <tr>\n      <th>362</th>\n      <td>362.0</td>\n      <td>1.779167</td>\n      <td>-0.615625</td>\n      <td>84.541667</td>\n      <td>0.318667</td>\n      <td>188.191489</td>\n      <td>13.788542</td>\n      <td>1014.159140</td>\n    </tr>\n    <tr>\n      <th>363</th>\n      <td>363.0</td>\n      <td>-0.138542</td>\n      <td>-3.550000</td>\n      <td>78.385417</td>\n      <td>0.266667</td>\n      <td>169.148936</td>\n      <td>13.303125</td>\n      <td>1016.103158</td>\n    </tr>\n    <tr>\n      <th>364</th>\n      <td>364.0</td>\n      <td>0.371875</td>\n      <td>-1.941667</td>\n      <td>84.864583</td>\n      <td>0.336923</td>\n      <td>168.571429</td>\n      <td>14.516667</td>\n      <td>1011.095833</td>\n    </tr>\n    <tr>\n      <th>365</th>\n      <td>365.0</td>\n      <td>-1.258333</td>\n      <td>-6.633333</td>\n      <td>67.000000</td>\n      <td>0.000000</td>\n      <td>293.333333</td>\n      <td>14.762500</td>\n      <td>1021.029167</td>\n    </tr>\n  </tbody>\n</table>\n<p>366 rows × 8 columns</p>\n</div>"
     },
     "execution_count": 8,
     "metadata": {},
     "output_type": "execute_result"
    }
   ],
   "source": [
    "last_5_avg_day = data_last_5.groupby('DayOfYear',as_index=False).mean()\n",
    "last_5_avg_day.drop(columns=['snow', 'wpgt', 'tsun', 'coco', 'HourOfYear', 'Hour'],inplace=True)\n",
    "last_5_avg_day.columns = ['DayOfYear', 'L5Aday-temp', 'L5Aday-dwpt', 'L5Aday-rhum', 'L5Aday-prcp', 'L5Aday-wdir', 'L5Aday-wspd', 'L5Aday-pres']\n",
    "last_5_avg_day"
   ],
   "metadata": {
    "collapsed": false,
    "pycharm": {
     "name": "#%%\n"
    }
   }
  },
  {
   "cell_type": "code",
   "execution_count": 21,
   "outputs": [],
   "source": [
    "aa_historical = data.merge(all_time_avg_hr,on='HourOfYear',how='left')\n",
    "aa_historical = aa_historical.merge(last_5_avg_hr,on='HourOfYear',how='left')\n",
    "aa_historical = aa_historical.merge(all_time_avg_day,on='DayOfYear',how='left')\n",
    "aa_historical = aa_historical.merge(last_5_avg_day,on='DayOfYear',how='left')\n",
    "aa_historical = aa_historical.set_index(\"Timestamp\")"
   ],
   "metadata": {
    "collapsed": false,
    "pycharm": {
     "name": "#%%\n"
    }
   }
  },
  {
   "cell_type": "code",
   "execution_count": 23,
   "outputs": [],
   "source": [
    "aa_historical.to_pickle('data/aa_historical.pkl')"
   ],
   "metadata": {
    "collapsed": false,
    "pycharm": {
     "name": "#%%\n"
    }
   }
  },
  {
   "cell_type": "code",
   "execution_count": null,
   "outputs": [],
   "source": [],
   "metadata": {
    "collapsed": false,
    "pycharm": {
     "name": "#%%\n"
    }
   }
  }
 ],
 "metadata": {
  "kernelspec": {
   "display_name": "Python 3",
   "language": "python",
   "name": "python3"
  },
  "language_info": {
   "codemirror_mode": {
    "name": "ipython",
    "version": 2
   },
   "file_extension": ".py",
   "mimetype": "text/x-python",
   "name": "python",
   "nbconvert_exporter": "python",
   "pygments_lexer": "ipython2",
   "version": "2.7.6"
  }
 },
 "nbformat": 4,
 "nbformat_minor": 0
}
