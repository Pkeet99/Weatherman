{
 "cells": [
  {
   "cell_type": "code",
   "execution_count": 108,
   "id": "21e9e95c-23b1-4733-9e1d-c37b5b33bca2",
   "metadata": {},
   "outputs": [],
   "source": [
    "import pandas as pd\n",
    "import os\n",
    "from datetime import date, timedelta\n",
    "import datetime\n",
    "import numpy as np\n",
    "from sklearn.impute import KNNImputer\n",
    "import matplotlib.pyplot as plt\n",
    "from matplotlib.pyplot import figure\n",
    "from statsmodels.tsa.statespace.sarimax import SARIMAX\n",
    "# grid search sarima hyperparameters for monthly mean temp dataset\n",
    "from math import sqrt\n",
    "from multiprocessing import cpu_count\n",
    "from joblib import Parallel\n",
    "from joblib import delayed\n",
    "from warnings import catch_warnings\n",
    "from warnings import filterwarnings\n",
    "from sklearn.metrics import mean_squared_error\n",
    "from tqdm import tqdm"
   ]
  },
  {
   "cell_type": "code",
   "execution_count": 33,
   "id": "4ae6cce3-141d-4487-81f8-58ac6befa408",
   "metadata": {
    "scrolled": true,
    "tags": []
   },
   "outputs": [],
   "source": [
    "ROOT_DIR = os.path.realpath(os.path.join(os.getcwd(), '..'))\n",
    "cln_pkl_loc = os.path.join(ROOT_DIR, 'data','AAcleaned.pkl')\n",
    "fut_pkl_loc = os.path.join(ROOT_DIR, 'data','data','weatherAASeptember.pkl')"
   ]
  },
  {
   "cell_type": "code",
   "execution_count": 91,
   "id": "98f7e617-e9e8-4abf-80c8-7171bec24e13",
   "metadata": {},
   "outputs": [],
   "source": [
    "df=pd.read_pickle(cln_pkl_loc)\n",
    "dfft=pd.read_pickle(fut_pkl_loc)\n"
   ]
  },
  {
   "cell_type": "code",
   "execution_count": 92,
   "id": "471bc5e9-5a5f-4019-a8dd-3b991f4d99fd",
   "metadata": {},
   "outputs": [],
   "source": [
    "df.drop(columns=['NaNcount','NaNmax'], inplace=True)\n",
    "df=df.loc[:'2022-08-31 23:00:00']"
   ]
  },
  {
   "cell_type": "code",
   "execution_count": 93,
   "id": "28cd88e1-ec3b-46f2-8ff0-622cf5f2ee6f",
   "metadata": {},
   "outputs": [],
   "source": [
    "df=pd.concat([df,dfft])"
   ]
  },
  {
   "cell_type": "code",
   "execution_count": 94,
   "id": "21956a35-999c-4663-b4aa-1d03ea7452dd",
   "metadata": {},
   "outputs": [],
   "source": [
    "time_range = pd.date_range('2022-09-01 00:00:00', '2022-09-29 23:00:00', freq='H') ##creating time range\n",
    "time_range=pd.DataFrame(time_range, columns=['time'])\n",
    "time_range.set_index('time',inplace=True)"
   ]
  },
  {
   "cell_type": "code",
   "execution_count": 95,
   "id": "7f286d34-01eb-4c02-a356-9acbf52d4dd2",
   "metadata": {},
   "outputs": [
    {
     "ename": "IndexError",
     "evalue": "list index out of range",
     "output_type": "error",
     "traceback": [
      "\u001b[1;31m---------------------------------------------------------------------------\u001b[0m",
      "\u001b[1;31mIndexError\u001b[0m                                Traceback (most recent call last)",
      "Input \u001b[1;32mIn [95]\u001b[0m, in \u001b[0;36m<cell line: 4>\u001b[1;34m()\u001b[0m\n\u001b[0;32m      2\u001b[0m \u001b[38;5;28;01mfor\u001b[39;00m ind \u001b[38;5;129;01min\u001b[39;00m time_range:\n\u001b[0;32m      3\u001b[0m     l\u001b[38;5;241m.\u001b[39mappend(ind)\n\u001b[1;32m----> 4\u001b[0m df\u001b[38;5;241m.\u001b[39mloc[:\u001b[43ml\u001b[49m\u001b[43m[\u001b[49m\u001b[38;5;241;43m0\u001b[39;49m\u001b[43m]\u001b[49m]\n",
      "\u001b[1;31mIndexError\u001b[0m: list index out of range"
     ]
    }
   ],
   "source": [
    "l=[]\n",
    "for ind in time_range:\n",
    "    l.append(ind)\n",
    "df.loc[:l[0]]"
   ]
  },
  {
   "cell_type": "code",
   "execution_count": 96,
   "id": "4ff3c101-1d32-47bb-8ced-c7bc83b7d265",
   "metadata": {},
   "outputs": [],
   "source": [
    "def sarima_forecast(history, config,delta):\n",
    "    order, sorder, trend = config\n",
    "    # define model\n",
    "    model = SARIMAX(history, order=order, seasonal_order=sorder, trend=trend, enforce_stationarity=False, enforce_invertibility=False, freq='H')\n",
    "    # fit model\n",
    "    model_fit = model.fit(disp=False)\n",
    "    # make one step forecast\n",
    "    #yhat=history.iloc[-1:].index[0]\n",
    "    start_predict=history.iloc[-1:].index[0]+timedelta(hours=1)\n",
    "    end_predict=start_predict+timedelta(hours=delta-1)\n",
    "    yhat = model_fit.predict(start_predict, end_predict)\n",
    "    return yhat\n",
    "\n",
    "#Loops from original Sarima detection\n",
    "def loopsarima(df,time_range, col): #function takes in a DF(with timediff column) and how far back you want to adjust, creates rows for all missing values and adds them in\n",
    "    for ind in df.index:\n",
    "        #print(df.loc[ind]['NaNmax'])\n",
    "        if df.loc[ind]['NaNmax']==0:\n",
    "            None\n",
    "        else:\n",
    "            hs=df.loc[ind].name-timedelta(days=30) #building the SARIMAX back 30 days for every missing value\n",
    "            minind=df.index.min()\n",
    "            if minind>hs: #checks to see if value is in the first 30 days, uses first value if so\n",
    "                hs=minind\n",
    "            df_hs=df.loc[hs:ind]\n",
    "            config=[(1,0,0),(0,1,0,24),'n'] #found from the first SARIMAX all possible scans\n",
    "            #config=[(2, 0, 2), (0, 1, 0, 24), 't']\n",
    "            try:\n",
    "            # never show warnings when grid searching, too noisy\n",
    "                with catch_warnings():\n",
    "                    filterwarnings(\"ignore\")\n",
    "                    yhat=sarima_forecast(df_hs[col],config,int(df.loc[ind]['NaNmax']))\n",
    "            except:\n",
    "                error = None\n",
    "            yhat.rename('temp',inplace=True)\n",
    "            yhat = pd.DataFrame(yhat)\n",
    "            df.at[ind,'NaNmax']=0 #changing all values to 0 so SARIMA function isn't called for each value\n",
    "            yhat['NaNmax']=0\n",
    "            df.update(yhat)\n",
    "    return df\n",
    "\n",
    "#df2=loopsarima(df, 'temp')\n",
    "#sarima_forecast(df.loc['2021-08-01 00:00:00':'2022-08-31 23:00:00']['temp'],[(2, 1, 1), (1, 1, 2, 24), 'n'],24)"
   ]
  },
  {
   "cell_type": "code",
   "execution_count": 111,
   "id": "b6790dc5-88de-4330-8e47-2d5d513fac3d",
   "metadata": {},
   "outputs": [
    {
     "name": "stderr",
     "output_type": "stream",
     "text": [
      "100%|██████████| 696/696 [2:05:04<00:00, 10.78s/it]  \n"
     ]
    },
    {
     "data": {
      "text/html": [
       "<div>\n",
       "<style scoped>\n",
       "    .dataframe tbody tr th:only-of-type {\n",
       "        vertical-align: middle;\n",
       "    }\n",
       "\n",
       "    .dataframe tbody tr th {\n",
       "        vertical-align: top;\n",
       "    }\n",
       "\n",
       "    .dataframe thead th {\n",
       "        text-align: right;\n",
       "    }\n",
       "</style>\n",
       "<table border=\"1\" class=\"dataframe\">\n",
       "  <thead>\n",
       "    <tr style=\"text-align: right;\">\n",
       "      <th></th>\n",
       "      <th>temp</th>\n",
       "      <th>tempactual</th>\n",
       "    </tr>\n",
       "    <tr>\n",
       "      <th>time</th>\n",
       "      <th></th>\n",
       "      <th></th>\n",
       "    </tr>\n",
       "  </thead>\n",
       "  <tbody>\n",
       "    <tr>\n",
       "      <th>2022-09-01 00:00:00</th>\n",
       "      <td>22.598273</td>\n",
       "      <td>22.8</td>\n",
       "    </tr>\n",
       "    <tr>\n",
       "      <th>2022-09-01 01:00:00</th>\n",
       "      <td>18.730865</td>\n",
       "      <td>20.0</td>\n",
       "    </tr>\n",
       "    <tr>\n",
       "      <th>2022-09-01 02:00:00</th>\n",
       "      <td>17.170647</td>\n",
       "      <td>18.9</td>\n",
       "    </tr>\n",
       "    <tr>\n",
       "      <th>2022-09-01 03:00:00</th>\n",
       "      <td>16.998456</td>\n",
       "      <td>16.1</td>\n",
       "    </tr>\n",
       "    <tr>\n",
       "      <th>2022-09-01 04:00:00</th>\n",
       "      <td>12.588443</td>\n",
       "      <td>15.0</td>\n",
       "    </tr>\n",
       "    <tr>\n",
       "      <th>...</th>\n",
       "      <td>...</td>\n",
       "      <td>...</td>\n",
       "    </tr>\n",
       "    <tr>\n",
       "      <th>2022-09-29 19:00:00</th>\n",
       "      <td>13.408411</td>\n",
       "      <td>15.0</td>\n",
       "    </tr>\n",
       "    <tr>\n",
       "      <th>2022-09-29 20:00:00</th>\n",
       "      <td>13.115651</td>\n",
       "      <td>15.6</td>\n",
       "    </tr>\n",
       "    <tr>\n",
       "      <th>2022-09-29 21:00:00</th>\n",
       "      <td>12.330167</td>\n",
       "      <td>16.0</td>\n",
       "    </tr>\n",
       "    <tr>\n",
       "      <th>2022-09-29 22:00:00</th>\n",
       "      <td>11.002918</td>\n",
       "      <td>13.0</td>\n",
       "    </tr>\n",
       "    <tr>\n",
       "      <th>2022-09-29 23:00:00</th>\n",
       "      <td>11.260571</td>\n",
       "      <td>9.0</td>\n",
       "    </tr>\n",
       "  </tbody>\n",
       "</table>\n",
       "<p>696 rows × 2 columns</p>\n",
       "</div>"
      ],
      "text/plain": [
       "                          temp  tempactual\n",
       "time                                      \n",
       "2022-09-01 00:00:00  22.598273        22.8\n",
       "2022-09-01 01:00:00  18.730865        20.0\n",
       "2022-09-01 02:00:00  17.170647        18.9\n",
       "2022-09-01 03:00:00  16.998456        16.1\n",
       "2022-09-01 04:00:00  12.588443        15.0\n",
       "...                        ...         ...\n",
       "2022-09-29 19:00:00  13.408411        15.0\n",
       "2022-09-29 20:00:00  13.115651        15.6\n",
       "2022-09-29 21:00:00  12.330167        16.0\n",
       "2022-09-29 22:00:00  11.002918        13.0\n",
       "2022-09-29 23:00:00  11.260571         9.0\n",
       "\n",
       "[696 rows x 2 columns]"
      ]
     },
     "execution_count": 111,
     "metadata": {},
     "output_type": "execute_result"
    }
   ],
   "source": [
    "filterwarnings(\"ignore\")\n",
    "def buildfuture24(df, tr, col, config, delta):\n",
    "    tr[col]=np.nan\n",
    "    tr[col+'actual']=np.nan\n",
    "    for ind in tqdm(tr.index):\n",
    "        st=ind-timedelta(days=20)\n",
    "        end=ind-timedelta(hours=delta) #going back 24 hours to make the prediction match our other techniques\n",
    "        filterwarnings(\"ignore\")\n",
    "        yhat = sarima_forecast(df.loc[st:end][col],config,delta)\n",
    "        tr.at[ind,col]=yhat.iloc[-1]\n",
    "        tr.at[ind,col+'actual']=df.loc[ind][col]\n",
    "    return tr\n",
    "\n",
    "test=buildfuture24(df, time_range, 'temp', [(2, 1, 1), (1, 1, 2, 24), 'n'], 24)\n",
    "test"
   ]
  },
  {
   "cell_type": "code",
   "execution_count": 124,
   "id": "a18776fd-d158-42a3-bf97-a011e425a3ae",
   "metadata": {},
   "outputs": [
    {
     "data": {
      "image/png": "[encoded data removed]",
      "text/plain": [
       "<Figure size 1440x432 with 1 Axes>"
      ]
     },
     "metadata": {
      "needs_background": "light"
     },
     "output_type": "display_data"
    }
   ],
   "source": [
    "x= test.index\n",
    "y= test['temp']\n",
    "y2 = test['tempactual']\n",
    "figure(figsize=(20,6))\n",
    "plt.scatter(x,y)\n",
    "plt.scatter(x,y2)\n",
    "plt.show()\n",
    "\n"
   ]
  },
  {
   "cell_type": "code",
   "execution_count": 119,
   "id": "6e1762f1-67f6-410e-953a-34eb0507897d",
   "metadata": {},
   "outputs": [
    {
     "data": {
      "text/plain": [
       "4.205154991640525"
      ]
     },
     "execution_count": 119,
     "metadata": {},
     "output_type": "execute_result"
    }
   ],
   "source": [
    "sqrt(mean_squared_error(test['temp'], test['tempactual']))"
   ]
  },
  {
   "cell_type": "code",
   "execution_count": 118,
   "id": "c55c840d-116f-4aaf-a369-026389069ec3",
   "metadata": {},
   "outputs": [],
   "source": [
    "test.loc['2022-09-20 00:00:00':'2022-09-22 00:00:00']\n",
    "test.drop(labels=['2022-09-21 18:00:00'], axis=0,inplace=True)"
   ]
  },
  {
   "cell_type": "code",
   "execution_count": 1,
   "id": "6b7a3bbe-9037-4cdd-9119-e8fcf0333bb5",
   "metadata": {},
   "outputs": [
    {
     "ename": "SyntaxError",
     "evalue": "invalid syntax (1216090140.py, line 1)",
     "output_type": "error",
     "traceback": [
      "\u001b[1;36m  Input \u001b[1;32mIn [1]\u001b[1;36m\u001b[0m\n\u001b[1;33m    Model[[(2, 0, 1), (1, 1, 2, 24), 't']] 1.096, Model[[(1, 0, 0), (1, 1, 2, 24), 'c']] 1.099, Model[[(1, 1, 0), (1, 1, 2, 24), 'n']] 1.093, Model[[(0, 1, 0), (1, 1, 2, 24), 'c']] 1.093\u001b[0m\n\u001b[1;37m                                           ^\u001b[0m\n\u001b[1;31mSyntaxError\u001b[0m\u001b[1;31m:\u001b[0m invalid syntax\n"
     ]
    }
   ],
   "source": [
    "Model[[(2, 0, 1), (1, 1, 2, 24), 't']] 1.096, Model[[(1, 0, 0), (1, 1, 2, 24), 'c']] 1.099, Model[[(1, 1, 0), (1, 1, 2, 24), 'n']] 1.093, Model[[(0, 1, 0), (1, 1, 2, 24), 'c']] 1.093\n",
    "Model[[(2, 1, 1), (1, 1, 2, 24), 'n']] 1.086 "
   ]
  },
  {
   "cell_type": "code",
   "execution_count": 126,
   "id": "c6d1643f-6895-4ae1-a295-7b1490778941",
   "metadata": {},
   "outputs": [
    {
     "data": {
      "text/plain": [
       "21.161423459520414"
      ]
     },
     "execution_count": 126,
     "metadata": {},
     "output_type": "execute_result"
    }
   ],
   "source": [
    "def mape(actual, pred): \n",
    "    actual, pred = np.array(actual), np.array(pred)\n",
    "    return np.mean(np.abs((actual - pred) / actual)) * 100\n",
    "\n",
    "mape(test['temp'], test['tempactual'])"
   ]
  },
  {
   "cell_type": "code",
   "execution_count": 130,
   "id": "c7383ebd-c245-4730-a46b-c7aa3ff0182f",
   "metadata": {},
   "outputs": [
    {
     "data": {
      "image/png": "[encoded data removed]",
      "text/plain": [
       "<Figure size 1440x432 with 1 Axes>"
      ]
     },
     "metadata": {
      "needs_background": "light"
     },
     "output_type": "display_data"
    }
   ],
   "source": [
    "x= test.loc['2022-09-03 12:00:00':'2022-09-06 00:00:00'].index\n",
    "y= test.loc['2022-09-03 12:00:00':'2022-09-06 00:00:00']['temp']\n",
    "y2 = test.loc['2022-09-03 12:00:00':'2022-09-06 00:00:00']['tempactual']\n",
    "figure(figsize=(20,6))\n",
    "plt.scatter(x,y)\n",
    "plt.scatter(x,y2)\n",
    "plt.show()"
   ]
  },
  {
   "cell_type": "code",
   "execution_count": 129,
   "id": "f560c3ce-f2a1-487a-8749-17e2be3b0c0b",
   "metadata": {},
   "outputs": [
    {
     "data": {
      "text/plain": [
       "DatetimeIndex(['2022-09-03 12:00:00', '2022-09-03 13:00:00',\n",
       "               '2022-09-03 14:00:00', '2022-09-03 15:00:00',\n",
       "               '2022-09-03 16:00:00', '2022-09-03 17:00:00',\n",
       "               '2022-09-03 18:00:00', '2022-09-03 19:00:00',\n",
       "               '2022-09-03 20:00:00', '2022-09-03 21:00:00',\n",
       "               '2022-09-03 22:00:00', '2022-09-03 23:00:00',\n",
       "               '2022-09-04 00:00:00', '2022-09-04 01:00:00',\n",
       "               '2022-09-04 02:00:00', '2022-09-04 03:00:00',\n",
       "               '2022-09-04 04:00:00', '2022-09-04 05:00:00',\n",
       "               '2022-09-04 06:00:00', '2022-09-04 07:00:00',\n",
       "               '2022-09-04 08:00:00', '2022-09-04 09:00:00',\n",
       "               '2022-09-04 10:00:00', '2022-09-04 11:00:00',\n",
       "               '2022-09-04 12:00:00', '2022-09-04 13:00:00',\n",
       "               '2022-09-04 14:00:00', '2022-09-04 15:00:00',\n",
       "               '2022-09-04 16:00:00', '2022-09-04 17:00:00',\n",
       "               '2022-09-04 18:00:00', '2022-09-04 19:00:00',\n",
       "               '2022-09-04 20:00:00', '2022-09-04 21:00:00',\n",
       "               '2022-09-04 22:00:00', '2022-09-04 23:00:00',\n",
       "               '2022-09-05 00:00:00', '2022-09-05 01:00:00',\n",
       "               '2022-09-05 02:00:00', '2022-09-05 03:00:00',\n",
       "               '2022-09-05 04:00:00', '2022-09-05 05:00:00',\n",
       "               '2022-09-05 06:00:00', '2022-09-05 07:00:00',\n",
       "               '2022-09-05 08:00:00', '2022-09-05 09:00:00',\n",
       "               '2022-09-05 10:00:00', '2022-09-05 11:00:00',\n",
       "               '2022-09-05 12:00:00', '2022-09-05 13:00:00',\n",
       "               '2022-09-05 14:00:00', '2022-09-05 15:00:00',\n",
       "               '2022-09-05 16:00:00', '2022-09-05 17:00:00',\n",
       "               '2022-09-05 18:00:00', '2022-09-05 19:00:00',\n",
       "               '2022-09-05 20:00:00', '2022-09-05 21:00:00',\n",
       "               '2022-09-05 22:00:00', '2022-09-05 23:00:00',\n",
       "               '2022-09-06 00:00:00'],\n",
       "              dtype='datetime64[ns]', name='time', freq=None)"
      ]
     },
     "execution_count": 129,
     "metadata": {},
     "output_type": "execute_result"
    }
   ],
   "source": [
    "test.loc['2022-09-03 12:00:00':'2022-09-06 00:00:00'].index"
   ]
  },
  {
   "cell_type": "code",
   "execution_count": null,
   "id": "7d8db075-04fe-4878-a77b-5623b8f4b070",
   "metadata": {},
   "outputs": [],
   "source": []
  }
 ],
 "metadata": {
  "kernelspec": {
   "display_name": "Python 3 (ipykernel)",
   "language": "python",
   "name": "python3"
  },
  "language_info": {
   "codemirror_mode": {
    "name": "ipython",
    "version": 3
   },
   "file_extension": ".py",
   "mimetype": "text/x-python",
   "name": "python",
   "nbconvert_exporter": "python",
   "pygments_lexer": "ipython3",
   "version": "3.9.12"
  }
 },
 "nbformat": 4,
 "nbformat_minor": 5
}
