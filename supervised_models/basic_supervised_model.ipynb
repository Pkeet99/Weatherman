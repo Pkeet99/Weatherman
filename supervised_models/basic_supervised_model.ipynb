{
 "cells": [
  {
   "cell_type": "markdown",
   "metadata": {},
   "source": [
    "# Multi-Station Supervised models\n",
    "\n",
    "## General Imports"
   ]
  },
  {
   "cell_type": "code",
   "execution_count": 1,
   "metadata": {
    "pycharm": {
     "name": "#%%\n"
    }
   },
   "outputs": [
    {
     "name": "stderr",
     "output_type": "stream",
     "text": [
      "Intel(R) Extension for Scikit-learn* enabled (https://github.com/intel/scikit-learn-intelex)\n"
     ]
    }
   ],
   "source": [
    "import os\n",
    "import pandas as pd\n",
    "from sklearn.ensemble import ExtraTreesRegressor\n",
    "from sklearn import linear_model\n",
    "from sklearn.dummy import DummyRegressor\n",
    "import altair as alt\n",
    "from sklearn.model_selection import cross_val_score\n",
    "from skopt.space import Integer\n",
    "from skopt.utils import use_named_args\n",
    "import numpy as np\n",
    "from skopt import gp_minimize\n",
    "from skopt.plots import plot_convergence\n",
    "from sklearn.model_selection import train_test_split\n",
    "from sklearn.model_selection import cross_validate\n",
    "from sklearnex import patch_sklearn\n",
    "patch_sklearn()"
   ]
  },
  {
   "cell_type": "markdown",
   "metadata": {},
   "source": [
    "## Small dataset (2022 only) \n",
    "### Get cleaned data from pickle file "
   ]
  },
  {
   "cell_type": "code",
   "execution_count": 2,
   "metadata": {
    "pycharm": {
     "name": "#%%\n"
    }
   },
   "outputs": [],
   "source": [
    "ROOT_DIR = os.path.realpath(os.path.join(os.getcwd(), '..'))\n",
    "# cln_pkl_loc = os.path.join(ROOT_DIR, 'data_cleaning','cleanweathersmall.pkl')\n",
    "cln_pkl_loc = os.path.join(ROOT_DIR, 'data','cleanweathersmall.pkl')"
   ]
  },
  {
   "cell_type": "code",
   "execution_count": 3,
   "metadata": {
    "pycharm": {
     "name": "#%%\n"
    }
   },
   "outputs": [
    {
     "data": {
      "text/plain": "        station                time  temp  dwpt  rhum  prcp   wdir  wspd  \\\n0         0CNUO 2022-01-01 00:00:00 -25.1 -28.1  76.0   0.0  271.0  12.6   \n1         0CNUO 2022-01-01 01:00:00 -25.7 -28.7  76.0   0.0  275.0  13.0   \n2         0CNUO 2022-01-01 02:00:00 -26.2 -29.3  75.0   0.0  273.0  12.6   \n3         0CNUO 2022-01-01 03:00:00 -26.1 -29.1  76.0   0.0  277.0  13.7   \n4         0CNUO 2022-01-01 04:00:00 -26.5 -29.6  75.0   0.0  275.0  13.3   \n...         ...                 ...   ...   ...   ...   ...    ...   ...   \n3656995   ZWC6W 2022-09-22 19:00:00   7.3   0.7  63.0   0.0  330.0  23.0   \n3656996   ZWC6W 2022-09-22 20:00:00   8.1   0.8  60.0   0.0  340.0  29.0   \n3656997   ZWC6W 2022-09-22 21:00:00   7.8   1.4  64.0   0.0  320.0  21.0   \n3656998   ZWC6W 2022-09-22 22:00:00   8.6   2.2  64.0   0.0  320.0  18.0   \n3656999   ZWC6W 2022-09-22 23:00:00   7.9   1.9  66.0   0.0  320.0  13.0   \n\n           pres  \n0        1020.8  \n1        1021.5  \n2        1022.5  \n3        1022.6  \n4        1023.2  \n...         ...  \n3656995  1017.8  \n3656996  1017.9  \n3656997  1018.1  \n3656998  1018.4  \n3656999  1018.6  \n\n[3657000 rows x 9 columns]",
      "text/html": "<div>\n<style scoped>\n    .dataframe tbody tr th:only-of-type {\n        vertical-align: middle;\n    }\n\n    .dataframe tbody tr th {\n        vertical-align: top;\n    }\n\n    .dataframe thead th {\n        text-align: right;\n    }\n</style>\n<table border=\"1\" class=\"dataframe\">\n  <thead>\n    <tr style=\"text-align: right;\">\n      <th></th>\n      <th>station</th>\n      <th>time</th>\n      <th>temp</th>\n      <th>dwpt</th>\n      <th>rhum</th>\n      <th>prcp</th>\n      <th>wdir</th>\n      <th>wspd</th>\n      <th>pres</th>\n    </tr>\n  </thead>\n  <tbody>\n    <tr>\n      <th>0</th>\n      <td>0CNUO</td>\n      <td>2022-01-01 00:00:00</td>\n      <td>-25.1</td>\n      <td>-28.1</td>\n      <td>76.0</td>\n      <td>0.0</td>\n      <td>271.0</td>\n      <td>12.6</td>\n      <td>1020.8</td>\n    </tr>\n    <tr>\n      <th>1</th>\n      <td>0CNUO</td>\n      <td>2022-01-01 01:00:00</td>\n      <td>-25.7</td>\n      <td>-28.7</td>\n      <td>76.0</td>\n      <td>0.0</td>\n      <td>275.0</td>\n      <td>13.0</td>\n      <td>1021.5</td>\n    </tr>\n    <tr>\n      <th>2</th>\n      <td>0CNUO</td>\n      <td>2022-01-01 02:00:00</td>\n      <td>-26.2</td>\n      <td>-29.3</td>\n      <td>75.0</td>\n      <td>0.0</td>\n      <td>273.0</td>\n      <td>12.6</td>\n      <td>1022.5</td>\n    </tr>\n    <tr>\n      <th>3</th>\n      <td>0CNUO</td>\n      <td>2022-01-01 03:00:00</td>\n      <td>-26.1</td>\n      <td>-29.1</td>\n      <td>76.0</td>\n      <td>0.0</td>\n      <td>277.0</td>\n      <td>13.7</td>\n      <td>1022.6</td>\n    </tr>\n    <tr>\n      <th>4</th>\n      <td>0CNUO</td>\n      <td>2022-01-01 04:00:00</td>\n      <td>-26.5</td>\n      <td>-29.6</td>\n      <td>75.0</td>\n      <td>0.0</td>\n      <td>275.0</td>\n      <td>13.3</td>\n      <td>1023.2</td>\n    </tr>\n    <tr>\n      <th>...</th>\n      <td>...</td>\n      <td>...</td>\n      <td>...</td>\n      <td>...</td>\n      <td>...</td>\n      <td>...</td>\n      <td>...</td>\n      <td>...</td>\n      <td>...</td>\n    </tr>\n    <tr>\n      <th>3656995</th>\n      <td>ZWC6W</td>\n      <td>2022-09-22 19:00:00</td>\n      <td>7.3</td>\n      <td>0.7</td>\n      <td>63.0</td>\n      <td>0.0</td>\n      <td>330.0</td>\n      <td>23.0</td>\n      <td>1017.8</td>\n    </tr>\n    <tr>\n      <th>3656996</th>\n      <td>ZWC6W</td>\n      <td>2022-09-22 20:00:00</td>\n      <td>8.1</td>\n      <td>0.8</td>\n      <td>60.0</td>\n      <td>0.0</td>\n      <td>340.0</td>\n      <td>29.0</td>\n      <td>1017.9</td>\n    </tr>\n    <tr>\n      <th>3656997</th>\n      <td>ZWC6W</td>\n      <td>2022-09-22 21:00:00</td>\n      <td>7.8</td>\n      <td>1.4</td>\n      <td>64.0</td>\n      <td>0.0</td>\n      <td>320.0</td>\n      <td>21.0</td>\n      <td>1018.1</td>\n    </tr>\n    <tr>\n      <th>3656998</th>\n      <td>ZWC6W</td>\n      <td>2022-09-22 22:00:00</td>\n      <td>8.6</td>\n      <td>2.2</td>\n      <td>64.0</td>\n      <td>0.0</td>\n      <td>320.0</td>\n      <td>18.0</td>\n      <td>1018.4</td>\n    </tr>\n    <tr>\n      <th>3656999</th>\n      <td>ZWC6W</td>\n      <td>2022-09-22 23:00:00</td>\n      <td>7.9</td>\n      <td>1.9</td>\n      <td>66.0</td>\n      <td>0.0</td>\n      <td>320.0</td>\n      <td>13.0</td>\n      <td>1018.6</td>\n    </tr>\n  </tbody>\n</table>\n<p>3657000 rows × 9 columns</p>\n</div>"
     },
     "execution_count": 3,
     "metadata": {},
     "output_type": "execute_result"
    }
   ],
   "source": [
    "df = pd.read_pickle(cln_pkl_loc)\n",
    "df"
   ]
  },
  {
   "cell_type": "markdown",
   "metadata": {},
   "source": [
    "### Basic data cleaning to build necessary features"
   ]
  },
  {
   "cell_type": "code",
   "execution_count": 4,
   "metadata": {
    "pycharm": {
     "name": "#%%\n"
    }
   },
   "outputs": [
    {
     "data": {
      "text/plain": "                     temp_0CNUO  temp_0CO7B  temp_0FV1F  temp_1J1PJ  \\\ntime                                                                  \n2022-01-01 00:00:00       -25.1         5.0         1.2        -0.9   \n2022-01-01 01:00:00       -25.7         5.1         0.9        -0.6   \n2022-01-01 02:00:00       -26.2         4.2         1.5        -0.8   \n2022-01-01 03:00:00       -26.1         5.5         4.1        -0.9   \n2022-01-01 04:00:00       -26.5         5.9         3.1        -1.2   \n...                         ...         ...         ...         ...   \n2022-09-22 19:00:00        12.4        17.8        13.7        11.5   \n2022-09-22 20:00:00        13.0        17.0        14.3        12.0   \n2022-09-22 21:00:00        13.2        16.6        13.9        12.4   \n2022-09-22 22:00:00        11.9        16.2        12.4        12.5   \n2022-09-22 23:00:00        11.3        15.9        11.5        11.6   \n\n                     temp_1JWST  temp_20QWH  temp_21O3U  temp_2W8UZ  \\\ntime                                                                  \n2022-01-01 00:00:00        -6.5       -28.7       -29.0         4.6   \n2022-01-01 01:00:00        -7.5       -29.5       -28.9         4.6   \n2022-01-01 02:00:00        -8.6       -30.2       -30.1         4.7   \n2022-01-01 03:00:00        -9.4       -29.9       -30.1         4.6   \n2022-01-01 04:00:00       -10.1       -30.4       -31.4         4.9   \n...                         ...         ...         ...         ...   \n2022-09-22 19:00:00        10.2        13.5        12.5        15.2   \n2022-09-22 20:00:00        10.4        14.0        12.5        14.8   \n2022-09-22 21:00:00        10.5        14.3        12.4        15.1   \n2022-09-22 22:00:00         9.9        13.5        12.7        14.4   \n2022-09-22 23:00:00         7.2        12.8        12.0        13.5   \n\n                     temp_3S56J  temp_4DUJO  ...  pres_O879F  pres_QHA0T  \\\ntime                                         ...                           \n2022-01-01 00:00:00       -26.5         1.8  ...      1009.4      1013.2   \n2022-01-01 01:00:00       -27.3         1.6  ...      1009.0      1014.2   \n2022-01-01 02:00:00       -27.9         0.9  ...      1007.4      1014.5   \n2022-01-01 03:00:00       -28.1         1.0  ...      1007.2      1015.3   \n2022-01-01 04:00:00       -28.6         0.5  ...      1006.6      1016.1   \n...                         ...         ...  ...         ...         ...   \n2022-09-22 19:00:00        10.8        12.4  ...      1014.3      1022.6   \n2022-09-22 20:00:00        11.4        11.6  ...      1014.5      1022.4   \n2022-09-22 21:00:00        11.7        10.8  ...      1014.9      1022.2   \n2022-09-22 22:00:00        11.8         9.9  ...      1015.6      1021.3   \n2022-09-22 23:00:00        10.4         8.8  ...      1016.1      1021.1   \n\n                     pres_SJZBK  pres_UJHR7  pres_UV7W2  pres_V5792  \\\ntime                                                                  \n2022-01-01 00:00:00      1025.5      1021.0      1023.8      1019.9   \n2022-01-01 01:00:00      1026.0      1022.3      1024.5      1020.8   \n2022-01-01 02:00:00      1026.3      1023.0      1024.9      1021.2   \n2022-01-01 03:00:00      1026.3      1023.9      1025.2      1022.1   \n2022-01-01 04:00:00      1026.4      1024.4      1025.2      1022.9   \n...                         ...         ...         ...         ...   \n2022-09-22 19:00:00      1023.0      1025.5      1024.7      1024.6   \n2022-09-22 20:00:00      1021.5      1024.8      1023.5      1023.8   \n2022-09-22 21:00:00      1020.6      1023.9      1022.9      1023.7   \n2022-09-22 22:00:00      1019.3      1022.8      1021.8      1023.0   \n2022-09-22 23:00:00      1018.4      1022.0      1021.0      1022.6   \n\n                     pres_VMWBN  pres_XM44W  pres_ZFZUV  pres_ZWC6W  \ntime                                                                 \n2022-01-01 00:00:00      1022.6      1013.5      1023.8      1010.8  \n2022-01-01 01:00:00      1023.4      1014.6      1024.2      1011.8  \n2022-01-01 02:00:00      1024.0      1015.1      1024.9      1012.7  \n2022-01-01 03:00:00      1024.5      1016.0      1025.4      1013.6  \n2022-01-01 04:00:00      1024.8      1017.3      1025.4      1013.9  \n...                         ...         ...         ...         ...  \n2022-09-22 19:00:00      1025.0      1022.6      1024.5      1017.8  \n2022-09-22 20:00:00      1023.7      1022.4      1023.1      1017.9  \n2022-09-22 21:00:00      1023.1      1022.2      1022.0      1018.1  \n2022-09-22 22:00:00      1021.9      1021.9      1021.1      1018.4  \n2022-09-22 23:00:00      1021.1      1021.8      1020.3      1018.6  \n\n[6360 rows x 4025 columns]",
      "text/html": "<div>\n<style scoped>\n    .dataframe tbody tr th:only-of-type {\n        vertical-align: middle;\n    }\n\n    .dataframe tbody tr th {\n        vertical-align: top;\n    }\n\n    .dataframe thead th {\n        text-align: right;\n    }\n</style>\n<table border=\"1\" class=\"dataframe\">\n  <thead>\n    <tr style=\"text-align: right;\">\n      <th></th>\n      <th>temp_0CNUO</th>\n      <th>temp_0CO7B</th>\n      <th>temp_0FV1F</th>\n      <th>temp_1J1PJ</th>\n      <th>temp_1JWST</th>\n      <th>temp_20QWH</th>\n      <th>temp_21O3U</th>\n      <th>temp_2W8UZ</th>\n      <th>temp_3S56J</th>\n      <th>temp_4DUJO</th>\n      <th>...</th>\n      <th>pres_O879F</th>\n      <th>pres_QHA0T</th>\n      <th>pres_SJZBK</th>\n      <th>pres_UJHR7</th>\n      <th>pres_UV7W2</th>\n      <th>pres_V5792</th>\n      <th>pres_VMWBN</th>\n      <th>pres_XM44W</th>\n      <th>pres_ZFZUV</th>\n      <th>pres_ZWC6W</th>\n    </tr>\n    <tr>\n      <th>time</th>\n      <th></th>\n      <th></th>\n      <th></th>\n      <th></th>\n      <th></th>\n      <th></th>\n      <th></th>\n      <th></th>\n      <th></th>\n      <th></th>\n      <th></th>\n      <th></th>\n      <th></th>\n      <th></th>\n      <th></th>\n      <th></th>\n      <th></th>\n      <th></th>\n      <th></th>\n      <th></th>\n      <th></th>\n    </tr>\n  </thead>\n  <tbody>\n    <tr>\n      <th>2022-01-01 00:00:00</th>\n      <td>-25.1</td>\n      <td>5.0</td>\n      <td>1.2</td>\n      <td>-0.9</td>\n      <td>-6.5</td>\n      <td>-28.7</td>\n      <td>-29.0</td>\n      <td>4.6</td>\n      <td>-26.5</td>\n      <td>1.8</td>\n      <td>...</td>\n      <td>1009.4</td>\n      <td>1013.2</td>\n      <td>1025.5</td>\n      <td>1021.0</td>\n      <td>1023.8</td>\n      <td>1019.9</td>\n      <td>1022.6</td>\n      <td>1013.5</td>\n      <td>1023.8</td>\n      <td>1010.8</td>\n    </tr>\n    <tr>\n      <th>2022-01-01 01:00:00</th>\n      <td>-25.7</td>\n      <td>5.1</td>\n      <td>0.9</td>\n      <td>-0.6</td>\n      <td>-7.5</td>\n      <td>-29.5</td>\n      <td>-28.9</td>\n      <td>4.6</td>\n      <td>-27.3</td>\n      <td>1.6</td>\n      <td>...</td>\n      <td>1009.0</td>\n      <td>1014.2</td>\n      <td>1026.0</td>\n      <td>1022.3</td>\n      <td>1024.5</td>\n      <td>1020.8</td>\n      <td>1023.4</td>\n      <td>1014.6</td>\n      <td>1024.2</td>\n      <td>1011.8</td>\n    </tr>\n    <tr>\n      <th>2022-01-01 02:00:00</th>\n      <td>-26.2</td>\n      <td>4.2</td>\n      <td>1.5</td>\n      <td>-0.8</td>\n      <td>-8.6</td>\n      <td>-30.2</td>\n      <td>-30.1</td>\n      <td>4.7</td>\n      <td>-27.9</td>\n      <td>0.9</td>\n      <td>...</td>\n      <td>1007.4</td>\n      <td>1014.5</td>\n      <td>1026.3</td>\n      <td>1023.0</td>\n      <td>1024.9</td>\n      <td>1021.2</td>\n      <td>1024.0</td>\n      <td>1015.1</td>\n      <td>1024.9</td>\n      <td>1012.7</td>\n    </tr>\n    <tr>\n      <th>2022-01-01 03:00:00</th>\n      <td>-26.1</td>\n      <td>5.5</td>\n      <td>4.1</td>\n      <td>-0.9</td>\n      <td>-9.4</td>\n      <td>-29.9</td>\n      <td>-30.1</td>\n      <td>4.6</td>\n      <td>-28.1</td>\n      <td>1.0</td>\n      <td>...</td>\n      <td>1007.2</td>\n      <td>1015.3</td>\n      <td>1026.3</td>\n      <td>1023.9</td>\n      <td>1025.2</td>\n      <td>1022.1</td>\n      <td>1024.5</td>\n      <td>1016.0</td>\n      <td>1025.4</td>\n      <td>1013.6</td>\n    </tr>\n    <tr>\n      <th>2022-01-01 04:00:00</th>\n      <td>-26.5</td>\n      <td>5.9</td>\n      <td>3.1</td>\n      <td>-1.2</td>\n      <td>-10.1</td>\n      <td>-30.4</td>\n      <td>-31.4</td>\n      <td>4.9</td>\n      <td>-28.6</td>\n      <td>0.5</td>\n      <td>...</td>\n      <td>1006.6</td>\n      <td>1016.1</td>\n      <td>1026.4</td>\n      <td>1024.4</td>\n      <td>1025.2</td>\n      <td>1022.9</td>\n      <td>1024.8</td>\n      <td>1017.3</td>\n      <td>1025.4</td>\n      <td>1013.9</td>\n    </tr>\n    <tr>\n      <th>...</th>\n      <td>...</td>\n      <td>...</td>\n      <td>...</td>\n      <td>...</td>\n      <td>...</td>\n      <td>...</td>\n      <td>...</td>\n      <td>...</td>\n      <td>...</td>\n      <td>...</td>\n      <td>...</td>\n      <td>...</td>\n      <td>...</td>\n      <td>...</td>\n      <td>...</td>\n      <td>...</td>\n      <td>...</td>\n      <td>...</td>\n      <td>...</td>\n      <td>...</td>\n      <td>...</td>\n    </tr>\n    <tr>\n      <th>2022-09-22 19:00:00</th>\n      <td>12.4</td>\n      <td>17.8</td>\n      <td>13.7</td>\n      <td>11.5</td>\n      <td>10.2</td>\n      <td>13.5</td>\n      <td>12.5</td>\n      <td>15.2</td>\n      <td>10.8</td>\n      <td>12.4</td>\n      <td>...</td>\n      <td>1014.3</td>\n      <td>1022.6</td>\n      <td>1023.0</td>\n      <td>1025.5</td>\n      <td>1024.7</td>\n      <td>1024.6</td>\n      <td>1025.0</td>\n      <td>1022.6</td>\n      <td>1024.5</td>\n      <td>1017.8</td>\n    </tr>\n    <tr>\n      <th>2022-09-22 20:00:00</th>\n      <td>13.0</td>\n      <td>17.0</td>\n      <td>14.3</td>\n      <td>12.0</td>\n      <td>10.4</td>\n      <td>14.0</td>\n      <td>12.5</td>\n      <td>14.8</td>\n      <td>11.4</td>\n      <td>11.6</td>\n      <td>...</td>\n      <td>1014.5</td>\n      <td>1022.4</td>\n      <td>1021.5</td>\n      <td>1024.8</td>\n      <td>1023.5</td>\n      <td>1023.8</td>\n      <td>1023.7</td>\n      <td>1022.4</td>\n      <td>1023.1</td>\n      <td>1017.9</td>\n    </tr>\n    <tr>\n      <th>2022-09-22 21:00:00</th>\n      <td>13.2</td>\n      <td>16.6</td>\n      <td>13.9</td>\n      <td>12.4</td>\n      <td>10.5</td>\n      <td>14.3</td>\n      <td>12.4</td>\n      <td>15.1</td>\n      <td>11.7</td>\n      <td>10.8</td>\n      <td>...</td>\n      <td>1014.9</td>\n      <td>1022.2</td>\n      <td>1020.6</td>\n      <td>1023.9</td>\n      <td>1022.9</td>\n      <td>1023.7</td>\n      <td>1023.1</td>\n      <td>1022.2</td>\n      <td>1022.0</td>\n      <td>1018.1</td>\n    </tr>\n    <tr>\n      <th>2022-09-22 22:00:00</th>\n      <td>11.9</td>\n      <td>16.2</td>\n      <td>12.4</td>\n      <td>12.5</td>\n      <td>9.9</td>\n      <td>13.5</td>\n      <td>12.7</td>\n      <td>14.4</td>\n      <td>11.8</td>\n      <td>9.9</td>\n      <td>...</td>\n      <td>1015.6</td>\n      <td>1021.3</td>\n      <td>1019.3</td>\n      <td>1022.8</td>\n      <td>1021.8</td>\n      <td>1023.0</td>\n      <td>1021.9</td>\n      <td>1021.9</td>\n      <td>1021.1</td>\n      <td>1018.4</td>\n    </tr>\n    <tr>\n      <th>2022-09-22 23:00:00</th>\n      <td>11.3</td>\n      <td>15.9</td>\n      <td>11.5</td>\n      <td>11.6</td>\n      <td>7.2</td>\n      <td>12.8</td>\n      <td>12.0</td>\n      <td>13.5</td>\n      <td>10.4</td>\n      <td>8.8</td>\n      <td>...</td>\n      <td>1016.1</td>\n      <td>1021.1</td>\n      <td>1018.4</td>\n      <td>1022.0</td>\n      <td>1021.0</td>\n      <td>1022.6</td>\n      <td>1021.1</td>\n      <td>1021.8</td>\n      <td>1020.3</td>\n      <td>1018.6</td>\n    </tr>\n  </tbody>\n</table>\n<p>6360 rows × 4025 columns</p>\n</div>"
     },
     "execution_count": 4,
     "metadata": {},
     "output_type": "execute_result"
    }
   ],
   "source": [
    "pivoted_df = df.pivot(index='time', columns='station', values=['temp', 'dwpt','rhum','prcp','wdir','wspd','pres'])\n",
    "pivoted_df.columns = ['_'.join(col) for col in pivoted_df.columns.values]\n",
    "pivoted_df"
   ]
  },
  {
   "cell_type": "code",
   "execution_count": 5,
   "metadata": {},
   "outputs": [
    {
     "data": {
      "text/plain": "                     temp_0CNUO  temp_0CO7B  temp_0FV1F  temp_1J1PJ  \\\ntime                                                                  \n2022-09-01 01:00:00        19.7        23.9        21.5        13.7   \n2022-09-01 02:00:00        18.8        23.3        20.7        13.3   \n2022-09-01 03:00:00        16.9        22.7        19.4        13.2   \n2022-09-01 04:00:00        16.7        21.5        18.0        12.2   \n2022-09-01 05:00:00        16.9        20.6        16.5        11.8   \n...                         ...         ...         ...         ...   \n2022-09-22 19:00:00        12.4        17.8        13.7        11.5   \n2022-09-22 20:00:00        13.0        17.0        14.3        12.0   \n2022-09-22 21:00:00        13.2        16.6        13.9        12.4   \n2022-09-22 22:00:00        11.9        16.2        12.4        12.5   \n2022-09-22 23:00:00        11.3        15.9        11.5        11.6   \n\n                     temp_1JWST  temp_20QWH  temp_21O3U  temp_2W8UZ  \\\ntime                                                                  \n2022-09-01 01:00:00        10.7        22.0        21.7        21.1   \n2022-09-01 02:00:00         8.0        20.9        20.6        19.9   \n2022-09-01 03:00:00         6.2        20.3        21.2        20.0   \n2022-09-01 04:00:00         5.3        20.0        21.9        18.9   \n2022-09-01 05:00:00         4.4        20.0        20.9        18.7   \n...                         ...         ...         ...         ...   \n2022-09-22 19:00:00        10.2        13.5        12.5        15.2   \n2022-09-22 20:00:00        10.4        14.0        12.5        14.8   \n2022-09-22 21:00:00        10.5        14.3        12.4        15.1   \n2022-09-22 22:00:00         9.9        13.5        12.7        14.4   \n2022-09-22 23:00:00         7.2        12.8        12.0        13.5   \n\n                     temp_3S56J  temp_4DUJO  ...  pres_O879F  pres_QHA0T  \\\ntime                                         ...                           \n2022-09-01 01:00:00        19.2        17.2  ...      1010.0      1010.9   \n2022-09-01 02:00:00        18.1        16.0  ...      1011.2      1011.5   \n2022-09-01 03:00:00        17.1        15.2  ...      1011.7      1011.9   \n2022-09-01 04:00:00        16.0        14.3  ...      1012.0      1012.2   \n2022-09-01 05:00:00        15.3        13.3  ...      1013.1      1012.4   \n...                         ...         ...  ...         ...         ...   \n2022-09-22 19:00:00        10.8        12.4  ...      1014.3      1022.6   \n2022-09-22 20:00:00        11.4        11.6  ...      1014.5      1022.4   \n2022-09-22 21:00:00        11.7        10.8  ...      1014.9      1022.2   \n2022-09-22 22:00:00        11.8         9.9  ...      1015.6      1021.3   \n2022-09-22 23:00:00        10.4         8.8  ...      1016.1      1021.1   \n\n                     pres_SJZBK  pres_UJHR7  pres_UV7W2  pres_V5792  \\\ntime                                                                  \n2022-09-01 01:00:00      1011.3      1011.1      1011.0      1012.0   \n2022-09-01 02:00:00      1011.6      1011.2      1011.1      1012.1   \n2022-09-01 03:00:00      1011.4      1011.2      1011.1      1012.1   \n2022-09-01 04:00:00      1011.2      1010.9      1011.1      1012.3   \n2022-09-01 05:00:00      1011.1      1010.6      1010.8      1012.1   \n...                         ...         ...         ...         ...   \n2022-09-22 19:00:00      1023.0      1025.5      1024.7      1024.6   \n2022-09-22 20:00:00      1021.5      1024.8      1023.5      1023.8   \n2022-09-22 21:00:00      1020.6      1023.9      1022.9      1023.7   \n2022-09-22 22:00:00      1019.3      1022.8      1021.8      1023.0   \n2022-09-22 23:00:00      1018.4      1022.0      1021.0      1022.6   \n\n                     pres_VMWBN  pres_XM44W  pres_ZFZUV  pres_ZWC6W  \ntime                                                                 \n2022-09-01 01:00:00      1010.6      1011.8      1009.9      1009.7  \n2022-09-01 02:00:00      1010.9      1012.6      1010.1      1009.7  \n2022-09-01 03:00:00      1010.8      1013.0      1010.0      1009.8  \n2022-09-01 04:00:00      1010.8      1013.4      1010.0      1010.1  \n2022-09-01 05:00:00      1010.5      1013.9      1009.4      1010.1  \n...                         ...         ...         ...         ...  \n2022-09-22 19:00:00      1025.0      1022.6      1024.5      1017.8  \n2022-09-22 20:00:00      1023.7      1022.4      1023.1      1017.9  \n2022-09-22 21:00:00      1023.1      1022.2      1022.0      1018.1  \n2022-09-22 22:00:00      1021.9      1021.9      1021.1      1018.4  \n2022-09-22 23:00:00      1021.1      1021.8      1020.3      1018.6  \n\n[527 rows x 4025 columns]",
      "text/html": "<div>\n<style scoped>\n    .dataframe tbody tr th:only-of-type {\n        vertical-align: middle;\n    }\n\n    .dataframe tbody tr th {\n        vertical-align: top;\n    }\n\n    .dataframe thead th {\n        text-align: right;\n    }\n</style>\n<table border=\"1\" class=\"dataframe\">\n  <thead>\n    <tr style=\"text-align: right;\">\n      <th></th>\n      <th>temp_0CNUO</th>\n      <th>temp_0CO7B</th>\n      <th>temp_0FV1F</th>\n      <th>temp_1J1PJ</th>\n      <th>temp_1JWST</th>\n      <th>temp_20QWH</th>\n      <th>temp_21O3U</th>\n      <th>temp_2W8UZ</th>\n      <th>temp_3S56J</th>\n      <th>temp_4DUJO</th>\n      <th>...</th>\n      <th>pres_O879F</th>\n      <th>pres_QHA0T</th>\n      <th>pres_SJZBK</th>\n      <th>pres_UJHR7</th>\n      <th>pres_UV7W2</th>\n      <th>pres_V5792</th>\n      <th>pres_VMWBN</th>\n      <th>pres_XM44W</th>\n      <th>pres_ZFZUV</th>\n      <th>pres_ZWC6W</th>\n    </tr>\n    <tr>\n      <th>time</th>\n      <th></th>\n      <th></th>\n      <th></th>\n      <th></th>\n      <th></th>\n      <th></th>\n      <th></th>\n      <th></th>\n      <th></th>\n      <th></th>\n      <th></th>\n      <th></th>\n      <th></th>\n      <th></th>\n      <th></th>\n      <th></th>\n      <th></th>\n      <th></th>\n      <th></th>\n      <th></th>\n      <th></th>\n    </tr>\n  </thead>\n  <tbody>\n    <tr>\n      <th>2022-09-01 01:00:00</th>\n      <td>19.7</td>\n      <td>23.9</td>\n      <td>21.5</td>\n      <td>13.7</td>\n      <td>10.7</td>\n      <td>22.0</td>\n      <td>21.7</td>\n      <td>21.1</td>\n      <td>19.2</td>\n      <td>17.2</td>\n      <td>...</td>\n      <td>1010.0</td>\n      <td>1010.9</td>\n      <td>1011.3</td>\n      <td>1011.1</td>\n      <td>1011.0</td>\n      <td>1012.0</td>\n      <td>1010.6</td>\n      <td>1011.8</td>\n      <td>1009.9</td>\n      <td>1009.7</td>\n    </tr>\n    <tr>\n      <th>2022-09-01 02:00:00</th>\n      <td>18.8</td>\n      <td>23.3</td>\n      <td>20.7</td>\n      <td>13.3</td>\n      <td>8.0</td>\n      <td>20.9</td>\n      <td>20.6</td>\n      <td>19.9</td>\n      <td>18.1</td>\n      <td>16.0</td>\n      <td>...</td>\n      <td>1011.2</td>\n      <td>1011.5</td>\n      <td>1011.6</td>\n      <td>1011.2</td>\n      <td>1011.1</td>\n      <td>1012.1</td>\n      <td>1010.9</td>\n      <td>1012.6</td>\n      <td>1010.1</td>\n      <td>1009.7</td>\n    </tr>\n    <tr>\n      <th>2022-09-01 03:00:00</th>\n      <td>16.9</td>\n      <td>22.7</td>\n      <td>19.4</td>\n      <td>13.2</td>\n      <td>6.2</td>\n      <td>20.3</td>\n      <td>21.2</td>\n      <td>20.0</td>\n      <td>17.1</td>\n      <td>15.2</td>\n      <td>...</td>\n      <td>1011.7</td>\n      <td>1011.9</td>\n      <td>1011.4</td>\n      <td>1011.2</td>\n      <td>1011.1</td>\n      <td>1012.1</td>\n      <td>1010.8</td>\n      <td>1013.0</td>\n      <td>1010.0</td>\n      <td>1009.8</td>\n    </tr>\n    <tr>\n      <th>2022-09-01 04:00:00</th>\n      <td>16.7</td>\n      <td>21.5</td>\n      <td>18.0</td>\n      <td>12.2</td>\n      <td>5.3</td>\n      <td>20.0</td>\n      <td>21.9</td>\n      <td>18.9</td>\n      <td>16.0</td>\n      <td>14.3</td>\n      <td>...</td>\n      <td>1012.0</td>\n      <td>1012.2</td>\n      <td>1011.2</td>\n      <td>1010.9</td>\n      <td>1011.1</td>\n      <td>1012.3</td>\n      <td>1010.8</td>\n      <td>1013.4</td>\n      <td>1010.0</td>\n      <td>1010.1</td>\n    </tr>\n    <tr>\n      <th>2022-09-01 05:00:00</th>\n      <td>16.9</td>\n      <td>20.6</td>\n      <td>16.5</td>\n      <td>11.8</td>\n      <td>4.4</td>\n      <td>20.0</td>\n      <td>20.9</td>\n      <td>18.7</td>\n      <td>15.3</td>\n      <td>13.3</td>\n      <td>...</td>\n      <td>1013.1</td>\n      <td>1012.4</td>\n      <td>1011.1</td>\n      <td>1010.6</td>\n      <td>1010.8</td>\n      <td>1012.1</td>\n      <td>1010.5</td>\n      <td>1013.9</td>\n      <td>1009.4</td>\n      <td>1010.1</td>\n    </tr>\n    <tr>\n      <th>...</th>\n      <td>...</td>\n      <td>...</td>\n      <td>...</td>\n      <td>...</td>\n      <td>...</td>\n      <td>...</td>\n      <td>...</td>\n      <td>...</td>\n      <td>...</td>\n      <td>...</td>\n      <td>...</td>\n      <td>...</td>\n      <td>...</td>\n      <td>...</td>\n      <td>...</td>\n      <td>...</td>\n      <td>...</td>\n      <td>...</td>\n      <td>...</td>\n      <td>...</td>\n      <td>...</td>\n    </tr>\n    <tr>\n      <th>2022-09-22 19:00:00</th>\n      <td>12.4</td>\n      <td>17.8</td>\n      <td>13.7</td>\n      <td>11.5</td>\n      <td>10.2</td>\n      <td>13.5</td>\n      <td>12.5</td>\n      <td>15.2</td>\n      <td>10.8</td>\n      <td>12.4</td>\n      <td>...</td>\n      <td>1014.3</td>\n      <td>1022.6</td>\n      <td>1023.0</td>\n      <td>1025.5</td>\n      <td>1024.7</td>\n      <td>1024.6</td>\n      <td>1025.0</td>\n      <td>1022.6</td>\n      <td>1024.5</td>\n      <td>1017.8</td>\n    </tr>\n    <tr>\n      <th>2022-09-22 20:00:00</th>\n      <td>13.0</td>\n      <td>17.0</td>\n      <td>14.3</td>\n      <td>12.0</td>\n      <td>10.4</td>\n      <td>14.0</td>\n      <td>12.5</td>\n      <td>14.8</td>\n      <td>11.4</td>\n      <td>11.6</td>\n      <td>...</td>\n      <td>1014.5</td>\n      <td>1022.4</td>\n      <td>1021.5</td>\n      <td>1024.8</td>\n      <td>1023.5</td>\n      <td>1023.8</td>\n      <td>1023.7</td>\n      <td>1022.4</td>\n      <td>1023.1</td>\n      <td>1017.9</td>\n    </tr>\n    <tr>\n      <th>2022-09-22 21:00:00</th>\n      <td>13.2</td>\n      <td>16.6</td>\n      <td>13.9</td>\n      <td>12.4</td>\n      <td>10.5</td>\n      <td>14.3</td>\n      <td>12.4</td>\n      <td>15.1</td>\n      <td>11.7</td>\n      <td>10.8</td>\n      <td>...</td>\n      <td>1014.9</td>\n      <td>1022.2</td>\n      <td>1020.6</td>\n      <td>1023.9</td>\n      <td>1022.9</td>\n      <td>1023.7</td>\n      <td>1023.1</td>\n      <td>1022.2</td>\n      <td>1022.0</td>\n      <td>1018.1</td>\n    </tr>\n    <tr>\n      <th>2022-09-22 22:00:00</th>\n      <td>11.9</td>\n      <td>16.2</td>\n      <td>12.4</td>\n      <td>12.5</td>\n      <td>9.9</td>\n      <td>13.5</td>\n      <td>12.7</td>\n      <td>14.4</td>\n      <td>11.8</td>\n      <td>9.9</td>\n      <td>...</td>\n      <td>1015.6</td>\n      <td>1021.3</td>\n      <td>1019.3</td>\n      <td>1022.8</td>\n      <td>1021.8</td>\n      <td>1023.0</td>\n      <td>1021.9</td>\n      <td>1021.9</td>\n      <td>1021.1</td>\n      <td>1018.4</td>\n    </tr>\n    <tr>\n      <th>2022-09-22 23:00:00</th>\n      <td>11.3</td>\n      <td>15.9</td>\n      <td>11.5</td>\n      <td>11.6</td>\n      <td>7.2</td>\n      <td>12.8</td>\n      <td>12.0</td>\n      <td>13.5</td>\n      <td>10.4</td>\n      <td>8.8</td>\n      <td>...</td>\n      <td>1016.1</td>\n      <td>1021.1</td>\n      <td>1018.4</td>\n      <td>1022.0</td>\n      <td>1021.0</td>\n      <td>1022.6</td>\n      <td>1021.1</td>\n      <td>1021.8</td>\n      <td>1020.3</td>\n      <td>1018.6</td>\n    </tr>\n  </tbody>\n</table>\n<p>527 rows × 4025 columns</p>\n</div>"
     },
     "execution_count": 5,
     "metadata": {},
     "output_type": "execute_result"
    }
   ],
   "source": [
    "pivoted_df[pivoted_df.index > '2022-09']"
   ]
  },
  {
   "cell_type": "markdown",
   "metadata": {},
   "source": [
    "### Our target is Ann Arbor which is station __\"KARB0\"__, so pulling those features out. And we want to predict the weather 24 hours in the future, so need to duplicate and shift the features while doing some more basic cleaning "
   ]
  },
  {
   "cell_type": "code",
   "execution_count": 6,
   "metadata": {
    "pycharm": {
     "name": "#%%\n"
    }
   },
   "outputs": [
    {
     "data": {
      "text/plain": "                     temp_KARB0  dwpt_KARB0  rhum_KARB0  prcp_KARB0  \\\n2022-01-01 00:00:00         5.0         2.9        86.0         0.0   \n2022-01-01 01:00:00         5.0         2.9        86.0         0.0   \n2022-01-01 02:00:00         5.0         2.9        86.0         0.0   \n2022-01-01 03:00:00         5.0         2.9        86.0         0.0   \n2022-01-01 04:00:00         5.6         3.3        85.0         0.0   \n\n                     wdir_KARB0  wspd_KARB0  pres_KARB0  24 hr~temp_KARB0  \\\n2022-01-01 00:00:00       120.0        11.0      1005.0              -2.2   \n2022-01-01 01:00:00       120.0        11.2      1005.4              -2.8   \n2022-01-01 02:00:00       120.0         5.4      1005.3              -3.3   \n2022-01-01 03:00:00         0.0         0.0      1004.9              -3.9   \n2022-01-01 04:00:00         0.0         0.0      1004.9              -4.4   \n\n                     24 hr~dwpt_KARB0  24 hr~rhum_KARB0  24 hr~prcp_KARB0  \\\n2022-01-01 00:00:00              -3.9              88.0               0.6   \n2022-01-01 01:00:00              -5.6              81.0               0.7   \n2022-01-01 02:00:00              -5.6              84.0               0.4   \n2022-01-01 03:00:00              -6.1              85.0               0.3   \n2022-01-01 04:00:00              -6.1              88.0               0.3   \n\n                     24 hr~wdir_KARB0  24 hr~wspd_KARB0  24 hr~pres_KARB0  \n2022-01-01 00:00:00              50.0              16.6            1010.0  \n2022-01-01 01:00:00              30.0              16.6            1010.2  \n2022-01-01 02:00:00              30.0              24.1            1009.9  \n2022-01-01 03:00:00              20.0              18.4            1010.3  \n2022-01-01 04:00:00              30.0              16.6            1010.1  ",
      "text/html": "<div>\n<style scoped>\n    .dataframe tbody tr th:only-of-type {\n        vertical-align: middle;\n    }\n\n    .dataframe tbody tr th {\n        vertical-align: top;\n    }\n\n    .dataframe thead th {\n        text-align: right;\n    }\n</style>\n<table border=\"1\" class=\"dataframe\">\n  <thead>\n    <tr style=\"text-align: right;\">\n      <th></th>\n      <th>temp_KARB0</th>\n      <th>dwpt_KARB0</th>\n      <th>rhum_KARB0</th>\n      <th>prcp_KARB0</th>\n      <th>wdir_KARB0</th>\n      <th>wspd_KARB0</th>\n      <th>pres_KARB0</th>\n      <th>24 hr~temp_KARB0</th>\n      <th>24 hr~dwpt_KARB0</th>\n      <th>24 hr~rhum_KARB0</th>\n      <th>24 hr~prcp_KARB0</th>\n      <th>24 hr~wdir_KARB0</th>\n      <th>24 hr~wspd_KARB0</th>\n      <th>24 hr~pres_KARB0</th>\n    </tr>\n  </thead>\n  <tbody>\n    <tr>\n      <th>2022-01-01 00:00:00</th>\n      <td>5.0</td>\n      <td>2.9</td>\n      <td>86.0</td>\n      <td>0.0</td>\n      <td>120.0</td>\n      <td>11.0</td>\n      <td>1005.0</td>\n      <td>-2.2</td>\n      <td>-3.9</td>\n      <td>88.0</td>\n      <td>0.6</td>\n      <td>50.0</td>\n      <td>16.6</td>\n      <td>1010.0</td>\n    </tr>\n    <tr>\n      <th>2022-01-01 01:00:00</th>\n      <td>5.0</td>\n      <td>2.9</td>\n      <td>86.0</td>\n      <td>0.0</td>\n      <td>120.0</td>\n      <td>11.2</td>\n      <td>1005.4</td>\n      <td>-2.8</td>\n      <td>-5.6</td>\n      <td>81.0</td>\n      <td>0.7</td>\n      <td>30.0</td>\n      <td>16.6</td>\n      <td>1010.2</td>\n    </tr>\n    <tr>\n      <th>2022-01-01 02:00:00</th>\n      <td>5.0</td>\n      <td>2.9</td>\n      <td>86.0</td>\n      <td>0.0</td>\n      <td>120.0</td>\n      <td>5.4</td>\n      <td>1005.3</td>\n      <td>-3.3</td>\n      <td>-5.6</td>\n      <td>84.0</td>\n      <td>0.4</td>\n      <td>30.0</td>\n      <td>24.1</td>\n      <td>1009.9</td>\n    </tr>\n    <tr>\n      <th>2022-01-01 03:00:00</th>\n      <td>5.0</td>\n      <td>2.9</td>\n      <td>86.0</td>\n      <td>0.0</td>\n      <td>0.0</td>\n      <td>0.0</td>\n      <td>1004.9</td>\n      <td>-3.9</td>\n      <td>-6.1</td>\n      <td>85.0</td>\n      <td>0.3</td>\n      <td>20.0</td>\n      <td>18.4</td>\n      <td>1010.3</td>\n    </tr>\n    <tr>\n      <th>2022-01-01 04:00:00</th>\n      <td>5.6</td>\n      <td>3.3</td>\n      <td>85.0</td>\n      <td>0.0</td>\n      <td>0.0</td>\n      <td>0.0</td>\n      <td>1004.9</td>\n      <td>-4.4</td>\n      <td>-6.1</td>\n      <td>88.0</td>\n      <td>0.3</td>\n      <td>30.0</td>\n      <td>16.6</td>\n      <td>1010.1</td>\n    </tr>\n  </tbody>\n</table>\n</div>"
     },
     "execution_count": 6,
     "metadata": {},
     "output_type": "execute_result"
    }
   ],
   "source": [
    "ann_arbor_cols = [col for col in pivoted_df.columns if \"KARB0\" in col]\n",
    "ann_arbor_df = pivoted_df[ann_arbor_cols].copy()\n",
    "for col in ann_arbor_df.columns:\n",
    "    ann_arbor_df[f'24 hr~{col}'] = ann_arbor_df[col].shift(-24)\n",
    "ann_arbor_df = ann_arbor_df.rename_axis(None, axis = 0)\n",
    "ann_arbor_df.head(5)"
   ]
  },
  {
   "cell_type": "markdown",
   "metadata": {},
   "source": [
    "### We need to merge the new features with the main dataframe so we have not only the Ann Arbor measurements, but also all measurements from surrounding stations."
   ]
  },
  {
   "cell_type": "code",
   "execution_count": 7,
   "metadata": {
    "pycharm": {
     "name": "#%%\n"
    }
   },
   "outputs": [
    {
     "name": "stdout",
     "output_type": "stream",
     "text": [
      "(6336, 4039)\n"
     ]
    }
   ],
   "source": [
    "pred_df = pd.merge(pivoted_df,ann_arbor_df, left_index=True, right_index=True)\n",
    "pred_df = pred_df[pred_df['24 hr~temp_KARB0'].notna()]\n",
    "print(pred_df.shape)\n"
   ]
  },
  {
   "cell_type": "code",
   "execution_count": 8,
   "metadata": {},
   "outputs": [
    {
     "data": {
      "text/plain": "                     temp_0CNUO  temp_0CO7B  temp_0FV1F  temp_1J1PJ  \\\ntime                                                                  \n2022-09-01 01:00:00        19.7        23.9        21.5        13.7   \n2022-09-01 02:00:00        18.8        23.3        20.7        13.3   \n2022-09-01 03:00:00        16.9        22.7        19.4        13.2   \n2022-09-01 04:00:00        16.7        21.5        18.0        12.2   \n2022-09-01 05:00:00        16.9        20.6        16.5        11.8   \n...                         ...         ...         ...         ...   \n2022-09-21 19:00:00        10.6        28.6        26.2        20.6   \n2022-09-21 20:00:00        10.7        29.1        25.9        20.2   \n2022-09-21 21:00:00        10.9        30.2        23.9        19.1   \n2022-09-21 22:00:00        11.2        29.1        23.2        18.1   \n2022-09-21 23:00:00        11.0        27.7        22.4        16.6   \n\n                     temp_1JWST  temp_20QWH  temp_21O3U  temp_2W8UZ  \\\ntime                                                                  \n2022-09-01 01:00:00        10.7        22.0        21.7        21.1   \n2022-09-01 02:00:00         8.0        20.9        20.6        19.9   \n2022-09-01 03:00:00         6.2        20.3        21.2        20.0   \n2022-09-01 04:00:00         5.3        20.0        21.9        18.9   \n2022-09-01 05:00:00         4.4        20.0        20.9        18.7   \n...                         ...         ...         ...         ...   \n2022-09-21 19:00:00        14.8        12.5        13.4        25.1   \n2022-09-21 20:00:00        13.4        12.5        13.9        28.6   \n2022-09-21 21:00:00        13.2        12.0        14.5        28.2   \n2022-09-21 22:00:00        12.1        11.7        13.4        27.6   \n2022-09-21 23:00:00        10.0        11.2        13.6        26.6   \n\n                     temp_3S56J  temp_4DUJO  ...  wdir_KARB0_y  wspd_KARB0_y  \\\ntime                                         ...                               \n2022-09-01 01:00:00        19.2        17.2  ...         280.0          11.2   \n2022-09-01 02:00:00        18.1        16.0  ...         280.0          11.2   \n2022-09-01 03:00:00        17.1        15.2  ...         270.0           9.4   \n2022-09-01 04:00:00        16.0        14.3  ...         260.0           9.4   \n2022-09-01 05:00:00        15.3        13.3  ...         250.0          11.2   \n...                         ...         ...  ...           ...           ...   \n2022-09-21 19:00:00        10.1        24.9  ...         290.0          22.3   \n2022-09-21 20:00:00        10.8        26.0  ...         260.0          18.4   \n2022-09-21 21:00:00        11.5        24.6  ...         280.0          18.4   \n2022-09-21 22:00:00        11.6        23.9  ...         250.0          16.6   \n2022-09-21 23:00:00        10.4        22.7  ...         290.0          22.0   \n\n                     pres_KARB0_y  24 hr~temp_KARB0  24 hr~dwpt_KARB0  \\\ntime                                                                    \n2022-09-01 01:00:00        1013.7              18.9              15.6   \n2022-09-01 02:00:00        1014.1              17.2              15.0   \n2022-09-01 03:00:00        1014.3              16.7              15.1   \n2022-09-01 04:00:00        1014.2              14.4              13.3   \n2022-09-01 05:00:00        1014.4              14.4              13.3   \n...                           ...               ...               ...   \n2022-09-21 19:00:00        1007.3              15.0               3.5   \n2022-09-21 20:00:00        1007.0              16.1               4.5   \n2022-09-21 21:00:00        1007.4              16.0               4.4   \n2022-09-21 22:00:00        1007.4              14.0               2.9   \n2022-09-21 23:00:00        1009.0              13.0               3.1   \n\n                     24 hr~rhum_KARB0  24 hr~prcp_KARB0  24 hr~wdir_KARB0  \\\ntime                                                                        \n2022-09-01 01:00:00              81.0               0.0             190.0   \n2022-09-01 02:00:00              87.0               0.0               0.0   \n2022-09-01 03:00:00              90.0               0.0               0.0   \n2022-09-01 04:00:00              93.0               0.0               0.0   \n2022-09-01 05:00:00              93.0               0.0               0.0   \n...                               ...               ...               ...   \n2022-09-21 19:00:00              46.0               0.0             320.0   \n2022-09-21 20:00:00              46.0               0.0             320.0   \n2022-09-21 21:00:00              46.0               0.0             330.0   \n2022-09-21 22:00:00              47.0               0.0             330.0   \n2022-09-21 23:00:00              51.0               0.0             320.0   \n\n                     24 hr~wspd_KARB0  24 hr~pres_KARB0  \ntime                                                     \n2022-09-01 01:00:00               5.4            1017.2  \n2022-09-01 02:00:00               0.0            1017.6  \n2022-09-01 03:00:00               0.0            1018.0  \n2022-09-01 04:00:00               0.0            1018.1  \n2022-09-01 05:00:00               0.0            1018.0  \n...                               ...               ...  \n2022-09-21 19:00:00              25.9            1017.6  \n2022-09-21 20:00:00              18.4            1017.9  \n2022-09-21 21:00:00              22.0            1019.0  \n2022-09-21 22:00:00              22.0            1019.0  \n2022-09-21 23:00:00              13.0            1019.0  \n\n[503 rows x 4039 columns]",
      "text/html": "<div>\n<style scoped>\n    .dataframe tbody tr th:only-of-type {\n        vertical-align: middle;\n    }\n\n    .dataframe tbody tr th {\n        vertical-align: top;\n    }\n\n    .dataframe thead th {\n        text-align: right;\n    }\n</style>\n<table border=\"1\" class=\"dataframe\">\n  <thead>\n    <tr style=\"text-align: right;\">\n      <th></th>\n      <th>temp_0CNUO</th>\n      <th>temp_0CO7B</th>\n      <th>temp_0FV1F</th>\n      <th>temp_1J1PJ</th>\n      <th>temp_1JWST</th>\n      <th>temp_20QWH</th>\n      <th>temp_21O3U</th>\n      <th>temp_2W8UZ</th>\n      <th>temp_3S56J</th>\n      <th>temp_4DUJO</th>\n      <th>...</th>\n      <th>wdir_KARB0_y</th>\n      <th>wspd_KARB0_y</th>\n      <th>pres_KARB0_y</th>\n      <th>24 hr~temp_KARB0</th>\n      <th>24 hr~dwpt_KARB0</th>\n      <th>24 hr~rhum_KARB0</th>\n      <th>24 hr~prcp_KARB0</th>\n      <th>24 hr~wdir_KARB0</th>\n      <th>24 hr~wspd_KARB0</th>\n      <th>24 hr~pres_KARB0</th>\n    </tr>\n    <tr>\n      <th>time</th>\n      <th></th>\n      <th></th>\n      <th></th>\n      <th></th>\n      <th></th>\n      <th></th>\n      <th></th>\n      <th></th>\n      <th></th>\n      <th></th>\n      <th></th>\n      <th></th>\n      <th></th>\n      <th></th>\n      <th></th>\n      <th></th>\n      <th></th>\n      <th></th>\n      <th></th>\n      <th></th>\n      <th></th>\n    </tr>\n  </thead>\n  <tbody>\n    <tr>\n      <th>2022-09-01 01:00:00</th>\n      <td>19.7</td>\n      <td>23.9</td>\n      <td>21.5</td>\n      <td>13.7</td>\n      <td>10.7</td>\n      <td>22.0</td>\n      <td>21.7</td>\n      <td>21.1</td>\n      <td>19.2</td>\n      <td>17.2</td>\n      <td>...</td>\n      <td>280.0</td>\n      <td>11.2</td>\n      <td>1013.7</td>\n      <td>18.9</td>\n      <td>15.6</td>\n      <td>81.0</td>\n      <td>0.0</td>\n      <td>190.0</td>\n      <td>5.4</td>\n      <td>1017.2</td>\n    </tr>\n    <tr>\n      <th>2022-09-01 02:00:00</th>\n      <td>18.8</td>\n      <td>23.3</td>\n      <td>20.7</td>\n      <td>13.3</td>\n      <td>8.0</td>\n      <td>20.9</td>\n      <td>20.6</td>\n      <td>19.9</td>\n      <td>18.1</td>\n      <td>16.0</td>\n      <td>...</td>\n      <td>280.0</td>\n      <td>11.2</td>\n      <td>1014.1</td>\n      <td>17.2</td>\n      <td>15.0</td>\n      <td>87.0</td>\n      <td>0.0</td>\n      <td>0.0</td>\n      <td>0.0</td>\n      <td>1017.6</td>\n    </tr>\n    <tr>\n      <th>2022-09-01 03:00:00</th>\n      <td>16.9</td>\n      <td>22.7</td>\n      <td>19.4</td>\n      <td>13.2</td>\n      <td>6.2</td>\n      <td>20.3</td>\n      <td>21.2</td>\n      <td>20.0</td>\n      <td>17.1</td>\n      <td>15.2</td>\n      <td>...</td>\n      <td>270.0</td>\n      <td>9.4</td>\n      <td>1014.3</td>\n      <td>16.7</td>\n      <td>15.1</td>\n      <td>90.0</td>\n      <td>0.0</td>\n      <td>0.0</td>\n      <td>0.0</td>\n      <td>1018.0</td>\n    </tr>\n    <tr>\n      <th>2022-09-01 04:00:00</th>\n      <td>16.7</td>\n      <td>21.5</td>\n      <td>18.0</td>\n      <td>12.2</td>\n      <td>5.3</td>\n      <td>20.0</td>\n      <td>21.9</td>\n      <td>18.9</td>\n      <td>16.0</td>\n      <td>14.3</td>\n      <td>...</td>\n      <td>260.0</td>\n      <td>9.4</td>\n      <td>1014.2</td>\n      <td>14.4</td>\n      <td>13.3</td>\n      <td>93.0</td>\n      <td>0.0</td>\n      <td>0.0</td>\n      <td>0.0</td>\n      <td>1018.1</td>\n    </tr>\n    <tr>\n      <th>2022-09-01 05:00:00</th>\n      <td>16.9</td>\n      <td>20.6</td>\n      <td>16.5</td>\n      <td>11.8</td>\n      <td>4.4</td>\n      <td>20.0</td>\n      <td>20.9</td>\n      <td>18.7</td>\n      <td>15.3</td>\n      <td>13.3</td>\n      <td>...</td>\n      <td>250.0</td>\n      <td>11.2</td>\n      <td>1014.4</td>\n      <td>14.4</td>\n      <td>13.3</td>\n      <td>93.0</td>\n      <td>0.0</td>\n      <td>0.0</td>\n      <td>0.0</td>\n      <td>1018.0</td>\n    </tr>\n    <tr>\n      <th>...</th>\n      <td>...</td>\n      <td>...</td>\n      <td>...</td>\n      <td>...</td>\n      <td>...</td>\n      <td>...</td>\n      <td>...</td>\n      <td>...</td>\n      <td>...</td>\n      <td>...</td>\n      <td>...</td>\n      <td>...</td>\n      <td>...</td>\n      <td>...</td>\n      <td>...</td>\n      <td>...</td>\n      <td>...</td>\n      <td>...</td>\n      <td>...</td>\n      <td>...</td>\n      <td>...</td>\n    </tr>\n    <tr>\n      <th>2022-09-21 19:00:00</th>\n      <td>10.6</td>\n      <td>28.6</td>\n      <td>26.2</td>\n      <td>20.6</td>\n      <td>14.8</td>\n      <td>12.5</td>\n      <td>13.4</td>\n      <td>25.1</td>\n      <td>10.1</td>\n      <td>24.9</td>\n      <td>...</td>\n      <td>290.0</td>\n      <td>22.3</td>\n      <td>1007.3</td>\n      <td>15.0</td>\n      <td>3.5</td>\n      <td>46.0</td>\n      <td>0.0</td>\n      <td>320.0</td>\n      <td>25.9</td>\n      <td>1017.6</td>\n    </tr>\n    <tr>\n      <th>2022-09-21 20:00:00</th>\n      <td>10.7</td>\n      <td>29.1</td>\n      <td>25.9</td>\n      <td>20.2</td>\n      <td>13.4</td>\n      <td>12.5</td>\n      <td>13.9</td>\n      <td>28.6</td>\n      <td>10.8</td>\n      <td>26.0</td>\n      <td>...</td>\n      <td>260.0</td>\n      <td>18.4</td>\n      <td>1007.0</td>\n      <td>16.1</td>\n      <td>4.5</td>\n      <td>46.0</td>\n      <td>0.0</td>\n      <td>320.0</td>\n      <td>18.4</td>\n      <td>1017.9</td>\n    </tr>\n    <tr>\n      <th>2022-09-21 21:00:00</th>\n      <td>10.9</td>\n      <td>30.2</td>\n      <td>23.9</td>\n      <td>19.1</td>\n      <td>13.2</td>\n      <td>12.0</td>\n      <td>14.5</td>\n      <td>28.2</td>\n      <td>11.5</td>\n      <td>24.6</td>\n      <td>...</td>\n      <td>280.0</td>\n      <td>18.4</td>\n      <td>1007.4</td>\n      <td>16.0</td>\n      <td>4.4</td>\n      <td>46.0</td>\n      <td>0.0</td>\n      <td>330.0</td>\n      <td>22.0</td>\n      <td>1019.0</td>\n    </tr>\n    <tr>\n      <th>2022-09-21 22:00:00</th>\n      <td>11.2</td>\n      <td>29.1</td>\n      <td>23.2</td>\n      <td>18.1</td>\n      <td>12.1</td>\n      <td>11.7</td>\n      <td>13.4</td>\n      <td>27.6</td>\n      <td>11.6</td>\n      <td>23.9</td>\n      <td>...</td>\n      <td>250.0</td>\n      <td>16.6</td>\n      <td>1007.4</td>\n      <td>14.0</td>\n      <td>2.9</td>\n      <td>47.0</td>\n      <td>0.0</td>\n      <td>330.0</td>\n      <td>22.0</td>\n      <td>1019.0</td>\n    </tr>\n    <tr>\n      <th>2022-09-21 23:00:00</th>\n      <td>11.0</td>\n      <td>27.7</td>\n      <td>22.4</td>\n      <td>16.6</td>\n      <td>10.0</td>\n      <td>11.2</td>\n      <td>13.6</td>\n      <td>26.6</td>\n      <td>10.4</td>\n      <td>22.7</td>\n      <td>...</td>\n      <td>290.0</td>\n      <td>22.0</td>\n      <td>1009.0</td>\n      <td>13.0</td>\n      <td>3.1</td>\n      <td>51.0</td>\n      <td>0.0</td>\n      <td>320.0</td>\n      <td>13.0</td>\n      <td>1019.0</td>\n    </tr>\n  </tbody>\n</table>\n<p>503 rows × 4039 columns</p>\n</div>"
     },
     "execution_count": 8,
     "metadata": {},
     "output_type": "execute_result"
    }
   ],
   "source": [
    "pred_df[pred_df.index > '2022-09']"
   ]
  },
  {
   "cell_type": "markdown",
   "metadata": {},
   "source": [
    "~~### There are a lot of features with excessive amounts of null values to get rid of. Dropping any with more than 500 missing values still leaves a sufficient number of features for predicting~~\n",
    "### Correction\n",
    "Used interpolation in cleaning model to fill na, no longer need this cell"
   ]
  },
  {
   "cell_type": "code",
   "execution_count": 9,
   "metadata": {
    "pycharm": {
     "name": "#%%\n"
    }
   },
   "outputs": [],
   "source": [
    "# to_drop = []\n",
    "# for col in pred_df.columns:\n",
    "#     num = pred_df[col].isna().sum()\n",
    "#     if num > 500:\n",
    "#         # print(f\"{col} has {num} missing values\")\n",
    "#         to_drop.append(col)\n",
    "# pred_df.drop(columns=to_drop,inplace=True)\n",
    "# # pred_df.dropna(inplace=True)\n",
    "\n",
    "# for i in pred_df.columns[pred_df.isnull().any(axis=0)]:     #---Applying Only on variables with NaN values\n",
    "#     pred_df[i].fillna(pred_df[i].mean(),inplace=True)\n",
    "# pred_df.shape\n"
   ]
  },
  {
   "cell_type": "markdown",
   "metadata": {},
   "source": [
    "### Now our target will be the '-24hr~temp_KARB0' column, and our features to use in our first prediction model will be all of the measurements at every surrounding station 24 hours prior to our target.\n",
    "This cell will run 5 fold cross-validate on our 3 chosen regression models (Extra Trees Regressor, Lasso Regressor, and Tweedie Regressor). This will show how the average accuracy scores compare across these models on this data set."
   ]
  },
  {
   "cell_type": "code",
   "execution_count": 10,
   "metadata": {
    "pycharm": {
     "name": "#%%\n"
    }
   },
   "outputs": [
    {
     "name": "stdout",
     "output_type": "stream",
     "text": [
      "Extra Trees Regressor\n",
      "Score on time sensitive hold out set: 0.688\n",
      "**************\n",
      "Lasso Regressor\n"
     ]
    },
    {
     "name": "stderr",
     "output_type": "stream",
     "text": [
      "c:\\users\\jesse\\onedrive\\documents\\homework\\mich\\521\\ms2_git\\lib\\site-packages\\sklearn\\base.py:450: UserWarning: X does not have valid feature names, but Lasso was fitted with feature names\n",
      "  warnings.warn(\n"
     ]
    },
    {
     "name": "stdout",
     "output_type": "stream",
     "text": [
      "Score on time sensitive hold out set: 0.611\n",
      "**************\n",
      "Tweedie Regressor\n",
      "Score on time sensitive hold out set: 0.611\n",
      "**************\n",
      "Dummy Regressor\n",
      "Score on time sensitive hold out set: -2.166\n",
      "**************\n"
     ]
    },
    {
     "name": "stderr",
     "output_type": "stream",
     "text": [
      "c:\\users\\jesse\\onedrive\\documents\\homework\\mich\\521\\ms2_git\\lib\\site-packages\\sklearn\\linear_model\\_glm\\glm.py:294: ConvergenceWarning: lbfgs failed to converge (status=1):\n",
      "STOP: TOTAL NO. of ITERATIONS REACHED LIMIT.\n",
      "\n",
      "Increase the number of iterations (max_iter) or scale the data as shown in:\n",
      "    https://scikit-learn.org/stable/modules/preprocessing.html\n",
      "  self.n_iter_ = _check_optimize_result(\"lbfgs\", opt_res)\n"
     ]
    }
   ],
   "source": [
    "from sklearn.pipeline import make_pipeline\n",
    "from sklearn.preprocessing import StandardScaler\n",
    "from sklearn.preprocessing import RobustScaler\n",
    "X_cols = [col for col in pred_df.columns if \"~\" not in col]\n",
    "X = pred_df[X_cols]\n",
    "y = pred_df['24 hr~temp_KARB0']\n",
    "\n",
    "X_train, X_test, y_train, y_test = train_test_split(X, y, random_state=696)\n",
    "xt_reg = ExtraTreesRegressor(random_state=696,n_jobs=-1)\n",
    "lasso_reg = linear_model.Lasso(alpha=0.1,max_iter=1500)\n",
    "tw_reg = linear_model.TweedieRegressor(max_iter=250)\n",
    "dummy_reg = DummyRegressor(strategy=\"median\")\n",
    "models = {'Extra Trees Regressor':xt_reg,\n",
    "          'Lasso Regressor':lasso_reg,\n",
    "          'Tweedie Regressor':tw_reg,\n",
    "          'Dummy Regressor':dummy_reg}\n",
    "for key, value in models.items():\n",
    "    # value = make_pipeline(StandardScaler(), value)\n",
    "#     cv_results = cross_validate(value, X_train, y_train, cv=5,n_jobs=-1)\n",
    "    print(key)\n",
    "#     print(\"Mean accuracy score: \", end=\"\")\n",
    "#     print(round(cv_results['test_score'].mean(),3), end=\"\")\n",
    "#     print(\", best accuracy score: \", end=\"\")\n",
    "#     print(round(cv_results['test_score'].max(),3), end=\"\")\n",
    "#     print(\", with std dev of: \", end=\"\")\n",
    "#     print(round(cv_results['test_score'].std(),3))\n",
    "#     print(\"Mean training time: \", end=\"\")\n",
    "#     print(round(cv_results['score_time'].mean(),3))\n",
    "#     print(f\"Score on hold out set: {round(value.fit(X_train, y_train).score(X_test, y_test),3)}\")\n",
    "    print(f\"Score on time sensitive hold out set: {round(value.fit(X[:-503], y[:-503]).score(X[-503:], y[-503:]),3)}\")\n",
    "    print(\"**************\")"
   ]
  },
  {
   "cell_type": "markdown",
   "metadata": {},
   "source": [
    "### Examine the feature importances in the best performing model (Extra Trees Regressor)"
   ]
  },
  {
   "cell_type": "code",
   "execution_count": 11,
   "metadata": {
    "pycharm": {
     "name": "#%%\n"
    }
   },
   "outputs": [
    {
     "data": {
      "text/plain": "        Feature Importance\n405  temp_KMFI0   0.044344\n371  temp_KISW0   0.043474\n142  temp_72741   0.038861\n521  temp_KTOB0   0.038339\n385  temp_KLNL0   0.037256\n271  temp_KD250    0.03617\n208  temp_KARV0   0.035947\n315  temp_KFKA0   0.031594\n486  temp_KRHI0   0.030531\n269  temp_KCWA0   0.029631",
      "text/html": "<div>\n<style scoped>\n    .dataframe tbody tr th:only-of-type {\n        vertical-align: middle;\n    }\n\n    .dataframe tbody tr th {\n        vertical-align: top;\n    }\n\n    .dataframe thead th {\n        text-align: right;\n    }\n</style>\n<table border=\"1\" class=\"dataframe\">\n  <thead>\n    <tr style=\"text-align: right;\">\n      <th></th>\n      <th>Feature</th>\n      <th>Importance</th>\n    </tr>\n  </thead>\n  <tbody>\n    <tr>\n      <th>405</th>\n      <td>temp_KMFI0</td>\n      <td>0.044344</td>\n    </tr>\n    <tr>\n      <th>371</th>\n      <td>temp_KISW0</td>\n      <td>0.043474</td>\n    </tr>\n    <tr>\n      <th>142</th>\n      <td>temp_72741</td>\n      <td>0.038861</td>\n    </tr>\n    <tr>\n      <th>521</th>\n      <td>temp_KTOB0</td>\n      <td>0.038339</td>\n    </tr>\n    <tr>\n      <th>385</th>\n      <td>temp_KLNL0</td>\n      <td>0.037256</td>\n    </tr>\n    <tr>\n      <th>271</th>\n      <td>temp_KD250</td>\n      <td>0.03617</td>\n    </tr>\n    <tr>\n      <th>208</th>\n      <td>temp_KARV0</td>\n      <td>0.035947</td>\n    </tr>\n    <tr>\n      <th>315</th>\n      <td>temp_KFKA0</td>\n      <td>0.031594</td>\n    </tr>\n    <tr>\n      <th>486</th>\n      <td>temp_KRHI0</td>\n      <td>0.030531</td>\n    </tr>\n    <tr>\n      <th>269</th>\n      <td>temp_KCWA0</td>\n      <td>0.029631</td>\n    </tr>\n  </tbody>\n</table>\n</div>"
     },
     "execution_count": 11,
     "metadata": {},
     "output_type": "execute_result"
    }
   ],
   "source": [
    "feature_importance_df = pd.DataFrame([X.columns, xt_reg.feature_importances_]).transpose()\n",
    "feature_importance_df.columns = ['Feature', 'Importance']\n",
    "feature_importance_df.sort_values('Importance',ascending=False,inplace=True)\n",
    "feature_importance_df.to_csv(\"small_basic_features.csv\",index=False)\n",
    "feature_importance_df.head(10)"
   ]
  },
  {
   "cell_type": "code",
   "execution_count": 12,
   "metadata": {
    "pycharm": {
     "name": "#%%\n"
    }
   },
   "outputs": [
    {
     "data": {
      "text/html": "\n<div id=\"altair-viz-8abedfc41ed5468fa93b1fa90fea5855\"></div>\n<script type=\"text/javascript\">\n  var VEGA_DEBUG = (typeof VEGA_DEBUG == \"undefined\") ? {} : VEGA_DEBUG;\n  (function(spec, embedOpt){\n    let outputDiv = document.currentScript.previousElementSibling;\n    if (outputDiv.id !== \"altair-viz-8abedfc41ed5468fa93b1fa90fea5855\") {\n      outputDiv = document.getElementById(\"altair-viz-8abedfc41ed5468fa93b1fa90fea5855\");\n    }\n    const paths = {\n      \"vega\": \"https://cdn.jsdelivr.net/npm//vega@5?noext\",\n      \"vega-lib\": \"https://cdn.jsdelivr.net/npm//vega-lib?noext\",\n      \"vega-lite\": \"https://cdn.jsdelivr.net/npm//vega-lite@4.17.0?noext\",\n      \"vega-embed\": \"https://cdn.jsdelivr.net/npm//vega-embed@6?noext\",\n    };\n\n    function maybeLoadScript(lib, version) {\n      var key = `${lib.replace(\"-\", \"\")}_version`;\n      return (VEGA_DEBUG[key] == version) ?\n        Promise.resolve(paths[lib]) :\n        new Promise(function(resolve, reject) {\n          var s = document.createElement('script');\n          document.getElementsByTagName(\"head\")[0].appendChild(s);\n          s.async = true;\n          s.onload = () => {\n            VEGA_DEBUG[key] = version;\n            return resolve(paths[lib]);\n          };\n          s.onerror = () => reject(`Error loading script: ${paths[lib]}`);\n          s.src = paths[lib];\n        });\n    }\n\n    function showError(err) {\n      outputDiv.innerHTML = `<div class=\"error\" style=\"color:red;\">${err}</div>`;\n      throw err;\n    }\n\n    function displayChart(vegaEmbed) {\n      vegaEmbed(outputDiv, spec, embedOpt)\n        .catch(err => showError(`Javascript Error: ${err.message}<br>This usually means there's a typo in your chart specification. See the javascript console for the full traceback.`));\n    }\n\n    if(typeof define === \"function\" && define.amd) {\n      requirejs.config({paths});\n      require([\"vega-embed\"], displayChart, err => showError(`Error loading script: ${err.message}`));\n    } else {\n      maybeLoadScript(\"vega\", \"5\")\n        .then(() => maybeLoadScript(\"vega-lite\", \"4.17.0\"))\n        .then(() => maybeLoadScript(\"vega-embed\", \"6\"))\n        .catch(showError)\n        .then(() => displayChart(vegaEmbed));\n    }\n  })({\"config\": {\"view\": {\"continuousWidth\": 400, \"continuousHeight\": 300}}, \"data\": {\"name\": \"data-1cf2f96643b6cb903db9ac41064a5ff8\"}, \"mark\": \"bar\", \"encoding\": {\"x\": {\"axis\": {\"format\": \"%\", \"labelFontSize\": 12, \"tickSize\": 0}, \"field\": \"Importance\", \"type\": \"quantitative\"}, \"y\": {\"axis\": {\"labelFontSize\": 12, \"labelPadding\": 10, \"tickSize\": 0}, \"field\": \"Feature\", \"sort\": [\"temp_KMFI0\", \"temp_KISW0\", \"temp_72741\", \"temp_KTOB0\", \"temp_KLNL0\"], \"title\": \"\", \"type\": \"nominal\"}}, \"height\": 200, \"$schema\": \"https://vega.github.io/schema/vega-lite/v4.17.0.json\", \"datasets\": {\"data-1cf2f96643b6cb903db9ac41064a5ff8\": [{\"Feature\": \"temp_KMFI0\", \"Importance\": 0.04434360706780681}, {\"Feature\": \"temp_KISW0\", \"Importance\": 0.043473592363916555}, {\"Feature\": \"temp_72741\", \"Importance\": 0.03886061437866146}, {\"Feature\": \"temp_KTOB0\", \"Importance\": 0.03833895443148476}, {\"Feature\": \"temp_KLNL0\", \"Importance\": 0.03725594582624517}]}}, {\"mode\": \"vega-lite\"});\n</script>",
      "text/plain": "alt.Chart(...)"
     },
     "execution_count": 12,
     "metadata": {},
     "output_type": "execute_result"
    }
   ],
   "source": [
    "\n",
    "alt.Chart(feature_importance_df[:5]).mark_bar().encode(\n",
    "    x=alt.X('Importance:Q', axis=alt.Axis(format=\"%\", tickSize=0, labelFontSize=12)),\n",
    "    y=alt.Y(\n",
    "        'Feature:N', sort=list(feature_importance_df[:5].Feature), title=\"\",\n",
    "        axis=alt.Axis(tickSize=0, labelFontSize=12, labelPadding=10)),\n",
    ").properties(\n",
    "    height=200\n",
    ")"
   ]
  },
  {
   "cell_type": "markdown",
   "metadata": {},
   "source": [
    "### Hyper-parameter tuning the Extra Trees Regressor\n",
    "5 fold cross validate looking for the optimized estimators, depth, sample split, and sample leaf parameters. Evaluating the 'best' based on the mean squared error achieved."
   ]
  },
  {
   "cell_type": "code",
   "execution_count": 13,
   "metadata": {
    "pycharm": {
     "name": "#%%\n"
    }
   },
   "outputs": [
    {
     "name": "stdout",
     "output_type": "stream",
     "text": [
      "Best score: 2.1663392254098444\n",
      "Best parameters:\n",
      " - n-estimators= 124\n",
      " - max_depth= 2\n",
      " - min_samples_split= 28\n",
      " - min_samples_leaf=  91\n"
     ]
    }
   ],
   "source": [
    "# %%timeit -r 1 -n 1\n",
    "space  = [Integer(100,200, name='n_estimators'),\n",
    "          Integer(1, 50, name='max_depth'),\n",
    "          Integer(2, 100, name='min_samples_split'),\n",
    "          Integer(1, 100, name='min_samples_leaf')]\n",
    "\n",
    "@use_named_args(space)\n",
    "def objective(**params):\n",
    "    xt_reg.set_params(**params)\n",
    "\n",
    "#     return -np.mean(cross_val_score(xt_reg, X_train, y_train, cv=5, n_jobs=-1))\n",
    "    return -np.mean(value.fit(X[:-503], y[:-503]).score(X[-503:], y[-503:]))\n",
    "\n",
    "res_gp = gp_minimize(objective, space, n_calls=15, random_state=696)\n",
    "\n",
    "print(f\"Best score: {res_gp.fun}\")\n",
    "print(\"Best parameters:\")\n",
    "print(f\" - n-estimators= {res_gp.x[0]}\")\n",
    "print(f\" - max_depth= {res_gp.x[1]}\")\n",
    "print(f\" - min_samples_split= {res_gp.x[2]}\")\n",
    "print(f\" - min_samples_leaf=  {res_gp.x[3]}\")"
   ]
  },
  {
   "cell_type": "markdown",
   "metadata": {},
   "source": [
    "### Visualize the convergence for the above hypertuning"
   ]
  },
  {
   "cell_type": "code",
   "execution_count": 14,
   "metadata": {
    "pycharm": {
     "name": "#%%\n"
    }
   },
   "outputs": [
    {
     "data": {
      "text/plain": "<AxesSubplot:title={'center':'Convergence plot'}, xlabel='Number of calls $n$', ylabel='$\\\\min f(x)$ after $n$ calls'>"
     },
     "execution_count": 14,
     "metadata": {},
     "output_type": "execute_result"
    },
    {
     "data": {
      "text/plain": "<Figure size 640x480 with 1 Axes>",
      "image/png": "[encoded data removed]"
     },
     "metadata": {},
     "output_type": "display_data"
    }
   ],
   "source": [
    "plot_convergence(res_gp)"
   ]
  },
  {
   "cell_type": "markdown",
   "metadata": {},
   "source": [
    "### Final re-run of the Extra Trees Model with the tuned hyperparameters\n",
    "There is a very minor improvement on the accuracy score, with some pretty significant increases in training time."
   ]
  },
  {
   "cell_type": "code",
   "execution_count": 15,
   "metadata": {
    "pycharm": {
     "name": "#%%\n"
    }
   },
   "outputs": [
    {
     "name": "stdout",
     "output_type": "stream",
     "text": [
      "Extra Trees Regressor\n",
      "Score on time sensitive hold out set: 0.559\n",
      "**************\n"
     ]
    }
   ],
   "source": [
    "xt_reg = ExtraTreesRegressor(n_estimators=res_gp.x[0], \n",
    "                             max_depth=res_gp.x[1], \n",
    "                             min_samples_split=res_gp.x[2], \n",
    "                             min_samples_leaf=res_gp.x[3], \n",
    "                             random_state=696,n_jobs=-1\n",
    "                            )\n",
    "models = {'Extra Trees Regressor':xt_reg}\n",
    "for key, value in models.items():\n",
    "#     cv_results = cross_validate(value, X_train, y_train, cv=5,n_jobs=-1)\n",
    "    print(key)\n",
    "#     print(\"Mean accuracy score: \", end=\"\")\n",
    "#     print(round(cv_results['test_score'].mean(),3), end=\"\")\n",
    "#     print(\", best accuracy score: \", end=\"\")\n",
    "#     print(round(cv_results['test_score'].max(),3), end=\"\")\n",
    "#     print(\", with std dev of: \", end=\"\")\n",
    "#     print(round(cv_results['test_score'].std(),3))\n",
    "#     print(\"Mean training time: \", end=\"\")\n",
    "#     print(round(cv_results['score_time'].mean(),3))\n",
    "#     print(f\"Score on hold out set: {round(value.fit(X_train, y_train).score(X_test, y_test),3)}\")\n",
    "    print(f\"Score on time sensitive hold out set: {round(value.fit(X[:-503], y[:-503]).score(X[-503:], y[-503:]),3)}\")\n",
    "    print(\"**************\")"
   ]
  },
  {
   "cell_type": "code",
   "execution_count": 16,
   "metadata": {},
   "outputs": [],
   "source": [
    "final_df = pd.DataFrame()\n",
    "final_df['Actual'] = y.values\n",
    "final_df['XT-pred'] = xt_reg.predict(X)\n",
    "final_df['Lo-pred'] = lasso_reg.predict(X)\n",
    "final_df['Tw-pred'] = tw_reg.predict(X)\n",
    "final_df['Dum-pred'] = dummy_reg.predict(X)\n",
    "final_df['TimeStamp'] = pred_df.index\n",
    "# final_df = final_df.melt(id_vars='TimeStamp')\n",
    "final_df.to_csv('small_basic_predictions.csv', index=False)"
   ]
  },
  {
   "cell_type": "markdown",
   "metadata": {},
   "source": [
    "## Full US dataset (2019-Sept 2022)\n",
    "### Get cleaned data from pickle file"
   ]
  },
  {
   "cell_type": "code",
   "execution_count": 17,
   "metadata": {
    "pycharm": {
     "name": "#%%\n"
    }
   },
   "outputs": [],
   "source": [
    "ROOT_DIR = os.path.realpath(os.path.join(os.getcwd(), '..'))\n",
    "cln_pkl_loc = os.path.join(ROOT_DIR, 'data_cleaning','cleanweather.pkl')"
   ]
  },
  {
   "cell_type": "code",
   "execution_count": 18,
   "metadata": {
    "pycharm": {
     "name": "#%%\n"
    }
   },
   "outputs": [
    {
     "name": "stdout",
     "output_type": "stream",
     "text": [
      "<class 'pandas.core.frame.DataFrame'>\n",
      "RangeIndex: 62183652 entries, 0 to 62183651\n",
      "Data columns (total 9 columns):\n",
      " #   Column   Dtype         \n",
      "---  ------   -----         \n",
      " 0   station  object        \n",
      " 1   time     datetime64[ns]\n",
      " 2   temp     float64       \n",
      " 3   dwpt     float64       \n",
      " 4   rhum     float64       \n",
      " 5   prcp     float64       \n",
      " 6   wdir     float64       \n",
      " 7   wspd     float64       \n",
      " 8   pres     float64       \n",
      "dtypes: datetime64[ns](1), float64(7), object(1)\n",
      "memory usage: 4.2+ GB\n"
     ]
    }
   ],
   "source": [
    "df = pd.read_pickle(cln_pkl_loc)\n",
    "df.info()"
   ]
  },
  {
   "cell_type": "markdown",
   "metadata": {},
   "source": [
    "### Basic data cleaning to build necessary features"
   ]
  },
  {
   "cell_type": "code",
   "execution_count": 19,
   "metadata": {
    "pycharm": {
     "name": "#%%\n"
    }
   },
   "outputs": [
    {
     "data": {
      "text/plain": "                     temp_04AEH  temp_0CC8G  temp_0CNUO  temp_0CO7B  \\\ntime                                                                  \n2019-01-01 00:00:00         NaN         NaN         NaN         NaN   \n2019-01-01 01:00:00         NaN         NaN         NaN         NaN   \n2019-01-01 02:00:00         NaN         NaN         NaN         NaN   \n2019-01-01 03:00:00         NaN         NaN         NaN         NaN   \n2019-01-01 04:00:00         NaN         NaN         NaN         NaN   \n...                         ...         ...         ...         ...   \n2022-10-01 19:00:00        18.0        16.3        12.9        19.2   \n2022-10-01 20:00:00        18.0        15.5        13.4        19.2   \n2022-10-01 21:00:00        17.0        14.3        13.3        18.1   \n2022-10-01 22:00:00        14.0        13.1        13.2        17.0   \n2022-10-01 23:00:00        14.0        11.4        12.9        15.8   \n\n                     temp_0FV1F  temp_0FV2W  temp_0JM7R  temp_0JPFS  \\\ntime                                                                  \n2019-01-01 00:00:00         NaN         NaN         NaN         NaN   \n2019-01-01 01:00:00         NaN         NaN         NaN         NaN   \n2019-01-01 02:00:00         NaN         NaN         NaN         NaN   \n2019-01-01 03:00:00         NaN         NaN         NaN         NaN   \n2019-01-01 04:00:00         NaN         NaN         NaN         NaN   \n...                         ...         ...         ...         ...   \n2022-10-01 19:00:00        18.5         NaN         8.8        15.0   \n2022-10-01 20:00:00        18.4         NaN         8.4        14.4   \n2022-10-01 21:00:00        17.8         NaN         8.1        13.4   \n2022-10-01 22:00:00        16.9         NaN         7.0        11.5   \n2022-10-01 23:00:00        15.3         NaN         4.7         9.9   \n\n                     temp_0NNEW  temp_0RJDR  ...  pres_Z8Y0M  pres_ZFS01  \\\ntime                                         ...                           \n2019-01-01 00:00:00         NaN         NaN  ...         NaN         NaN   \n2019-01-01 01:00:00         NaN         NaN  ...         NaN         NaN   \n2019-01-01 02:00:00         NaN         NaN  ...         NaN         NaN   \n2019-01-01 03:00:00         NaN         NaN  ...         NaN         NaN   \n2019-01-01 04:00:00         NaN         NaN  ...         NaN         NaN   \n...                         ...         ...  ...         ...         ...   \n2022-10-01 19:00:00        21.4        22.1  ...      1020.0      1020.0   \n2022-10-01 20:00:00        24.0        22.5  ...      1021.0      1020.2   \n2022-10-01 21:00:00        21.8        21.9  ...      1020.0      1020.3   \n2022-10-01 22:00:00        21.2        23.2  ...      1020.0      1020.6   \n2022-10-01 23:00:00        19.4        22.2  ...      1020.0      1021.1   \n\n                     pres_ZFZUV  pres_ZJ8AR  pres_ZNWZW  pres_ZRBBD  \\\ntime                                                                  \n2019-01-01 00:00:00         NaN         NaN         NaN         NaN   \n2019-01-01 01:00:00         NaN         NaN         NaN         NaN   \n2019-01-01 02:00:00         NaN         NaN         NaN         NaN   \n2019-01-01 03:00:00         NaN         NaN         NaN         NaN   \n2019-01-01 04:00:00         NaN         NaN         NaN         NaN   \n...                         ...         ...         ...         ...   \n2022-10-01 19:00:00      1027.2      1014.3      1018.6      1020.9   \n2022-10-01 20:00:00      1026.9      1014.2      1018.5      1020.4   \n2022-10-01 21:00:00      1026.9      1013.4      1019.0      1020.1   \n2022-10-01 22:00:00      1026.6      1014.2      1018.9      1019.9   \n2022-10-01 23:00:00      1026.8      1014.9      1020.0      1020.8   \n\n                     pres_ZUQJS  pres_ZWC6W  pres_ZYC17  pres_ZYITU  \ntime                                                                 \n2019-01-01 00:00:00         NaN         NaN         NaN         NaN  \n2019-01-01 01:00:00         NaN         NaN         NaN         NaN  \n2019-01-01 02:00:00         NaN         NaN         NaN         NaN  \n2019-01-01 03:00:00         NaN         NaN         NaN         NaN  \n2019-01-01 04:00:00         NaN         NaN         NaN         NaN  \n...                         ...         ...         ...         ...  \n2022-10-01 19:00:00      1024.6      1032.3      1021.0      1020.0  \n2022-10-01 20:00:00      1024.3      1032.1      1020.6      1020.0  \n2022-10-01 21:00:00      1024.5      1032.0      1020.8      1020.0  \n2022-10-01 22:00:00      1024.9      1032.2      1021.2      1020.0  \n2022-10-01 23:00:00      1024.9      1032.8      1021.6      1021.0  \n\n[32880 rows x 16275 columns]",
      "text/html": "<div>\n<style scoped>\n    .dataframe tbody tr th:only-of-type {\n        vertical-align: middle;\n    }\n\n    .dataframe tbody tr th {\n        vertical-align: top;\n    }\n\n    .dataframe thead th {\n        text-align: right;\n    }\n</style>\n<table border=\"1\" class=\"dataframe\">\n  <thead>\n    <tr style=\"text-align: right;\">\n      <th></th>\n      <th>temp_04AEH</th>\n      <th>temp_0CC8G</th>\n      <th>temp_0CNUO</th>\n      <th>temp_0CO7B</th>\n      <th>temp_0FV1F</th>\n      <th>temp_0FV2W</th>\n      <th>temp_0JM7R</th>\n      <th>temp_0JPFS</th>\n      <th>temp_0NNEW</th>\n      <th>temp_0RJDR</th>\n      <th>...</th>\n      <th>pres_Z8Y0M</th>\n      <th>pres_ZFS01</th>\n      <th>pres_ZFZUV</th>\n      <th>pres_ZJ8AR</th>\n      <th>pres_ZNWZW</th>\n      <th>pres_ZRBBD</th>\n      <th>pres_ZUQJS</th>\n      <th>pres_ZWC6W</th>\n      <th>pres_ZYC17</th>\n      <th>pres_ZYITU</th>\n    </tr>\n    <tr>\n      <th>time</th>\n      <th></th>\n      <th></th>\n      <th></th>\n      <th></th>\n      <th></th>\n      <th></th>\n      <th></th>\n      <th></th>\n      <th></th>\n      <th></th>\n      <th></th>\n      <th></th>\n      <th></th>\n      <th></th>\n      <th></th>\n      <th></th>\n      <th></th>\n      <th></th>\n      <th></th>\n      <th></th>\n      <th></th>\n    </tr>\n  </thead>\n  <tbody>\n    <tr>\n      <th>2019-01-01 00:00:00</th>\n      <td>NaN</td>\n      <td>NaN</td>\n      <td>NaN</td>\n      <td>NaN</td>\n      <td>NaN</td>\n      <td>NaN</td>\n      <td>NaN</td>\n      <td>NaN</td>\n      <td>NaN</td>\n      <td>NaN</td>\n      <td>...</td>\n      <td>NaN</td>\n      <td>NaN</td>\n      <td>NaN</td>\n      <td>NaN</td>\n      <td>NaN</td>\n      <td>NaN</td>\n      <td>NaN</td>\n      <td>NaN</td>\n      <td>NaN</td>\n      <td>NaN</td>\n    </tr>\n    <tr>\n      <th>2019-01-01 01:00:00</th>\n      <td>NaN</td>\n      <td>NaN</td>\n      <td>NaN</td>\n      <td>NaN</td>\n      <td>NaN</td>\n      <td>NaN</td>\n      <td>NaN</td>\n      <td>NaN</td>\n      <td>NaN</td>\n      <td>NaN</td>\n      <td>...</td>\n      <td>NaN</td>\n      <td>NaN</td>\n      <td>NaN</td>\n      <td>NaN</td>\n      <td>NaN</td>\n      <td>NaN</td>\n      <td>NaN</td>\n      <td>NaN</td>\n      <td>NaN</td>\n      <td>NaN</td>\n    </tr>\n    <tr>\n      <th>2019-01-01 02:00:00</th>\n      <td>NaN</td>\n      <td>NaN</td>\n      <td>NaN</td>\n      <td>NaN</td>\n      <td>NaN</td>\n      <td>NaN</td>\n      <td>NaN</td>\n      <td>NaN</td>\n      <td>NaN</td>\n      <td>NaN</td>\n      <td>...</td>\n      <td>NaN</td>\n      <td>NaN</td>\n      <td>NaN</td>\n      <td>NaN</td>\n      <td>NaN</td>\n      <td>NaN</td>\n      <td>NaN</td>\n      <td>NaN</td>\n      <td>NaN</td>\n      <td>NaN</td>\n    </tr>\n    <tr>\n      <th>2019-01-01 03:00:00</th>\n      <td>NaN</td>\n      <td>NaN</td>\n      <td>NaN</td>\n      <td>NaN</td>\n      <td>NaN</td>\n      <td>NaN</td>\n      <td>NaN</td>\n      <td>NaN</td>\n      <td>NaN</td>\n      <td>NaN</td>\n      <td>...</td>\n      <td>NaN</td>\n      <td>NaN</td>\n      <td>NaN</td>\n      <td>NaN</td>\n      <td>NaN</td>\n      <td>NaN</td>\n      <td>NaN</td>\n      <td>NaN</td>\n      <td>NaN</td>\n      <td>NaN</td>\n    </tr>\n    <tr>\n      <th>2019-01-01 04:00:00</th>\n      <td>NaN</td>\n      <td>NaN</td>\n      <td>NaN</td>\n      <td>NaN</td>\n      <td>NaN</td>\n      <td>NaN</td>\n      <td>NaN</td>\n      <td>NaN</td>\n      <td>NaN</td>\n      <td>NaN</td>\n      <td>...</td>\n      <td>NaN</td>\n      <td>NaN</td>\n      <td>NaN</td>\n      <td>NaN</td>\n      <td>NaN</td>\n      <td>NaN</td>\n      <td>NaN</td>\n      <td>NaN</td>\n      <td>NaN</td>\n      <td>NaN</td>\n    </tr>\n    <tr>\n      <th>...</th>\n      <td>...</td>\n      <td>...</td>\n      <td>...</td>\n      <td>...</td>\n      <td>...</td>\n      <td>...</td>\n      <td>...</td>\n      <td>...</td>\n      <td>...</td>\n      <td>...</td>\n      <td>...</td>\n      <td>...</td>\n      <td>...</td>\n      <td>...</td>\n      <td>...</td>\n      <td>...</td>\n      <td>...</td>\n      <td>...</td>\n      <td>...</td>\n      <td>...</td>\n      <td>...</td>\n    </tr>\n    <tr>\n      <th>2022-10-01 19:00:00</th>\n      <td>18.0</td>\n      <td>16.3</td>\n      <td>12.9</td>\n      <td>19.2</td>\n      <td>18.5</td>\n      <td>NaN</td>\n      <td>8.8</td>\n      <td>15.0</td>\n      <td>21.4</td>\n      <td>22.1</td>\n      <td>...</td>\n      <td>1020.0</td>\n      <td>1020.0</td>\n      <td>1027.2</td>\n      <td>1014.3</td>\n      <td>1018.6</td>\n      <td>1020.9</td>\n      <td>1024.6</td>\n      <td>1032.3</td>\n      <td>1021.0</td>\n      <td>1020.0</td>\n    </tr>\n    <tr>\n      <th>2022-10-01 20:00:00</th>\n      <td>18.0</td>\n      <td>15.5</td>\n      <td>13.4</td>\n      <td>19.2</td>\n      <td>18.4</td>\n      <td>NaN</td>\n      <td>8.4</td>\n      <td>14.4</td>\n      <td>24.0</td>\n      <td>22.5</td>\n      <td>...</td>\n      <td>1021.0</td>\n      <td>1020.2</td>\n      <td>1026.9</td>\n      <td>1014.2</td>\n      <td>1018.5</td>\n      <td>1020.4</td>\n      <td>1024.3</td>\n      <td>1032.1</td>\n      <td>1020.6</td>\n      <td>1020.0</td>\n    </tr>\n    <tr>\n      <th>2022-10-01 21:00:00</th>\n      <td>17.0</td>\n      <td>14.3</td>\n      <td>13.3</td>\n      <td>18.1</td>\n      <td>17.8</td>\n      <td>NaN</td>\n      <td>8.1</td>\n      <td>13.4</td>\n      <td>21.8</td>\n      <td>21.9</td>\n      <td>...</td>\n      <td>1020.0</td>\n      <td>1020.3</td>\n      <td>1026.9</td>\n      <td>1013.4</td>\n      <td>1019.0</td>\n      <td>1020.1</td>\n      <td>1024.5</td>\n      <td>1032.0</td>\n      <td>1020.8</td>\n      <td>1020.0</td>\n    </tr>\n    <tr>\n      <th>2022-10-01 22:00:00</th>\n      <td>14.0</td>\n      <td>13.1</td>\n      <td>13.2</td>\n      <td>17.0</td>\n      <td>16.9</td>\n      <td>NaN</td>\n      <td>7.0</td>\n      <td>11.5</td>\n      <td>21.2</td>\n      <td>23.2</td>\n      <td>...</td>\n      <td>1020.0</td>\n      <td>1020.6</td>\n      <td>1026.6</td>\n      <td>1014.2</td>\n      <td>1018.9</td>\n      <td>1019.9</td>\n      <td>1024.9</td>\n      <td>1032.2</td>\n      <td>1021.2</td>\n      <td>1020.0</td>\n    </tr>\n    <tr>\n      <th>2022-10-01 23:00:00</th>\n      <td>14.0</td>\n      <td>11.4</td>\n      <td>12.9</td>\n      <td>15.8</td>\n      <td>15.3</td>\n      <td>NaN</td>\n      <td>4.7</td>\n      <td>9.9</td>\n      <td>19.4</td>\n      <td>22.2</td>\n      <td>...</td>\n      <td>1020.0</td>\n      <td>1021.1</td>\n      <td>1026.8</td>\n      <td>1014.9</td>\n      <td>1020.0</td>\n      <td>1020.8</td>\n      <td>1024.9</td>\n      <td>1032.8</td>\n      <td>1021.6</td>\n      <td>1021.0</td>\n    </tr>\n  </tbody>\n</table>\n<p>32880 rows × 16275 columns</p>\n</div>"
     },
     "execution_count": 19,
     "metadata": {},
     "output_type": "execute_result"
    }
   ],
   "source": [
    "pivoted_df = df.pivot(index='time', columns='station', values=['temp', 'dwpt','rhum','prcp','wdir','wspd','pres'])\n",
    "pivoted_df.columns = ['_'.join(col) for col in pivoted_df.columns.values]\n",
    "pivoted_df"
   ]
  },
  {
   "cell_type": "markdown",
   "metadata": {},
   "source": [
    "### Our target is Ann Arbor which is station __\"KARB0\"__, so pulling those features out. And we want to predict the weather 24 hours in the future, so need to duplicate and shift the features while doing some more basic cleaning"
   ]
  },
  {
   "cell_type": "code",
   "execution_count": 20,
   "metadata": {
    "pycharm": {
     "name": "#%%\n"
    }
   },
   "outputs": [
    {
     "data": {
      "text/plain": "                     temp_KARB0  dwpt_KARB0  rhum_KARB0  prcp_KARB0  \\\n2019-01-01 00:00:00         3.9         3.9       100.0         NaN   \n2019-01-01 01:00:00         4.4         4.0        97.0         0.5   \n2019-01-01 02:00:00         4.4         4.4       100.0         1.5   \n2019-01-01 03:00:00         7.8         7.2        96.0         NaN   \n2019-01-01 04:00:00         6.1         5.7        97.0         NaN   \n\n                     wdir_KARB0  wspd_KARB0  pres_KARB0  24 hr~temp_KARB0  \\\n2019-01-01 00:00:00        60.0         9.4         NaN              -1.1   \n2019-01-01 01:00:00         NaN         0.0       996.8              -1.1   \n2019-01-01 02:00:00         NaN         0.0       996.9              -1.7   \n2019-01-01 03:00:00       220.0        20.5       997.3              -1.7   \n2019-01-01 04:00:00       260.0        29.5       999.8              -2.2   \n\n                     24 hr~dwpt_KARB0  24 hr~rhum_KARB0  24 hr~prcp_KARB0  \\\n2019-01-01 00:00:00              -2.2              92.0               0.0   \n2019-01-01 01:00:00              -2.2              92.0               0.0   \n2019-01-01 02:00:00              -2.3              96.0               0.0   \n2019-01-01 03:00:00              -2.8              92.0               0.0   \n2019-01-01 04:00:00              -3.3              92.0               0.0   \n\n                     24 hr~wdir_KARB0  24 hr~wspd_KARB0  24 hr~pres_KARB0  \n2019-01-01 00:00:00             350.0              11.2            1025.4  \n2019-01-01 01:00:00             360.0               5.4            1026.1  \n2019-01-01 02:00:00             350.0               7.6            1026.0  \n2019-01-01 03:00:00              10.0               7.6            1025.8  \n2019-01-01 04:00:00              50.0               5.4            1025.7  ",
      "text/html": "<div>\n<style scoped>\n    .dataframe tbody tr th:only-of-type {\n        vertical-align: middle;\n    }\n\n    .dataframe tbody tr th {\n        vertical-align: top;\n    }\n\n    .dataframe thead th {\n        text-align: right;\n    }\n</style>\n<table border=\"1\" class=\"dataframe\">\n  <thead>\n    <tr style=\"text-align: right;\">\n      <th></th>\n      <th>temp_KARB0</th>\n      <th>dwpt_KARB0</th>\n      <th>rhum_KARB0</th>\n      <th>prcp_KARB0</th>\n      <th>wdir_KARB0</th>\n      <th>wspd_KARB0</th>\n      <th>pres_KARB0</th>\n      <th>24 hr~temp_KARB0</th>\n      <th>24 hr~dwpt_KARB0</th>\n      <th>24 hr~rhum_KARB0</th>\n      <th>24 hr~prcp_KARB0</th>\n      <th>24 hr~wdir_KARB0</th>\n      <th>24 hr~wspd_KARB0</th>\n      <th>24 hr~pres_KARB0</th>\n    </tr>\n  </thead>\n  <tbody>\n    <tr>\n      <th>2019-01-01 00:00:00</th>\n      <td>3.9</td>\n      <td>3.9</td>\n      <td>100.0</td>\n      <td>NaN</td>\n      <td>60.0</td>\n      <td>9.4</td>\n      <td>NaN</td>\n      <td>-1.1</td>\n      <td>-2.2</td>\n      <td>92.0</td>\n      <td>0.0</td>\n      <td>350.0</td>\n      <td>11.2</td>\n      <td>1025.4</td>\n    </tr>\n    <tr>\n      <th>2019-01-01 01:00:00</th>\n      <td>4.4</td>\n      <td>4.0</td>\n      <td>97.0</td>\n      <td>0.5</td>\n      <td>NaN</td>\n      <td>0.0</td>\n      <td>996.8</td>\n      <td>-1.1</td>\n      <td>-2.2</td>\n      <td>92.0</td>\n      <td>0.0</td>\n      <td>360.0</td>\n      <td>5.4</td>\n      <td>1026.1</td>\n    </tr>\n    <tr>\n      <th>2019-01-01 02:00:00</th>\n      <td>4.4</td>\n      <td>4.4</td>\n      <td>100.0</td>\n      <td>1.5</td>\n      <td>NaN</td>\n      <td>0.0</td>\n      <td>996.9</td>\n      <td>-1.7</td>\n      <td>-2.3</td>\n      <td>96.0</td>\n      <td>0.0</td>\n      <td>350.0</td>\n      <td>7.6</td>\n      <td>1026.0</td>\n    </tr>\n    <tr>\n      <th>2019-01-01 03:00:00</th>\n      <td>7.8</td>\n      <td>7.2</td>\n      <td>96.0</td>\n      <td>NaN</td>\n      <td>220.0</td>\n      <td>20.5</td>\n      <td>997.3</td>\n      <td>-1.7</td>\n      <td>-2.8</td>\n      <td>92.0</td>\n      <td>0.0</td>\n      <td>10.0</td>\n      <td>7.6</td>\n      <td>1025.8</td>\n    </tr>\n    <tr>\n      <th>2019-01-01 04:00:00</th>\n      <td>6.1</td>\n      <td>5.7</td>\n      <td>97.0</td>\n      <td>NaN</td>\n      <td>260.0</td>\n      <td>29.5</td>\n      <td>999.8</td>\n      <td>-2.2</td>\n      <td>-3.3</td>\n      <td>92.0</td>\n      <td>0.0</td>\n      <td>50.0</td>\n      <td>5.4</td>\n      <td>1025.7</td>\n    </tr>\n  </tbody>\n</table>\n</div>"
     },
     "execution_count": 20,
     "metadata": {},
     "output_type": "execute_result"
    }
   ],
   "source": [
    "ann_arbor_cols = [col for col in pivoted_df.columns if \"KARB0\" in col]\n",
    "ann_arbor_df = pivoted_df[ann_arbor_cols].copy()\n",
    "for col in ann_arbor_df.columns:\n",
    "    ann_arbor_df[f'24 hr~{col}'] = ann_arbor_df[col].shift(-24)\n",
    "ann_arbor_df = ann_arbor_df.rename_axis(None, axis = 0)\n",
    "ann_arbor_df.head(5)"
   ]
  },
  {
   "cell_type": "markdown",
   "metadata": {},
   "source": [
    "### We need to merge the new features with the main dataframe so we have not only the Ann Arbor measurements, but also all measurements from surrounding stations."
   ]
  },
  {
   "cell_type": "code",
   "execution_count": 21,
   "metadata": {
    "pycharm": {
     "name": "#%%\n"
    }
   },
   "outputs": [
    {
     "name": "stdout",
     "output_type": "stream",
     "text": [
      "(32467, 16289)\n"
     ]
    },
    {
     "data": {
      "text/plain": "prcp_KMHN0          31731\ndwpt_KMHN0          31722\nrhum_KMHN0          31722\npres_KMHN0          31722\nwspd_KMHN0          31722\n                    ...  \nwdir_72768              0\nwdir_74480              0\nwdir_74486              0\nwdir_74490              0\n24 hr~pres_KARB0        0\nLength: 16289, dtype: int64"
     },
     "execution_count": 21,
     "metadata": {},
     "output_type": "execute_result"
    }
   ],
   "source": [
    "pred_df = pd.merge(pivoted_df,ann_arbor_df, left_index=True, right_index=True)\n",
    "pred_df = pred_df[pred_df['24 hr~temp_KARB0'].notna()]\n",
    "print(pred_df.shape)\n",
    "pred_df = pred_df.interpolate(method ='linear', limit_direction ='forward')\n",
    "\n",
    "pred_df.isna().sum(axis=0).sort_values(ascending=False)\n",
    "# pd.cut(s, 10)\n"
   ]
  },
  {
   "cell_type": "markdown",
   "metadata": {},
   "source": [
    "### There are a lot of features with excessive amounts of null values to get rid of. Dropping any with more than 500 missing values still leaves a sufficient number of features for predicting"
   ]
  },
  {
   "cell_type": "code",
   "execution_count": 22,
   "metadata": {
    "pycharm": {
     "name": "#%%\n"
    }
   },
   "outputs": [
    {
     "data": {
      "text/plain": "                     temp_69019  temp_71030  temp_71040  temp_71063  \\\ntime                                                                  \n2019-01-21 22:00:00        18.0  -12.266667       -17.3       -18.0   \n2019-01-21 23:00:00        17.0  -12.633333       -19.1       -17.6   \n2019-01-22 00:00:00        16.0  -13.000000       -20.3       -18.5   \n2019-01-22 01:00:00        15.0  -13.266667       -21.2       -18.7   \n2019-01-22 02:00:00        14.0  -13.533333       -21.5       -19.1   \n...                         ...         ...         ...         ...   \n2022-09-30 19:00:00        32.0   14.700000        19.0        17.1   \n2022-09-30 20:00:00        32.1   13.000000        18.2        17.7   \n2022-09-30 21:00:00        31.9   11.700000        16.8        17.9   \n2022-09-30 22:00:00        32.0   10.400000        14.9        17.3   \n2022-09-30 23:00:00        30.0    8.900000        10.3        14.0   \n\n                     temp_71131  temp_71135  temp_71137  temp_71139  \\\ntime                                                                  \n2019-01-21 22:00:00        -4.1        -6.4        -3.8        -5.8   \n2019-01-21 23:00:00        -4.7        -5.5        -3.8        -6.1   \n2019-01-22 00:00:00        -5.1        -6.6        -5.7        -6.3   \n2019-01-22 01:00:00        -5.1        -6.5        -4.5        -6.3   \n2019-01-22 02:00:00        -5.3        -6.8        -5.2        -6.1   \n...                         ...         ...         ...         ...   \n2022-09-30 19:00:00        20.5        21.3        24.2        18.8   \n2022-09-30 20:00:00        21.1        22.0        24.9        18.9   \n2022-09-30 21:00:00        21.6        22.6        25.0        18.6   \n2022-09-30 22:00:00        22.3        21.4        25.7        18.7   \n2022-09-30 23:00:00        21.9        19.8        24.4        17.9   \n\n                     temp_71140  temp_71147  ...  wdir_KARB0_y  wspd_KARB0_y  \\\ntime                                         ...                               \n2019-01-21 22:00:00       -13.0       -11.3  ...         200.0           7.6   \n2019-01-21 23:00:00       -14.0       -11.8  ...         180.0          13.0   \n2019-01-22 00:00:00       -14.3       -11.9  ...         150.0           9.4   \n2019-01-22 01:00:00       -16.0       -13.2  ...         150.0           7.6   \n2019-01-22 02:00:00       -19.0       -12.6  ...         130.0           5.4   \n...                         ...         ...  ...           ...           ...   \n2022-09-30 19:00:00        17.9        19.7  ...         100.0           9.4   \n2022-09-30 20:00:00        19.1        21.2  ...         100.0           9.4   \n2022-09-30 21:00:00        18.7        20.1  ...          60.0          15.0   \n2022-09-30 22:00:00        18.3        21.2  ...          40.0          11.2   \n2022-09-30 23:00:00        16.6        19.9  ...          50.0           7.0   \n\n                     pres_KARB0_y  24 hr~temp_KARB0  24 hr~dwpt_KARB0  \\\ntime                                                                    \n2019-01-21 22:00:00        1036.4              -4.4             -10.0   \n2019-01-21 23:00:00        1037.4              -3.9              -8.4   \n2019-01-22 00:00:00        1037.2              -2.8              -6.6   \n2019-01-22 01:00:00        1037.1              -2.8              -4.4   \n2019-01-22 02:00:00        1036.6              -2.8              -3.3   \n...                           ...               ...               ...   \n2022-09-30 19:00:00        1024.3              21.1               3.3   \n2022-09-30 20:00:00        1023.5              21.1               5.4   \n2022-09-30 21:00:00        1023.0              20.0               6.7   \n2022-09-30 22:00:00        1022.5              18.0               6.8   \n2022-09-30 23:00:00        1022.0              17.0               7.1   \n\n                     24 hr~rhum_KARB0  24 hr~prcp_KARB0  24 hr~wdir_KARB0  \\\ntime                                                                        \n2019-01-21 22:00:00              65.0             0.150             120.0   \n2019-01-21 23:00:00              71.0             0.225             150.0   \n2019-01-22 00:00:00              75.0             0.300             160.0   \n2019-01-22 01:00:00              89.0             0.800             140.0   \n2019-01-22 02:00:00              96.0             0.500             150.0   \n...                               ...               ...               ...   \n2022-09-30 19:00:00              31.0             0.000              20.0   \n2022-09-30 20:00:00              36.0             0.000              20.0   \n2022-09-30 21:00:00              42.0             0.000              10.0   \n2022-09-30 22:00:00              48.0             0.000              10.0   \n2022-09-30 23:00:00              52.0             0.000              20.0   \n\n                     24 hr~wspd_KARB0  24 hr~pres_KARB0  \ntime                                                     \n2019-01-21 22:00:00              11.2            1021.4  \n2019-01-21 23:00:00              13.0            1020.8  \n2019-01-22 00:00:00               9.4            1020.7  \n2019-01-22 01:00:00               9.4            1020.6  \n2019-01-22 02:00:00               7.6            1019.7  \n...                               ...               ...  \n2022-09-30 19:00:00              24.0            1020.2  \n2022-09-30 20:00:00              20.0            1020.2  \n2022-09-30 21:00:00              24.0            1020.0  \n2022-09-30 22:00:00              20.0            1020.0  \n2022-09-30 23:00:00              17.0            1021.0  \n\n[31967 rows x 10445 columns]",
      "text/html": "<div>\n<style scoped>\n    .dataframe tbody tr th:only-of-type {\n        vertical-align: middle;\n    }\n\n    .dataframe tbody tr th {\n        vertical-align: top;\n    }\n\n    .dataframe thead th {\n        text-align: right;\n    }\n</style>\n<table border=\"1\" class=\"dataframe\">\n  <thead>\n    <tr style=\"text-align: right;\">\n      <th></th>\n      <th>temp_69019</th>\n      <th>temp_71030</th>\n      <th>temp_71040</th>\n      <th>temp_71063</th>\n      <th>temp_71131</th>\n      <th>temp_71135</th>\n      <th>temp_71137</th>\n      <th>temp_71139</th>\n      <th>temp_71140</th>\n      <th>temp_71147</th>\n      <th>...</th>\n      <th>wdir_KARB0_y</th>\n      <th>wspd_KARB0_y</th>\n      <th>pres_KARB0_y</th>\n      <th>24 hr~temp_KARB0</th>\n      <th>24 hr~dwpt_KARB0</th>\n      <th>24 hr~rhum_KARB0</th>\n      <th>24 hr~prcp_KARB0</th>\n      <th>24 hr~wdir_KARB0</th>\n      <th>24 hr~wspd_KARB0</th>\n      <th>24 hr~pres_KARB0</th>\n    </tr>\n    <tr>\n      <th>time</th>\n      <th></th>\n      <th></th>\n      <th></th>\n      <th></th>\n      <th></th>\n      <th></th>\n      <th></th>\n      <th></th>\n      <th></th>\n      <th></th>\n      <th></th>\n      <th></th>\n      <th></th>\n      <th></th>\n      <th></th>\n      <th></th>\n      <th></th>\n      <th></th>\n      <th></th>\n      <th></th>\n      <th></th>\n    </tr>\n  </thead>\n  <tbody>\n    <tr>\n      <th>2019-01-21 22:00:00</th>\n      <td>18.0</td>\n      <td>-12.266667</td>\n      <td>-17.3</td>\n      <td>-18.0</td>\n      <td>-4.1</td>\n      <td>-6.4</td>\n      <td>-3.8</td>\n      <td>-5.8</td>\n      <td>-13.0</td>\n      <td>-11.3</td>\n      <td>...</td>\n      <td>200.0</td>\n      <td>7.6</td>\n      <td>1036.4</td>\n      <td>-4.4</td>\n      <td>-10.0</td>\n      <td>65.0</td>\n      <td>0.150</td>\n      <td>120.0</td>\n      <td>11.2</td>\n      <td>1021.4</td>\n    </tr>\n    <tr>\n      <th>2019-01-21 23:00:00</th>\n      <td>17.0</td>\n      <td>-12.633333</td>\n      <td>-19.1</td>\n      <td>-17.6</td>\n      <td>-4.7</td>\n      <td>-5.5</td>\n      <td>-3.8</td>\n      <td>-6.1</td>\n      <td>-14.0</td>\n      <td>-11.8</td>\n      <td>...</td>\n      <td>180.0</td>\n      <td>13.0</td>\n      <td>1037.4</td>\n      <td>-3.9</td>\n      <td>-8.4</td>\n      <td>71.0</td>\n      <td>0.225</td>\n      <td>150.0</td>\n      <td>13.0</td>\n      <td>1020.8</td>\n    </tr>\n    <tr>\n      <th>2019-01-22 00:00:00</th>\n      <td>16.0</td>\n      <td>-13.000000</td>\n      <td>-20.3</td>\n      <td>-18.5</td>\n      <td>-5.1</td>\n      <td>-6.6</td>\n      <td>-5.7</td>\n      <td>-6.3</td>\n      <td>-14.3</td>\n      <td>-11.9</td>\n      <td>...</td>\n      <td>150.0</td>\n      <td>9.4</td>\n      <td>1037.2</td>\n      <td>-2.8</td>\n      <td>-6.6</td>\n      <td>75.0</td>\n      <td>0.300</td>\n      <td>160.0</td>\n      <td>9.4</td>\n      <td>1020.7</td>\n    </tr>\n    <tr>\n      <th>2019-01-22 01:00:00</th>\n      <td>15.0</td>\n      <td>-13.266667</td>\n      <td>-21.2</td>\n      <td>-18.7</td>\n      <td>-5.1</td>\n      <td>-6.5</td>\n      <td>-4.5</td>\n      <td>-6.3</td>\n      <td>-16.0</td>\n      <td>-13.2</td>\n      <td>...</td>\n      <td>150.0</td>\n      <td>7.6</td>\n      <td>1037.1</td>\n      <td>-2.8</td>\n      <td>-4.4</td>\n      <td>89.0</td>\n      <td>0.800</td>\n      <td>140.0</td>\n      <td>9.4</td>\n      <td>1020.6</td>\n    </tr>\n    <tr>\n      <th>2019-01-22 02:00:00</th>\n      <td>14.0</td>\n      <td>-13.533333</td>\n      <td>-21.5</td>\n      <td>-19.1</td>\n      <td>-5.3</td>\n      <td>-6.8</td>\n      <td>-5.2</td>\n      <td>-6.1</td>\n      <td>-19.0</td>\n      <td>-12.6</td>\n      <td>...</td>\n      <td>130.0</td>\n      <td>5.4</td>\n      <td>1036.6</td>\n      <td>-2.8</td>\n      <td>-3.3</td>\n      <td>96.0</td>\n      <td>0.500</td>\n      <td>150.0</td>\n      <td>7.6</td>\n      <td>1019.7</td>\n    </tr>\n    <tr>\n      <th>...</th>\n      <td>...</td>\n      <td>...</td>\n      <td>...</td>\n      <td>...</td>\n      <td>...</td>\n      <td>...</td>\n      <td>...</td>\n      <td>...</td>\n      <td>...</td>\n      <td>...</td>\n      <td>...</td>\n      <td>...</td>\n      <td>...</td>\n      <td>...</td>\n      <td>...</td>\n      <td>...</td>\n      <td>...</td>\n      <td>...</td>\n      <td>...</td>\n      <td>...</td>\n      <td>...</td>\n    </tr>\n    <tr>\n      <th>2022-09-30 19:00:00</th>\n      <td>32.0</td>\n      <td>14.700000</td>\n      <td>19.0</td>\n      <td>17.1</td>\n      <td>20.5</td>\n      <td>21.3</td>\n      <td>24.2</td>\n      <td>18.8</td>\n      <td>17.9</td>\n      <td>19.7</td>\n      <td>...</td>\n      <td>100.0</td>\n      <td>9.4</td>\n      <td>1024.3</td>\n      <td>21.1</td>\n      <td>3.3</td>\n      <td>31.0</td>\n      <td>0.000</td>\n      <td>20.0</td>\n      <td>24.0</td>\n      <td>1020.2</td>\n    </tr>\n    <tr>\n      <th>2022-09-30 20:00:00</th>\n      <td>32.1</td>\n      <td>13.000000</td>\n      <td>18.2</td>\n      <td>17.7</td>\n      <td>21.1</td>\n      <td>22.0</td>\n      <td>24.9</td>\n      <td>18.9</td>\n      <td>19.1</td>\n      <td>21.2</td>\n      <td>...</td>\n      <td>100.0</td>\n      <td>9.4</td>\n      <td>1023.5</td>\n      <td>21.1</td>\n      <td>5.4</td>\n      <td>36.0</td>\n      <td>0.000</td>\n      <td>20.0</td>\n      <td>20.0</td>\n      <td>1020.2</td>\n    </tr>\n    <tr>\n      <th>2022-09-30 21:00:00</th>\n      <td>31.9</td>\n      <td>11.700000</td>\n      <td>16.8</td>\n      <td>17.9</td>\n      <td>21.6</td>\n      <td>22.6</td>\n      <td>25.0</td>\n      <td>18.6</td>\n      <td>18.7</td>\n      <td>20.1</td>\n      <td>...</td>\n      <td>60.0</td>\n      <td>15.0</td>\n      <td>1023.0</td>\n      <td>20.0</td>\n      <td>6.7</td>\n      <td>42.0</td>\n      <td>0.000</td>\n      <td>10.0</td>\n      <td>24.0</td>\n      <td>1020.0</td>\n    </tr>\n    <tr>\n      <th>2022-09-30 22:00:00</th>\n      <td>32.0</td>\n      <td>10.400000</td>\n      <td>14.9</td>\n      <td>17.3</td>\n      <td>22.3</td>\n      <td>21.4</td>\n      <td>25.7</td>\n      <td>18.7</td>\n      <td>18.3</td>\n      <td>21.2</td>\n      <td>...</td>\n      <td>40.0</td>\n      <td>11.2</td>\n      <td>1022.5</td>\n      <td>18.0</td>\n      <td>6.8</td>\n      <td>48.0</td>\n      <td>0.000</td>\n      <td>10.0</td>\n      <td>20.0</td>\n      <td>1020.0</td>\n    </tr>\n    <tr>\n      <th>2022-09-30 23:00:00</th>\n      <td>30.0</td>\n      <td>8.900000</td>\n      <td>10.3</td>\n      <td>14.0</td>\n      <td>21.9</td>\n      <td>19.8</td>\n      <td>24.4</td>\n      <td>17.9</td>\n      <td>16.6</td>\n      <td>19.9</td>\n      <td>...</td>\n      <td>50.0</td>\n      <td>7.0</td>\n      <td>1022.0</td>\n      <td>17.0</td>\n      <td>7.1</td>\n      <td>52.0</td>\n      <td>0.000</td>\n      <td>20.0</td>\n      <td>17.0</td>\n      <td>1021.0</td>\n    </tr>\n  </tbody>\n</table>\n<p>31967 rows × 10445 columns</p>\n</div>"
     },
     "execution_count": 22,
     "metadata": {},
     "output_type": "execute_result"
    }
   ],
   "source": [
    "to_drop = []\n",
    "for col in pred_df.columns:\n",
    "    num = pred_df[col].isna().sum()\n",
    "    if num > 500:\n",
    "        # print(f\"{col} has {num} missing values\")\n",
    "        to_drop.append(col)\n",
    "pred_df.drop(columns=to_drop,inplace=True)\n",
    "pred_df.dropna(inplace=True)\n",
    "pred_df"
   ]
  },
  {
   "cell_type": "code",
   "execution_count": 23,
   "metadata": {},
   "outputs": [
    {
     "data": {
      "text/plain": "                     temp_69019  temp_71030  temp_71040  temp_71063  \\\ntime                                                                  \n2022-09-01 01:00:00        22.3        16.3        14.5        15.5   \n2022-09-01 02:00:00        22.0        16.7        13.8        14.2   \n2022-09-01 03:00:00        21.7        16.5        11.8        14.9   \n2022-09-01 04:00:00        21.0        15.9        11.8        15.1   \n2022-09-01 05:00:00        21.3        15.1        12.0        14.0   \n...                         ...         ...         ...         ...   \n2022-09-30 19:00:00        32.0        14.7        19.0        17.1   \n2022-09-30 20:00:00        32.1        13.0        18.2        17.7   \n2022-09-30 21:00:00        31.9        11.7        16.8        17.9   \n2022-09-30 22:00:00        32.0        10.4        14.9        17.3   \n2022-09-30 23:00:00        30.0         8.9        10.3        14.0   \n\n                     temp_71131  temp_71135  temp_71137  temp_71139  \\\ntime                                                                  \n2022-09-01 01:00:00        30.8        31.2        33.0        28.1   \n2022-09-01 02:00:00        25.2        27.3        26.7        24.3   \n2022-09-01 03:00:00        23.0        26.0        22.0        21.4   \n2022-09-01 04:00:00        21.4        23.7        18.6        21.2   \n2022-09-01 05:00:00        20.5        22.8        18.1        20.7   \n...                         ...         ...         ...         ...   \n2022-09-30 19:00:00        20.5        21.3        24.2        18.8   \n2022-09-30 20:00:00        21.1        22.0        24.9        18.9   \n2022-09-30 21:00:00        21.6        22.6        25.0        18.6   \n2022-09-30 22:00:00        22.3        21.4        25.7        18.7   \n2022-09-30 23:00:00        21.9        19.8        24.4        17.9   \n\n                     temp_71140  temp_71147  ...  wdir_KARB0_y  wspd_KARB0_y  \\\ntime                                         ...                               \n2022-09-01 01:00:00        23.2        25.1  ...         280.0          11.2   \n2022-09-01 02:00:00        20.3        20.3  ...         280.0          11.2   \n2022-09-01 03:00:00        17.1        19.2  ...         270.0           9.4   \n2022-09-01 04:00:00        15.2        17.8  ...         260.0           9.4   \n2022-09-01 05:00:00        16.3        16.8  ...         250.0          11.2   \n...                         ...         ...  ...           ...           ...   \n2022-09-30 19:00:00        17.9        19.7  ...         100.0           9.4   \n2022-09-30 20:00:00        19.1        21.2  ...         100.0           9.4   \n2022-09-30 21:00:00        18.7        20.1  ...          60.0          15.0   \n2022-09-30 22:00:00        18.3        21.2  ...          40.0          11.2   \n2022-09-30 23:00:00        16.6        19.9  ...          50.0           7.0   \n\n                     pres_KARB0_y  24 hr~temp_KARB0  24 hr~dwpt_KARB0  \\\ntime                                                                    \n2022-09-01 01:00:00        1013.7              18.9              15.6   \n2022-09-01 02:00:00        1014.1              17.2              15.0   \n2022-09-01 03:00:00        1014.3              16.7              15.1   \n2022-09-01 04:00:00        1014.2              14.4              13.3   \n2022-09-01 05:00:00        1014.4              14.4              13.3   \n...                           ...               ...               ...   \n2022-09-30 19:00:00        1024.3              21.1               3.3   \n2022-09-30 20:00:00        1023.5              21.1               5.4   \n2022-09-30 21:00:00        1023.0              20.0               6.7   \n2022-09-30 22:00:00        1022.5              18.0               6.8   \n2022-09-30 23:00:00        1022.0              17.0               7.1   \n\n                     24 hr~rhum_KARB0  24 hr~prcp_KARB0  24 hr~wdir_KARB0  \\\ntime                                                                        \n2022-09-01 01:00:00              81.0               0.0             190.0   \n2022-09-01 02:00:00              87.0               0.0               0.0   \n2022-09-01 03:00:00              90.0               0.0               0.0   \n2022-09-01 04:00:00              93.0               0.0               0.0   \n2022-09-01 05:00:00              93.0               0.0               0.0   \n...                               ...               ...               ...   \n2022-09-30 19:00:00              31.0               0.0              20.0   \n2022-09-30 20:00:00              36.0               0.0              20.0   \n2022-09-30 21:00:00              42.0               0.0              10.0   \n2022-09-30 22:00:00              48.0               0.0              10.0   \n2022-09-30 23:00:00              52.0               0.0              20.0   \n\n                     24 hr~wspd_KARB0  24 hr~pres_KARB0  \ntime                                                     \n2022-09-01 01:00:00               5.4            1017.2  \n2022-09-01 02:00:00               0.0            1017.6  \n2022-09-01 03:00:00               0.0            1018.0  \n2022-09-01 04:00:00               0.0            1018.1  \n2022-09-01 05:00:00               0.0            1018.0  \n...                               ...               ...  \n2022-09-30 19:00:00              24.0            1020.2  \n2022-09-30 20:00:00              20.0            1020.2  \n2022-09-30 21:00:00              24.0            1020.0  \n2022-09-30 22:00:00              20.0            1020.0  \n2022-09-30 23:00:00              17.0            1021.0  \n\n[719 rows x 10445 columns]",
      "text/html": "<div>\n<style scoped>\n    .dataframe tbody tr th:only-of-type {\n        vertical-align: middle;\n    }\n\n    .dataframe tbody tr th {\n        vertical-align: top;\n    }\n\n    .dataframe thead th {\n        text-align: right;\n    }\n</style>\n<table border=\"1\" class=\"dataframe\">\n  <thead>\n    <tr style=\"text-align: right;\">\n      <th></th>\n      <th>temp_69019</th>\n      <th>temp_71030</th>\n      <th>temp_71040</th>\n      <th>temp_71063</th>\n      <th>temp_71131</th>\n      <th>temp_71135</th>\n      <th>temp_71137</th>\n      <th>temp_71139</th>\n      <th>temp_71140</th>\n      <th>temp_71147</th>\n      <th>...</th>\n      <th>wdir_KARB0_y</th>\n      <th>wspd_KARB0_y</th>\n      <th>pres_KARB0_y</th>\n      <th>24 hr~temp_KARB0</th>\n      <th>24 hr~dwpt_KARB0</th>\n      <th>24 hr~rhum_KARB0</th>\n      <th>24 hr~prcp_KARB0</th>\n      <th>24 hr~wdir_KARB0</th>\n      <th>24 hr~wspd_KARB0</th>\n      <th>24 hr~pres_KARB0</th>\n    </tr>\n    <tr>\n      <th>time</th>\n      <th></th>\n      <th></th>\n      <th></th>\n      <th></th>\n      <th></th>\n      <th></th>\n      <th></th>\n      <th></th>\n      <th></th>\n      <th></th>\n      <th></th>\n      <th></th>\n      <th></th>\n      <th></th>\n      <th></th>\n      <th></th>\n      <th></th>\n      <th></th>\n      <th></th>\n      <th></th>\n      <th></th>\n    </tr>\n  </thead>\n  <tbody>\n    <tr>\n      <th>2022-09-01 01:00:00</th>\n      <td>22.3</td>\n      <td>16.3</td>\n      <td>14.5</td>\n      <td>15.5</td>\n      <td>30.8</td>\n      <td>31.2</td>\n      <td>33.0</td>\n      <td>28.1</td>\n      <td>23.2</td>\n      <td>25.1</td>\n      <td>...</td>\n      <td>280.0</td>\n      <td>11.2</td>\n      <td>1013.7</td>\n      <td>18.9</td>\n      <td>15.6</td>\n      <td>81.0</td>\n      <td>0.0</td>\n      <td>190.0</td>\n      <td>5.4</td>\n      <td>1017.2</td>\n    </tr>\n    <tr>\n      <th>2022-09-01 02:00:00</th>\n      <td>22.0</td>\n      <td>16.7</td>\n      <td>13.8</td>\n      <td>14.2</td>\n      <td>25.2</td>\n      <td>27.3</td>\n      <td>26.7</td>\n      <td>24.3</td>\n      <td>20.3</td>\n      <td>20.3</td>\n      <td>...</td>\n      <td>280.0</td>\n      <td>11.2</td>\n      <td>1014.1</td>\n      <td>17.2</td>\n      <td>15.0</td>\n      <td>87.0</td>\n      <td>0.0</td>\n      <td>0.0</td>\n      <td>0.0</td>\n      <td>1017.6</td>\n    </tr>\n    <tr>\n      <th>2022-09-01 03:00:00</th>\n      <td>21.7</td>\n      <td>16.5</td>\n      <td>11.8</td>\n      <td>14.9</td>\n      <td>23.0</td>\n      <td>26.0</td>\n      <td>22.0</td>\n      <td>21.4</td>\n      <td>17.1</td>\n      <td>19.2</td>\n      <td>...</td>\n      <td>270.0</td>\n      <td>9.4</td>\n      <td>1014.3</td>\n      <td>16.7</td>\n      <td>15.1</td>\n      <td>90.0</td>\n      <td>0.0</td>\n      <td>0.0</td>\n      <td>0.0</td>\n      <td>1018.0</td>\n    </tr>\n    <tr>\n      <th>2022-09-01 04:00:00</th>\n      <td>21.0</td>\n      <td>15.9</td>\n      <td>11.8</td>\n      <td>15.1</td>\n      <td>21.4</td>\n      <td>23.7</td>\n      <td>18.6</td>\n      <td>21.2</td>\n      <td>15.2</td>\n      <td>17.8</td>\n      <td>...</td>\n      <td>260.0</td>\n      <td>9.4</td>\n      <td>1014.2</td>\n      <td>14.4</td>\n      <td>13.3</td>\n      <td>93.0</td>\n      <td>0.0</td>\n      <td>0.0</td>\n      <td>0.0</td>\n      <td>1018.1</td>\n    </tr>\n    <tr>\n      <th>2022-09-01 05:00:00</th>\n      <td>21.3</td>\n      <td>15.1</td>\n      <td>12.0</td>\n      <td>14.0</td>\n      <td>20.5</td>\n      <td>22.8</td>\n      <td>18.1</td>\n      <td>20.7</td>\n      <td>16.3</td>\n      <td>16.8</td>\n      <td>...</td>\n      <td>250.0</td>\n      <td>11.2</td>\n      <td>1014.4</td>\n      <td>14.4</td>\n      <td>13.3</td>\n      <td>93.0</td>\n      <td>0.0</td>\n      <td>0.0</td>\n      <td>0.0</td>\n      <td>1018.0</td>\n    </tr>\n    <tr>\n      <th>...</th>\n      <td>...</td>\n      <td>...</td>\n      <td>...</td>\n      <td>...</td>\n      <td>...</td>\n      <td>...</td>\n      <td>...</td>\n      <td>...</td>\n      <td>...</td>\n      <td>...</td>\n      <td>...</td>\n      <td>...</td>\n      <td>...</td>\n      <td>...</td>\n      <td>...</td>\n      <td>...</td>\n      <td>...</td>\n      <td>...</td>\n      <td>...</td>\n      <td>...</td>\n      <td>...</td>\n    </tr>\n    <tr>\n      <th>2022-09-30 19:00:00</th>\n      <td>32.0</td>\n      <td>14.7</td>\n      <td>19.0</td>\n      <td>17.1</td>\n      <td>20.5</td>\n      <td>21.3</td>\n      <td>24.2</td>\n      <td>18.8</td>\n      <td>17.9</td>\n      <td>19.7</td>\n      <td>...</td>\n      <td>100.0</td>\n      <td>9.4</td>\n      <td>1024.3</td>\n      <td>21.1</td>\n      <td>3.3</td>\n      <td>31.0</td>\n      <td>0.0</td>\n      <td>20.0</td>\n      <td>24.0</td>\n      <td>1020.2</td>\n    </tr>\n    <tr>\n      <th>2022-09-30 20:00:00</th>\n      <td>32.1</td>\n      <td>13.0</td>\n      <td>18.2</td>\n      <td>17.7</td>\n      <td>21.1</td>\n      <td>22.0</td>\n      <td>24.9</td>\n      <td>18.9</td>\n      <td>19.1</td>\n      <td>21.2</td>\n      <td>...</td>\n      <td>100.0</td>\n      <td>9.4</td>\n      <td>1023.5</td>\n      <td>21.1</td>\n      <td>5.4</td>\n      <td>36.0</td>\n      <td>0.0</td>\n      <td>20.0</td>\n      <td>20.0</td>\n      <td>1020.2</td>\n    </tr>\n    <tr>\n      <th>2022-09-30 21:00:00</th>\n      <td>31.9</td>\n      <td>11.7</td>\n      <td>16.8</td>\n      <td>17.9</td>\n      <td>21.6</td>\n      <td>22.6</td>\n      <td>25.0</td>\n      <td>18.6</td>\n      <td>18.7</td>\n      <td>20.1</td>\n      <td>...</td>\n      <td>60.0</td>\n      <td>15.0</td>\n      <td>1023.0</td>\n      <td>20.0</td>\n      <td>6.7</td>\n      <td>42.0</td>\n      <td>0.0</td>\n      <td>10.0</td>\n      <td>24.0</td>\n      <td>1020.0</td>\n    </tr>\n    <tr>\n      <th>2022-09-30 22:00:00</th>\n      <td>32.0</td>\n      <td>10.4</td>\n      <td>14.9</td>\n      <td>17.3</td>\n      <td>22.3</td>\n      <td>21.4</td>\n      <td>25.7</td>\n      <td>18.7</td>\n      <td>18.3</td>\n      <td>21.2</td>\n      <td>...</td>\n      <td>40.0</td>\n      <td>11.2</td>\n      <td>1022.5</td>\n      <td>18.0</td>\n      <td>6.8</td>\n      <td>48.0</td>\n      <td>0.0</td>\n      <td>10.0</td>\n      <td>20.0</td>\n      <td>1020.0</td>\n    </tr>\n    <tr>\n      <th>2022-09-30 23:00:00</th>\n      <td>30.0</td>\n      <td>8.9</td>\n      <td>10.3</td>\n      <td>14.0</td>\n      <td>21.9</td>\n      <td>19.8</td>\n      <td>24.4</td>\n      <td>17.9</td>\n      <td>16.6</td>\n      <td>19.9</td>\n      <td>...</td>\n      <td>50.0</td>\n      <td>7.0</td>\n      <td>1022.0</td>\n      <td>17.0</td>\n      <td>7.1</td>\n      <td>52.0</td>\n      <td>0.0</td>\n      <td>20.0</td>\n      <td>17.0</td>\n      <td>1021.0</td>\n    </tr>\n  </tbody>\n</table>\n<p>719 rows × 10445 columns</p>\n</div>"
     },
     "execution_count": 23,
     "metadata": {},
     "output_type": "execute_result"
    }
   ],
   "source": [
    "pred_df[pred_df.index > '2022-09']"
   ]
  },
  {
   "cell_type": "markdown",
   "metadata": {},
   "source": [
    "### Now our target will be the '-24hr~temp_KARB0' column, and our features to use in our first prediction model will be all of the measurements at every surrounding station 24 hours prior to our target.\n",
    "This cell will run 5 fold cross-validate on our 3 chosen regression models (Extra Trees Regressor, Lasso Regressor, and Tweedie Regressor). This will show how the average accuracy scores compare across these models on this data set."
   ]
  },
  {
   "cell_type": "code",
   "execution_count": null,
   "metadata": {
    "pycharm": {
     "name": "#%%\n",
     "is_executing": true
    }
   },
   "outputs": [
    {
     "name": "stdout",
     "output_type": "stream",
     "text": [
      "Extra Trees Regressor\n"
     ]
    }
   ],
   "source": [
    "# from sklearn.pipeline import make_pipeline\n",
    "# from sklearn.preprocessing import StandardScaler\n",
    "# from sklearn.preprocessing import RobustScaler\n",
    "X_cols = [col for col in pred_df.columns if \"~\" not in col]\n",
    "X = pred_df[X_cols]\n",
    "y = pred_df['24 hr~temp_KARB0']\n",
    "\n",
    "X_train, X_test, y_train, y_test = train_test_split(X, y, random_state=696)\n",
    "xt_reg = ExtraTreesRegressor(random_state=696, n_jobs=6)\n",
    "lasso_reg = linear_model.Lasso(alpha=0.1,max_iter=1500)\n",
    "tw_reg = linear_model.TweedieRegressor(max_iter=250)\n",
    "dummy_reg = DummyRegressor(strategy=\"median\")\n",
    "models = {'Extra Trees Regressor':xt_reg,\n",
    "          'Lasso Regressor':lasso_reg,\n",
    "          'Tweedie Regressor':tw_reg,\n",
    "          'Dummy Regressor':dummy_reg}\n",
    "for key, value in models.items():\n",
    "    # value = make_pipeline(StandardScaler(), value)\n",
    "#     cv_results = cross_validate(value, X_train, y_train, cv=5,n_jobs=6)\n",
    "    print(key)\n",
    "#     print(\"Mean accuracy score: \", end=\"\")\n",
    "#     print(round(cv_results['test_score'].mean(),3), end=\"\")\n",
    "#     print(\", best accuracy score: \", end=\"\")\n",
    "#     print(round(cv_results['test_score'].max(),3), end=\"\")\n",
    "#     print(\", with std dev of: \", end=\"\")\n",
    "#     print(round(cv_results['test_score'].std(),3))\n",
    "#     print(\"Mean training time: \", end=\"\")\n",
    "#     print(round(cv_results['score_time'].mean(),3))\n",
    "#     print(f\"Score on hold out set: {round(value.fit(X_train, y_train).score(X_test, y_test),3)}\")\n",
    "    print(f\"Score on time sensitive hold out set: {round(value.fit(X[:-719], y[:-719]).score(X[-719:], y[-719:]),3)}\")\n",
    "    print(\"**************\")"
   ]
  },
  {
   "cell_type": "markdown",
   "metadata": {},
   "source": [
    "### Examine the feature importances in the best performing model (Extra Trees Regressor)"
   ]
  },
  {
   "cell_type": "code",
   "execution_count": null,
   "metadata": {
    "pycharm": {
     "name": "#%%\n",
     "is_executing": true
    }
   },
   "outputs": [],
   "source": [
    "feature_importance_df = pd.DataFrame([X.columns, xt_reg.feature_importances_]).transpose()\n",
    "feature_importance_df.columns = ['Feature', 'Importance']\n",
    "feature_importance_df.sort_values('Importance',ascending=False,inplace=True)\n",
    "feature_importance_df.to_csv(\"full_basic_features.csv\",index=False)\n",
    "feature_importance_df.head(10)"
   ]
  },
  {
   "cell_type": "code",
   "execution_count": null,
   "metadata": {
    "pycharm": {
     "name": "#%%\n",
     "is_executing": true
    }
   },
   "outputs": [],
   "source": [
    "\n",
    "alt.Chart(feature_importance_df[:5]).mark_bar().encode(\n",
    "    x=alt.X('Importance:Q', axis=alt.Axis(format=\"%\", tickSize=0, labelFontSize=12)),\n",
    "    y=alt.Y(\n",
    "        'Feature:N', sort=list(feature_importance_df[:5].Feature), title=\"\",\n",
    "        axis=alt.Axis(tickSize=0, labelFontSize=12, labelPadding=10)),\n",
    ").properties(\n",
    "    height=200\n",
    ")"
   ]
  },
  {
   "cell_type": "markdown",
   "metadata": {},
   "source": [
    "### Hyper-parameter tuning the Extra Trees Regressor\n",
    "5 fold cross validate looking for the optimized estimators, depth, sample split, and sample leaf parameters. Evaluating the 'best' based on the mean squared error achieved."
   ]
  },
  {
   "cell_type": "code",
   "execution_count": null,
   "metadata": {
    "pycharm": {
     "name": "#%%\n",
     "is_executing": true
    }
   },
   "outputs": [],
   "source": [
    "# %%timeit -r 1 -n 1\n",
    "# space  = [Integer(100,200, name='n_estimators'),\n",
    "#           Integer(1, 50, name='max_depth'),\n",
    "#           Integer(2, 100, name='min_samples_split'),\n",
    "#           Integer(1, 100, name='min_samples_leaf')]\n",
    "\n",
    "# @use_named_args(space)\n",
    "# def objective(**params):\n",
    "#     xt_reg.set_params(**params)\n",
    "\n",
    "#     return -np.mean(cross_val_score(xt_reg, X_train, y_train, cv=5, n_jobs=-1))\n",
    "\n",
    "# res_gp = gp_minimize(objective, space, n_calls=15, random_state=696)\n",
    "\n",
    "# print(f\"Best score: {res_gp.fun}\")\n",
    "# print(\"Best parameters:\")\n",
    "# print(f\" - n-estimators= {res_gp.x[0]}\")\n",
    "# print(f\" - max_depth= {res_gp.x[1]}\")\n",
    "# print(f\" - min_samples_split= {res_gp.x[2]}\")\n",
    "# print(f\" - min_samples_leaf=  {res_gp.x[3]}\")"
   ]
  },
  {
   "cell_type": "markdown",
   "metadata": {},
   "source": [
    "### Visualize the convergence for the above hypertuning"
   ]
  },
  {
   "cell_type": "code",
   "execution_count": null,
   "metadata": {
    "pycharm": {
     "name": "#%%\n",
     "is_executing": true
    }
   },
   "outputs": [],
   "source": [
    "# plot_convergence(res_gp)"
   ]
  },
  {
   "cell_type": "markdown",
   "metadata": {},
   "source": [
    "### Final re-run of the Extra Trees Model with the tuned hyperparameters\n",
    "There is a very minor improvement on the accuracy score, with some pretty significant increases in training time."
   ]
  },
  {
   "cell_type": "code",
   "execution_count": null,
   "metadata": {
    "pycharm": {
     "name": "#%%\n",
     "is_executing": true
    }
   },
   "outputs": [],
   "source": [
    "xt_reg = ExtraTreesRegressor(n_estimators=res_gp.x[0],\n",
    "                             max_depth=res_gp.x[1],\n",
    "                             min_samples_split=res_gp.x[2],\n",
    "                             min_samples_leaf=res_gp.x[3],\n",
    "                             random_state=696,n_jobs=6\n",
    "                            )\n",
    "models = {'Extra Trees Regressor':xt_reg}\n",
    "for key, value in models.items():\n",
    "#     cv_results = cross_validate(value, X_train, y_train, cv=5,n_jobs=-1)\n",
    "    print(key)\n",
    "#     print(\"Mean accuracy score: \", end=\"\")\n",
    "#     print(round(cv_results['test_score'].mean(),3), end=\"\")\n",
    "#     print(\", best accuracy score: \", end=\"\")\n",
    "#     print(round(cv_results['test_score'].max(),3), end=\"\")\n",
    "#     print(\", with std dev of: \", end=\"\")\n",
    "#     print(round(cv_results['test_score'].std(),3))\n",
    "#     print(\"Mean training time: \", end=\"\")\n",
    "#     print(round(cv_results['score_time'].mean(),3))\n",
    "#     print(f\"Score on hold out set: {round(value.fit(X_train, y_train).score(X_test, y_test),3)}\")\n",
    "    print(f\"Score on time sensitive hold out set: {round(value.fit(X[:-719], y[:-719]).score(X[-719:], y[-719:]),3)}\")\n",
    "    print(\"**************\")\n"
   ]
  },
  {
   "cell_type": "markdown",
   "metadata": {},
   "source": [
    "### Unfinished Work"
   ]
  },
  {
   "cell_type": "code",
   "execution_count": null,
   "metadata": {
    "pycharm": {
     "is_executing": true
    }
   },
   "outputs": [],
   "source": [
    "final_df = pd.DataFrame()\n",
    "final_df['Actual'] = y.values\n",
    "final_df['XT-pred'] = xt_reg.predict(X)\n",
    "final_df['Lo-pred'] = lasso_reg.predict(X)\n",
    "final_df['Tw-pred'] = tw_reg.predict(X)\n",
    "final_df['Dum-pred'] = dummy_reg.predict(X)\n",
    "final_df['TimeStamp'] = pred_df.index\n",
    "# final_df = final_df.melt(id_vars='TimeStamp')\n",
    "final_df.to_csv('full_basic_predictions.csv', index=False)"
   ]
  },
  {
   "cell_type": "code",
   "execution_count": null,
   "metadata": {
    "pycharm": {
     "is_executing": true
    }
   },
   "outputs": [],
   "source": []
  }
 ],
 "metadata": {
  "kernelspec": {
   "display_name": "Python 3 (ipykernel)",
   "language": "python",
   "name": "python3"
  },
  "language_info": {
   "codemirror_mode": {
    "name": "ipython",
    "version": 3
   },
   "file_extension": ".py",
   "mimetype": "text/x-python",
   "name": "python",
   "nbconvert_exporter": "python",
   "pygments_lexer": "ipython3",
   "version": "3.9.5"
  }
 },
 "nbformat": 4,
 "nbformat_minor": 4
}