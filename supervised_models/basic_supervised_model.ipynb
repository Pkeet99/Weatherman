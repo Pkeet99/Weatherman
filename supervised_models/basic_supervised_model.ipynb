{
 "cells": [
  {
   "cell_type": "markdown",
   "metadata": {},
   "source": [
    "# Multi-Station Supervised models\n",
    "\n",
    "## General Imports"
   ]
  },
  {
   "cell_type": "code",
   "execution_count": 1,
   "metadata": {
    "tags": []
   },
   "outputs": [
    {
     "name": "stderr",
     "output_type": "stream",
     "text": [
      "Intel(R) Extension for Scikit-learn* enabled (https://github.com/intel/scikit-learn-intelex)\n"
     ]
    }
   ],
   "source": [
    "import os\n",
    "import pandas as pd\n",
    "from sklearn.ensemble import ExtraTreesRegressor\n",
    "from sklearn import linear_model\n",
    "from sklearn.dummy import DummyRegressor\n",
    "import altair as alt\n",
    "from sklearn.model_selection import cross_val_score\n",
    "from skopt.space import Integer\n",
    "from skopt.utils import use_named_args\n",
    "import numpy as np\n",
    "from skopt import gp_minimize\n",
    "from skopt.plots import plot_convergence\n",
    "from sklearn.model_selection import train_test_split\n",
    "from sklearn.model_selection import cross_validate\n",
    "from sklearnex import patch_sklearn\n",
    "patch_sklearn()"
   ]
  },
  {
   "cell_type": "markdown",
   "metadata": {},
   "source": [
    "## Small dataset (2022 only) \n",
    "### Get cleaned data from pickle file "
   ]
  },
  {
   "cell_type": "code",
   "execution_count": 2,
   "metadata": {
    "jupyter": {
     "outputs_hidden": false
    },
    "pycharm": {
     "name": "#%%\n"
    }
   },
   "outputs": [],
   "source": [
    "ROOT_DIR = os.path.realpath(os.path.join(os.getcwd(), '..'))\n",
    "cln_pkl_loc = os.path.join(ROOT_DIR, 'data_cleaning','cleanweathersmall.pkl')"
   ]
  },
  {
   "cell_type": "code",
   "execution_count": 3,
   "metadata": {
    "jupyter": {
     "outputs_hidden": false
    },
    "pycharm": {
     "name": "#%%\n"
    }
   },
   "outputs": [
    {
     "name": "stdout",
     "output_type": "stream",
     "text": [
      "<class 'pandas.core.frame.DataFrame'>\n",
      "RangeIndex: 3765246 entries, 0 to 3765245\n",
      "Data columns (total 9 columns):\n",
      " #   Column   Dtype         \n",
      "---  ------   -----         \n",
      " 0   station  object        \n",
      " 1   time     datetime64[ns]\n",
      " 2   temp     float64       \n",
      " 3   dwpt     float64       \n",
      " 4   rhum     float64       \n",
      " 5   prcp     float64       \n",
      " 6   wdir     float64       \n",
      " 7   wspd     float64       \n",
      " 8   pres     float64       \n",
      "dtypes: datetime64[ns](1), float64(7), object(1)\n",
      "memory usage: 258.5+ MB\n"
     ]
    }
   ],
   "source": [
    "df = pd.read_pickle(cln_pkl_loc)\n",
    "df.info()"
   ]
  },
  {
   "cell_type": "markdown",
   "metadata": {},
   "source": [
    "### Basic data cleaning to build necessary features"
   ]
  },
  {
   "cell_type": "code",
   "execution_count": 6,
   "metadata": {
    "jupyter": {
     "outputs_hidden": false
    },
    "pycharm": {
     "name": "#%%\n"
    }
   },
   "outputs": [
    {
     "data": {
      "text/html": [
       "<div>\n",
       "<style scoped>\n",
       "    .dataframe tbody tr th:only-of-type {\n",
       "        vertical-align: middle;\n",
       "    }\n",
       "\n",
       "    .dataframe tbody tr th {\n",
       "        vertical-align: top;\n",
       "    }\n",
       "\n",
       "    .dataframe thead th {\n",
       "        text-align: right;\n",
       "    }\n",
       "</style>\n",
       "<table border=\"1\" class=\"dataframe\">\n",
       "  <thead>\n",
       "    <tr style=\"text-align: right;\">\n",
       "      <th></th>\n",
       "      <th>temp_0CNUO</th>\n",
       "      <th>temp_0CO7B</th>\n",
       "      <th>temp_0FV1F</th>\n",
       "      <th>temp_1J1PJ</th>\n",
       "      <th>temp_1JWST</th>\n",
       "      <th>temp_20QWH</th>\n",
       "      <th>temp_21O3U</th>\n",
       "      <th>temp_2W8UZ</th>\n",
       "      <th>temp_3S56J</th>\n",
       "      <th>temp_4DUJO</th>\n",
       "      <th>...</th>\n",
       "      <th>pres_W5F5F</th>\n",
       "      <th>pres_X9FED</th>\n",
       "      <th>pres_XM44W</th>\n",
       "      <th>pres_Y59TE</th>\n",
       "      <th>pres_Z7ZOG</th>\n",
       "      <th>pres_ZFZUV</th>\n",
       "      <th>pres_ZNWZW</th>\n",
       "      <th>pres_ZUQJS</th>\n",
       "      <th>pres_ZWC6W</th>\n",
       "      <th>pres_ZYITU</th>\n",
       "    </tr>\n",
       "    <tr>\n",
       "      <th>time</th>\n",
       "      <th></th>\n",
       "      <th></th>\n",
       "      <th></th>\n",
       "      <th></th>\n",
       "      <th></th>\n",
       "      <th></th>\n",
       "      <th></th>\n",
       "      <th></th>\n",
       "      <th></th>\n",
       "      <th></th>\n",
       "      <th></th>\n",
       "      <th></th>\n",
       "      <th></th>\n",
       "      <th></th>\n",
       "      <th></th>\n",
       "      <th></th>\n",
       "      <th></th>\n",
       "      <th></th>\n",
       "      <th></th>\n",
       "      <th></th>\n",
       "      <th></th>\n",
       "    </tr>\n",
       "  </thead>\n",
       "  <tbody>\n",
       "    <tr>\n",
       "      <th>2022-01-01 00:00:00</th>\n",
       "      <td>-25.1</td>\n",
       "      <td>5.0</td>\n",
       "      <td>1.2</td>\n",
       "      <td>-0.9</td>\n",
       "      <td>-6.5</td>\n",
       "      <td>-28.7</td>\n",
       "      <td>-29.0</td>\n",
       "      <td>4.6</td>\n",
       "      <td>-26.5</td>\n",
       "      <td>1.8</td>\n",
       "      <td>...</td>\n",
       "      <td>NaN</td>\n",
       "      <td>NaN</td>\n",
       "      <td>1013.5</td>\n",
       "      <td>NaN</td>\n",
       "      <td>NaN</td>\n",
       "      <td>1023.8</td>\n",
       "      <td>NaN</td>\n",
       "      <td>NaN</td>\n",
       "      <td>1010.8</td>\n",
       "      <td>NaN</td>\n",
       "    </tr>\n",
       "    <tr>\n",
       "      <th>2022-01-01 01:00:00</th>\n",
       "      <td>-25.7</td>\n",
       "      <td>5.1</td>\n",
       "      <td>0.9</td>\n",
       "      <td>-0.6</td>\n",
       "      <td>-7.5</td>\n",
       "      <td>-29.5</td>\n",
       "      <td>-28.9</td>\n",
       "      <td>4.6</td>\n",
       "      <td>-27.3</td>\n",
       "      <td>1.6</td>\n",
       "      <td>...</td>\n",
       "      <td>NaN</td>\n",
       "      <td>NaN</td>\n",
       "      <td>1014.6</td>\n",
       "      <td>NaN</td>\n",
       "      <td>NaN</td>\n",
       "      <td>1024.2</td>\n",
       "      <td>NaN</td>\n",
       "      <td>NaN</td>\n",
       "      <td>1011.8</td>\n",
       "      <td>NaN</td>\n",
       "    </tr>\n",
       "    <tr>\n",
       "      <th>2022-01-01 02:00:00</th>\n",
       "      <td>-26.2</td>\n",
       "      <td>4.2</td>\n",
       "      <td>1.5</td>\n",
       "      <td>-0.8</td>\n",
       "      <td>-8.6</td>\n",
       "      <td>-30.2</td>\n",
       "      <td>-30.1</td>\n",
       "      <td>4.7</td>\n",
       "      <td>-27.9</td>\n",
       "      <td>0.9</td>\n",
       "      <td>...</td>\n",
       "      <td>NaN</td>\n",
       "      <td>NaN</td>\n",
       "      <td>1015.1</td>\n",
       "      <td>NaN</td>\n",
       "      <td>NaN</td>\n",
       "      <td>1024.9</td>\n",
       "      <td>NaN</td>\n",
       "      <td>NaN</td>\n",
       "      <td>1012.7</td>\n",
       "      <td>NaN</td>\n",
       "    </tr>\n",
       "    <tr>\n",
       "      <th>2022-01-01 03:00:00</th>\n",
       "      <td>-26.1</td>\n",
       "      <td>5.5</td>\n",
       "      <td>4.1</td>\n",
       "      <td>-0.9</td>\n",
       "      <td>-9.4</td>\n",
       "      <td>-29.9</td>\n",
       "      <td>-30.1</td>\n",
       "      <td>4.6</td>\n",
       "      <td>-28.1</td>\n",
       "      <td>1.0</td>\n",
       "      <td>...</td>\n",
       "      <td>NaN</td>\n",
       "      <td>NaN</td>\n",
       "      <td>1016.0</td>\n",
       "      <td>NaN</td>\n",
       "      <td>NaN</td>\n",
       "      <td>1025.4</td>\n",
       "      <td>NaN</td>\n",
       "      <td>NaN</td>\n",
       "      <td>1013.6</td>\n",
       "      <td>NaN</td>\n",
       "    </tr>\n",
       "    <tr>\n",
       "      <th>2022-01-01 04:00:00</th>\n",
       "      <td>-26.5</td>\n",
       "      <td>5.9</td>\n",
       "      <td>3.1</td>\n",
       "      <td>-1.2</td>\n",
       "      <td>-10.1</td>\n",
       "      <td>-30.4</td>\n",
       "      <td>-31.4</td>\n",
       "      <td>4.9</td>\n",
       "      <td>-28.6</td>\n",
       "      <td>0.5</td>\n",
       "      <td>...</td>\n",
       "      <td>NaN</td>\n",
       "      <td>NaN</td>\n",
       "      <td>1017.3</td>\n",
       "      <td>NaN</td>\n",
       "      <td>NaN</td>\n",
       "      <td>1025.4</td>\n",
       "      <td>NaN</td>\n",
       "      <td>NaN</td>\n",
       "      <td>1013.9</td>\n",
       "      <td>NaN</td>\n",
       "    </tr>\n",
       "    <tr>\n",
       "      <th>...</th>\n",
       "      <td>...</td>\n",
       "      <td>...</td>\n",
       "      <td>...</td>\n",
       "      <td>...</td>\n",
       "      <td>...</td>\n",
       "      <td>...</td>\n",
       "      <td>...</td>\n",
       "      <td>...</td>\n",
       "      <td>...</td>\n",
       "      <td>...</td>\n",
       "      <td>...</td>\n",
       "      <td>...</td>\n",
       "      <td>...</td>\n",
       "      <td>...</td>\n",
       "      <td>...</td>\n",
       "      <td>...</td>\n",
       "      <td>...</td>\n",
       "      <td>...</td>\n",
       "      <td>...</td>\n",
       "      <td>...</td>\n",
       "      <td>...</td>\n",
       "    </tr>\n",
       "    <tr>\n",
       "      <th>2022-09-22 19:00:00</th>\n",
       "      <td>12.4</td>\n",
       "      <td>17.8</td>\n",
       "      <td>13.7</td>\n",
       "      <td>11.5</td>\n",
       "      <td>10.2</td>\n",
       "      <td>13.5</td>\n",
       "      <td>12.5</td>\n",
       "      <td>15.2</td>\n",
       "      <td>10.8</td>\n",
       "      <td>12.4</td>\n",
       "      <td>...</td>\n",
       "      <td>1022.1</td>\n",
       "      <td>1025.2</td>\n",
       "      <td>1022.6</td>\n",
       "      <td>1025.0</td>\n",
       "      <td>1025.3</td>\n",
       "      <td>1024.5</td>\n",
       "      <td>1025.4</td>\n",
       "      <td>1022.6</td>\n",
       "      <td>1017.8</td>\n",
       "      <td>1016.7</td>\n",
       "    </tr>\n",
       "    <tr>\n",
       "      <th>2022-09-22 20:00:00</th>\n",
       "      <td>13.0</td>\n",
       "      <td>17.0</td>\n",
       "      <td>14.3</td>\n",
       "      <td>12.0</td>\n",
       "      <td>10.4</td>\n",
       "      <td>14.0</td>\n",
       "      <td>12.5</td>\n",
       "      <td>14.8</td>\n",
       "      <td>11.4</td>\n",
       "      <td>11.6</td>\n",
       "      <td>...</td>\n",
       "      <td>1020.3</td>\n",
       "      <td>1024.4</td>\n",
       "      <td>1022.4</td>\n",
       "      <td>1024.0</td>\n",
       "      <td>1024.0</td>\n",
       "      <td>1023.1</td>\n",
       "      <td>1025.0</td>\n",
       "      <td>1022.2</td>\n",
       "      <td>1017.9</td>\n",
       "      <td>1016.0</td>\n",
       "    </tr>\n",
       "    <tr>\n",
       "      <th>2022-09-22 21:00:00</th>\n",
       "      <td>13.2</td>\n",
       "      <td>16.6</td>\n",
       "      <td>13.9</td>\n",
       "      <td>12.4</td>\n",
       "      <td>10.5</td>\n",
       "      <td>14.3</td>\n",
       "      <td>12.4</td>\n",
       "      <td>15.1</td>\n",
       "      <td>11.7</td>\n",
       "      <td>10.8</td>\n",
       "      <td>...</td>\n",
       "      <td>1019.6</td>\n",
       "      <td>1024.2</td>\n",
       "      <td>1022.2</td>\n",
       "      <td>1023.0</td>\n",
       "      <td>1023.7</td>\n",
       "      <td>1022.0</td>\n",
       "      <td>1024.0</td>\n",
       "      <td>1022.4</td>\n",
       "      <td>1018.1</td>\n",
       "      <td>1017.4</td>\n",
       "    </tr>\n",
       "    <tr>\n",
       "      <th>2022-09-22 22:00:00</th>\n",
       "      <td>11.9</td>\n",
       "      <td>16.2</td>\n",
       "      <td>12.4</td>\n",
       "      <td>12.5</td>\n",
       "      <td>9.9</td>\n",
       "      <td>13.5</td>\n",
       "      <td>12.7</td>\n",
       "      <td>14.4</td>\n",
       "      <td>11.8</td>\n",
       "      <td>9.9</td>\n",
       "      <td>...</td>\n",
       "      <td>1018.5</td>\n",
       "      <td>1023.3</td>\n",
       "      <td>1021.9</td>\n",
       "      <td>1023.0</td>\n",
       "      <td>1023.1</td>\n",
       "      <td>1021.1</td>\n",
       "      <td>1023.0</td>\n",
       "      <td>1022.3</td>\n",
       "      <td>1018.4</td>\n",
       "      <td>1017.8</td>\n",
       "    </tr>\n",
       "    <tr>\n",
       "      <th>2022-09-22 23:00:00</th>\n",
       "      <td>11.3</td>\n",
       "      <td>15.9</td>\n",
       "      <td>11.5</td>\n",
       "      <td>11.6</td>\n",
       "      <td>7.2</td>\n",
       "      <td>12.8</td>\n",
       "      <td>12.0</td>\n",
       "      <td>13.5</td>\n",
       "      <td>10.4</td>\n",
       "      <td>8.8</td>\n",
       "      <td>...</td>\n",
       "      <td>1017.1</td>\n",
       "      <td>1022.5</td>\n",
       "      <td>1021.8</td>\n",
       "      <td>1022.0</td>\n",
       "      <td>1022.6</td>\n",
       "      <td>1020.3</td>\n",
       "      <td>1023.0</td>\n",
       "      <td>1022.1</td>\n",
       "      <td>1018.6</td>\n",
       "      <td>1018.0</td>\n",
       "    </tr>\n",
       "  </tbody>\n",
       "</table>\n",
       "<p>6360 rows × 4249 columns</p>\n",
       "</div>"
      ],
      "text/plain": [
       "                     temp_0CNUO  temp_0CO7B  temp_0FV1F  temp_1J1PJ  \\\n",
       "time                                                                  \n",
       "2022-01-01 00:00:00       -25.1         5.0         1.2        -0.9   \n",
       "2022-01-01 01:00:00       -25.7         5.1         0.9        -0.6   \n",
       "2022-01-01 02:00:00       -26.2         4.2         1.5        -0.8   \n",
       "2022-01-01 03:00:00       -26.1         5.5         4.1        -0.9   \n",
       "2022-01-01 04:00:00       -26.5         5.9         3.1        -1.2   \n",
       "...                         ...         ...         ...         ...   \n",
       "2022-09-22 19:00:00        12.4        17.8        13.7        11.5   \n",
       "2022-09-22 20:00:00        13.0        17.0        14.3        12.0   \n",
       "2022-09-22 21:00:00        13.2        16.6        13.9        12.4   \n",
       "2022-09-22 22:00:00        11.9        16.2        12.4        12.5   \n",
       "2022-09-22 23:00:00        11.3        15.9        11.5        11.6   \n",
       "\n",
       "                     temp_1JWST  temp_20QWH  temp_21O3U  temp_2W8UZ  \\\n",
       "time                                                                  \n",
       "2022-01-01 00:00:00        -6.5       -28.7       -29.0         4.6   \n",
       "2022-01-01 01:00:00        -7.5       -29.5       -28.9         4.6   \n",
       "2022-01-01 02:00:00        -8.6       -30.2       -30.1         4.7   \n",
       "2022-01-01 03:00:00        -9.4       -29.9       -30.1         4.6   \n",
       "2022-01-01 04:00:00       -10.1       -30.4       -31.4         4.9   \n",
       "...                         ...         ...         ...         ...   \n",
       "2022-09-22 19:00:00        10.2        13.5        12.5        15.2   \n",
       "2022-09-22 20:00:00        10.4        14.0        12.5        14.8   \n",
       "2022-09-22 21:00:00        10.5        14.3        12.4        15.1   \n",
       "2022-09-22 22:00:00         9.9        13.5        12.7        14.4   \n",
       "2022-09-22 23:00:00         7.2        12.8        12.0        13.5   \n",
       "\n",
       "                     temp_3S56J  temp_4DUJO  ...  pres_W5F5F  pres_X9FED  \\\n",
       "time                                         ...                           \n",
       "2022-01-01 00:00:00       -26.5         1.8  ...         NaN         NaN   \n",
       "2022-01-01 01:00:00       -27.3         1.6  ...         NaN         NaN   \n",
       "2022-01-01 02:00:00       -27.9         0.9  ...         NaN         NaN   \n",
       "2022-01-01 03:00:00       -28.1         1.0  ...         NaN         NaN   \n",
       "2022-01-01 04:00:00       -28.6         0.5  ...         NaN         NaN   \n",
       "...                         ...         ...  ...         ...         ...   \n",
       "2022-09-22 19:00:00        10.8        12.4  ...      1022.1      1025.2   \n",
       "2022-09-22 20:00:00        11.4        11.6  ...      1020.3      1024.4   \n",
       "2022-09-22 21:00:00        11.7        10.8  ...      1019.6      1024.2   \n",
       "2022-09-22 22:00:00        11.8         9.9  ...      1018.5      1023.3   \n",
       "2022-09-22 23:00:00        10.4         8.8  ...      1017.1      1022.5   \n",
       "\n",
       "                     pres_XM44W  pres_Y59TE  pres_Z7ZOG  pres_ZFZUV  \\\n",
       "time                                                                  \n",
       "2022-01-01 00:00:00      1013.5         NaN         NaN      1023.8   \n",
       "2022-01-01 01:00:00      1014.6         NaN         NaN      1024.2   \n",
       "2022-01-01 02:00:00      1015.1         NaN         NaN      1024.9   \n",
       "2022-01-01 03:00:00      1016.0         NaN         NaN      1025.4   \n",
       "2022-01-01 04:00:00      1017.3         NaN         NaN      1025.4   \n",
       "...                         ...         ...         ...         ...   \n",
       "2022-09-22 19:00:00      1022.6      1025.0      1025.3      1024.5   \n",
       "2022-09-22 20:00:00      1022.4      1024.0      1024.0      1023.1   \n",
       "2022-09-22 21:00:00      1022.2      1023.0      1023.7      1022.0   \n",
       "2022-09-22 22:00:00      1021.9      1023.0      1023.1      1021.1   \n",
       "2022-09-22 23:00:00      1021.8      1022.0      1022.6      1020.3   \n",
       "\n",
       "                     pres_ZNWZW  pres_ZUQJS  pres_ZWC6W  pres_ZYITU  \n",
       "time                                                                 \n",
       "2022-01-01 00:00:00         NaN         NaN      1010.8         NaN  \n",
       "2022-01-01 01:00:00         NaN         NaN      1011.8         NaN  \n",
       "2022-01-01 02:00:00         NaN         NaN      1012.7         NaN  \n",
       "2022-01-01 03:00:00         NaN         NaN      1013.6         NaN  \n",
       "2022-01-01 04:00:00         NaN         NaN      1013.9         NaN  \n",
       "...                         ...         ...         ...         ...  \n",
       "2022-09-22 19:00:00      1025.4      1022.6      1017.8      1016.7  \n",
       "2022-09-22 20:00:00      1025.0      1022.2      1017.9      1016.0  \n",
       "2022-09-22 21:00:00      1024.0      1022.4      1018.1      1017.4  \n",
       "2022-09-22 22:00:00      1023.0      1022.3      1018.4      1017.8  \n",
       "2022-09-22 23:00:00      1023.0      1022.1      1018.6      1018.0  \n",
       "\n",
       "[6360 rows x 4249 columns]"
      ]
     },
     "execution_count": 6,
     "metadata": {},
     "output_type": "execute_result"
    }
   ],
   "source": [
    "pivoted_df = df.pivot(index='time', columns='station', values=['temp', 'dwpt','rhum','prcp','wdir','wspd','pres'])\n",
    "pivoted_df.columns = ['_'.join(col) for col in pivoted_df.columns.values]\n",
    "pivoted_df"
   ]
  },
  {
   "cell_type": "markdown",
   "metadata": {},
   "source": [
    "### Our target is Ann Arbor which is station __\"KARB0\"__, so pulling those features out. And we want to predict the weather 24 hours in the future, so need to duplicate and shift the features while doing some more basic cleaning "
   ]
  },
  {
   "cell_type": "code",
   "execution_count": 8,
   "metadata": {
    "jupyter": {
     "outputs_hidden": false
    },
    "pycharm": {
     "name": "#%%\n"
    },
    "scrolled": true
   },
   "outputs": [
    {
     "data": {
      "text/html": [
       "<div>\n",
       "<style scoped>\n",
       "    .dataframe tbody tr th:only-of-type {\n",
       "        vertical-align: middle;\n",
       "    }\n",
       "\n",
       "    .dataframe tbody tr th {\n",
       "        vertical-align: top;\n",
       "    }\n",
       "\n",
       "    .dataframe thead th {\n",
       "        text-align: right;\n",
       "    }\n",
       "</style>\n",
       "<table border=\"1\" class=\"dataframe\">\n",
       "  <thead>\n",
       "    <tr style=\"text-align: right;\">\n",
       "      <th></th>\n",
       "      <th>temp_KARB0</th>\n",
       "      <th>dwpt_KARB0</th>\n",
       "      <th>rhum_KARB0</th>\n",
       "      <th>prcp_KARB0</th>\n",
       "      <th>wdir_KARB0</th>\n",
       "      <th>wspd_KARB0</th>\n",
       "      <th>pres_KARB0</th>\n",
       "      <th>24 hr~temp_KARB0</th>\n",
       "      <th>24 hr~dwpt_KARB0</th>\n",
       "      <th>24 hr~rhum_KARB0</th>\n",
       "      <th>24 hr~prcp_KARB0</th>\n",
       "      <th>24 hr~wdir_KARB0</th>\n",
       "      <th>24 hr~wspd_KARB0</th>\n",
       "      <th>24 hr~pres_KARB0</th>\n",
       "    </tr>\n",
       "  </thead>\n",
       "  <tbody>\n",
       "    <tr>\n",
       "      <th>2022-01-01 00:00:00</th>\n",
       "      <td>5.0</td>\n",
       "      <td>2.9</td>\n",
       "      <td>86.0</td>\n",
       "      <td>0.0</td>\n",
       "      <td>120.0</td>\n",
       "      <td>11.0</td>\n",
       "      <td>1005.0</td>\n",
       "      <td>-2.2</td>\n",
       "      <td>-3.9</td>\n",
       "      <td>88.0</td>\n",
       "      <td>0.6</td>\n",
       "      <td>50.0</td>\n",
       "      <td>16.6</td>\n",
       "      <td>1010.0</td>\n",
       "    </tr>\n",
       "    <tr>\n",
       "      <th>2022-01-01 01:00:00</th>\n",
       "      <td>5.0</td>\n",
       "      <td>2.9</td>\n",
       "      <td>86.0</td>\n",
       "      <td>0.0</td>\n",
       "      <td>120.0</td>\n",
       "      <td>11.2</td>\n",
       "      <td>1005.4</td>\n",
       "      <td>-2.8</td>\n",
       "      <td>-5.6</td>\n",
       "      <td>81.0</td>\n",
       "      <td>0.7</td>\n",
       "      <td>30.0</td>\n",
       "      <td>16.6</td>\n",
       "      <td>1010.2</td>\n",
       "    </tr>\n",
       "    <tr>\n",
       "      <th>2022-01-01 02:00:00</th>\n",
       "      <td>5.0</td>\n",
       "      <td>2.9</td>\n",
       "      <td>86.0</td>\n",
       "      <td>0.0</td>\n",
       "      <td>120.0</td>\n",
       "      <td>5.4</td>\n",
       "      <td>1005.3</td>\n",
       "      <td>-3.3</td>\n",
       "      <td>-5.6</td>\n",
       "      <td>84.0</td>\n",
       "      <td>0.4</td>\n",
       "      <td>30.0</td>\n",
       "      <td>24.1</td>\n",
       "      <td>1009.9</td>\n",
       "    </tr>\n",
       "    <tr>\n",
       "      <th>2022-01-01 03:00:00</th>\n",
       "      <td>5.0</td>\n",
       "      <td>2.9</td>\n",
       "      <td>86.0</td>\n",
       "      <td>0.0</td>\n",
       "      <td>0.0</td>\n",
       "      <td>0.0</td>\n",
       "      <td>1004.9</td>\n",
       "      <td>-3.9</td>\n",
       "      <td>-6.1</td>\n",
       "      <td>85.0</td>\n",
       "      <td>0.3</td>\n",
       "      <td>20.0</td>\n",
       "      <td>18.4</td>\n",
       "      <td>1010.3</td>\n",
       "    </tr>\n",
       "    <tr>\n",
       "      <th>2022-01-01 04:00:00</th>\n",
       "      <td>5.6</td>\n",
       "      <td>3.3</td>\n",
       "      <td>85.0</td>\n",
       "      <td>0.0</td>\n",
       "      <td>0.0</td>\n",
       "      <td>0.0</td>\n",
       "      <td>1004.9</td>\n",
       "      <td>-4.4</td>\n",
       "      <td>-6.1</td>\n",
       "      <td>88.0</td>\n",
       "      <td>0.3</td>\n",
       "      <td>30.0</td>\n",
       "      <td>16.6</td>\n",
       "      <td>1010.1</td>\n",
       "    </tr>\n",
       "  </tbody>\n",
       "</table>\n",
       "</div>"
      ],
      "text/plain": [
       "                     temp_KARB0  dwpt_KARB0  rhum_KARB0  prcp_KARB0  \\\n",
       "2022-01-01 00:00:00         5.0         2.9        86.0         0.0   \n",
       "2022-01-01 01:00:00         5.0         2.9        86.0         0.0   \n",
       "2022-01-01 02:00:00         5.0         2.9        86.0         0.0   \n",
       "2022-01-01 03:00:00         5.0         2.9        86.0         0.0   \n",
       "2022-01-01 04:00:00         5.6         3.3        85.0         0.0   \n",
       "\n",
       "                     wdir_KARB0  wspd_KARB0  pres_KARB0  24 hr~temp_KARB0  \\\n",
       "2022-01-01 00:00:00       120.0        11.0      1005.0              -2.2   \n",
       "2022-01-01 01:00:00       120.0        11.2      1005.4              -2.8   \n",
       "2022-01-01 02:00:00       120.0         5.4      1005.3              -3.3   \n",
       "2022-01-01 03:00:00         0.0         0.0      1004.9              -3.9   \n",
       "2022-01-01 04:00:00         0.0         0.0      1004.9              -4.4   \n",
       "\n",
       "                     24 hr~dwpt_KARB0  24 hr~rhum_KARB0  24 hr~prcp_KARB0  \\\n",
       "2022-01-01 00:00:00              -3.9              88.0               0.6   \n",
       "2022-01-01 01:00:00              -5.6              81.0               0.7   \n",
       "2022-01-01 02:00:00              -5.6              84.0               0.4   \n",
       "2022-01-01 03:00:00              -6.1              85.0               0.3   \n",
       "2022-01-01 04:00:00              -6.1              88.0               0.3   \n",
       "\n",
       "                     24 hr~wdir_KARB0  24 hr~wspd_KARB0  24 hr~pres_KARB0  \n",
       "2022-01-01 00:00:00              50.0              16.6            1010.0  \n",
       "2022-01-01 01:00:00              30.0              16.6            1010.2  \n",
       "2022-01-01 02:00:00              30.0              24.1            1009.9  \n",
       "2022-01-01 03:00:00              20.0              18.4            1010.3  \n",
       "2022-01-01 04:00:00              30.0              16.6            1010.1  "
      ]
     },
     "execution_count": 8,
     "metadata": {},
     "output_type": "execute_result"
    }
   ],
   "source": [
    "ann_arbor_cols = [col for col in pivoted_df.columns if \"KARB0\" in col]\n",
    "ann_arbor_df = pivoted_df[ann_arbor_cols].copy()\n",
    "for col in ann_arbor_df.columns:\n",
    "    ann_arbor_df[f'24 hr~{col}'] = ann_arbor_df[col].shift(-24)\n",
    "ann_arbor_df = ann_arbor_df.rename_axis(None, axis = 0)\n",
    "ann_arbor_df.head(5)"
   ]
  },
  {
   "cell_type": "markdown",
   "metadata": {},
   "source": [
    "### We need to merge the new features with the main dataframe so we have not only the Ann Arbor measurements, but also all measurements from surrounding stations."
   ]
  },
  {
   "cell_type": "code",
   "execution_count": 29,
   "metadata": {
    "jupyter": {
     "outputs_hidden": false
    },
    "pycharm": {
     "name": "#%%\n"
    }
   },
   "outputs": [
    {
     "name": "stdout",
     "output_type": "stream",
     "text": [
      "(6336, 4263)\n"
     ]
    },
    {
     "data": {
      "text/plain": [
       "prcp_6N2T2          (4599.9, 5111.0]\n",
       "rhum_6N2T2          (4599.9, 5111.0]\n",
       "dwpt_6N2T2          (4599.9, 5111.0]\n",
       "wdir_6N2T2          (4599.9, 5111.0]\n",
       "wspd_6N2T2          (4599.9, 5111.0]\n",
       "                          ...       \n",
       "rhum_KDRM0           (-5.111, 511.1]\n",
       "rhum_KDTL0           (-5.111, 511.1]\n",
       "rhum_KDUH0           (-5.111, 511.1]\n",
       "rhum_KDVP0           (-5.111, 511.1]\n",
       "24 hr~pres_KARB0     (-5.111, 511.1]\n",
       "Length: 4263, dtype: category\n",
       "Categories (10, interval[float64, right]): [(-5.111, 511.1] < (511.1, 1022.2] < (1022.2, 1533.3] < (1533.3, 2044.4] ... (3066.6, 3577.7] < (3577.7, 4088.8] < (4088.8, 4599.9] < (4599.9, 5111.0]]"
      ]
     },
     "execution_count": 29,
     "metadata": {},
     "output_type": "execute_result"
    }
   ],
   "source": [
    "pred_df = pd.merge(pivoted_df,ann_arbor_df, left_index=True, right_index=True)\n",
    "pred_df = pred_df[pred_df['24 hr~temp_KARB0'].notna()]\n",
    "print(pred_df.shape)\n",
    "s=pred_df.isna().sum(axis=0).sort_values(ascending=False)\n",
    "pd.cut(s, 10)\n"
   ]
  },
  {
   "cell_type": "markdown",
   "metadata": {},
   "source": [
    "### There are a lot of features with excessive amounts of null values to get rid of. Dropping any with more than 500 missing values still leaves a sufficient number of features for predicting"
   ]
  },
  {
   "cell_type": "code",
   "execution_count": 30,
   "metadata": {
    "jupyter": {
     "outputs_hidden": false
    },
    "pycharm": {
     "name": "#%%\n"
    }
   },
   "outputs": [
    {
     "data": {
      "text/plain": [
       "(4729, 4030)"
      ]
     },
     "execution_count": 30,
     "metadata": {},
     "output_type": "execute_result"
    }
   ],
   "source": [
    "to_drop = []\n",
    "for col in pred_df.columns:\n",
    "    num = pred_df[col].isna().sum()\n",
    "    if num > 500:\n",
    "        # print(f\"{col} has {num} missing values\")\n",
    "        to_drop.append(col)\n",
    "pred_df.drop(columns=to_drop,inplace=True)\n",
    "pred_df.dropna(inplace=True)\n",
    "pred_df.shape"
   ]
  },
  {
   "cell_type": "markdown",
   "metadata": {},
   "source": [
    "### Now our target will be the '-24hr~temp_KARB0' column, and our features to use in our first prediction model will be all of the measurements at every surrounding station 24 hours prior to our target.\n",
    "This cell will run 5 fold cross-validate on our 3 chosen regression models (Extra Trees Regressor, Lasso Regressor, and Tweedie Regressor). This will show how the average accuracy scores compare across these models on this data set."
   ]
  },
  {
   "cell_type": "code",
   "execution_count": 34,
   "metadata": {
    "jupyter": {
     "outputs_hidden": false
    },
    "pycharm": {
     "name": "#%%\n"
    }
   },
   "outputs": [
    {
     "name": "stdout",
     "output_type": "stream",
     "text": [
      "Extra Trees Regressor\n",
      "Mean accuracy score: 0.973, best accuracy score: 0.977, with std dev of: 0.002\n",
      "Mean training time: 0.119\n",
      "Score on hold out set: 0.982\n",
      "**************\n",
      "Lasso Regressor\n",
      "Mean accuracy score: 0.942, best accuracy score: 0.944, with std dev of: 0.002\n",
      "Mean training time: 0.05\n"
     ]
    },
    {
     "name": "stderr",
     "output_type": "stream",
     "text": [
      "c:\\users\\jesse\\onedrive\\documents\\homework\\mich\\521\\ms2_git\\lib\\site-packages\\sklearn\\linear_model\\_coordinate_descent.py:648: ConvergenceWarning: Objective did not converge. You might want to increase the number of iterations, check the scale of the features or consider increasing regularisation. Duality gap: 1.461e+02, tolerance: 4.421e+01\n",
      "  model = cd_fast.enet_coordinate_descent(\n"
     ]
    },
    {
     "name": "stdout",
     "output_type": "stream",
     "text": [
      "Score on hold out set: 0.95\n",
      "**************\n",
      "Tweedie Regressor\n",
      "Mean accuracy score: 0.95, best accuracy score: 0.953, with std dev of: 0.003\n",
      "Mean training time: 0.046\n",
      "Score on hold out set: 0.959\n",
      "**************\n",
      "Dummy Regressor\n",
      "Mean accuracy score: -0.071, best accuracy score: -0.031, with std dev of: 0.027\n",
      "Mean training time: 0.049\n",
      "Score on hold out set: -0.073\n",
      "**************\n"
     ]
    }
   ],
   "source": [
    "from sklearn.pipeline import make_pipeline\n",
    "from sklearn.preprocessing import StandardScaler\n",
    "from sklearn.preprocessing import RobustScaler\n",
    "X_cols = [col for col in pred_df.columns if \"~\" not in col]\n",
    "X = pred_df[X_cols]\n",
    "y = pred_df['24 hr~temp_KARB0']\n",
    "\n",
    "X_train, X_test, y_train, y_test = train_test_split(X, y, random_state=696)\n",
    "xt_reg = ExtraTreesRegressor(random_state=696,n_jobs=-1)\n",
    "lasso_reg = linear_model.Lasso(alpha=0.1,max_iter=1500)\n",
    "tw_reg = linear_model.TweedieRegressor(max_iter=250)\n",
    "dummy_reg = DummyRegressor(strategy=\"median\")\n",
    "models = {'Extra Trees Regressor':xt_reg,\n",
    "          'Lasso Regressor':lasso_reg,\n",
    "          'Tweedie Regressor':tw_reg,\n",
    "          'Dummy Regressor':dummy_reg}\n",
    "for key, value in models.items():\n",
    "    value = make_pipeline(StandardScaler(), value)\n",
    "    cv_results = cross_validate(value, X_train, y_train, cv=5,n_jobs=-1)\n",
    "    print(key)\n",
    "    print(\"Mean accuracy score: \", end=\"\")\n",
    "    print(round(cv_results['test_score'].mean(),3), end=\"\")\n",
    "    print(\", best accuracy score: \", end=\"\")\n",
    "    print(round(cv_results['test_score'].max(),3), end=\"\")\n",
    "    print(\", with std dev of: \", end=\"\")\n",
    "    print(round(cv_results['test_score'].std(),3))\n",
    "    print(\"Mean training time: \", end=\"\")\n",
    "    print(round(cv_results['score_time'].mean(),3))\n",
    "    print(f\"Score on hold out set: {round(value.fit(X_train, y_train).score(X_test, y_test),3)}\")\n",
    "    print(\"**************\")"
   ]
  },
  {
   "cell_type": "markdown",
   "metadata": {},
   "source": [
    "### Examine the feature importances in the best performing model (Extra Trees Regressor)"
   ]
  },
  {
   "cell_type": "code",
   "execution_count": 35,
   "metadata": {
    "pycharm": {
     "name": "#%%\n"
    }
   },
   "outputs": [
    {
     "data": {
      "text/html": [
       "<div>\n",
       "<style scoped>\n",
       "    .dataframe tbody tr th:only-of-type {\n",
       "        vertical-align: middle;\n",
       "    }\n",
       "\n",
       "    .dataframe tbody tr th {\n",
       "        vertical-align: top;\n",
       "    }\n",
       "\n",
       "    .dataframe thead th {\n",
       "        text-align: right;\n",
       "    }\n",
       "</style>\n",
       "<table border=\"1\" class=\"dataframe\">\n",
       "  <thead>\n",
       "    <tr style=\"text-align: right;\">\n",
       "      <th></th>\n",
       "      <th>Feature</th>\n",
       "      <th>Importance</th>\n",
       "    </tr>\n",
       "  </thead>\n",
       "  <tbody>\n",
       "    <tr>\n",
       "      <th>371</th>\n",
       "      <td>temp_KISW0</td>\n",
       "      <td>0.04909</td>\n",
       "    </tr>\n",
       "    <tr>\n",
       "      <th>142</th>\n",
       "      <td>temp_72741</td>\n",
       "      <td>0.03691</td>\n",
       "    </tr>\n",
       "    <tr>\n",
       "      <th>486</th>\n",
       "      <td>temp_KRHI0</td>\n",
       "      <td>0.034794</td>\n",
       "    </tr>\n",
       "    <tr>\n",
       "      <th>269</th>\n",
       "      <td>temp_KCWA0</td>\n",
       "      <td>0.03135</td>\n",
       "    </tr>\n",
       "    <tr>\n",
       "      <th>405</th>\n",
       "      <td>temp_KMFI0</td>\n",
       "      <td>0.030644</td>\n",
       "    </tr>\n",
       "    <tr>\n",
       "      <th>392</th>\n",
       "      <td>temp_KLVN0</td>\n",
       "      <td>0.028024</td>\n",
       "    </tr>\n",
       "    <tr>\n",
       "      <th>128</th>\n",
       "      <td>temp_72643</td>\n",
       "      <td>0.027615</td>\n",
       "    </tr>\n",
       "    <tr>\n",
       "      <th>460</th>\n",
       "      <td>temp_KPCZ0</td>\n",
       "      <td>0.027418</td>\n",
       "    </tr>\n",
       "    <tr>\n",
       "      <th>271</th>\n",
       "      <td>temp_KD250</td>\n",
       "      <td>0.021453</td>\n",
       "    </tr>\n",
       "    <tr>\n",
       "      <th>260</th>\n",
       "      <td>temp_KCLI0</td>\n",
       "      <td>0.021165</td>\n",
       "    </tr>\n",
       "  </tbody>\n",
       "</table>\n",
       "</div>"
      ],
      "text/plain": [
       "        Feature Importance\n",
       "371  temp_KISW0    0.04909\n",
       "142  temp_72741    0.03691\n",
       "486  temp_KRHI0   0.034794\n",
       "269  temp_KCWA0    0.03135\n",
       "405  temp_KMFI0   0.030644\n",
       "392  temp_KLVN0   0.028024\n",
       "128  temp_72643   0.027615\n",
       "460  temp_KPCZ0   0.027418\n",
       "271  temp_KD250   0.021453\n",
       "260  temp_KCLI0   0.021165"
      ]
     },
     "execution_count": 35,
     "metadata": {},
     "output_type": "execute_result"
    }
   ],
   "source": [
    "feature_importance_df = pd.DataFrame([X.columns, xt_reg.feature_importances_]).transpose()\n",
    "feature_importance_df.columns = ['Feature', 'Importance']\n",
    "feature_importance_df.sort_values('Importance',ascending=False,inplace=True)\n",
    "feature_importance_df.head(10)"
   ]
  },
  {
   "cell_type": "code",
   "execution_count": 36,
   "metadata": {
    "pycharm": {
     "name": "#%%\n"
    }
   },
   "outputs": [
    {
     "data": {
      "text/html": [
       "\n",
       "<div id=\"altair-viz-73400e734d9d4468bbee59d1d6a82da8\"></div>\n",
       "<script type=\"text/javascript\">\n",
       "  var VEGA_DEBUG = (typeof VEGA_DEBUG == \"undefined\") ? {} : VEGA_DEBUG;\n",
       "  (function(spec, embedOpt){\n",
       "    let outputDiv = document.currentScript.previousElementSibling;\n",
       "    if (outputDiv.id !== \"altair-viz-73400e734d9d4468bbee59d1d6a82da8\") {\n",
       "      outputDiv = document.getElementById(\"altair-viz-73400e734d9d4468bbee59d1d6a82da8\");\n",
       "    }\n",
       "    const paths = {\n",
       "      \"vega\": \"https://cdn.jsdelivr.net/npm//vega@5?noext\",\n",
       "      \"vega-lib\": \"https://cdn.jsdelivr.net/npm//vega-lib?noext\",\n",
       "      \"vega-lite\": \"https://cdn.jsdelivr.net/npm//vega-lite@4.17.0?noext\",\n",
       "      \"vega-embed\": \"https://cdn.jsdelivr.net/npm//vega-embed@6?noext\",\n",
       "    };\n",
       "\n",
       "    function maybeLoadScript(lib, version) {\n",
       "      var key = `${lib.replace(\"-\", \"\")}_version`;\n",
       "      return (VEGA_DEBUG[key] == version) ?\n",
       "        Promise.resolve(paths[lib]) :\n",
       "        new Promise(function(resolve, reject) {\n",
       "          var s = document.createElement('script');\n",
       "          document.getElementsByTagName(\"head\")[0].appendChild(s);\n",
       "          s.async = true;\n",
       "          s.onload = () => {\n",
       "            VEGA_DEBUG[key] = version;\n",
       "            return resolve(paths[lib]);\n",
       "          };\n",
       "          s.onerror = () => reject(`Error loading script: ${paths[lib]}`);\n",
       "          s.src = paths[lib];\n",
       "        });\n",
       "    }\n",
       "\n",
       "    function showError(err) {\n",
       "      outputDiv.innerHTML = `<div class=\"error\" style=\"color:red;\">${err}</div>`;\n",
       "      throw err;\n",
       "    }\n",
       "\n",
       "    function displayChart(vegaEmbed) {\n",
       "      vegaEmbed(outputDiv, spec, embedOpt)\n",
       "        .catch(err => showError(`Javascript Error: ${err.message}<br>This usually means there's a typo in your chart specification. See the javascript console for the full traceback.`));\n",
       "    }\n",
       "\n",
       "    if(typeof define === \"function\" && define.amd) {\n",
       "      requirejs.config({paths});\n",
       "      require([\"vega-embed\"], displayChart, err => showError(`Error loading script: ${err.message}`));\n",
       "    } else {\n",
       "      maybeLoadScript(\"vega\", \"5\")\n",
       "        .then(() => maybeLoadScript(\"vega-lite\", \"4.17.0\"))\n",
       "        .then(() => maybeLoadScript(\"vega-embed\", \"6\"))\n",
       "        .catch(showError)\n",
       "        .then(() => displayChart(vegaEmbed));\n",
       "    }\n",
       "  })({\"config\": {\"view\": {\"continuousWidth\": 400, \"continuousHeight\": 300}}, \"data\": {\"name\": \"data-eb59ac79fe5d2150e370fbd05d0cebd1\"}, \"mark\": \"bar\", \"encoding\": {\"x\": {\"axis\": {\"format\": \"%\", \"labelFontSize\": 12, \"tickSize\": 0}, \"field\": \"Importance\", \"type\": \"quantitative\"}, \"y\": {\"axis\": {\"labelFontSize\": 12, \"labelPadding\": 10, \"tickSize\": 0}, \"field\": \"Feature\", \"sort\": [\"temp_KISW0\", \"temp_72741\", \"temp_KRHI0\", \"temp_KCWA0\", \"temp_KMFI0\"], \"title\": \"\", \"type\": \"nominal\"}}, \"height\": 200, \"$schema\": \"https://vega.github.io/schema/vega-lite/v4.17.0.json\", \"datasets\": {\"data-eb59ac79fe5d2150e370fbd05d0cebd1\": [{\"Feature\": \"temp_KISW0\", \"Importance\": 0.049089925102090294}, {\"Feature\": \"temp_72741\", \"Importance\": 0.03690958355744364}, {\"Feature\": \"temp_KRHI0\", \"Importance\": 0.034793791046487964}, {\"Feature\": \"temp_KCWA0\", \"Importance\": 0.03134988532030027}, {\"Feature\": \"temp_KMFI0\", \"Importance\": 0.030644483200254112}]}}, {\"mode\": \"vega-lite\"});\n",
       "</script>"
      ],
      "text/plain": [
       "alt.Chart(...)"
      ]
     },
     "execution_count": 36,
     "metadata": {},
     "output_type": "execute_result"
    }
   ],
   "source": [
    "import altair as alt\n",
    "alt.Chart(feature_importance_df[:5]).mark_bar().encode(\n",
    "    x=alt.X('Importance:Q', axis=alt.Axis(format=\"%\", tickSize=0, labelFontSize=12)),\n",
    "    y=alt.Y(\n",
    "        'Feature:N', sort=list(feature_importance_df[:5].Feature), title=\"\",\n",
    "        axis=alt.Axis(tickSize=0, labelFontSize=12, labelPadding=10)),\n",
    ").properties(\n",
    "    height=200\n",
    ")"
   ]
  },
  {
   "cell_type": "markdown",
   "metadata": {},
   "source": [
    "### Hyper-parameter tuning the Extra Trees Regressor\n",
    "5 fold cross validate looking for the optimized estimators, depth, sample split, and sample leaf parameters. Evaluating the 'best' based on the mean squared error achieved."
   ]
  },
  {
   "cell_type": "code",
   "execution_count": 42,
   "metadata": {
    "pycharm": {
     "name": "#%%\n"
    }
   },
   "outputs": [
    {
     "name": "stdout",
     "output_type": "stream",
     "text": [
      "Best score: -0.9731533162527466\n",
      "Best parameters:\n",
      " - n-estimators= 101\n",
      " - max_depth= 50\n",
      " - min_samples_split= 2\n",
      " - min_samples_leaf=  1\n",
      "9min 17s ± 0 ns per loop (mean ± std. dev. of 1 run, 1 loop each)\n"
     ]
    }
   ],
   "source": [
    "# %%timeit -r 1 -n 1\n",
    "space  = [Integer(100,200, name='n_estimators'),\n",
    "          Integer(1, 50, name='max_depth'),\n",
    "          Integer(2, 100, name='min_samples_split'),\n",
    "          Integer(1, 100, name='min_samples_leaf')]\n",
    "\n",
    "@use_named_args(space)\n",
    "def objective(**params):\n",
    "    xt_reg.set_params(**params)\n",
    "\n",
    "    return -np.mean(cross_val_score(xt_reg, X_train, y_train, cv=5, n_jobs=-1))\n",
    "\n",
    "res_gp = gp_minimize(objective, space, n_calls=15, random_state=696)\n",
    "\n",
    "print(f\"Best score: {res_gp.fun}\")\n",
    "print(\"Best parameters:\")\n",
    "print(f\" - n-estimators= {res_gp.x[0]}\")\n",
    "print(f\" - max_depth= {res_gp.x[1]}\")\n",
    "print(f\" - min_samples_split= {res_gp.x[2]}\")\n",
    "print(f\" - min_samples_leaf=  {res_gp.x[3]}\")"
   ]
  },
  {
   "cell_type": "markdown",
   "metadata": {},
   "source": [
    "### Visualize the convergence for the above hypertuning"
   ]
  },
  {
   "cell_type": "code",
   "execution_count": 44,
   "metadata": {
    "pycharm": {
     "name": "#%%\n"
    }
   },
   "outputs": [
    {
     "ename": "NameError",
     "evalue": "name 'res_gp' is not defined",
     "output_type": "error",
     "traceback": [
      "\u001B[1;31m---------------------------------------------------------------------------\u001B[0m",
      "\u001B[1;31mNameError\u001B[0m                                 Traceback (most recent call last)",
      "Cell \u001B[1;32mIn [44], line 1\u001B[0m\n\u001B[1;32m----> 1\u001B[0m plot_convergence(\u001B[43mres_gp\u001B[49m)\n",
      "\u001B[1;31mNameError\u001B[0m: name 'res_gp' is not defined"
     ]
    }
   ],
   "source": [
    "plot_convergence(res_gp)"
   ]
  },
  {
   "cell_type": "markdown",
   "metadata": {},
   "source": [
    "### Final re-run of the Extra Trees Model with the tuned hyperparameters\n",
    "There is a very minor improvement on the accuracy score, with some pretty significant increases in training time."
   ]
  },
  {
   "cell_type": "code",
   "execution_count": 45,
   "metadata": {},
   "outputs": [
    {
     "name": "stdout",
     "output_type": "stream",
     "text": [
      "Extra Trees Regressor\n",
      "Mean accuracy score: 0.973, best accuracy score: 0.977, with std dev of: 0.002\n",
      "Mean training time: 0.154\n",
      "Score on hold out set: 0.982\n",
      "**************\n"
     ]
    }
   ],
   "source": [
    "xt_reg = ExtraTreesRegressor(n_estimators=res_gp.x[0], \n",
    "                             max_depth=res_gp.x[1], \n",
    "                             min_samples_split=res_gp.x[2], \n",
    "                             min_samples_leaf=res_gp.x[3], \n",
    "                             random_state=696,n_jobs=-1\n",
    "                            )\n",
    "models = {'Extra Trees Regressor':xt_reg}\n",
    "for key, value in models.items():\n",
    "    cv_results = cross_validate(value, X_train, y_train, cv=5,n_jobs=-1)\n",
    "    print(key)\n",
    "    print(\"Mean accuracy score: \", end=\"\")\n",
    "    print(round(cv_results['test_score'].mean(),3), end=\"\")\n",
    "    print(\", best accuracy score: \", end=\"\")\n",
    "    print(round(cv_results['test_score'].max(),3), end=\"\")\n",
    "    print(\", with std dev of: \", end=\"\")\n",
    "    print(round(cv_results['test_score'].std(),3))\n",
    "    print(\"Mean training time: \", end=\"\")\n",
    "    print(round(cv_results['score_time'].mean(),3))\n",
    "    print(f\"Score on hold out set: {round(value.fit(X_train, y_train).score(X_test, y_test),3)}\")\n",
    "    print(\"**************\")"
   ]
  },
  {
   "cell_type": "code",
   "execution_count": null,
   "metadata": {},
   "outputs": [],
   "source": []
  }
 ],
 "metadata": {
  "kernelspec": {
   "display_name": "Python 3 (ipykernel)",
   "language": "python",
   "name": "python3"
  },
  "language_info": {
   "codemirror_mode": {
    "name": "ipython",
    "version": 3
   },
   "file_extension": ".py",
   "mimetype": "text/x-python",
   "name": "python",
   "nbconvert_exporter": "python",
   "pygments_lexer": "ipython3",
   "version": "3.9.5"
  }
 },
 "nbformat": 4,
 "nbformat_minor": 4
}