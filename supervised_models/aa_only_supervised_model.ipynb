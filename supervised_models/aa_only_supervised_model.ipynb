{
 "cells": [
  {
   "cell_type": "code",
   "execution_count": 15,
   "metadata": {
    "collapsed": true
   },
   "outputs": [],
   "source": [
    "import os\n",
    "import pandas as pd"
   ]
  },
  {
   "cell_type": "code",
   "execution_count": 16,
   "outputs": [],
   "source": [
    "ROOT_DIR = os.path.realpath(os.path.join(os.getcwd(), '..'))\n",
    "cln_pkl_loc = os.path.join(ROOT_DIR, 'data_cleaning','cleanweathersmall.pkl')"
   ],
   "metadata": {
    "collapsed": false,
    "pycharm": {
     "name": "#%%\n"
    }
   }
  },
  {
   "cell_type": "code",
   "execution_count": 17,
   "outputs": [
    {
     "name": "stdout",
     "output_type": "stream",
     "text": [
      "<class 'pandas.core.frame.DataFrame'>\n",
      "RangeIndex: 3765246 entries, 0 to 3765245\n",
      "Data columns (total 9 columns):\n",
      " #   Column   Dtype         \n",
      "---  ------   -----         \n",
      " 0   station  object        \n",
      " 1   time     datetime64[ns]\n",
      " 2   temp     float64       \n",
      " 3   dwpt     float64       \n",
      " 4   rhum     float64       \n",
      " 5   prcp     float64       \n",
      " 6   wdir     float64       \n",
      " 7   wspd     float64       \n",
      " 8   pres     float64       \n",
      "dtypes: datetime64[ns](1), float64(7), object(1)\n",
      "memory usage: 258.5+ MB\n"
     ]
    }
   ],
   "source": [
    "df = pd.read_pickle(cln_pkl_loc)\n",
    "df.info()"
   ],
   "metadata": {
    "collapsed": false,
    "pycharm": {
     "name": "#%%\n"
    }
   }
  },
  {
   "cell_type": "code",
   "execution_count": 18,
   "outputs": [
    {
     "data": {
      "text/plain": "                     temp_0CNUO  temp_0CO7B  temp_0FV1F  temp_1J1PJ  \\\ntime                                                                  \n2022-01-01 00:00:00      -25.10        5.00        1.20       -0.90   \n2022-01-01 01:00:00      -25.70        5.10        0.90       -0.60   \n2022-01-01 02:00:00      -26.20        4.20        1.50       -0.80   \n2022-01-01 03:00:00      -26.10        5.50        4.10       -0.90   \n2022-01-01 04:00:00      -26.50        5.90        3.10       -1.20   \n...                         ...         ...         ...         ...   \n2022-09-22 19:00:00       12.40       17.80       13.70       11.50   \n2022-09-22 20:00:00       13.00       17.00       14.30       12.00   \n2022-09-22 21:00:00       13.20       16.60       13.90       12.40   \n2022-09-22 22:00:00       11.90       16.20       12.40       12.50   \n2022-09-22 23:00:00       11.30       15.90       11.50       11.60   \n\n                     temp_1JWST  temp_20QWH  temp_21O3U  temp_2W8UZ  \\\ntime                                                                  \n2022-01-01 00:00:00       -6.50      -28.70      -29.00        4.60   \n2022-01-01 01:00:00       -7.50      -29.50      -28.90        4.60   \n2022-01-01 02:00:00       -8.60      -30.20      -30.10        4.70   \n2022-01-01 03:00:00       -9.40      -29.90      -30.10        4.60   \n2022-01-01 04:00:00      -10.10      -30.40      -31.40        4.90   \n...                         ...         ...         ...         ...   \n2022-09-22 19:00:00       10.20       13.50       12.50       15.20   \n2022-09-22 20:00:00       10.40       14.00       12.50       14.80   \n2022-09-22 21:00:00       10.50       14.30       12.40       15.10   \n2022-09-22 22:00:00        9.90       13.50       12.70       14.40   \n2022-09-22 23:00:00        7.20       12.80       12.00       13.50   \n\n                     temp_3S56J  temp_4DUJO  ...  pres_W5F5F  pres_X9FED  \\\ntime                                         ...                           \n2022-01-01 00:00:00      -26.50        1.80  ...         NaN         NaN   \n2022-01-01 01:00:00      -27.30        1.60  ...         NaN         NaN   \n2022-01-01 02:00:00      -27.90        0.90  ...         NaN         NaN   \n2022-01-01 03:00:00      -28.10        1.00  ...         NaN         NaN   \n2022-01-01 04:00:00      -28.60        0.50  ...         NaN         NaN   \n...                         ...         ...  ...         ...         ...   \n2022-09-22 19:00:00       10.80       12.40  ...     1022.10     1025.20   \n2022-09-22 20:00:00       11.40       11.60  ...     1020.30     1024.40   \n2022-09-22 21:00:00       11.70       10.80  ...     1019.60     1024.20   \n2022-09-22 22:00:00       11.80        9.90  ...     1018.50     1023.30   \n2022-09-22 23:00:00       10.40        8.80  ...     1017.10     1022.50   \n\n                     pres_XM44W  pres_Y59TE  pres_Z7ZOG  pres_ZFZUV  \\\ntime                                                                  \n2022-01-01 00:00:00     1013.50         NaN         NaN     1023.80   \n2022-01-01 01:00:00     1014.60         NaN         NaN     1024.20   \n2022-01-01 02:00:00     1015.10         NaN         NaN     1024.90   \n2022-01-01 03:00:00     1016.00         NaN         NaN     1025.40   \n2022-01-01 04:00:00     1017.30         NaN         NaN     1025.40   \n...                         ...         ...         ...         ...   \n2022-09-22 19:00:00     1022.60     1025.00     1025.30     1024.50   \n2022-09-22 20:00:00     1022.40     1024.00     1024.00     1023.10   \n2022-09-22 21:00:00     1022.20     1023.00     1023.70     1022.00   \n2022-09-22 22:00:00     1021.90     1023.00     1023.10     1021.10   \n2022-09-22 23:00:00     1021.80     1022.00     1022.60     1020.30   \n\n                     pres_ZNWZW  pres_ZUQJS  pres_ZWC6W  pres_ZYITU  \ntime                                                                 \n2022-01-01 00:00:00         NaN         NaN     1010.80         NaN  \n2022-01-01 01:00:00         NaN         NaN     1011.80         NaN  \n2022-01-01 02:00:00         NaN         NaN     1012.70         NaN  \n2022-01-01 03:00:00         NaN         NaN     1013.60         NaN  \n2022-01-01 04:00:00         NaN         NaN     1013.90         NaN  \n...                         ...         ...         ...         ...  \n2022-09-22 19:00:00     1025.40     1022.60     1017.80     1016.70  \n2022-09-22 20:00:00     1025.00     1022.20     1017.90     1016.00  \n2022-09-22 21:00:00     1024.00     1022.40     1018.10     1017.40  \n2022-09-22 22:00:00     1023.00     1022.30     1018.40     1017.80  \n2022-09-22 23:00:00     1023.00     1022.10     1018.60     1018.00  \n\n[6360 rows x 4249 columns]",
      "text/html": "<div>\n<style scoped>\n    .dataframe tbody tr th:only-of-type {\n        vertical-align: middle;\n    }\n\n    .dataframe tbody tr th {\n        vertical-align: top;\n    }\n\n    .dataframe thead th {\n        text-align: right;\n    }\n</style>\n<table border=\"1\" class=\"dataframe\">\n  <thead>\n    <tr style=\"text-align: right;\">\n      <th></th>\n      <th>temp_0CNUO</th>\n      <th>temp_0CO7B</th>\n      <th>temp_0FV1F</th>\n      <th>temp_1J1PJ</th>\n      <th>temp_1JWST</th>\n      <th>temp_20QWH</th>\n      <th>temp_21O3U</th>\n      <th>temp_2W8UZ</th>\n      <th>temp_3S56J</th>\n      <th>temp_4DUJO</th>\n      <th>...</th>\n      <th>pres_W5F5F</th>\n      <th>pres_X9FED</th>\n      <th>pres_XM44W</th>\n      <th>pres_Y59TE</th>\n      <th>pres_Z7ZOG</th>\n      <th>pres_ZFZUV</th>\n      <th>pres_ZNWZW</th>\n      <th>pres_ZUQJS</th>\n      <th>pres_ZWC6W</th>\n      <th>pres_ZYITU</th>\n    </tr>\n    <tr>\n      <th>time</th>\n      <th></th>\n      <th></th>\n      <th></th>\n      <th></th>\n      <th></th>\n      <th></th>\n      <th></th>\n      <th></th>\n      <th></th>\n      <th></th>\n      <th></th>\n      <th></th>\n      <th></th>\n      <th></th>\n      <th></th>\n      <th></th>\n      <th></th>\n      <th></th>\n      <th></th>\n      <th></th>\n      <th></th>\n    </tr>\n  </thead>\n  <tbody>\n    <tr>\n      <th>2022-01-01 00:00:00</th>\n      <td>-25.10</td>\n      <td>5.00</td>\n      <td>1.20</td>\n      <td>-0.90</td>\n      <td>-6.50</td>\n      <td>-28.70</td>\n      <td>-29.00</td>\n      <td>4.60</td>\n      <td>-26.50</td>\n      <td>1.80</td>\n      <td>...</td>\n      <td>NaN</td>\n      <td>NaN</td>\n      <td>1013.50</td>\n      <td>NaN</td>\n      <td>NaN</td>\n      <td>1023.80</td>\n      <td>NaN</td>\n      <td>NaN</td>\n      <td>1010.80</td>\n      <td>NaN</td>\n    </tr>\n    <tr>\n      <th>2022-01-01 01:00:00</th>\n      <td>-25.70</td>\n      <td>5.10</td>\n      <td>0.90</td>\n      <td>-0.60</td>\n      <td>-7.50</td>\n      <td>-29.50</td>\n      <td>-28.90</td>\n      <td>4.60</td>\n      <td>-27.30</td>\n      <td>1.60</td>\n      <td>...</td>\n      <td>NaN</td>\n      <td>NaN</td>\n      <td>1014.60</td>\n      <td>NaN</td>\n      <td>NaN</td>\n      <td>1024.20</td>\n      <td>NaN</td>\n      <td>NaN</td>\n      <td>1011.80</td>\n      <td>NaN</td>\n    </tr>\n    <tr>\n      <th>2022-01-01 02:00:00</th>\n      <td>-26.20</td>\n      <td>4.20</td>\n      <td>1.50</td>\n      <td>-0.80</td>\n      <td>-8.60</td>\n      <td>-30.20</td>\n      <td>-30.10</td>\n      <td>4.70</td>\n      <td>-27.90</td>\n      <td>0.90</td>\n      <td>...</td>\n      <td>NaN</td>\n      <td>NaN</td>\n      <td>1015.10</td>\n      <td>NaN</td>\n      <td>NaN</td>\n      <td>1024.90</td>\n      <td>NaN</td>\n      <td>NaN</td>\n      <td>1012.70</td>\n      <td>NaN</td>\n    </tr>\n    <tr>\n      <th>2022-01-01 03:00:00</th>\n      <td>-26.10</td>\n      <td>5.50</td>\n      <td>4.10</td>\n      <td>-0.90</td>\n      <td>-9.40</td>\n      <td>-29.90</td>\n      <td>-30.10</td>\n      <td>4.60</td>\n      <td>-28.10</td>\n      <td>1.00</td>\n      <td>...</td>\n      <td>NaN</td>\n      <td>NaN</td>\n      <td>1016.00</td>\n      <td>NaN</td>\n      <td>NaN</td>\n      <td>1025.40</td>\n      <td>NaN</td>\n      <td>NaN</td>\n      <td>1013.60</td>\n      <td>NaN</td>\n    </tr>\n    <tr>\n      <th>2022-01-01 04:00:00</th>\n      <td>-26.50</td>\n      <td>5.90</td>\n      <td>3.10</td>\n      <td>-1.20</td>\n      <td>-10.10</td>\n      <td>-30.40</td>\n      <td>-31.40</td>\n      <td>4.90</td>\n      <td>-28.60</td>\n      <td>0.50</td>\n      <td>...</td>\n      <td>NaN</td>\n      <td>NaN</td>\n      <td>1017.30</td>\n      <td>NaN</td>\n      <td>NaN</td>\n      <td>1025.40</td>\n      <td>NaN</td>\n      <td>NaN</td>\n      <td>1013.90</td>\n      <td>NaN</td>\n    </tr>\n    <tr>\n      <th>...</th>\n      <td>...</td>\n      <td>...</td>\n      <td>...</td>\n      <td>...</td>\n      <td>...</td>\n      <td>...</td>\n      <td>...</td>\n      <td>...</td>\n      <td>...</td>\n      <td>...</td>\n      <td>...</td>\n      <td>...</td>\n      <td>...</td>\n      <td>...</td>\n      <td>...</td>\n      <td>...</td>\n      <td>...</td>\n      <td>...</td>\n      <td>...</td>\n      <td>...</td>\n      <td>...</td>\n    </tr>\n    <tr>\n      <th>2022-09-22 19:00:00</th>\n      <td>12.40</td>\n      <td>17.80</td>\n      <td>13.70</td>\n      <td>11.50</td>\n      <td>10.20</td>\n      <td>13.50</td>\n      <td>12.50</td>\n      <td>15.20</td>\n      <td>10.80</td>\n      <td>12.40</td>\n      <td>...</td>\n      <td>1022.10</td>\n      <td>1025.20</td>\n      <td>1022.60</td>\n      <td>1025.00</td>\n      <td>1025.30</td>\n      <td>1024.50</td>\n      <td>1025.40</td>\n      <td>1022.60</td>\n      <td>1017.80</td>\n      <td>1016.70</td>\n    </tr>\n    <tr>\n      <th>2022-09-22 20:00:00</th>\n      <td>13.00</td>\n      <td>17.00</td>\n      <td>14.30</td>\n      <td>12.00</td>\n      <td>10.40</td>\n      <td>14.00</td>\n      <td>12.50</td>\n      <td>14.80</td>\n      <td>11.40</td>\n      <td>11.60</td>\n      <td>...</td>\n      <td>1020.30</td>\n      <td>1024.40</td>\n      <td>1022.40</td>\n      <td>1024.00</td>\n      <td>1024.00</td>\n      <td>1023.10</td>\n      <td>1025.00</td>\n      <td>1022.20</td>\n      <td>1017.90</td>\n      <td>1016.00</td>\n    </tr>\n    <tr>\n      <th>2022-09-22 21:00:00</th>\n      <td>13.20</td>\n      <td>16.60</td>\n      <td>13.90</td>\n      <td>12.40</td>\n      <td>10.50</td>\n      <td>14.30</td>\n      <td>12.40</td>\n      <td>15.10</td>\n      <td>11.70</td>\n      <td>10.80</td>\n      <td>...</td>\n      <td>1019.60</td>\n      <td>1024.20</td>\n      <td>1022.20</td>\n      <td>1023.00</td>\n      <td>1023.70</td>\n      <td>1022.00</td>\n      <td>1024.00</td>\n      <td>1022.40</td>\n      <td>1018.10</td>\n      <td>1017.40</td>\n    </tr>\n    <tr>\n      <th>2022-09-22 22:00:00</th>\n      <td>11.90</td>\n      <td>16.20</td>\n      <td>12.40</td>\n      <td>12.50</td>\n      <td>9.90</td>\n      <td>13.50</td>\n      <td>12.70</td>\n      <td>14.40</td>\n      <td>11.80</td>\n      <td>9.90</td>\n      <td>...</td>\n      <td>1018.50</td>\n      <td>1023.30</td>\n      <td>1021.90</td>\n      <td>1023.00</td>\n      <td>1023.10</td>\n      <td>1021.10</td>\n      <td>1023.00</td>\n      <td>1022.30</td>\n      <td>1018.40</td>\n      <td>1017.80</td>\n    </tr>\n    <tr>\n      <th>2022-09-22 23:00:00</th>\n      <td>11.30</td>\n      <td>15.90</td>\n      <td>11.50</td>\n      <td>11.60</td>\n      <td>7.20</td>\n      <td>12.80</td>\n      <td>12.00</td>\n      <td>13.50</td>\n      <td>10.40</td>\n      <td>8.80</td>\n      <td>...</td>\n      <td>1017.10</td>\n      <td>1022.50</td>\n      <td>1021.80</td>\n      <td>1022.00</td>\n      <td>1022.60</td>\n      <td>1020.30</td>\n      <td>1023.00</td>\n      <td>1022.10</td>\n      <td>1018.60</td>\n      <td>1018.00</td>\n    </tr>\n  </tbody>\n</table>\n<p>6360 rows × 4249 columns</p>\n</div>"
     },
     "execution_count": 18,
     "metadata": {},
     "output_type": "execute_result"
    }
   ],
   "source": [
    "pivoted_df = df.pivot(index='time', columns='station', values=['temp', 'dwpt','rhum','prcp','wdir','wspd','pres'])\n",
    "pivoted_df.columns = ['_'.join(col) for col in pivoted_df.columns.values]\n",
    "pivoted_df"
   ],
   "metadata": {
    "collapsed": false,
    "pycharm": {
     "name": "#%%\n"
    }
   }
  },
  {
   "cell_type": "markdown",
   "source": [
    "### Our target is Ann Arbor which is station KARB0. This simple model will just try to predict the temperature for KARB0. So will build some features specifically around it."
   ],
   "metadata": {
    "collapsed": false
   }
  },
  {
   "cell_type": "code",
   "execution_count": 19,
   "outputs": [],
   "source": [
    "ann_arbor_cols = [col for col in pivoted_df.columns if \"KARB0\" in col]\n",
    "ann_arbor_df = pivoted_df[ann_arbor_cols].copy()"
   ],
   "metadata": {
    "collapsed": false,
    "pycharm": {
     "name": "#%%\n"
    }
   }
  },
  {
   "cell_type": "markdown",
   "source": [
    "#### This adds a columnn for the weather at 24 hrs prior to our target"
   ],
   "metadata": {
    "collapsed": false
   }
  },
  {
   "cell_type": "code",
   "execution_count": 20,
   "outputs": [],
   "source": [
    "for col in ann_arbor_df.columns:\n",
    "    ann_arbor_df[f'24 hr~{col}'] = ann_arbor_df[col].shift(-24)"
   ],
   "metadata": {
    "collapsed": false,
    "pycharm": {
     "name": "#%%\n"
    }
   }
  },
  {
   "cell_type": "code",
   "execution_count": 21,
   "outputs": [
    {
     "data": {
      "text/plain": "                     temp_KARB0  dwpt_KARB0  rhum_KARB0  prcp_KARB0  \\\n2022-01-01 00:00:00        5.00        2.90       86.00        0.00   \n2022-01-01 01:00:00        5.00        2.90       86.00        0.00   \n2022-01-01 02:00:00        5.00        2.90       86.00        0.00   \n2022-01-01 03:00:00        5.00        2.90       86.00        0.00   \n2022-01-01 04:00:00        5.60        3.30       85.00        0.00   \n...                         ...         ...         ...         ...   \n2022-09-21 19:00:00       29.40       20.60       59.00        0.00   \n2022-09-21 20:00:00       28.30       20.10       61.00        0.00   \n2022-09-21 21:00:00       27.80       19.30       60.00        0.00   \n2022-09-21 22:00:00       26.70       18.80       62.00        0.00   \n2022-09-21 23:00:00       25.00       15.60       56.00        0.00   \n\n                     wdir_KARB0  wspd_KARB0  pres_KARB0  24 hr~temp_KARB0  \\\n2022-01-01 00:00:00      120.00       11.00     1005.00             -2.20   \n2022-01-01 01:00:00      120.00       11.20     1005.40             -2.80   \n2022-01-01 02:00:00      120.00        5.40     1005.30             -3.30   \n2022-01-01 03:00:00        0.00        0.00     1004.90             -3.90   \n2022-01-01 04:00:00        0.00        0.00     1004.90             -4.40   \n...                         ...         ...         ...               ...   \n2022-09-21 19:00:00      290.00       22.30     1007.30             15.00   \n2022-09-21 20:00:00      260.00       18.40     1007.00             16.10   \n2022-09-21 21:00:00      280.00       18.40     1007.40             16.00   \n2022-09-21 22:00:00      250.00       16.60     1007.40             14.00   \n2022-09-21 23:00:00      290.00       22.00     1009.00             13.00   \n\n                     24 hr~dwpt_KARB0  24 hr~rhum_KARB0  24 hr~prcp_KARB0  \\\n2022-01-01 00:00:00             -3.90             88.00              0.60   \n2022-01-01 01:00:00             -5.60             81.00              0.70   \n2022-01-01 02:00:00             -5.60             84.00              0.40   \n2022-01-01 03:00:00             -6.10             85.00              0.30   \n2022-01-01 04:00:00             -6.10             88.00              0.30   \n...                               ...               ...               ...   \n2022-09-21 19:00:00              3.50             46.00              0.00   \n2022-09-21 20:00:00              4.50             46.00              0.00   \n2022-09-21 21:00:00              4.40             46.00              0.00   \n2022-09-21 22:00:00              2.90             47.00              0.00   \n2022-09-21 23:00:00              3.10             51.00              0.00   \n\n                     24 hr~wdir_KARB0  24 hr~wspd_KARB0  24 hr~pres_KARB0  \n2022-01-01 00:00:00             50.00             16.60           1010.00  \n2022-01-01 01:00:00             30.00             16.60           1010.20  \n2022-01-01 02:00:00             30.00             24.10           1009.90  \n2022-01-01 03:00:00             20.00             18.40           1010.30  \n2022-01-01 04:00:00             30.00             16.60           1010.10  \n...                               ...               ...               ...  \n2022-09-21 19:00:00            320.00             25.90           1017.60  \n2022-09-21 20:00:00            320.00             18.40           1017.90  \n2022-09-21 21:00:00            330.00             22.00           1019.00  \n2022-09-21 22:00:00            330.00             22.00           1019.00  \n2022-09-21 23:00:00            320.00             13.00           1019.00  \n\n[6336 rows x 14 columns]",
      "text/html": "<div>\n<style scoped>\n    .dataframe tbody tr th:only-of-type {\n        vertical-align: middle;\n    }\n\n    .dataframe tbody tr th {\n        vertical-align: top;\n    }\n\n    .dataframe thead th {\n        text-align: right;\n    }\n</style>\n<table border=\"1\" class=\"dataframe\">\n  <thead>\n    <tr style=\"text-align: right;\">\n      <th></th>\n      <th>temp_KARB0</th>\n      <th>dwpt_KARB0</th>\n      <th>rhum_KARB0</th>\n      <th>prcp_KARB0</th>\n      <th>wdir_KARB0</th>\n      <th>wspd_KARB0</th>\n      <th>pres_KARB0</th>\n      <th>24 hr~temp_KARB0</th>\n      <th>24 hr~dwpt_KARB0</th>\n      <th>24 hr~rhum_KARB0</th>\n      <th>24 hr~prcp_KARB0</th>\n      <th>24 hr~wdir_KARB0</th>\n      <th>24 hr~wspd_KARB0</th>\n      <th>24 hr~pres_KARB0</th>\n    </tr>\n  </thead>\n  <tbody>\n    <tr>\n      <th>2022-01-01 00:00:00</th>\n      <td>5.00</td>\n      <td>2.90</td>\n      <td>86.00</td>\n      <td>0.00</td>\n      <td>120.00</td>\n      <td>11.00</td>\n      <td>1005.00</td>\n      <td>-2.20</td>\n      <td>-3.90</td>\n      <td>88.00</td>\n      <td>0.60</td>\n      <td>50.00</td>\n      <td>16.60</td>\n      <td>1010.00</td>\n    </tr>\n    <tr>\n      <th>2022-01-01 01:00:00</th>\n      <td>5.00</td>\n      <td>2.90</td>\n      <td>86.00</td>\n      <td>0.00</td>\n      <td>120.00</td>\n      <td>11.20</td>\n      <td>1005.40</td>\n      <td>-2.80</td>\n      <td>-5.60</td>\n      <td>81.00</td>\n      <td>0.70</td>\n      <td>30.00</td>\n      <td>16.60</td>\n      <td>1010.20</td>\n    </tr>\n    <tr>\n      <th>2022-01-01 02:00:00</th>\n      <td>5.00</td>\n      <td>2.90</td>\n      <td>86.00</td>\n      <td>0.00</td>\n      <td>120.00</td>\n      <td>5.40</td>\n      <td>1005.30</td>\n      <td>-3.30</td>\n      <td>-5.60</td>\n      <td>84.00</td>\n      <td>0.40</td>\n      <td>30.00</td>\n      <td>24.10</td>\n      <td>1009.90</td>\n    </tr>\n    <tr>\n      <th>2022-01-01 03:00:00</th>\n      <td>5.00</td>\n      <td>2.90</td>\n      <td>86.00</td>\n      <td>0.00</td>\n      <td>0.00</td>\n      <td>0.00</td>\n      <td>1004.90</td>\n      <td>-3.90</td>\n      <td>-6.10</td>\n      <td>85.00</td>\n      <td>0.30</td>\n      <td>20.00</td>\n      <td>18.40</td>\n      <td>1010.30</td>\n    </tr>\n    <tr>\n      <th>2022-01-01 04:00:00</th>\n      <td>5.60</td>\n      <td>3.30</td>\n      <td>85.00</td>\n      <td>0.00</td>\n      <td>0.00</td>\n      <td>0.00</td>\n      <td>1004.90</td>\n      <td>-4.40</td>\n      <td>-6.10</td>\n      <td>88.00</td>\n      <td>0.30</td>\n      <td>30.00</td>\n      <td>16.60</td>\n      <td>1010.10</td>\n    </tr>\n    <tr>\n      <th>...</th>\n      <td>...</td>\n      <td>...</td>\n      <td>...</td>\n      <td>...</td>\n      <td>...</td>\n      <td>...</td>\n      <td>...</td>\n      <td>...</td>\n      <td>...</td>\n      <td>...</td>\n      <td>...</td>\n      <td>...</td>\n      <td>...</td>\n      <td>...</td>\n    </tr>\n    <tr>\n      <th>2022-09-21 19:00:00</th>\n      <td>29.40</td>\n      <td>20.60</td>\n      <td>59.00</td>\n      <td>0.00</td>\n      <td>290.00</td>\n      <td>22.30</td>\n      <td>1007.30</td>\n      <td>15.00</td>\n      <td>3.50</td>\n      <td>46.00</td>\n      <td>0.00</td>\n      <td>320.00</td>\n      <td>25.90</td>\n      <td>1017.60</td>\n    </tr>\n    <tr>\n      <th>2022-09-21 20:00:00</th>\n      <td>28.30</td>\n      <td>20.10</td>\n      <td>61.00</td>\n      <td>0.00</td>\n      <td>260.00</td>\n      <td>18.40</td>\n      <td>1007.00</td>\n      <td>16.10</td>\n      <td>4.50</td>\n      <td>46.00</td>\n      <td>0.00</td>\n      <td>320.00</td>\n      <td>18.40</td>\n      <td>1017.90</td>\n    </tr>\n    <tr>\n      <th>2022-09-21 21:00:00</th>\n      <td>27.80</td>\n      <td>19.30</td>\n      <td>60.00</td>\n      <td>0.00</td>\n      <td>280.00</td>\n      <td>18.40</td>\n      <td>1007.40</td>\n      <td>16.00</td>\n      <td>4.40</td>\n      <td>46.00</td>\n      <td>0.00</td>\n      <td>330.00</td>\n      <td>22.00</td>\n      <td>1019.00</td>\n    </tr>\n    <tr>\n      <th>2022-09-21 22:00:00</th>\n      <td>26.70</td>\n      <td>18.80</td>\n      <td>62.00</td>\n      <td>0.00</td>\n      <td>250.00</td>\n      <td>16.60</td>\n      <td>1007.40</td>\n      <td>14.00</td>\n      <td>2.90</td>\n      <td>47.00</td>\n      <td>0.00</td>\n      <td>330.00</td>\n      <td>22.00</td>\n      <td>1019.00</td>\n    </tr>\n    <tr>\n      <th>2022-09-21 23:00:00</th>\n      <td>25.00</td>\n      <td>15.60</td>\n      <td>56.00</td>\n      <td>0.00</td>\n      <td>290.00</td>\n      <td>22.00</td>\n      <td>1009.00</td>\n      <td>13.00</td>\n      <td>3.10</td>\n      <td>51.00</td>\n      <td>0.00</td>\n      <td>320.00</td>\n      <td>13.00</td>\n      <td>1019.00</td>\n    </tr>\n  </tbody>\n</table>\n<p>6336 rows × 14 columns</p>\n</div>"
     },
     "execution_count": 21,
     "metadata": {},
     "output_type": "execute_result"
    }
   ],
   "source": [
    "ann_arbor_df = ann_arbor_df.rename_axis(None, axis = 0)\n",
    "ann_arbor_df = ann_arbor_df[ann_arbor_df['24 hr~temp_KARB0'].notna()]\n",
    "ann_arbor_df"
   ],
   "metadata": {
    "collapsed": false,
    "pycharm": {
     "name": "#%%\n"
    }
   }
  },
  {
   "cell_type": "markdown",
   "source": [
    "### Now our target will be the '-24hr~temp_KARB0' column, which is the temperature 24 hrs in the future from all of the original features."
   ],
   "metadata": {
    "collapsed": false
   }
  },
  {
   "cell_type": "code",
   "execution_count": 14,
   "outputs": [
    {
     "name": "stderr",
     "output_type": "stream",
     "text": [
      " 24%|██▍       | 10/42 [00:01<00:04,  7.10it/s]"
     ]
    },
    {
     "name": "stdout",
     "output_type": "stream",
     "text": [
      "GammaRegressor model failed to execute\n",
      "Some value(s) of y are out of the valid range of the loss 'HalfGammaLoss'.\n"
     ]
    },
    {
     "name": "stderr",
     "output_type": "stream",
     "text": [
      " 67%|██████▋   | 28/42 [00:09<00:06,  2.30it/s]"
     ]
    },
    {
     "name": "stdout",
     "output_type": "stream",
     "text": [
      "PoissonRegressor model failed to execute\n",
      "Some value(s) of y are out of the valid range of the loss 'HalfPoissonLoss'.\n"
     ]
    },
    {
     "name": "stderr",
     "output_type": "stream",
     "text": [
      "100%|██████████| 42/42 [20:18<00:00, 29.02s/it] "
     ]
    },
    {
     "name": "stdout",
     "output_type": "stream",
     "text": [
      "                               Adjusted R-Squared  R-Squared   RMSE  \\\n",
      "Model                                                                 \n",
      "ExtraTreesRegressor                          0.93       0.93   3.30   \n",
      "RandomForestRegressor                        0.92       0.92   3.34   \n",
      "XGBRegressor                                 0.91       0.91   3.56   \n",
      "BaggingRegressor                             0.91       0.91   3.57   \n",
      "HistGradientBoostingRegressor                0.91       0.91   3.59   \n",
      "LGBMRegressor                                0.91       0.91   3.59   \n",
      "KNeighborsRegressor                          0.90       0.90   3.87   \n",
      "GradientBoostingRegressor                    0.89       0.89   4.01   \n",
      "MLPRegressor                                 0.89       0.89   4.07   \n",
      "SVR                                          0.88       0.88   4.29   \n",
      "NuSVR                                        0.87       0.87   4.33   \n",
      "Lars                                         0.87       0.87   4.45   \n",
      "LarsCV                                       0.87       0.87   4.45   \n",
      "LassoLarsIC                                  0.87       0.87   4.45   \n",
      "LassoLarsCV                                  0.87       0.87   4.45   \n",
      "TransformedTargetRegressor                   0.87       0.87   4.45   \n",
      "LinearRegression                             0.87       0.87   4.45   \n",
      "RidgeCV                                      0.87       0.87   4.45   \n",
      "HuberRegressor                               0.87       0.87   4.45   \n",
      "BayesianRidge                                0.87       0.87   4.46   \n",
      "Ridge                                        0.87       0.87   4.46   \n",
      "LassoCV                                      0.87       0.87   4.46   \n",
      "OrthogonalMatchingPursuitCV                  0.87       0.87   4.46   \n",
      "LinearSVR                                    0.87       0.87   4.47   \n",
      "ElasticNetCV                                 0.86       0.86   4.48   \n",
      "SGDRegressor                                 0.86       0.86   4.49   \n",
      "RANSACRegressor                              0.86       0.86   4.50   \n",
      "AdaBoostRegressor                            0.86       0.86   4.58   \n",
      "DecisionTreeRegressor                        0.85       0.85   4.65   \n",
      "Lasso                                        0.84       0.85   4.80   \n",
      "OrthogonalMatchingPursuit                    0.84       0.84   4.87   \n",
      "ExtraTreeRegressor                           0.82       0.82   5.12   \n",
      "ElasticNet                                   0.80       0.80   5.47   \n",
      "TweedieRegressor                             0.75       0.76   6.03   \n",
      "PassiveAggressiveRegressor                   0.74       0.74   6.23   \n",
      "KernelRidge                                  0.11       0.12  11.45   \n",
      "DummyRegressor                              -0.00      -0.00  12.19   \n",
      "LassoLars                                   -0.00      -0.00  12.19   \n",
      "QuantileRegressor                           -0.03      -0.03  12.37   \n",
      "GaussianProcessRegressor                  -686.98    -683.93 319.06   \n",
      "\n",
      "                               Time Taken  \n",
      "Model                                      \n",
      "ExtraTreesRegressor                  0.82  \n",
      "RandomForestRegressor                1.06  \n",
      "XGBRegressor                         0.22  \n",
      "BaggingRegressor                     0.12  \n",
      "HistGradientBoostingRegressor        0.56  \n",
      "LGBMRegressor                        0.08  \n",
      "KNeighborsRegressor                  0.06  \n",
      "GradientBoostingRegressor            0.29  \n",
      "MLPRegressor                         3.45  \n",
      "SVR                                  1.27  \n",
      "NuSVR                                0.83  \n",
      "Lars                                 0.01  \n",
      "LarsCV                               0.02  \n",
      "LassoLarsIC                          0.01  \n",
      "LassoLarsCV                          0.02  \n",
      "TransformedTargetRegressor           0.01  \n",
      "LinearRegression                     0.01  \n",
      "RidgeCV                              0.01  \n",
      "HuberRegressor                       0.03  \n",
      "BayesianRidge                        0.01  \n",
      "Ridge                                0.01  \n",
      "LassoCV                              0.05  \n",
      "OrthogonalMatchingPursuitCV          0.02  \n",
      "LinearSVR                            0.03  \n",
      "ElasticNetCV                         0.06  \n",
      "SGDRegressor                         0.01  \n",
      "RANSACRegressor                      0.02  \n",
      "AdaBoostRegressor                    0.18  \n",
      "DecisionTreeRegressor                0.02  \n",
      "Lasso                                0.01  \n",
      "OrthogonalMatchingPursuit            0.01  \n",
      "ExtraTreeRegressor                   0.01  \n",
      "ElasticNet                           0.01  \n",
      "TweedieRegressor                     0.01  \n",
      "PassiveAggressiveRegressor           0.01  \n",
      "KernelRidge                          0.95  \n",
      "DummyRegressor                       0.01  \n",
      "LassoLars                            0.01  \n",
      "QuantileRegressor                 1206.22  \n",
      "GaussianProcessRegressor             2.30  \n"
     ]
    },
    {
     "name": "stderr",
     "output_type": "stream",
     "text": [
      "\n"
     ]
    }
   ],
   "source": [
    "from lazypredict.Supervised import LazyRegressor\n",
    "from sklearn.model_selection import train_test_split\n",
    "X_train, X_test, y_train, y_test = train_test_split(X, y,random_state =696)\n",
    "reg = LazyRegressor(verbose=0,ignore_warnings=False, custom_metric=None)\n",
    "models,predictions = reg.fit(X_train, X_test, y_train, y_test)\n",
    "print(models)"
   ],
   "metadata": {
    "collapsed": false,
    "pycharm": {
     "name": "#%%\n"
    }
   }
  },
  {
   "cell_type": "code",
   "execution_count": 27,
   "outputs": [],
   "source": [
    "from sklearn.ensemble import ExtraTreesRegressor\n",
    "from sklearn import linear_model\n",
    "from sklearn.dummy import DummyRegressor\n",
    "X_cols = [col for col in ann_arbor_df.columns if \"~\" not in col]\n",
    "X = ann_arbor_df[X_cols]\n",
    "y = ann_arbor_df['24 hr~temp_KARB0']\n",
    "X_train, X_test, y_train, y_test = train_test_split(X, y, random_state=42)\n",
    "xt_reg = ExtraTreesRegressor(n_estimators=100, random_state=696,n_jobs=-1).fit(X_train, y_train)\n",
    "lasso_reg = linear_model.Lasso(alpha=0.1).fit(X_train, y_train)\n",
    "tw_reg = linear_model.TweedieRegressor().fit(X_train, y_train)\n",
    "dummy_reg = DummyRegressor(strategy=\"mean\").fit(X_train, y_train)"
   ],
   "metadata": {
    "collapsed": false,
    "pycharm": {
     "name": "#%%\n"
    }
   }
  },
  {
   "cell_type": "code",
   "execution_count": 28,
   "outputs": [
    {
     "name": "stdout",
     "output_type": "stream",
     "text": [
      "Extra Trees Regressor acc score: 0.9328335846236752\n",
      "      Lasso Regressor acc score: 0.85775179782658\n",
      "    Tweedie Regressor acc score: 0.8461027179788403\n",
      "      Dummy Regressor acc score: -0.0010437921892019197\n"
     ]
    }
   ],
   "source": [
    "print(f\"Extra Trees Regressor acc score: {xt_reg.score(X_test,y_test)}\")\n",
    "print(f\"      Lasso Regressor acc score: {lasso_reg.score(X_test,y_test)}\")\n",
    "print(f\"    Tweedie Regressor acc score: {tw_reg.score(X_test,y_test)}\")\n",
    "print(f\"      Dummy Regressor acc score: {dummy_reg.score(X_test,y_test)}\")"
   ],
   "metadata": {
    "collapsed": false,
    "pycharm": {
     "name": "#%%\n"
    }
   }
  },
  {
   "cell_type": "code",
   "execution_count": 30,
   "outputs": [
    {
     "data": {
      "text/plain": "      Feature Importance\n0  temp_KARB0       0.47\n1  dwpt_KARB0       0.38\n2  rhum_KARB0       0.04\n3  prcp_KARB0       0.01\n4  wdir_KARB0       0.03\n5  wspd_KARB0       0.02\n6  pres_KARB0       0.04",
      "text/html": "<div>\n<style scoped>\n    .dataframe tbody tr th:only-of-type {\n        vertical-align: middle;\n    }\n\n    .dataframe tbody tr th {\n        vertical-align: top;\n    }\n\n    .dataframe thead th {\n        text-align: right;\n    }\n</style>\n<table border=\"1\" class=\"dataframe\">\n  <thead>\n    <tr style=\"text-align: right;\">\n      <th></th>\n      <th>Feature</th>\n      <th>Importance</th>\n    </tr>\n  </thead>\n  <tbody>\n    <tr>\n      <th>0</th>\n      <td>temp_KARB0</td>\n      <td>0.47</td>\n    </tr>\n    <tr>\n      <th>1</th>\n      <td>dwpt_KARB0</td>\n      <td>0.38</td>\n    </tr>\n    <tr>\n      <th>2</th>\n      <td>rhum_KARB0</td>\n      <td>0.04</td>\n    </tr>\n    <tr>\n      <th>3</th>\n      <td>prcp_KARB0</td>\n      <td>0.01</td>\n    </tr>\n    <tr>\n      <th>4</th>\n      <td>wdir_KARB0</td>\n      <td>0.03</td>\n    </tr>\n    <tr>\n      <th>5</th>\n      <td>wspd_KARB0</td>\n      <td>0.02</td>\n    </tr>\n    <tr>\n      <th>6</th>\n      <td>pres_KARB0</td>\n      <td>0.04</td>\n    </tr>\n  </tbody>\n</table>\n</div>"
     },
     "execution_count": 30,
     "metadata": {},
     "output_type": "execute_result"
    }
   ],
   "source": [
    "feature_importance_df = pd.DataFrame([X.columns, xt_reg.feature_importances_]).transpose()\n",
    "feature_importance_df.columns = ['Feature', 'Importance']\n",
    "feature_importance_df"
   ],
   "metadata": {
    "collapsed": false,
    "pycharm": {
     "name": "#%%\n"
    }
   }
  },
  {
   "cell_type": "code",
   "execution_count": 33,
   "outputs": [
    {
     "data": {
      "text/html": "\n<div id=\"altair-viz-4c016e1ee3a04984b75eee579769f7b7\"></div>\n<script type=\"text/javascript\">\n  var VEGA_DEBUG = (typeof VEGA_DEBUG == \"undefined\") ? {} : VEGA_DEBUG;\n  (function(spec, embedOpt){\n    let outputDiv = document.currentScript.previousElementSibling;\n    if (outputDiv.id !== \"altair-viz-4c016e1ee3a04984b75eee579769f7b7\") {\n      outputDiv = document.getElementById(\"altair-viz-4c016e1ee3a04984b75eee579769f7b7\");\n    }\n    const paths = {\n      \"vega\": \"https://cdn.jsdelivr.net/npm//vega@5?noext\",\n      \"vega-lib\": \"https://cdn.jsdelivr.net/npm//vega-lib?noext\",\n      \"vega-lite\": \"https://cdn.jsdelivr.net/npm//vega-lite@4.17.0?noext\",\n      \"vega-embed\": \"https://cdn.jsdelivr.net/npm//vega-embed@6?noext\",\n    };\n\n    function maybeLoadScript(lib, version) {\n      var key = `${lib.replace(\"-\", \"\")}_version`;\n      return (VEGA_DEBUG[key] == version) ?\n        Promise.resolve(paths[lib]) :\n        new Promise(function(resolve, reject) {\n          var s = document.createElement('script');\n          document.getElementsByTagName(\"head\")[0].appendChild(s);\n          s.async = true;\n          s.onload = () => {\n            VEGA_DEBUG[key] = version;\n            return resolve(paths[lib]);\n          };\n          s.onerror = () => reject(`Error loading script: ${paths[lib]}`);\n          s.src = paths[lib];\n        });\n    }\n\n    function showError(err) {\n      outputDiv.innerHTML = `<div class=\"error\" style=\"color:red;\">${err}</div>`;\n      throw err;\n    }\n\n    function displayChart(vegaEmbed) {\n      vegaEmbed(outputDiv, spec, embedOpt)\n        .catch(err => showError(`Javascript Error: ${err.message}<br>This usually means there's a typo in your chart specification. See the javascript console for the full traceback.`));\n    }\n\n    if(typeof define === \"function\" && define.amd) {\n      requirejs.config({paths});\n      require([\"vega-embed\"], displayChart, err => showError(`Error loading script: ${err.message}`));\n    } else {\n      maybeLoadScript(\"vega\", \"5\")\n        .then(() => maybeLoadScript(\"vega-lite\", \"4.17.0\"))\n        .then(() => maybeLoadScript(\"vega-embed\", \"6\"))\n        .catch(showError)\n        .then(() => displayChart(vegaEmbed));\n    }\n  })({\"config\": {\"view\": {\"continuousWidth\": 400, \"continuousHeight\": 300}}, \"data\": {\"name\": \"data-70a6b21f1ea706017f2e92298ede4665\"}, \"mark\": \"bar\", \"encoding\": {\"x\": {\"axis\": {\"format\": \"%\", \"labelFontSize\": 12, \"tickSize\": 0}, \"field\": \"Importance\", \"type\": \"quantitative\"}, \"y\": {\"axis\": {\"labelFontSize\": 12, \"labelPadding\": 10, \"tickSize\": 0}, \"field\": \"Feature\", \"sort\": [\"temp_KARB0\", \"dwpt_KARB0\", \"rhum_KARB0\", \"prcp_KARB0\", \"wdir_KARB0\", \"wspd_KARB0\", \"pres_KARB0\"], \"title\": \"\", \"type\": \"nominal\"}}, \"height\": 600, \"$schema\": \"https://vega.github.io/schema/vega-lite/v4.17.0.json\", \"datasets\": {\"data-70a6b21f1ea706017f2e92298ede4665\": [{\"Feature\": \"temp_KARB0\", \"Importance\": 0.47415023360325553}, {\"Feature\": \"dwpt_KARB0\", \"Importance\": 0.3812621890514818}, {\"Feature\": \"rhum_KARB0\", \"Importance\": 0.03600948218206036}, {\"Feature\": \"prcp_KARB0\", \"Importance\": 0.007379087373589925}, {\"Feature\": \"wdir_KARB0\", \"Importance\": 0.034206134512476415}, {\"Feature\": \"wspd_KARB0\", \"Importance\": 0.024180416012522653}, {\"Feature\": \"pres_KARB0\", \"Importance\": 0.042812457264613274}]}}, {\"mode\": \"vega-lite\"});\n</script>",
      "text/plain": "alt.Chart(...)"
     },
     "execution_count": 33,
     "metadata": {},
     "output_type": "execute_result"
    }
   ],
   "source": [
    "import altair as alt\n",
    "alt.Chart(feature_importance_df).mark_bar().encode(\n",
    "    x=alt.X('Importance:Q', axis=alt.Axis(format=\"%\", tickSize=0, labelFontSize=12)),\n",
    "    y=alt.Y(\n",
    "        'Feature:N', sort=list(feature_importance_df.Feature), title=\"\",\n",
    "        axis=alt.Axis(tickSize=0, labelFontSize=12, labelPadding=10)),\n",
    ").properties(\n",
    "    height=600\n",
    ")\n",
    "\n"
   ],
   "metadata": {
    "collapsed": false,
    "pycharm": {
     "name": "#%%\n"
    }
   }
  }
 ],
 "metadata": {
  "kernelspec": {
   "display_name": "Python 3",
   "language": "python",
   "name": "python3"
  },
  "language_info": {
   "codemirror_mode": {
    "name": "ipython",
    "version": 2
   },
   "file_extension": ".py",
   "mimetype": "text/x-python",
   "name": "python",
   "nbconvert_exporter": "python",
   "pygments_lexer": "ipython2",
   "version": "2.7.6"
  }
 },
 "nbformat": 4,
 "nbformat_minor": 0
}