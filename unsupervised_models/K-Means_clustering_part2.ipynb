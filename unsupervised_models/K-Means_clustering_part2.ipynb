{
 "cells": [
  {
   "cell_type": "markdown",
   "metadata": {
    "cell_id": "543c9ac217bd4fdb93931b1313bbf251",
    "deepnote_cell_type": "markdown"
   },
   "source": [
    "### Exploring K-Means  & Comparing it to DBSCAN \n"
   ]
  },
  {
   "cell_type": "code",
   "execution_count": 9,
   "metadata": {
    "cell_id": "71768aac6bab4190ad06e99aba2f443d",
    "deepnote_cell_type": "code",
    "deepnote_to_be_reexecuted": false,
    "execution_millis": 0,
    "execution_start": 1665280718837,
    "source_hash": "bbfc2aff"
   },
   "outputs": [],
   "source": [
    "from pathlib import Path\n",
    "import os\n",
    "import pandas as pd\n",
    "import numpy as np\n",
    "from datetime import datetime, timedelta\n",
    "from sklearn.neighbors import KNeighborsClassifier\n",
    "from sklearn.cluster import KMeans, DBSCAN\n",
    "from sklearn import metrics\n",
    "from sklearn import preprocessing\n",
    "from sklearn.preprocessing import StandardScaler, LabelEncoder\n",
    "from sklearn.metrics.cluster import silhouette_score\n",
    "#from adspy_shared_utilities import plot_labelled_scatter\n",
    "import matplotlib.pyplot as plt"
   ]
  },
  {
   "cell_type": "code",
   "execution_count": 13,
   "metadata": {},
   "outputs": [],
   "source": [
    "# need version 1.4.1 to get read_pickle method to work\n",
    "ROOT_DIR = os.path.realpath(os.path.join(os.getcwd(), '..'))\n",
    "cln_pkl_loc = os.path.join(ROOT_DIR, 'data','cleanweathersmall.pkl')"
   ]
  },
  {
   "cell_type": "code",
   "execution_count": 14,
   "metadata": {
    "cell_id": "d1b47b5050fb45b5b8a5c37c0d67689c",
    "deepnote_cell_type": "code",
    "deepnote_to_be_reexecuted": false,
    "execution_millis": 1718,
    "execution_start": 1665280718838,
    "source_hash": "f0943f1e"
   },
   "outputs": [
    {
     "data": {
      "text/html": [
       "<div>\n",
       "<style scoped>\n",
       "    .dataframe tbody tr th:only-of-type {\n",
       "        vertical-align: middle;\n",
       "    }\n",
       "\n",
       "    .dataframe tbody tr th {\n",
       "        vertical-align: top;\n",
       "    }\n",
       "\n",
       "    .dataframe thead th {\n",
       "        text-align: right;\n",
       "    }\n",
       "</style>\n",
       "<table border=\"1\" class=\"dataframe\">\n",
       "  <thead>\n",
       "    <tr style=\"text-align: right;\">\n",
       "      <th></th>\n",
       "      <th>station</th>\n",
       "      <th>time</th>\n",
       "      <th>temp</th>\n",
       "      <th>dwpt</th>\n",
       "      <th>rhum</th>\n",
       "      <th>prcp</th>\n",
       "      <th>wdir</th>\n",
       "      <th>wspd</th>\n",
       "      <th>pres</th>\n",
       "    </tr>\n",
       "  </thead>\n",
       "  <tbody>\n",
       "    <tr>\n",
       "      <th>1296325</th>\n",
       "      <td>KANW0</td>\n",
       "      <td>2022-08-07 13:00:00</td>\n",
       "      <td>16.4</td>\n",
       "      <td>14.6</td>\n",
       "      <td>89.0</td>\n",
       "      <td>0.0</td>\n",
       "      <td>20.0</td>\n",
       "      <td>13.0</td>\n",
       "      <td>1019.0</td>\n",
       "    </tr>\n",
       "    <tr>\n",
       "      <th>1792290</th>\n",
       "      <td>KDNS0</td>\n",
       "      <td>2022-08-02 18:00:00</td>\n",
       "      <td>32.0</td>\n",
       "      <td>28.1</td>\n",
       "      <td>80.0</td>\n",
       "      <td>0.0</td>\n",
       "      <td>180.0</td>\n",
       "      <td>22.3</td>\n",
       "      <td>1009.0</td>\n",
       "    </tr>\n",
       "    <tr>\n",
       "      <th>3015252</th>\n",
       "      <td>KPPO0</td>\n",
       "      <td>2022-01-26 12:00:00</td>\n",
       "      <td>-19.6</td>\n",
       "      <td>-22.0</td>\n",
       "      <td>81.0</td>\n",
       "      <td>0.0</td>\n",
       "      <td>260.0</td>\n",
       "      <td>13.0</td>\n",
       "      <td>1031.0</td>\n",
       "    </tr>\n",
       "  </tbody>\n",
       "</table>\n",
       "</div>"
      ],
      "text/plain": [
       "        station                time  temp  dwpt  rhum  prcp   wdir  wspd  \\\n",
       "1296325   KANW0 2022-08-07 13:00:00  16.4  14.6  89.0   0.0   20.0  13.0   \n",
       "1792290   KDNS0 2022-08-02 18:00:00  32.0  28.1  80.0   0.0  180.0  22.3   \n",
       "3015252   KPPO0 2022-01-26 12:00:00 -19.6 -22.0  81.0   0.0  260.0  13.0   \n",
       "\n",
       "           pres  \n",
       "1296325  1019.0  \n",
       "1792290  1009.0  \n",
       "3015252  1031.0  "
      ]
     },
     "execution_count": 14,
     "metadata": {},
     "output_type": "execute_result"
    }
   ],
   "source": [
    "# get location from clean pickel file\n",
    "#cln_pkl_loc = Path('cleanweathersmall.pkl')\n",
    "# load it onto df\n",
    "df = pd.read_pickle(cln_pkl_loc)\n",
    "# quick look at the df\n",
    "df.sample(3)"
   ]
  },
  {
   "cell_type": "markdown",
   "metadata": {
    "cell_id": "d428cacee2144610af83484bb9ff182c",
    "deepnote_cell_type": "markdown"
   },
   "source": [
    "### Apply K-Means Algorithm to create clusters"
   ]
  },
  {
   "cell_type": "markdown",
   "metadata": {},
   "source": [
    "### Create clusters by grouping all stations by month and by hours based on datestamps"
   ]
  },
  {
   "cell_type": "code",
   "execution_count": 17,
   "metadata": {},
   "outputs": [
    {
     "data": {
      "text/html": [
       "<div>\n",
       "<style scoped>\n",
       "    .dataframe tbody tr th:only-of-type {\n",
       "        vertical-align: middle;\n",
       "    }\n",
       "\n",
       "    .dataframe tbody tr th {\n",
       "        vertical-align: top;\n",
       "    }\n",
       "\n",
       "    .dataframe thead th {\n",
       "        text-align: right;\n",
       "    }\n",
       "</style>\n",
       "<table border=\"1\" class=\"dataframe\">\n",
       "  <thead>\n",
       "    <tr style=\"text-align: right;\">\n",
       "      <th></th>\n",
       "      <th>temp</th>\n",
       "      <th>dwpt</th>\n",
       "      <th>rhum</th>\n",
       "      <th>prcp</th>\n",
       "      <th>wdir</th>\n",
       "      <th>wspd</th>\n",
       "      <th>pres</th>\n",
       "    </tr>\n",
       "    <tr>\n",
       "      <th>station</th>\n",
       "      <th></th>\n",
       "      <th></th>\n",
       "      <th></th>\n",
       "      <th></th>\n",
       "      <th></th>\n",
       "      <th></th>\n",
       "      <th></th>\n",
       "    </tr>\n",
       "  </thead>\n",
       "  <tbody>\n",
       "  </tbody>\n",
       "</table>\n",
       "</div>"
      ],
      "text/plain": [
       "Empty DataFrame\n",
       "Columns: [temp, dwpt, rhum, prcp, wdir, wspd, pres]\n",
       "Index: []"
      ]
     },
     "execution_count": 17,
     "metadata": {},
     "output_type": "execute_result"
    }
   ],
   "source": [
    "# loop thru all twelve months:\n",
    "K_Means_list = [] # = pd.DataFrame()\n",
    "for mth in range(1,13):\n",
    "    # loop thru all 24 hours\n",
    "    for hr in range(24):\n",
    "        # query df based on month and time\n",
    "        tmp_df = df.query(f'time.dt.hour == {hr} and time.dt.month == {mth}')\n",
    "        # remove time variable from df\n",
    "        tmp_df = tmp_df.loc[: , tmp_df.columns != 'time']\n",
    "        # calculate mean of such datafrme\n",
    "        tmp_df = tmp_df.groupby('station').mean()\n",
    "        # drop null values\n",
    "        tmp_df.dropna(inplace=True)\n",
    "        # if we get a result, calculate K-Means clusters\n",
    "        if not tmp_df.empty:\n",
    "            # rescale the data to zero mean and unit variance\n",
    "            scaler = StandardScaler()\n",
    "            scaler.fit(tmp_df)\n",
    "            X_scaled = scaler.transform(tmp_df)\n",
    "            # apply K-Means clustering; start with known cluster count from DBSCAN, 5\n",
    "            kmeans = KMeans(n_clusters = 5, random_state = 0)\n",
    "            kmeans.fit(X_scaled)\n",
    "            # run the K-Means algorithm\n",
    "            clusters = kmeans.labels_\n",
    "            # attach clusters to df\n",
    "            tmp_df['KMeans_cluster'] = clusters\n",
    "            # add month and hour as variables\n",
    "            tmp_df['hr'], tmp_df['mth'] = hr, mth\n",
    "            # calculate the silhouette score; only if they're not outliers\n",
    "            tmp_df['silhouette_score'] = -1\n",
    "            if set(clusters) != {-1}:\n",
    "                tmp_df['silhouette_score'] = silhouette_score(X_scaled, clusters)                \n",
    "            # collect all dfs\n",
    "            K_Means_list.append(tmp_df)\n",
    "            \n",
    "# collect all DBSCAN dfs into one\n",
    "KMeans_df = pd.concat(K_Means_list)\n",
    "# reset the index; we can query the 'station' as a column much easier\n",
    "KMeans_df.reset_index(inplace=True)\n",
    "tmp_df"
   ]
  },
  {
   "cell_type": "code",
   "execution_count": 3,
   "metadata": {},
   "outputs": [
    {
     "ename": "NameError",
     "evalue": "name 'KMeans_df' is not defined",
     "output_type": "error",
     "traceback": [
      "\u001b[1;31m---------------------------------------------------------------------------\u001b[0m",
      "\u001b[1;31mNameError\u001b[0m                                 Traceback (most recent call last)",
      "Input \u001b[1;32mIn [3]\u001b[0m, in \u001b[0;36m<cell line: 3>\u001b[1;34m()\u001b[0m\n\u001b[0;32m      1\u001b[0m \u001b[38;5;66;03m# quick distribution of the clusters; it looks evenly\u001b[39;00m\n\u001b[0;32m      2\u001b[0m \u001b[38;5;66;03m# KMeans_df.groupby('KMeans_cluster').count()[['station']]\u001b[39;00m\n\u001b[1;32m----> 3\u001b[0m \u001b[43mKMeans_df\u001b[49m\u001b[38;5;241m.\u001b[39mKMeans_cluster\u001b[38;5;241m.\u001b[39mhist()\n",
      "\u001b[1;31mNameError\u001b[0m: name 'KMeans_df' is not defined"
     ]
    }
   ],
   "source": [
    "# quick distribution of the clusters; it looks evenly\n",
    "# KMeans_df.groupby('KMeans_cluster').count()[['station']]\n",
    "KMeans_df.KMeans_cluster.hist();"
   ]
  },
  {
   "cell_type": "markdown",
   "metadata": {},
   "source": [
    "### Select Clusters Where AA Shows up"
   ]
  },
  {
   "cell_type": "code",
   "execution_count": 12,
   "metadata": {},
   "outputs": [
    {
     "data": {
      "text/plain": [
       "array([2, 3, 0, 1, 4], dtype=int32)"
      ]
     },
     "execution_count": 12,
     "metadata": {},
     "output_type": "execute_result"
    }
   ],
   "source": [
    "# list the clusters where KARB0 shows up; exclude the -1 (outliers)\n",
    "AA_Clusters = KMeans_df.query('station == \"KARB0\"')['KMeans_cluster'].unique()\n",
    "AA_Clusters"
   ]
  },
  {
   "cell_type": "code",
   "execution_count": 38,
   "metadata": {
    "tags": []
   },
   "outputs": [
    {
     "data": {
      "text/plain": [
       "(607,)"
      ]
     },
     "execution_count": 38,
     "metadata": {},
     "output_type": "execute_result"
    }
   ],
   "source": [
    "# what stations make up these clusters?\n",
    "AA_near_stations = KMeans_df.query('KMeans_cluster in @AA_Clusters and silhouette_score > 0')['station'].unique()\n",
    "len(AA_near_stations), # AA_near_stations"
   ]
  },
  {
   "cell_type": "markdown",
   "metadata": {},
   "source": [
    "### Since all FIVE clusters contain all stations, let's filter those with the highest Silhouette scores"
   ]
  },
  {
   "cell_type": "code",
   "execution_count": 163,
   "metadata": {},
   "outputs": [
    {
     "data": {
      "text/plain": [
       "0.2968700650319063"
      ]
     },
     "execution_count": 163,
     "metadata": {},
     "output_type": "execute_result"
    }
   ],
   "source": [
    "# sort the scores in descending order\n",
    "top_silh_scr = sorted(KMeans_df.query('KMeans_cluster in @AA_Clusters and silhouette_score > 0')['silhouette_score'].unique())[::-1]\n",
    "# there are over 200 scores. The top [3] scores already produce over 500 matches (see cell below)!\n",
    "top_silh_scr = top_silh_scr[0]\n",
    "top_silh_scr"
   ]
  },
  {
   "cell_type": "code",
   "execution_count": 164,
   "metadata": {
    "tags": []
   },
   "outputs": [
    {
     "data": {
      "text/plain": [
       "(279,)"
      ]
     },
     "execution_count": 164,
     "metadata": {},
     "output_type": "execute_result"
    }
   ],
   "source": [
    "# see how many stations are with the highest score(s)\n",
    "AA_top_stations = KMeans_df.query('KMeans_cluster in @AA_Clusters and silhouette_score >= @top_silh_scr')['station'].unique()\n",
    "len(AA_top_stations), # still a huge number"
   ]
  },
  {
   "cell_type": "markdown",
   "metadata": {},
   "source": [
    "### Let's compare & filter stations based on combined K-Means & DBSCAN clusters"
   ]
  },
  {
   "cell_type": "code",
   "execution_count": 165,
   "metadata": {},
   "outputs": [],
   "source": [
    "# EXTREMELY likely that K-Means contains all station that DBSCAN has\n",
    "# import df with clusters; let's compare these results for K-Means\n",
    "DBS_Kmeans_df = pd.read_pickle('DBSCAN_clusters.pkl')"
   ]
  },
  {
   "cell_type": "code",
   "execution_count": 173,
   "metadata": {},
   "outputs": [],
   "source": [
    "# combine it with K-Means df\n",
    "DBS_Kmeans_df['KMeans_cluster'], DBS_Kmeans_df['KMeans_sil_cluster'] = KMeans_df['KMeans_cluster'], KMeans_df['silhouette_score']\n",
    "# DBS_Kmeans_df.head()"
   ]
  },
  {
   "cell_type": "code",
   "execution_count": 167,
   "metadata": {},
   "outputs": [
    {
     "data": {
      "text/plain": [
       "array([1], dtype=int32)"
      ]
     },
     "execution_count": 167,
     "metadata": {},
     "output_type": "execute_result"
    }
   ],
   "source": [
    "# list the clusters where KARB0 shows up; exclude the -1 (outliers)\n",
    "# ALSO, bring in ONLY those with the highest K-Means Silhouette scores\n",
    "AA_Clusters = DBS_Kmeans_df.query('station == \"KARB0\" \\\n",
    "                            and DBSCAN_cluster != -1 \\\n",
    "                            and KMeans_sil_cluster >= @top_silh_scr')['KMeans_cluster'].unique()\n",
    "AA_Clusters # ONLY need to review cluster 1"
   ]
  },
  {
   "cell_type": "code",
   "execution_count": 171,
   "metadata": {
    "tags": []
   },
   "outputs": [
    {
     "data": {
      "text/plain": [
       "(279,\n",
       " array(['0CO7B', '0FV1F', '4DUJO', '5RUZT', '6N2T2', '71261', '71270',\n",
       "        '71283', '71298', '71307', '71352', '71368', '71433', '71438',\n",
       "        '71439', '71462', '71465', '71527', '71538', '71573', '71623',\n",
       "        '71631', '71633', '71634', '71704', '72013', '72014', '72019',\n",
       "        '72420', '72428', '72520', '72521', '72524', '72525', '72526',\n",
       "        '72530', '72531', '72532', '72533', '72534', '72535', '72536',\n",
       "        '72537', '72538', '72539', '72542', '72543', '72544', '72545',\n",
       "        '72547', '72548', '72628', '72634', '72635', '72636', '72637',\n",
       "        '72638', '72639', '72641', '72642', '72643', '72645', '72648',\n",
       "        '72744', '74455', '74467', '7Q717', '8HNVP', '93RHE', '9H92X',\n",
       "        'ATA0X', 'CACQ0', 'FO7ZN', 'GUUD7', 'K4I30', 'K7B4X', 'KACQ0',\n",
       "        'KADG0', 'KAEL0', 'KAFJ0', 'KAIO0', 'KAKR0', 'KAMN0', 'KANQ0',\n",
       "        'KAOH0', 'KARB0', 'KARR0', 'KASW0', 'KATW0', 'KAUM0', 'KAWG0',\n",
       "        'KAXA0', 'KAXV0', 'KAZO0', 'KBAX0', 'KBEH0', 'KBIV0', 'KBJJ0',\n",
       "        'KBKL0', 'KBMI0', 'KBNW0', 'KBTL0', 'KBUU0', 'KBVI0', 'KC290',\n",
       "        'KC350', 'KC620', 'KC650', 'KCAD0', 'KCAV0', 'KCCY0', 'KCFS0',\n",
       "        'KCGF0', 'KCMI0', 'KCNB0', 'KCNC0', 'KCSQ0', 'KCVX0', 'KCWI0',\n",
       "        'KD950', 'KDEH0', 'KDET0', 'KDFI0', 'KDKB0', 'KDLL0', 'KDLZ0',\n",
       "        'KDNV0', 'KDPA0', 'KDUH0', 'KDVP0', 'KEBS0', 'KEDJ0', 'KEFT0',\n",
       "        'KEKM0', 'KENW0', 'KEOK0', 'KETB0', 'KFBL0', 'KFDY0', 'KFEP0',\n",
       "        'KFFL0', 'KFFX0', 'KFKA0', 'KFKR0', 'KFLD0', 'KFPK0', 'KFXY0',\n",
       "        'KGGI0', 'KGKJ0', 'KGLR0', 'KGOV0', 'KGSH0', 'KGUS0', 'KGWB0',\n",
       "        'KGYL0', 'KGYY0', 'KHAI0', 'KHCD0', 'KHHG0', 'KHPT0', 'KHYX0',\n",
       "        'KHZY0', 'KI740', 'KI750', 'KIFA0', 'KIGQ0', 'KIIB0', 'KIKK0',\n",
       "        'KIKV0', 'KIKW0', 'KIRK0', 'KIRS0', 'KISW0', 'KJVL0', 'KJXN0',\n",
       "        'KJYM0', 'KLAF0', 'KLDM0', 'KLNN0', 'KLNR0', 'KLOT0', 'KLPR0',\n",
       "        'KLWA0', 'KMBL0', 'KMBS0', 'KMCX0', 'KMDS0', 'KMFI0', 'KMGC0',\n",
       "        'KMIE0', 'KMIW0', 'KMJQ0', 'KMNN0', 'KMOP0', 'KMPZ0', 'KMQB0',\n",
       "        'KMRJ0', 'KMRT0', 'KMTW0', 'KMUT0', 'KMWC0', 'KMWM0', 'KMXO0',\n",
       "        'KMZZ0', 'KOEB0', 'KOKK0', 'KOLZ0', 'KONZ0', 'KOOA0', 'KOSC0',\n",
       "        'KOSH0', 'KOSU0', 'KOWA0', 'KOWX0', 'KOXI0', 'KOZW0', 'KP580',\n",
       "        'KPCW0', 'KPDC0', 'KPEA0', 'KPHD0', 'KPHN0', 'KPLD0', 'KPLN0',\n",
       "        'KPNT0', 'KPOV0', 'KPPO0', 'KPTK0', 'KPVB0', 'KPWK0', 'KPZQ0',\n",
       "        'KRAC0', 'KRCR0', 'KRMY0', 'KRNP0', 'KRPJ0', 'KRQB0', 'KRYV0',\n",
       "        'KRZL0', 'KSFY0', 'KSJX0', 'KSLB0', 'KSLH0', 'KSQI0', 'KSUE0',\n",
       "        'KSYN0', 'KTDZ0', 'KTEW0', 'KTKC0', 'KTNU0', 'KTOB0', 'KTTF0',\n",
       "        'KTVC0', 'KTYQ0', 'KUCP0', 'KUES0', 'KUGN0', 'KUNU0', 'KUSE0',\n",
       "        'KVES0', 'KVLL0', 'KVNW0', 'KVOK0', 'KVPZ0', 'KVTA0', 'KVTI0',\n",
       "        'KVYS0', 'KXNWG', 'KY310', 'KY500', 'KY510', 'KY700', 'KYIP0',\n",
       "        'L6N28', 'MAU7O', 'MEIQU', 'MVZI9', 'N4N88', 'O879F'], dtype=object))"
      ]
     },
     "execution_count": 171,
     "metadata": {},
     "output_type": "execute_result"
    }
   ],
   "source": [
    "# what stations make up these clusters (for both clustering algorithms)?\n",
    "AA_near_stations = DBS_Kmeans_df.query('KMeans_cluster in @AA_Clusters and KMeans_sil_cluster >= @top_silh_scr')['station'].unique()\n",
    "len(AA_near_stations), AA_near_stations"
   ]
  },
  {
   "cell_type": "code",
   "execution_count": 172,
   "metadata": {},
   "outputs": [],
   "source": [
    "# export df\n",
    "DBS_Kmeans_df.to_pickle('DBSCAN_KMeans_clusters.pkl')"
   ]
  },
  {
   "cell_type": "code",
   "execution_count": 190,
   "metadata": {},
   "outputs": [
    {
     "data": {
      "text/plain": [
       "(180,\n",
       " {'0CO7B',\n",
       "  '0FV1F',\n",
       "  '4DUJO',\n",
       "  '5RUZT',\n",
       "  '6N2T2',\n",
       "  '71283',\n",
       "  '71298',\n",
       "  '71307',\n",
       "  '71352',\n",
       "  '71368',\n",
       "  '71527',\n",
       "  '71538',\n",
       "  '71623',\n",
       "  '71631',\n",
       "  '71633',\n",
       "  '71634',\n",
       "  '71704',\n",
       "  '72420',\n",
       "  '72428',\n",
       "  '72520',\n",
       "  '72521',\n",
       "  '72525',\n",
       "  '72526',\n",
       "  '72530',\n",
       "  '72533',\n",
       "  '72535',\n",
       "  '72536',\n",
       "  '72537',\n",
       "  '72539',\n",
       "  '72543',\n",
       "  '72545',\n",
       "  '72634',\n",
       "  '72635',\n",
       "  '72636',\n",
       "  '72637',\n",
       "  '72638',\n",
       "  '72643',\n",
       "  '72645',\n",
       "  '7Q717',\n",
       "  '8HNVP',\n",
       "  '93RHE',\n",
       "  '9H92X',\n",
       "  'ATA0X',\n",
       "  'FO7ZN',\n",
       "  'GUUD7',\n",
       "  'K7B4X',\n",
       "  'KADG0',\n",
       "  'KAEL0',\n",
       "  'KAIO0',\n",
       "  'KAKR0',\n",
       "  'KAMN0',\n",
       "  'KANQ0',\n",
       "  'KAOH0',\n",
       "  'KARB0',\n",
       "  'KARR0',\n",
       "  'KASW0',\n",
       "  'KAUM0',\n",
       "  'KAXV0',\n",
       "  'KAZO0',\n",
       "  'KBEH0',\n",
       "  'KBIV0',\n",
       "  'KBJJ0',\n",
       "  'KBTL0',\n",
       "  'KC290',\n",
       "  'KC350',\n",
       "  'KC620',\n",
       "  'KC650',\n",
       "  'KCFS0',\n",
       "  'KCGF0',\n",
       "  'KCNB0',\n",
       "  'KCNC0',\n",
       "  'KD950',\n",
       "  'KDET0',\n",
       "  'KDFI0',\n",
       "  'KDKB0',\n",
       "  'KDLL0',\n",
       "  'KDPA0',\n",
       "  'KEDJ0',\n",
       "  'KEFT0',\n",
       "  'KEKM0',\n",
       "  'KENW0',\n",
       "  'KETB0',\n",
       "  'KFBL0',\n",
       "  'KFFL0',\n",
       "  'KFFX0',\n",
       "  'KFKA0',\n",
       "  'KFLD0',\n",
       "  'KFPK0',\n",
       "  'KFXY0',\n",
       "  'KGGI0',\n",
       "  'KGKJ0',\n",
       "  'KGSH0',\n",
       "  'KGUS0',\n",
       "  'KGWB0',\n",
       "  'KGYL0',\n",
       "  'KGYY0',\n",
       "  'KHAI0',\n",
       "  'KHHG0',\n",
       "  'KHPT0',\n",
       "  'KHYX0',\n",
       "  'KHZY0',\n",
       "  'KI750',\n",
       "  'KIFA0',\n",
       "  'KIGQ0',\n",
       "  'KIIB0',\n",
       "  'KIKK0',\n",
       "  'KIKV0',\n",
       "  'KIKW0',\n",
       "  'KIRS0',\n",
       "  'KISW0',\n",
       "  'KJVL0',\n",
       "  'KJXN0',\n",
       "  'KJYM0',\n",
       "  'KLDM0',\n",
       "  'KLNN0',\n",
       "  'KLOT0',\n",
       "  'KLPR0',\n",
       "  'KLWA0',\n",
       "  'KMBL0',\n",
       "  'KMBS0',\n",
       "  'KMCX0',\n",
       "  'KMFI0',\n",
       "  'KMGC0',\n",
       "  'KMIE0',\n",
       "  'KMNN0',\n",
       "  'KMOP0',\n",
       "  'KMQB0',\n",
       "  'KMRJ0',\n",
       "  'KMRT0',\n",
       "  'KMTW0',\n",
       "  'KMUT0',\n",
       "  'KMWM0',\n",
       "  'KMZZ0',\n",
       "  'KOEB0',\n",
       "  'KOOA0',\n",
       "  'KOSC0',\n",
       "  'KOSH0',\n",
       "  'KOSU0',\n",
       "  'KOWX0',\n",
       "  'KOXI0',\n",
       "  'KOZW0',\n",
       "  'KP580',\n",
       "  'KPEA0',\n",
       "  'KPLD0',\n",
       "  'KPLN0',\n",
       "  'KPPO0',\n",
       "  'KPTK0',\n",
       "  'KPVB0',\n",
       "  'KPWK0',\n",
       "  'KRAC0',\n",
       "  'KRCR0',\n",
       "  'KRMY0',\n",
       "  'KRNP0',\n",
       "  'KRPJ0',\n",
       "  'KRQB0',\n",
       "  'KRYV0',\n",
       "  'KRZL0',\n",
       "  'KSJX0',\n",
       "  'KSUE0',\n",
       "  'KSYN0',\n",
       "  'KTDZ0',\n",
       "  'KTEW0',\n",
       "  'KTNU0',\n",
       "  'KTTF0',\n",
       "  'KUGN0',\n",
       "  'KUNU0',\n",
       "  'KVES0',\n",
       "  'KVLL0',\n",
       "  'KVNW0',\n",
       "  'KVOK0',\n",
       "  'KVPZ0',\n",
       "  'KXNWG',\n",
       "  'KY700',\n",
       "  'KYIP0',\n",
       "  'L6N28',\n",
       "  'MAU7O',\n",
       "  'MEIQU',\n",
       "  'MVZI9',\n",
       "  'N4N88',\n",
       "  'O879F'})"
      ]
     },
     "execution_count": 190,
     "metadata": {},
     "output_type": "execute_result"
    }
   ],
   "source": [
    "# check and see that DBSCAN  stations are on K-Means\n",
    "DBSCAN_AA_Clusters = DBS_Kmeans_df.query('station == \"KARB0\" and DBSCAN_cluster != -1')['DBSCAN_cluster'].unique()\n",
    "DBSCAN_AA_near_stations = DBS_Kmeans_df.query('DBSCAN_cluster in @DBSCAN_AA_Clusters')['station'].unique()\n",
    "len(DBSCAN_AA_near_stations), DBSCAN_AA_near_stations\n",
    "len(set(AA_near_stations).intersection(set(DBSCAN_AA_near_stations))), set(AA_near_stations).intersection(set(DBSCAN_AA_near_stations))"
   ]
  },
  {
   "cell_type": "code",
   "execution_count": 5,
   "metadata": {},
   "outputs": [],
   "source": [
    "# # Review the clusters now:\n",
    "# cluster_list = [f'Cluster {c}' for c in range(len(kmeans.cluster_centers_))]\n",
    "# plot_labelled_scatter(X_scaled, kmeans.labels_, cluster_list, \"K-Means Clusters\" )"
   ]
  },
  {
   "cell_type": "markdown",
   "metadata": {},
   "source": [
    "## Review AA station; which cluster does it fall under?"
   ]
  },
  {
   "cell_type": "code",
   "execution_count": 6,
   "metadata": {},
   "outputs": [],
   "source": [
    "# # distribution of all clusters:\n",
    "# df['K_cluster_21'].hist()\n",
    "# plt.title(\"Distribution of All Clusters\");"
   ]
  },
  {
   "cell_type": "code",
   "execution_count": 7,
   "metadata": {},
   "outputs": [],
   "source": [
    "# # A distribution of clusters where KARB0 (\"Ann Arbor\") is part of\n",
    "# df.query('station == \"KARB0\"')['K_cluster_21'].hist();\n",
    "# plt.title(\"Distribution of Clusters in Ann Arbor\");"
   ]
  }
 ],
 "metadata": {
  "deepnote": {},
  "deepnote_execution_queue": [],
  "deepnote_full_width": true,
  "deepnote_notebook_id": "c3919f07f93c4a608f75703c36f003b1",
  "deepnote_persisted_session": {
   "createdAt": "2022-10-08T23:32:22.754Z"
  },
  "kernelspec": {
   "display_name": "Python 3 (ipykernel)",
   "language": "python",
   "name": "python3"
  },
  "language_info": {
   "codemirror_mode": {
    "name": "ipython",
    "version": 3
   },
   "file_extension": ".py",
   "mimetype": "text/x-python",
   "name": "python",
   "nbconvert_exporter": "python",
   "pygments_lexer": "ipython3",
   "version": "3.9.12"
  },
  "toc-autonumbering": false,
  "vscode": {
   "interpreter": {
    "hash": "408afe8ba0fc984a0cb44b0671c49e061cdfc3372c6fcbbfef2559eebb6b7013"
   }
  }
 },
 "nbformat": 4,
 "nbformat_minor": 4
}
