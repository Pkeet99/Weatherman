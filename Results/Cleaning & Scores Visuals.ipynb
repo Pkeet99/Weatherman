{
 "cells": [
  {
   "cell_type": "code",
   "execution_count": 1,
   "id": "3214b426-e934-4422-bfbc-f5d67e874403",
   "metadata": {},
   "outputs": [],
   "source": [
    "import pandas as pd\n",
    "import os\n",
    "from datetime import date, timedelta\n",
    "import datetime\n",
    "import numpy as np\n",
    "from sklearn.impute import KNNImputer\n",
    "import matplotlib.pyplot as plt\n",
    "from matplotlib.pyplot import figure\n",
    "from statsmodels.tsa.statespace.sarimax import SARIMAX\n",
    "# grid search sarima hyperparameters for monthly mean temp dataset\n",
    "from math import sqrt\n",
    "from multiprocessing import cpu_count\n",
    "from joblib import Parallel\n",
    "from joblib import delayed\n",
    "from warnings import catch_warnings\n",
    "from warnings import filterwarnings\n",
    "from sklearn.metrics import mean_squared_error\n",
    "import altair as alt\n",
    "ROOT_DIR = os.path.realpath(os.path.join(os.getcwd(), '..'))\n"
   ]
  },
  {
   "cell_type": "code",
   "execution_count": 5,
   "id": "7d10133c-2926-47e3-bd10-41d33bfead02",
   "metadata": {},
   "outputs": [],
   "source": [
    "pkl_loc = os.path.join(ROOT_DIR, 'data', 'data','weatherAA.pkl')\n",
    "df_org=pd.read_pickle(pkl_loc)\n"
   ]
  },
  {
   "cell_type": "code",
   "execution_count": 10,
   "id": "4f4af813-b195-4ce4-942a-7729188c8aa5",
   "metadata": {},
   "outputs": [],
   "source": [
    "pkl_loc = os.path.join(ROOT_DIR, 'data','badAAcleaned.pkl')\n",
    "df_bad=pd.read_pickle(pkl_loc)\n",
    "df_bad.drop(columns=['index'], inplace=True)\n",
    "df_bad.set_index('time',inplace=True)"
   ]
  },
  {
   "cell_type": "code",
   "execution_count": 13,
   "id": "8cdf917d-3439-4d82-a9d8-b8c257229d4b",
   "metadata": {},
   "outputs": [],
   "source": [
    "pkl_loc = os.path.join(ROOT_DIR, 'data','AAcleaned.pkl')\n",
    "df_cln=pd.read_pickle(pkl_loc)\n"
   ]
  },
  {
   "cell_type": "code",
   "execution_count": 15,
   "id": "09f77d10-3cca-40be-b20d-02f8732dfb59",
   "metadata": {},
   "outputs": [],
   "source": [
    "time_range = pd.date_range('2006-04-08 00:00:00','2006-04-11 23:00:00', freq='H') #'2022-10-15 23:00:00', freq='H') ##creating time range\n",
    "time_range=pd.DataFrame(time_range, columns=['time'])\n",
    "time_range.set_index('time',inplace=True)\n",
    "df_org_clean=time_range.merge(df_org.loc['2006-04-08 00:00:00':'2006-04-11 23:00:00']['temp'],how='left',left_index=True,right_index=True)"
   ]
  },
  {
   "cell_type": "markdown",
   "id": "d0c7d45c-dabe-43f6-b1df-03072e1c0d71",
   "metadata": {},
   "source": [
    "### Cleaning - issues with Polynomial"
   ]
  },
  {
   "cell_type": "code",
   "execution_count": 16,
   "id": "0ab591c8-6143-4643-a3b3-edc7cab47703",
   "metadata": {},
   "outputs": [
    {
     "data": {
      "text/html": [
       "<div>\n",
       "<style scoped>\n",
       "    .dataframe tbody tr th:only-of-type {\n",
       "        vertical-align: middle;\n",
       "    }\n",
       "\n",
       "    .dataframe tbody tr th {\n",
       "        vertical-align: top;\n",
       "    }\n",
       "\n",
       "    .dataframe thead th {\n",
       "        text-align: right;\n",
       "    }\n",
       "</style>\n",
       "<table border=\"1\" class=\"dataframe\">\n",
       "  <thead>\n",
       "    <tr style=\"text-align: right;\">\n",
       "      <th></th>\n",
       "      <th>temp</th>\n",
       "    </tr>\n",
       "    <tr>\n",
       "      <th>time</th>\n",
       "      <th></th>\n",
       "    </tr>\n",
       "  </thead>\n",
       "  <tbody>\n",
       "    <tr>\n",
       "      <th>2006-04-08 00:00:00</th>\n",
       "      <td>2.8</td>\n",
       "    </tr>\n",
       "    <tr>\n",
       "      <th>2006-04-08 01:00:00</th>\n",
       "      <td>2.2</td>\n",
       "    </tr>\n",
       "    <tr>\n",
       "      <th>2006-04-08 02:00:00</th>\n",
       "      <td>2.2</td>\n",
       "    </tr>\n",
       "    <tr>\n",
       "      <th>2006-04-08 03:00:00</th>\n",
       "      <td>2.2</td>\n",
       "    </tr>\n",
       "    <tr>\n",
       "      <th>2006-04-08 04:00:00</th>\n",
       "      <td>1.7</td>\n",
       "    </tr>\n",
       "    <tr>\n",
       "      <th>...</th>\n",
       "      <td>...</td>\n",
       "    </tr>\n",
       "    <tr>\n",
       "      <th>2006-04-11 19:00:00</th>\n",
       "      <td>21.7</td>\n",
       "    </tr>\n",
       "    <tr>\n",
       "      <th>2006-04-11 20:00:00</th>\n",
       "      <td>22.2</td>\n",
       "    </tr>\n",
       "    <tr>\n",
       "      <th>2006-04-11 21:00:00</th>\n",
       "      <td>22.2</td>\n",
       "    </tr>\n",
       "    <tr>\n",
       "      <th>2006-04-11 22:00:00</th>\n",
       "      <td>21.7</td>\n",
       "    </tr>\n",
       "    <tr>\n",
       "      <th>2006-04-11 23:00:00</th>\n",
       "      <td>20.6</td>\n",
       "    </tr>\n",
       "  </tbody>\n",
       "</table>\n",
       "<p>96 rows × 1 columns</p>\n",
       "</div>"
      ],
      "text/plain": [
       "                     temp\n",
       "time                     \n",
       "2006-04-08 00:00:00   2.8\n",
       "2006-04-08 01:00:00   2.2\n",
       "2006-04-08 02:00:00   2.2\n",
       "2006-04-08 03:00:00   2.2\n",
       "2006-04-08 04:00:00   1.7\n",
       "...                   ...\n",
       "2006-04-11 19:00:00  21.7\n",
       "2006-04-11 20:00:00  22.2\n",
       "2006-04-11 21:00:00  22.2\n",
       "2006-04-11 22:00:00  21.7\n",
       "2006-04-11 23:00:00  20.6\n",
       "\n",
       "[96 rows x 1 columns]"
      ]
     },
     "execution_count": 16,
     "metadata": {},
     "output_type": "execute_result"
    }
   ],
   "source": [
    "#alt.Chart(source).mark_circle().encode(\n",
    "df_org_clean"
   ]
  }
 ],
 "metadata": {
  "kernelspec": {
   "display_name": "Python 3 (ipykernel)",
   "language": "python",
   "name": "python3"
  },
  "language_info": {
   "codemirror_mode": {
    "name": "ipython",
    "version": 3
   },
   "file_extension": ".py",
   "mimetype": "text/x-python",
   "name": "python",
   "nbconvert_exporter": "python",
   "pygments_lexer": "ipython3",
   "version": "3.9.12"
  }
 },
 "nbformat": 4,
 "nbformat_minor": 5
}
