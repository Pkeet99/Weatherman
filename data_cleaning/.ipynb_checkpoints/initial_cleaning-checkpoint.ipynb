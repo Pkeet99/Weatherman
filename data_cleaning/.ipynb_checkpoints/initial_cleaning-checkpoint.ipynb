{
 "cells": [
  {
   "cell_type": "markdown",
   "metadata": {
    "collapsed": true,
    "pycharm": {
     "name": "#%% md\n"
    }
   },
   "source": [
    "# Initial Cleaning/ setup procedures\n"
   ]
  },
  {
   "cell_type": "markdown",
   "source": [
    "#### _1. Import libraries and set path to pkl file_"
   ],
   "metadata": {
    "collapsed": false
   }
  },
  {
   "cell_type": "code",
   "source": [
    "import pandas as pd\n",
    "import os\n",
    "ROOT_DIR = os.path.realpath(os.path.join(os.getcwd(), '..'))\n",
    "pkl_loc = os.path.join(ROOT_DIR, 'data', 'data','weatherraw.pkl')\n",
    "pkl_loc"
   ],
   "metadata": {
    "collapsed": false,
    "pycharm": {
     "name": "#%%\n"
    }
   },
   "execution_count": 20,
   "outputs": [
    {
     "data": {
      "text/plain": "'C:\\\\Users\\\\jesse\\\\OneDrive\\\\Documents\\\\homework\\\\Mich\\\\696\\\\ms2_git\\\\data\\\\data\\\\weatherraw.pkl'"
     },
     "execution_count": 20,
     "metadata": {},
     "output_type": "execute_result"
    }
   ]
  },
  {
   "cell_type": "markdown",
   "source": [
    "### _2. Create dataframe and run basic eda_"
   ],
   "metadata": {
    "collapsed": false
   }
  },
  {
   "cell_type": "code",
   "execution_count": 21,
   "outputs": [
    {
     "name": "stdout",
     "output_type": "stream",
     "text": [
      "<class 'pandas.core.frame.DataFrame'>\n",
      "MultiIndex: 60577995 entries, ('04AEH', Timestamp('2022-04-23 14:00:00')) to ('ZYITU', Timestamp('2022-09-02 23:00:00'))\n",
      "Data columns (total 11 columns):\n",
      " #   Column  Dtype  \n",
      "---  ------  -----  \n",
      " 0   temp    float64\n",
      " 1   dwpt    float64\n",
      " 2   rhum    float64\n",
      " 3   prcp    float64\n",
      " 4   snow    float64\n",
      " 5   wdir    float64\n",
      " 6   wspd    float64\n",
      " 7   wpgt    float64\n",
      " 8   pres    float64\n",
      " 9   tsun    float64\n",
      " 10  coco    float64\n",
      "dtypes: float64(11)\n",
      "memory usage: 5.2+ GB\n"
     ]
    }
   ],
   "source": [
    "df = pd.read_pickle(pkl_loc)\n",
    "df.info()"
   ],
   "metadata": {
    "collapsed": false,
    "pycharm": {
     "name": "#%%\n"
    }
   }
  },
  {
   "cell_type": "code",
   "execution_count": 22,
   "outputs": [
    {
     "data": {
      "text/plain": "              temp         dwpt         rhum         prcp  snow         wdir  \\\ncount 60394871.000 60269186.000 60281132.000 42111852.000 0.000 55729905.000   \nmean        12.051        5.877       70.185        0.143   NaN      175.009   \nstd         12.117       11.645       21.331        1.040   NaN      112.365   \nmin        -97.000      -60.500        0.000        0.000   NaN        0.000   \n25%          3.000       -2.700       55.000        0.000   NaN       80.000   \n50%         13.300        6.800       74.000        0.000   NaN      180.000   \n75%         21.700       15.900       88.000        0.000   NaN      270.000   \nmax         98.000       62.000      227.000      348.000   NaN      360.000   \n\n              wspd  wpgt         pres  tsun         coco  \ncount 58607827.000 0.000 46885587.000 0.000 10567003.000  \nmean        11.899   NaN     1016.603   NaN        4.604  \nstd          9.091   NaN        7.607   NaN        4.062  \nmin          0.000   NaN      871.900   NaN        0.000  \n25%          5.400   NaN     1012.000   NaN        2.000  \n50%         11.200   NaN     1016.500   NaN        3.000  \n75%         16.600   NaN     1021.000   NaN        5.000  \nmax        454.000   NaN     1061.000   NaN       27.000  ",
      "text/html": "<div>\n<style scoped>\n    .dataframe tbody tr th:only-of-type {\n        vertical-align: middle;\n    }\n\n    .dataframe tbody tr th {\n        vertical-align: top;\n    }\n\n    .dataframe thead th {\n        text-align: right;\n    }\n</style>\n<table border=\"1\" class=\"dataframe\">\n  <thead>\n    <tr style=\"text-align: right;\">\n      <th></th>\n      <th>temp</th>\n      <th>dwpt</th>\n      <th>rhum</th>\n      <th>prcp</th>\n      <th>snow</th>\n      <th>wdir</th>\n      <th>wspd</th>\n      <th>wpgt</th>\n      <th>pres</th>\n      <th>tsun</th>\n      <th>coco</th>\n    </tr>\n  </thead>\n  <tbody>\n    <tr>\n      <th>count</th>\n      <td>60394871.000</td>\n      <td>60269186.000</td>\n      <td>60281132.000</td>\n      <td>42111852.000</td>\n      <td>0.000</td>\n      <td>55729905.000</td>\n      <td>58607827.000</td>\n      <td>0.000</td>\n      <td>46885587.000</td>\n      <td>0.000</td>\n      <td>10567003.000</td>\n    </tr>\n    <tr>\n      <th>mean</th>\n      <td>12.051</td>\n      <td>5.877</td>\n      <td>70.185</td>\n      <td>0.143</td>\n      <td>NaN</td>\n      <td>175.009</td>\n      <td>11.899</td>\n      <td>NaN</td>\n      <td>1016.603</td>\n      <td>NaN</td>\n      <td>4.604</td>\n    </tr>\n    <tr>\n      <th>std</th>\n      <td>12.117</td>\n      <td>11.645</td>\n      <td>21.331</td>\n      <td>1.040</td>\n      <td>NaN</td>\n      <td>112.365</td>\n      <td>9.091</td>\n      <td>NaN</td>\n      <td>7.607</td>\n      <td>NaN</td>\n      <td>4.062</td>\n    </tr>\n    <tr>\n      <th>min</th>\n      <td>-97.000</td>\n      <td>-60.500</td>\n      <td>0.000</td>\n      <td>0.000</td>\n      <td>NaN</td>\n      <td>0.000</td>\n      <td>0.000</td>\n      <td>NaN</td>\n      <td>871.900</td>\n      <td>NaN</td>\n      <td>0.000</td>\n    </tr>\n    <tr>\n      <th>25%</th>\n      <td>3.000</td>\n      <td>-2.700</td>\n      <td>55.000</td>\n      <td>0.000</td>\n      <td>NaN</td>\n      <td>80.000</td>\n      <td>5.400</td>\n      <td>NaN</td>\n      <td>1012.000</td>\n      <td>NaN</td>\n      <td>2.000</td>\n    </tr>\n    <tr>\n      <th>50%</th>\n      <td>13.300</td>\n      <td>6.800</td>\n      <td>74.000</td>\n      <td>0.000</td>\n      <td>NaN</td>\n      <td>180.000</td>\n      <td>11.200</td>\n      <td>NaN</td>\n      <td>1016.500</td>\n      <td>NaN</td>\n      <td>3.000</td>\n    </tr>\n    <tr>\n      <th>75%</th>\n      <td>21.700</td>\n      <td>15.900</td>\n      <td>88.000</td>\n      <td>0.000</td>\n      <td>NaN</td>\n      <td>270.000</td>\n      <td>16.600</td>\n      <td>NaN</td>\n      <td>1021.000</td>\n      <td>NaN</td>\n      <td>5.000</td>\n    </tr>\n    <tr>\n      <th>max</th>\n      <td>98.000</td>\n      <td>62.000</td>\n      <td>227.000</td>\n      <td>348.000</td>\n      <td>NaN</td>\n      <td>360.000</td>\n      <td>454.000</td>\n      <td>NaN</td>\n      <td>1061.000</td>\n      <td>NaN</td>\n      <td>27.000</td>\n    </tr>\n  </tbody>\n</table>\n</div>"
     },
     "execution_count": 22,
     "metadata": {},
     "output_type": "execute_result"
    }
   ],
   "source": [
    "pd.set_option('display.float_format', lambda x: '%.3f' % x)\n",
    "df.describe()"
   ],
   "metadata": {
    "collapsed": false,
    "pycharm": {
     "name": "#%%\n"
    }
   }
  },
  {
   "cell_type": "code",
   "execution_count": 23,
   "outputs": [
    {
     "data": {
      "text/plain": "(60577995, 11)"
     },
     "execution_count": 23,
     "metadata": {},
     "output_type": "execute_result"
    }
   ],
   "source": [
    "df.shape"
   ],
   "metadata": {
    "collapsed": false,
    "pycharm": {
     "name": "#%%\n"
    }
   }
  },
  {
   "cell_type": "markdown",
   "source": [
    "### _3. Remove unneeded columns_\n"
   ],
   "metadata": {
    "collapsed": false,
    "pycharm": {
     "name": "#%% md\n"
    }
   }
  },
  {
   "cell_type": "code",
   "execution_count": 24,
   "outputs": [
    {
     "data": {
      "text/plain": "                              temp   dwpt   rhum  prcp    wdir  wspd     pres\nstation time                                                                 \n04AEH   2022-04-23 14:00:00 10.000  0.000 50.000   NaN 200.000 7.000 1030.000\n        2022-04-23 15:00:00 10.000 -1.400 45.000   NaN 170.000 6.000 1029.000\n        2022-04-23 16:00:00 12.000 -0.200 43.000   NaN 190.000 7.000 1027.000\n        2022-04-23 17:00:00 13.000  0.700 43.000   NaN 190.000 6.000 1027.000\n        2022-04-23 18:00:00 14.000  0.600 40.000   NaN  80.000 7.000 1025.000",
      "text/html": "<div>\n<style scoped>\n    .dataframe tbody tr th:only-of-type {\n        vertical-align: middle;\n    }\n\n    .dataframe tbody tr th {\n        vertical-align: top;\n    }\n\n    .dataframe thead th {\n        text-align: right;\n    }\n</style>\n<table border=\"1\" class=\"dataframe\">\n  <thead>\n    <tr style=\"text-align: right;\">\n      <th></th>\n      <th></th>\n      <th>temp</th>\n      <th>dwpt</th>\n      <th>rhum</th>\n      <th>prcp</th>\n      <th>wdir</th>\n      <th>wspd</th>\n      <th>pres</th>\n    </tr>\n    <tr>\n      <th>station</th>\n      <th>time</th>\n      <th></th>\n      <th></th>\n      <th></th>\n      <th></th>\n      <th></th>\n      <th></th>\n      <th></th>\n    </tr>\n  </thead>\n  <tbody>\n    <tr>\n      <th rowspan=\"5\" valign=\"top\">04AEH</th>\n      <th>2022-04-23 14:00:00</th>\n      <td>10.000</td>\n      <td>0.000</td>\n      <td>50.000</td>\n      <td>NaN</td>\n      <td>200.000</td>\n      <td>7.000</td>\n      <td>1030.000</td>\n    </tr>\n    <tr>\n      <th>2022-04-23 15:00:00</th>\n      <td>10.000</td>\n      <td>-1.400</td>\n      <td>45.000</td>\n      <td>NaN</td>\n      <td>170.000</td>\n      <td>6.000</td>\n      <td>1029.000</td>\n    </tr>\n    <tr>\n      <th>2022-04-23 16:00:00</th>\n      <td>12.000</td>\n      <td>-0.200</td>\n      <td>43.000</td>\n      <td>NaN</td>\n      <td>190.000</td>\n      <td>7.000</td>\n      <td>1027.000</td>\n    </tr>\n    <tr>\n      <th>2022-04-23 17:00:00</th>\n      <td>13.000</td>\n      <td>0.700</td>\n      <td>43.000</td>\n      <td>NaN</td>\n      <td>190.000</td>\n      <td>6.000</td>\n      <td>1027.000</td>\n    </tr>\n    <tr>\n      <th>2022-04-23 18:00:00</th>\n      <td>14.000</td>\n      <td>0.600</td>\n      <td>40.000</td>\n      <td>NaN</td>\n      <td>80.000</td>\n      <td>7.000</td>\n      <td>1025.000</td>\n    </tr>\n  </tbody>\n</table>\n</div>"
     },
     "execution_count": 24,
     "metadata": {},
     "output_type": "execute_result"
    }
   ],
   "source": [
    "df.drop(columns=['snow', 'wpgt','tsun','coco'],inplace=True)\n",
    "df.head()"
   ],
   "metadata": {
    "collapsed": false,
    "pycharm": {
     "name": "#%%\n"
    }
   }
  },
  {
   "cell_type": "code",
   "execution_count": null,
   "outputs": [],
   "source": [],
   "metadata": {
    "collapsed": false,
    "pycharm": {
     "name": "#%%\n"
    }
   }
  }
 ],
 "metadata": {
  "kernelspec": {
   "name": "pycharm-358b39d6",
   "language": "python",
   "display_name": "PyCharm (ms2_git)"
  },
  "language_info": {
   "codemirror_mode": {
    "name": "ipython",
    "version": 2
   },
   "file_extension": ".py",
   "mimetype": "text/x-python",
   "name": "python",
   "nbconvert_exporter": "python",
   "pygments_lexer": "ipython2",
   "version": "2.7.6"
  }
 },
 "nbformat": 4,
 "nbformat_minor": 0
}