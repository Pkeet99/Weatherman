{
 "cells": [
  {
   "cell_type": "markdown",
   "source": [
    "# Initial Cleaning/ setup procedures\n"
   ],
   "metadata": {
    "collapsed": false
   }
  },
  {
   "cell_type": "markdown",
   "source": [
    "#### _1. Import libraries and set path to pkl file_"
   ],
   "metadata": {
    "collapsed": false
   }
  },
  {
   "cell_type": "code",
   "execution_count": 1,
   "outputs": [
    {
     "data": {
      "text/plain": "'C:\\\\Users\\\\jesse\\\\OneDrive\\\\Documents\\\\homework\\\\Mich\\\\696\\\\ms2_git\\\\data\\\\data\\\\weatherraw.pkl'"
     },
     "execution_count": 1,
     "metadata": {},
     "output_type": "execute_result"
    }
   ],
   "source": [
    "import pandas as pd\n",
    "import os\n",
    "from datetime import date, timedelta\n",
    "import datetime\n",
    "import numpy as np\n",
    "from sklearn.impute import KNNImputer\n",
    "import matplotlib.pyplot as plt\n",
    "\n",
    "ROOT_DIR = os.path.realpath(os.path.join(os.getcwd(), '..'))\n",
    "pkl_loc = os.path.join(ROOT_DIR, 'data', 'data','weatherraw.pkl')\n",
    "pkl_loc"
   ],
   "metadata": {
    "collapsed": false,
    "pycharm": {
     "name": "#%%\n"
    }
   }
  },
  {
   "cell_type": "markdown",
   "source": [
    "### _2. Create dataframe and run basic eda_"
   ],
   "metadata": {
    "collapsed": false
   }
  },
  {
   "cell_type": "code",
   "execution_count": 2,
   "outputs": [
    {
     "name": "stdout",
     "output_type": "stream",
     "text": [
      "<class 'pandas.core.frame.DataFrame'>\n",
      "MultiIndex: 62183652 entries, ('04AEH', Timestamp('2022-04-23 14:00:00')) to ('ZYITU', Timestamp('2022-10-01 23:00:00'))\n",
      "Data columns (total 11 columns):\n",
      " #   Column  Dtype  \n",
      "---  ------  -----  \n",
      " 0   temp    float64\n",
      " 1   dwpt    float64\n",
      " 2   rhum    float64\n",
      " 3   prcp    float64\n",
      " 4   snow    float64\n",
      " 5   wdir    float64\n",
      " 6   wspd    float64\n",
      " 7   wpgt    float64\n",
      " 8   pres    float64\n",
      " 9   tsun    float64\n",
      " 10  coco    float64\n",
      "dtypes: float64(11)\n",
      "memory usage: 5.4+ GB\n"
     ]
    }
   ],
   "source": [
    "df = pd.read_pickle(pkl_loc)\n",
    "df.info()"
   ],
   "metadata": {
    "collapsed": false,
    "pycharm": {
     "name": "#%%\n"
    }
   }
  },
  {
   "cell_type": "code",
   "execution_count": 3,
   "outputs": [
    {
     "name": "stdout",
     "output_type": "stream",
     "text": [
      "<class 'pandas.core.frame.DataFrame'>\n",
      "MultiIndex: 830520 entries, ('04AEH', Timestamp('2022-10-01 00:00:00')) to ('ZYITU', Timestamp('2022-10-15 23:00:00'))\n",
      "Data columns (total 11 columns):\n",
      " #   Column  Non-Null Count   Dtype  \n",
      "---  ------  --------------   -----  \n",
      " 0   temp    830520 non-null  float64\n",
      " 1   dwpt    830520 non-null  float64\n",
      " 2   rhum    830520 non-null  float64\n",
      " 3   prcp    830520 non-null  float64\n",
      " 4   snow    0 non-null       float64\n",
      " 5   wdir    830520 non-null  float64\n",
      " 6   wspd    830520 non-null  float64\n",
      " 7   wpgt    0 non-null       float64\n",
      " 8   pres    830520 non-null  float64\n",
      " 9   tsun    0 non-null       float64\n",
      " 10  coco    830219 non-null  float64\n",
      "dtypes: float64(11)\n",
      "memory usage: 73.0+ MB\n"
     ]
    }
   ],
   "source": [
    "ROOT_DIR = os.path.realpath(os.path.join(os.getcwd(), '..'))\n",
    "pkl_loc = os.path.join(ROOT_DIR, 'data', 'data','octweatherraw.pkl')\n",
    "pkl_loc\n",
    "df2 = pd.read_pickle(pkl_loc)\n",
    "df2.info()"
   ],
   "metadata": {
    "collapsed": false,
    "pycharm": {
     "name": "#%%\n"
    }
   }
  },
  {
   "cell_type": "code",
   "execution_count": null,
   "outputs": [],
   "source": [
    "pd.set_option('display.float_format', lambda x: '%.3f' % x)\n",
    "df.describe()"
   ],
   "metadata": {
    "collapsed": false,
    "pycharm": {
     "name": "#%%\n"
    }
   }
  },
  {
   "cell_type": "code",
   "execution_count": 5,
   "outputs": [
    {
     "data": {
      "text/plain": "(63014172, 11)"
     },
     "execution_count": 5,
     "metadata": {},
     "output_type": "execute_result"
    }
   ],
   "source": [
    "df = pd.concat([df, df2])\n",
    "df.shape\n"
   ],
   "metadata": {
    "collapsed": false,
    "pycharm": {
     "name": "#%%\n"
    }
   }
  },
  {
   "cell_type": "markdown",
   "source": [
    "### _3. Remove unneeded columns_\n"
   ],
   "metadata": {
    "collapsed": false
   }
  },
  {
   "cell_type": "code",
   "execution_count": 6,
   "outputs": [
    {
     "data": {
      "text/plain": "                             temp  dwpt  rhum  prcp   wdir  wspd    pres\nstation time                                                            \n04AEH   2022-04-23 14:00:00  10.0   0.0  50.0   NaN  200.0   7.0  1030.0\n        2022-04-23 15:00:00  10.0  -0.8  47.0   NaN  170.0   6.0  1029.0\n        2022-04-23 16:00:00  12.0   0.7  46.0   NaN  170.0   9.0  1028.0\n        2022-04-23 17:00:00  13.0  -0.6  39.0   NaN  190.0   6.0  1027.0\n        2022-04-23 18:00:00  14.0   0.6  40.0   NaN   80.0   7.0  1026.0",
      "text/html": "<div>\n<style scoped>\n    .dataframe tbody tr th:only-of-type {\n        vertical-align: middle;\n    }\n\n    .dataframe tbody tr th {\n        vertical-align: top;\n    }\n\n    .dataframe thead th {\n        text-align: right;\n    }\n</style>\n<table border=\"1\" class=\"dataframe\">\n  <thead>\n    <tr style=\"text-align: right;\">\n      <th></th>\n      <th></th>\n      <th>temp</th>\n      <th>dwpt</th>\n      <th>rhum</th>\n      <th>prcp</th>\n      <th>wdir</th>\n      <th>wspd</th>\n      <th>pres</th>\n    </tr>\n    <tr>\n      <th>station</th>\n      <th>time</th>\n      <th></th>\n      <th></th>\n      <th></th>\n      <th></th>\n      <th></th>\n      <th></th>\n      <th></th>\n    </tr>\n  </thead>\n  <tbody>\n    <tr>\n      <th rowspan=\"5\" valign=\"top\">04AEH</th>\n      <th>2022-04-23 14:00:00</th>\n      <td>10.0</td>\n      <td>0.0</td>\n      <td>50.0</td>\n      <td>NaN</td>\n      <td>200.0</td>\n      <td>7.0</td>\n      <td>1030.0</td>\n    </tr>\n    <tr>\n      <th>2022-04-23 15:00:00</th>\n      <td>10.0</td>\n      <td>-0.8</td>\n      <td>47.0</td>\n      <td>NaN</td>\n      <td>170.0</td>\n      <td>6.0</td>\n      <td>1029.0</td>\n    </tr>\n    <tr>\n      <th>2022-04-23 16:00:00</th>\n      <td>12.0</td>\n      <td>0.7</td>\n      <td>46.0</td>\n      <td>NaN</td>\n      <td>170.0</td>\n      <td>9.0</td>\n      <td>1028.0</td>\n    </tr>\n    <tr>\n      <th>2022-04-23 17:00:00</th>\n      <td>13.0</td>\n      <td>-0.6</td>\n      <td>39.0</td>\n      <td>NaN</td>\n      <td>190.0</td>\n      <td>6.0</td>\n      <td>1027.0</td>\n    </tr>\n    <tr>\n      <th>2022-04-23 18:00:00</th>\n      <td>14.0</td>\n      <td>0.6</td>\n      <td>40.0</td>\n      <td>NaN</td>\n      <td>80.0</td>\n      <td>7.0</td>\n      <td>1026.0</td>\n    </tr>\n  </tbody>\n</table>\n</div>"
     },
     "execution_count": 6,
     "metadata": {},
     "output_type": "execute_result"
    }
   ],
   "source": [
    "df.drop(columns=['snow', 'wpgt','tsun','coco'],inplace=True)\n",
    "df.head()"
   ],
   "metadata": {
    "collapsed": false,
    "pycharm": {
     "name": "#%%\n"
    }
   }
  },
  {
   "cell_type": "code",
   "execution_count": 7,
   "outputs": [],
   "source": [
    "df=df.reset_index()"
   ],
   "metadata": {
    "collapsed": false,
    "pycharm": {
     "name": "#%%\n"
    }
   }
  },
  {
   "cell_type": "markdown",
   "source": [
    "### _4. Counting Stations_"
   ],
   "metadata": {
    "collapsed": false
   }
  },
  {
   "cell_type": "code",
   "execution_count": 8,
   "outputs": [
    {
     "data": {
      "text/plain": "          time   temp   dwpt   rhum   prcp   wdir   wspd   pres\nstation                                                        \n04AEH     4234   4234   4234   4234   4208   4230   4230   4234\n0CC8G    11000  11000  11000  11000  10997  11000  11000  11000\n0CNUO    11027  11027  11027  11027  11024  11027  11027  11027\n0CO7B    11027  11027  11027  11027  11024  11027  11027  11027\n0FV1F    11027  11027  11027  11027  11024  11027  11027  11027\n...        ...    ...    ...    ...    ...    ...    ...    ...\nZRBBD    23710  23709  23709  23710  23709  23588  23705  23709\nZUQJS     3918   3918   3918   3918   3905   3918   3918   3907\nZWC6W    24478  24477  24477  24477  11032  24470  24478  24477\nZYC17    24423  24422  24422  24423  11033  24406  24415  24421\nZYITU     4234   4234   4234   4234   4214   4234   4234   4234\n\n[2325 rows x 8 columns]",
      "text/html": "<div>\n<style scoped>\n    .dataframe tbody tr th:only-of-type {\n        vertical-align: middle;\n    }\n\n    .dataframe tbody tr th {\n        vertical-align: top;\n    }\n\n    .dataframe thead th {\n        text-align: right;\n    }\n</style>\n<table border=\"1\" class=\"dataframe\">\n  <thead>\n    <tr style=\"text-align: right;\">\n      <th></th>\n      <th>time</th>\n      <th>temp</th>\n      <th>dwpt</th>\n      <th>rhum</th>\n      <th>prcp</th>\n      <th>wdir</th>\n      <th>wspd</th>\n      <th>pres</th>\n    </tr>\n    <tr>\n      <th>station</th>\n      <th></th>\n      <th></th>\n      <th></th>\n      <th></th>\n      <th></th>\n      <th></th>\n      <th></th>\n      <th></th>\n    </tr>\n  </thead>\n  <tbody>\n    <tr>\n      <th>04AEH</th>\n      <td>4234</td>\n      <td>4234</td>\n      <td>4234</td>\n      <td>4234</td>\n      <td>4208</td>\n      <td>4230</td>\n      <td>4230</td>\n      <td>4234</td>\n    </tr>\n    <tr>\n      <th>0CC8G</th>\n      <td>11000</td>\n      <td>11000</td>\n      <td>11000</td>\n      <td>11000</td>\n      <td>10997</td>\n      <td>11000</td>\n      <td>11000</td>\n      <td>11000</td>\n    </tr>\n    <tr>\n      <th>0CNUO</th>\n      <td>11027</td>\n      <td>11027</td>\n      <td>11027</td>\n      <td>11027</td>\n      <td>11024</td>\n      <td>11027</td>\n      <td>11027</td>\n      <td>11027</td>\n    </tr>\n    <tr>\n      <th>0CO7B</th>\n      <td>11027</td>\n      <td>11027</td>\n      <td>11027</td>\n      <td>11027</td>\n      <td>11024</td>\n      <td>11027</td>\n      <td>11027</td>\n      <td>11027</td>\n    </tr>\n    <tr>\n      <th>0FV1F</th>\n      <td>11027</td>\n      <td>11027</td>\n      <td>11027</td>\n      <td>11027</td>\n      <td>11024</td>\n      <td>11027</td>\n      <td>11027</td>\n      <td>11027</td>\n    </tr>\n    <tr>\n      <th>...</th>\n      <td>...</td>\n      <td>...</td>\n      <td>...</td>\n      <td>...</td>\n      <td>...</td>\n      <td>...</td>\n      <td>...</td>\n      <td>...</td>\n    </tr>\n    <tr>\n      <th>ZRBBD</th>\n      <td>23710</td>\n      <td>23709</td>\n      <td>23709</td>\n      <td>23710</td>\n      <td>23709</td>\n      <td>23588</td>\n      <td>23705</td>\n      <td>23709</td>\n    </tr>\n    <tr>\n      <th>ZUQJS</th>\n      <td>3918</td>\n      <td>3918</td>\n      <td>3918</td>\n      <td>3918</td>\n      <td>3905</td>\n      <td>3918</td>\n      <td>3918</td>\n      <td>3907</td>\n    </tr>\n    <tr>\n      <th>ZWC6W</th>\n      <td>24478</td>\n      <td>24477</td>\n      <td>24477</td>\n      <td>24477</td>\n      <td>11032</td>\n      <td>24470</td>\n      <td>24478</td>\n      <td>24477</td>\n    </tr>\n    <tr>\n      <th>ZYC17</th>\n      <td>24423</td>\n      <td>24422</td>\n      <td>24422</td>\n      <td>24423</td>\n      <td>11033</td>\n      <td>24406</td>\n      <td>24415</td>\n      <td>24421</td>\n    </tr>\n    <tr>\n      <th>ZYITU</th>\n      <td>4234</td>\n      <td>4234</td>\n      <td>4234</td>\n      <td>4234</td>\n      <td>4214</td>\n      <td>4234</td>\n      <td>4234</td>\n      <td>4234</td>\n    </tr>\n  </tbody>\n</table>\n<p>2325 rows × 8 columns</p>\n</div>"
     },
     "execution_count": 8,
     "metadata": {},
     "output_type": "execute_result"
    }
   ],
   "source": [
    "df.groupby(\"station\").count() #clearly some stations are missing"
   ],
   "metadata": {
    "collapsed": false,
    "pycharm": {
     "name": "#%%\n"
    }
   }
  },
  {
   "cell_type": "code",
   "execution_count": 9,
   "outputs": [],
   "source": [
    "dfstations=df.groupby(\"station\").count()\n",
    "df_stationskeep = dfstations[dfstations['time']>5000].reset_index() #creating this to know which stations to keep later"
   ],
   "metadata": {
    "collapsed": false,
    "pycharm": {
     "name": "#%%\n"
    }
   }
  },
  {
   "cell_type": "code",
   "execution_count": 10,
   "outputs": [
    {
     "name": "stderr",
     "output_type": "stream",
     "text": [
      "C:\\Users\\jesse\\AppData\\Local\\Temp\\ipykernel_3860\\1129510735.py:1: FutureWarning: Treating datetime data as categorical rather than numeric in `.describe` is deprecated and will be removed in a future version of pandas. Specify `datetime_is_numeric=True` to silence this warning and adopt the future behavior now.\n",
      "  df.time.describe()\n"
     ]
    },
    {
     "data": {
      "text/plain": "count                63014172\nunique                  33216\ntop       2022-10-01 14:00:00\nfreq                     4614\nfirst     2019-01-01 00:00:00\nlast      2022-10-15 23:00:00\nName: time, dtype: object"
     },
     "execution_count": 10,
     "metadata": {},
     "output_type": "execute_result"
    }
   ],
   "source": [
    "df.time.describe()"
   ],
   "metadata": {
    "collapsed": false,
    "pycharm": {
     "name": "#%%\n"
    }
   }
  },
  {
   "cell_type": "code",
   "execution_count": 11,
   "outputs": [],
   "source": [
    "cln_pkl_loc = os.path.join(ROOT_DIR, 'data_cleaning','cleanweather.pkl')\n",
    "df.to_pickle(cln_pkl_loc)"
   ],
   "metadata": {
    "collapsed": false,
    "pycharm": {
     "name": "#%%\n"
    }
   }
  },
  {
   "cell_type": "code",
   "execution_count": null,
   "outputs": [],
   "source": [],
   "metadata": {
    "collapsed": false,
    "pycharm": {
     "name": "#%%\n"
    }
   }
  }
 ],
 "metadata": {
  "kernelspec": {
   "display_name": "Python 3 (ipykernel)",
   "language": "python",
   "name": "python3"
  },
  "language_info": {
   "codemirror_mode": {
    "name": "ipython",
    "version": 3
   },
   "file_extension": ".py",
   "mimetype": "text/x-python",
   "name": "python",
   "nbconvert_exporter": "python",
   "pygments_lexer": "ipython3",
   "version": "3.9.12"
  }
 },
 "nbformat": 4,
 "nbformat_minor": 4
}