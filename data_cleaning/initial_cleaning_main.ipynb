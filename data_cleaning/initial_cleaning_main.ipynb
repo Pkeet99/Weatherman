{
 "cells": [
  {
   "cell_type": "markdown",
   "source": [
    "# Initial Cleaning/ setup procedures\n"
   ],
   "metadata": {
    "collapsed": false
   }
  },
  {
   "cell_type": "markdown",
   "source": [
    "#### _1. Import libraries and set path to pkl file_"
   ],
   "metadata": {
    "collapsed": false
   }
  },
  {
   "cell_type": "code",
   "execution_count": 1,
   "outputs": [
    {
     "data": {
      "text/plain": "'C:\\\\Users\\\\jesse\\\\OneDrive\\\\Documents\\\\homework\\\\Mich\\\\696\\\\ms2_git\\\\data\\\\data\\\\weatherraw.pkl'"
     },
     "execution_count": 1,
     "metadata": {},
     "output_type": "execute_result"
    }
   ],
   "source": [
    "import pandas as pd\n",
    "import os\n",
    "from datetime import date, timedelta\n",
    "import datetime\n",
    "import numpy as np\n",
    "from sklearn.impute import KNNImputer\n",
    "import matplotlib.pyplot as plt\n",
    "\n",
    "ROOT_DIR = os.path.realpath(os.path.join(os.getcwd(), '..'))\n",
    "pkl_loc = os.path.join(ROOT_DIR, 'data', 'data','weatherraw.pkl')\n",
    "pkl_loc"
   ],
   "metadata": {
    "collapsed": false,
    "pycharm": {
     "name": "#%%\n"
    }
   }
  },
  {
   "cell_type": "markdown",
   "source": [
    "### _2. Create dataframe and run basic eda_"
   ],
   "metadata": {
    "collapsed": false
   }
  },
  {
   "cell_type": "code",
   "execution_count": 2,
   "outputs": [
    {
     "name": "stdout",
     "output_type": "stream",
     "text": [
      "<class 'pandas.core.frame.DataFrame'>\n",
      "MultiIndex: 62183652 entries, ('04AEH', Timestamp('2022-04-23 14:00:00')) to ('ZYITU', Timestamp('2022-10-01 23:00:00'))\n",
      "Data columns (total 11 columns):\n",
      " #   Column  Dtype  \n",
      "---  ------  -----  \n",
      " 0   temp    float64\n",
      " 1   dwpt    float64\n",
      " 2   rhum    float64\n",
      " 3   prcp    float64\n",
      " 4   snow    float64\n",
      " 5   wdir    float64\n",
      " 6   wspd    float64\n",
      " 7   wpgt    float64\n",
      " 8   pres    float64\n",
      " 9   tsun    float64\n",
      " 10  coco    float64\n",
      "dtypes: float64(11)\n",
      "memory usage: 5.4+ GB\n"
     ]
    }
   ],
   "source": [
    "df = pd.read_pickle(pkl_loc)\n",
    "df.info()"
   ],
   "metadata": {
    "collapsed": false,
    "pycharm": {
     "name": "#%%\n"
    }
   }
  },
  {
   "cell_type": "code",
   "execution_count": 3,
   "outputs": [
    {
     "data": {
      "text/plain": "              temp         dwpt         rhum         prcp  snow         wdir  \\\ncount 62000528.000 61874843.000 61886789.000 43717506.000 0.000 57335562.000   \nmean        12.225        6.041       70.187        0.143   NaN      174.077   \nstd         12.056       11.581       21.354        1.037   NaN      112.764   \nmin        -97.000      -61.000        0.000        0.000   NaN        0.000   \n25%          3.300       -2.300       55.000        0.000   NaN       70.000   \n50%         13.800        7.000       74.000        0.000   NaN      180.000   \n75%         21.700       16.000       88.000        0.000   NaN      270.000   \nmax         98.000       60.000      227.000      348.000   NaN      360.000   \n\n              wspd  wpgt         pres  tsun         coco  \ncount 60213484.000 0.000 48491244.000 0.000 12172286.000  \nmean        11.839   NaN     1016.604   NaN        4.359  \nstd          9.068   NaN        7.561   NaN        3.954  \nmin          0.000   NaN      871.900   NaN        0.000  \n25%          5.400   NaN     1012.100   NaN        2.000  \n50%         11.200   NaN     1016.500   NaN        3.000  \n75%         16.600   NaN     1021.000   NaN        5.000  \nmax        454.000   NaN     1061.000   NaN       27.000  ",
      "text/html": "<div>\n<style scoped>\n    .dataframe tbody tr th:only-of-type {\n        vertical-align: middle;\n    }\n\n    .dataframe tbody tr th {\n        vertical-align: top;\n    }\n\n    .dataframe thead th {\n        text-align: right;\n    }\n</style>\n<table border=\"1\" class=\"dataframe\">\n  <thead>\n    <tr style=\"text-align: right;\">\n      <th></th>\n      <th>temp</th>\n      <th>dwpt</th>\n      <th>rhum</th>\n      <th>prcp</th>\n      <th>snow</th>\n      <th>wdir</th>\n      <th>wspd</th>\n      <th>wpgt</th>\n      <th>pres</th>\n      <th>tsun</th>\n      <th>coco</th>\n    </tr>\n  </thead>\n  <tbody>\n    <tr>\n      <th>count</th>\n      <td>62000528.000</td>\n      <td>61874843.000</td>\n      <td>61886789.000</td>\n      <td>43717506.000</td>\n      <td>0.000</td>\n      <td>57335562.000</td>\n      <td>60213484.000</td>\n      <td>0.000</td>\n      <td>48491244.000</td>\n      <td>0.000</td>\n      <td>12172286.000</td>\n    </tr>\n    <tr>\n      <th>mean</th>\n      <td>12.225</td>\n      <td>6.041</td>\n      <td>70.187</td>\n      <td>0.143</td>\n      <td>NaN</td>\n      <td>174.077</td>\n      <td>11.839</td>\n      <td>NaN</td>\n      <td>1016.604</td>\n      <td>NaN</td>\n      <td>4.359</td>\n    </tr>\n    <tr>\n      <th>std</th>\n      <td>12.056</td>\n      <td>11.581</td>\n      <td>21.354</td>\n      <td>1.037</td>\n      <td>NaN</td>\n      <td>112.764</td>\n      <td>9.068</td>\n      <td>NaN</td>\n      <td>7.561</td>\n      <td>NaN</td>\n      <td>3.954</td>\n    </tr>\n    <tr>\n      <th>min</th>\n      <td>-97.000</td>\n      <td>-61.000</td>\n      <td>0.000</td>\n      <td>0.000</td>\n      <td>NaN</td>\n      <td>0.000</td>\n      <td>0.000</td>\n      <td>NaN</td>\n      <td>871.900</td>\n      <td>NaN</td>\n      <td>0.000</td>\n    </tr>\n    <tr>\n      <th>25%</th>\n      <td>3.300</td>\n      <td>-2.300</td>\n      <td>55.000</td>\n      <td>0.000</td>\n      <td>NaN</td>\n      <td>70.000</td>\n      <td>5.400</td>\n      <td>NaN</td>\n      <td>1012.100</td>\n      <td>NaN</td>\n      <td>2.000</td>\n    </tr>\n    <tr>\n      <th>50%</th>\n      <td>13.800</td>\n      <td>7.000</td>\n      <td>74.000</td>\n      <td>0.000</td>\n      <td>NaN</td>\n      <td>180.000</td>\n      <td>11.200</td>\n      <td>NaN</td>\n      <td>1016.500</td>\n      <td>NaN</td>\n      <td>3.000</td>\n    </tr>\n    <tr>\n      <th>75%</th>\n      <td>21.700</td>\n      <td>16.000</td>\n      <td>88.000</td>\n      <td>0.000</td>\n      <td>NaN</td>\n      <td>270.000</td>\n      <td>16.600</td>\n      <td>NaN</td>\n      <td>1021.000</td>\n      <td>NaN</td>\n      <td>5.000</td>\n    </tr>\n    <tr>\n      <th>max</th>\n      <td>98.000</td>\n      <td>60.000</td>\n      <td>227.000</td>\n      <td>348.000</td>\n      <td>NaN</td>\n      <td>360.000</td>\n      <td>454.000</td>\n      <td>NaN</td>\n      <td>1061.000</td>\n      <td>NaN</td>\n      <td>27.000</td>\n    </tr>\n  </tbody>\n</table>\n</div>"
     },
     "execution_count": 3,
     "metadata": {},
     "output_type": "execute_result"
    }
   ],
   "source": [
    "pd.set_option('display.float_format', lambda x: '%.3f' % x)\n",
    "df.describe()"
   ],
   "metadata": {
    "collapsed": false,
    "pycharm": {
     "name": "#%%\n"
    }
   }
  },
  {
   "cell_type": "code",
   "execution_count": 4,
   "outputs": [
    {
     "data": {
      "text/plain": "(62183652, 11)"
     },
     "execution_count": 4,
     "metadata": {},
     "output_type": "execute_result"
    }
   ],
   "source": [
    "df.shape"
   ],
   "metadata": {
    "collapsed": false,
    "pycharm": {
     "name": "#%%\n"
    }
   }
  },
  {
   "cell_type": "markdown",
   "source": [
    "### _3. Remove unneeded columns_\n"
   ],
   "metadata": {
    "collapsed": false
   }
  },
  {
   "cell_type": "code",
   "execution_count": 5,
   "outputs": [
    {
     "data": {
      "text/plain": "                              temp   dwpt   rhum  prcp    wdir  wspd     pres\nstation time                                                                 \n04AEH   2022-04-23 14:00:00 10.000  0.000 50.000   NaN 200.000 7.000 1030.000\n        2022-04-23 15:00:00 10.000 -0.800 47.000   NaN 170.000 6.000 1029.000\n        2022-04-23 16:00:00 12.000  0.700 46.000   NaN 170.000 9.000 1028.000\n        2022-04-23 17:00:00 13.000 -0.600 39.000   NaN 190.000 6.000 1027.000\n        2022-04-23 18:00:00 14.000  0.600 40.000   NaN  80.000 7.000 1026.000",
      "text/html": "<div>\n<style scoped>\n    .dataframe tbody tr th:only-of-type {\n        vertical-align: middle;\n    }\n\n    .dataframe tbody tr th {\n        vertical-align: top;\n    }\n\n    .dataframe thead th {\n        text-align: right;\n    }\n</style>\n<table border=\"1\" class=\"dataframe\">\n  <thead>\n    <tr style=\"text-align: right;\">\n      <th></th>\n      <th></th>\n      <th>temp</th>\n      <th>dwpt</th>\n      <th>rhum</th>\n      <th>prcp</th>\n      <th>wdir</th>\n      <th>wspd</th>\n      <th>pres</th>\n    </tr>\n    <tr>\n      <th>station</th>\n      <th>time</th>\n      <th></th>\n      <th></th>\n      <th></th>\n      <th></th>\n      <th></th>\n      <th></th>\n      <th></th>\n    </tr>\n  </thead>\n  <tbody>\n    <tr>\n      <th rowspan=\"5\" valign=\"top\">04AEH</th>\n      <th>2022-04-23 14:00:00</th>\n      <td>10.000</td>\n      <td>0.000</td>\n      <td>50.000</td>\n      <td>NaN</td>\n      <td>200.000</td>\n      <td>7.000</td>\n      <td>1030.000</td>\n    </tr>\n    <tr>\n      <th>2022-04-23 15:00:00</th>\n      <td>10.000</td>\n      <td>-0.800</td>\n      <td>47.000</td>\n      <td>NaN</td>\n      <td>170.000</td>\n      <td>6.000</td>\n      <td>1029.000</td>\n    </tr>\n    <tr>\n      <th>2022-04-23 16:00:00</th>\n      <td>12.000</td>\n      <td>0.700</td>\n      <td>46.000</td>\n      <td>NaN</td>\n      <td>170.000</td>\n      <td>9.000</td>\n      <td>1028.000</td>\n    </tr>\n    <tr>\n      <th>2022-04-23 17:00:00</th>\n      <td>13.000</td>\n      <td>-0.600</td>\n      <td>39.000</td>\n      <td>NaN</td>\n      <td>190.000</td>\n      <td>6.000</td>\n      <td>1027.000</td>\n    </tr>\n    <tr>\n      <th>2022-04-23 18:00:00</th>\n      <td>14.000</td>\n      <td>0.600</td>\n      <td>40.000</td>\n      <td>NaN</td>\n      <td>80.000</td>\n      <td>7.000</td>\n      <td>1026.000</td>\n    </tr>\n  </tbody>\n</table>\n</div>"
     },
     "execution_count": 5,
     "metadata": {},
     "output_type": "execute_result"
    }
   ],
   "source": [
    "df.drop(columns=['snow', 'wpgt','tsun','coco'],inplace=True)\n",
    "df.head()"
   ],
   "metadata": {
    "collapsed": false,
    "pycharm": {
     "name": "#%%\n"
    }
   }
  },
  {
   "cell_type": "code",
   "execution_count": 6,
   "outputs": [],
   "source": [
    "df=df.reset_index()"
   ],
   "metadata": {
    "collapsed": false,
    "pycharm": {
     "name": "#%%\n"
    }
   }
  },
  {
   "cell_type": "markdown",
   "source": [
    "### _4. Counting Stations_"
   ],
   "metadata": {
    "collapsed": false
   }
  },
  {
   "cell_type": "code",
   "execution_count": 7,
   "outputs": [
    {
     "data": {
      "text/plain": "          time   temp   dwpt   rhum   prcp   wdir   wspd   pres\nstation                                                        \n04AEH     3874   3874   3874   3874   3848   3870   3870   3874\n0CC8G    10640  10640  10640  10640  10637  10640  10640  10640\n0CNUO    10667  10667  10667  10667  10664  10667  10667  10667\n0CO7B    10667  10667  10667  10667  10664  10667  10667  10667\n0FV1F    10667  10667  10667  10667  10664  10667  10667  10667\n...        ...    ...    ...    ...    ...    ...    ...    ...\nZRBBD    23350  23349  23349  23350  23349  23228  23345  23349\nZUQJS     3558   3558   3558   3558   3545   3558   3558   3547\nZWC6W    24118  24117  24117  24117  10672  24110  24118  24117\nZYC17    24063  24062  24062  24063  10673  24046  24055  24061\nZYITU     3874   3874   3874   3874   3854   3874   3874   3874\n\n[2325 rows x 8 columns]",
      "text/html": "<div>\n<style scoped>\n    .dataframe tbody tr th:only-of-type {\n        vertical-align: middle;\n    }\n\n    .dataframe tbody tr th {\n        vertical-align: top;\n    }\n\n    .dataframe thead th {\n        text-align: right;\n    }\n</style>\n<table border=\"1\" class=\"dataframe\">\n  <thead>\n    <tr style=\"text-align: right;\">\n      <th></th>\n      <th>time</th>\n      <th>temp</th>\n      <th>dwpt</th>\n      <th>rhum</th>\n      <th>prcp</th>\n      <th>wdir</th>\n      <th>wspd</th>\n      <th>pres</th>\n    </tr>\n    <tr>\n      <th>station</th>\n      <th></th>\n      <th></th>\n      <th></th>\n      <th></th>\n      <th></th>\n      <th></th>\n      <th></th>\n      <th></th>\n    </tr>\n  </thead>\n  <tbody>\n    <tr>\n      <th>04AEH</th>\n      <td>3874</td>\n      <td>3874</td>\n      <td>3874</td>\n      <td>3874</td>\n      <td>3848</td>\n      <td>3870</td>\n      <td>3870</td>\n      <td>3874</td>\n    </tr>\n    <tr>\n      <th>0CC8G</th>\n      <td>10640</td>\n      <td>10640</td>\n      <td>10640</td>\n      <td>10640</td>\n      <td>10637</td>\n      <td>10640</td>\n      <td>10640</td>\n      <td>10640</td>\n    </tr>\n    <tr>\n      <th>0CNUO</th>\n      <td>10667</td>\n      <td>10667</td>\n      <td>10667</td>\n      <td>10667</td>\n      <td>10664</td>\n      <td>10667</td>\n      <td>10667</td>\n      <td>10667</td>\n    </tr>\n    <tr>\n      <th>0CO7B</th>\n      <td>10667</td>\n      <td>10667</td>\n      <td>10667</td>\n      <td>10667</td>\n      <td>10664</td>\n      <td>10667</td>\n      <td>10667</td>\n      <td>10667</td>\n    </tr>\n    <tr>\n      <th>0FV1F</th>\n      <td>10667</td>\n      <td>10667</td>\n      <td>10667</td>\n      <td>10667</td>\n      <td>10664</td>\n      <td>10667</td>\n      <td>10667</td>\n      <td>10667</td>\n    </tr>\n    <tr>\n      <th>...</th>\n      <td>...</td>\n      <td>...</td>\n      <td>...</td>\n      <td>...</td>\n      <td>...</td>\n      <td>...</td>\n      <td>...</td>\n      <td>...</td>\n    </tr>\n    <tr>\n      <th>ZRBBD</th>\n      <td>23350</td>\n      <td>23349</td>\n      <td>23349</td>\n      <td>23350</td>\n      <td>23349</td>\n      <td>23228</td>\n      <td>23345</td>\n      <td>23349</td>\n    </tr>\n    <tr>\n      <th>ZUQJS</th>\n      <td>3558</td>\n      <td>3558</td>\n      <td>3558</td>\n      <td>3558</td>\n      <td>3545</td>\n      <td>3558</td>\n      <td>3558</td>\n      <td>3547</td>\n    </tr>\n    <tr>\n      <th>ZWC6W</th>\n      <td>24118</td>\n      <td>24117</td>\n      <td>24117</td>\n      <td>24117</td>\n      <td>10672</td>\n      <td>24110</td>\n      <td>24118</td>\n      <td>24117</td>\n    </tr>\n    <tr>\n      <th>ZYC17</th>\n      <td>24063</td>\n      <td>24062</td>\n      <td>24062</td>\n      <td>24063</td>\n      <td>10673</td>\n      <td>24046</td>\n      <td>24055</td>\n      <td>24061</td>\n    </tr>\n    <tr>\n      <th>ZYITU</th>\n      <td>3874</td>\n      <td>3874</td>\n      <td>3874</td>\n      <td>3874</td>\n      <td>3854</td>\n      <td>3874</td>\n      <td>3874</td>\n      <td>3874</td>\n    </tr>\n  </tbody>\n</table>\n<p>2325 rows × 8 columns</p>\n</div>"
     },
     "execution_count": 7,
     "metadata": {},
     "output_type": "execute_result"
    }
   ],
   "source": [
    "df.groupby(\"station\").count() #clearly some stations are missing"
   ],
   "metadata": {
    "collapsed": false,
    "pycharm": {
     "name": "#%%\n"
    }
   }
  },
  {
   "cell_type": "code",
   "execution_count": 8,
   "outputs": [],
   "source": [
    "dfstations=df.groupby(\"station\").count()\n",
    "df_stationskeep = dfstations[dfstations['time']>5000].reset_index() #creating this to know which stations to keep later"
   ],
   "metadata": {
    "collapsed": false,
    "pycharm": {
     "name": "#%%\n"
    }
   }
  },
  {
   "cell_type": "code",
   "execution_count": 9,
   "outputs": [
    {
     "name": "stderr",
     "output_type": "stream",
     "text": [
      "C:\\Users\\jesse\\AppData\\Local\\Temp\\ipykernel_6968\\1129510735.py:1: FutureWarning: Treating datetime data as categorical rather than numeric in `.describe` is deprecated and will be removed in a future version of pandas. Specify `datetime_is_numeric=True` to silence this warning and adopt the future behavior now.\n",
      "  df.time.describe()\n"
     ]
    },
    {
     "data": {
      "text/plain": "count                62183652\nunique                  32880\ntop       2022-06-10 23:00:00\nfreq                     2308\nfirst     2019-01-01 00:00:00\nlast      2022-10-01 23:00:00\nName: time, dtype: object"
     },
     "execution_count": 9,
     "metadata": {},
     "output_type": "execute_result"
    }
   ],
   "source": [
    "df.time.describe()"
   ],
   "metadata": {
    "collapsed": false,
    "pycharm": {
     "name": "#%%\n"
    }
   }
  },
  {
   "cell_type": "code",
   "execution_count": 10,
   "outputs": [],
   "source": [
    "cln_pkl_loc = os.path.join(ROOT_DIR, 'data_cleaning','cleanweather.pkl')\n",
    "df.to_pickle(cln_pkl_loc)"
   ],
   "metadata": {
    "collapsed": false,
    "pycharm": {
     "name": "#%%\n"
    }
   }
  }
 ],
 "metadata": {
  "kernelspec": {
   "display_name": "Python 3 (ipykernel)",
   "language": "python",
   "name": "python3"
  },
  "language_info": {
   "codemirror_mode": {
    "name": "ipython",
    "version": 3
   },
   "file_extension": ".py",
   "mimetype": "text/x-python",
   "name": "python",
   "nbconvert_exporter": "python",
   "pygments_lexer": "ipython3",
   "version": "3.9.12"
  }
 },
 "nbformat": 4,
 "nbformat_minor": 4
}