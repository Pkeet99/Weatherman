{
 "cells": [
  {
   "cell_type": "markdown",
   "metadata": {},
   "source": [
    "# Initial Cleaning/ setup procedures\n"
   ]
  },
  {
   "cell_type": "markdown",
   "metadata": {},
   "source": [
    "#### _1. Import libraries and set path to pkl file_"
   ]
  },
  {
   "cell_type": "code",
   "execution_count": 5,
   "metadata": {
    "collapsed": false,
    "jupyter": {
     "outputs_hidden": false
    },
    "pycharm": {
     "name": "#%%\n"
    }
   },
   "outputs": [
    {
     "data": {
      "text/plain": [
       "'C:\\\\Users\\\\paull\\\\OneDrive - Scandinavian Tobacco Group A S\\\\Documents\\\\GitHub\\\\Weatherman\\\\data\\\\data\\\\weathersmallraw.pkl'"
      ]
     },
     "execution_count": 5,
     "metadata": {},
     "output_type": "execute_result"
    }
   ],
   "source": [
    "import pandas as pd\n",
    "import os\n",
    "from datetime import date, timedelta\n",
    "import datetime\n",
    "import numpy as np\n",
    "from sklearn.impute import KNNImputer\n",
    "import matplotlib.pyplot as plt\n",
    "\n",
    "ROOT_DIR = os.path.realpath(os.path.join(os.getcwd(), '..'))\n",
    "pkl_loc = os.path.join(ROOT_DIR, 'data','data', 'weathersmallraw.pkl')\n",
    "pkl_loc"
   ]
  },
  {
   "cell_type": "markdown",
   "metadata": {},
   "source": [
    "### _2. Create dataframe and run basic eda_"
   ]
  },
  {
   "cell_type": "code",
   "execution_count": 6,
   "metadata": {
    "collapsed": false,
    "jupyter": {
     "outputs_hidden": false
    },
    "pycharm": {
     "name": "#%%\n"
    }
   },
   "outputs": [
    {
     "name": "stdout",
     "output_type": "stream",
     "text": [
      "<class 'pandas.core.frame.DataFrame'>\n",
      "MultiIndex: 8143419 entries, ('0CNUO', Timestamp('2021-10-15 00:00:00')) to ('ZYITU', Timestamp('2022-10-15 23:00:00'))\n",
      "Data columns (total 11 columns):\n",
      " #   Column  Dtype  \n",
      "---  ------  -----  \n",
      " 0   temp    float64\n",
      " 1   dwpt    float64\n",
      " 2   rhum    float64\n",
      " 3   prcp    float64\n",
      " 4   snow    float64\n",
      " 5   wdir    float64\n",
      " 6   wspd    float64\n",
      " 7   wpgt    float64\n",
      " 8   pres    float64\n",
      " 9   tsun    float64\n",
      " 10  coco    float64\n",
      "dtypes: float64(11)\n",
      "memory usage: 714.8+ MB\n"
     ]
    }
   ],
   "source": [
    "df = pd.read_pickle(pkl_loc)\n",
    "df.info()"
   ]
  },
  {
   "cell_type": "code",
   "execution_count": 7,
   "metadata": {
    "collapsed": false,
    "jupyter": {
     "outputs_hidden": false
    },
    "pycharm": {
     "name": "#%%\n"
    }
   },
   "outputs": [
    {
     "ename": "FileNotFoundError",
     "evalue": "[Errno 2] No such file or directory: 'C:\\\\Users\\\\paull\\\\OneDrive - Scandinavian Tobacco Group A S\\\\Documents\\\\GitHub\\\\Weatherman\\\\data\\\\data\\\\octweatherraw.pkl'",
     "output_type": "error",
     "traceback": [
      "\u001b[1;31m---------------------------------------------------------------------------\u001b[0m",
      "\u001b[1;31mFileNotFoundError\u001b[0m                         Traceback (most recent call last)",
      "Input \u001b[1;32mIn [7]\u001b[0m, in \u001b[0;36m<cell line: 4>\u001b[1;34m()\u001b[0m\n\u001b[0;32m      2\u001b[0m pkl_loc \u001b[38;5;241m=\u001b[39m os\u001b[38;5;241m.\u001b[39mpath\u001b[38;5;241m.\u001b[39mjoin(ROOT_DIR, \u001b[38;5;124m'\u001b[39m\u001b[38;5;124mdata\u001b[39m\u001b[38;5;124m'\u001b[39m, \u001b[38;5;124m'\u001b[39m\u001b[38;5;124mdata\u001b[39m\u001b[38;5;124m'\u001b[39m,\u001b[38;5;124m'\u001b[39m\u001b[38;5;124moctweatherraw.pkl\u001b[39m\u001b[38;5;124m'\u001b[39m)\n\u001b[0;32m      3\u001b[0m pkl_loc\n\u001b[1;32m----> 4\u001b[0m df2 \u001b[38;5;241m=\u001b[39m \u001b[43mpd\u001b[49m\u001b[38;5;241;43m.\u001b[39;49m\u001b[43mread_pickle\u001b[49m\u001b[43m(\u001b[49m\u001b[43mpkl_loc\u001b[49m\u001b[43m)\u001b[49m\n\u001b[0;32m      5\u001b[0m df2\u001b[38;5;241m.\u001b[39minfo()\n",
      "File \u001b[1;32m~\\Anaconda32\\lib\\site-packages\\pandas\\io\\pickle.py:187\u001b[0m, in \u001b[0;36mread_pickle\u001b[1;34m(filepath_or_buffer, compression, storage_options)\u001b[0m\n\u001b[0;32m    124\u001b[0m \u001b[38;5;124;03m\"\"\"\u001b[39;00m\n\u001b[0;32m    125\u001b[0m \u001b[38;5;124;03mLoad pickled pandas object (or any object) from file.\u001b[39;00m\n\u001b[0;32m    126\u001b[0m \n\u001b[1;32m   (...)\u001b[0m\n\u001b[0;32m    184\u001b[0m \u001b[38;5;124;03m4    4    9\u001b[39;00m\n\u001b[0;32m    185\u001b[0m \u001b[38;5;124;03m\"\"\"\u001b[39;00m  \u001b[38;5;66;03m# noqa: E501\u001b[39;00m\n\u001b[0;32m    186\u001b[0m excs_to_catch \u001b[38;5;241m=\u001b[39m (\u001b[38;5;167;01mAttributeError\u001b[39;00m, \u001b[38;5;167;01mImportError\u001b[39;00m, \u001b[38;5;167;01mModuleNotFoundError\u001b[39;00m, \u001b[38;5;167;01mTypeError\u001b[39;00m)\n\u001b[1;32m--> 187\u001b[0m \u001b[38;5;28;01mwith\u001b[39;00m \u001b[43mget_handle\u001b[49m\u001b[43m(\u001b[49m\n\u001b[0;32m    188\u001b[0m \u001b[43m    \u001b[49m\u001b[43mfilepath_or_buffer\u001b[49m\u001b[43m,\u001b[49m\n\u001b[0;32m    189\u001b[0m \u001b[43m    \u001b[49m\u001b[38;5;124;43m\"\u001b[39;49m\u001b[38;5;124;43mrb\u001b[39;49m\u001b[38;5;124;43m\"\u001b[39;49m\u001b[43m,\u001b[49m\n\u001b[0;32m    190\u001b[0m \u001b[43m    \u001b[49m\u001b[43mcompression\u001b[49m\u001b[38;5;241;43m=\u001b[39;49m\u001b[43mcompression\u001b[49m\u001b[43m,\u001b[49m\n\u001b[0;32m    191\u001b[0m \u001b[43m    \u001b[49m\u001b[43mis_text\u001b[49m\u001b[38;5;241;43m=\u001b[39;49m\u001b[38;5;28;43;01mFalse\u001b[39;49;00m\u001b[43m,\u001b[49m\n\u001b[0;32m    192\u001b[0m \u001b[43m    \u001b[49m\u001b[43mstorage_options\u001b[49m\u001b[38;5;241;43m=\u001b[39;49m\u001b[43mstorage_options\u001b[49m\u001b[43m,\u001b[49m\n\u001b[0;32m    193\u001b[0m \u001b[43m\u001b[49m\u001b[43m)\u001b[49m \u001b[38;5;28;01mas\u001b[39;00m handles:\n\u001b[0;32m    194\u001b[0m \n\u001b[0;32m    195\u001b[0m     \u001b[38;5;66;03m# 1) try standard library Pickle\u001b[39;00m\n\u001b[0;32m    196\u001b[0m     \u001b[38;5;66;03m# 2) try pickle_compat (older pandas version) to handle subclass changes\u001b[39;00m\n\u001b[0;32m    197\u001b[0m     \u001b[38;5;66;03m# 3) try pickle_compat with latin-1 encoding upon a UnicodeDecodeError\u001b[39;00m\n\u001b[0;32m    199\u001b[0m     \u001b[38;5;28;01mtry\u001b[39;00m:\n\u001b[0;32m    200\u001b[0m         \u001b[38;5;66;03m# TypeError for Cython complaints about object.__new__ vs Tick.__new__\u001b[39;00m\n\u001b[0;32m    201\u001b[0m         \u001b[38;5;28;01mtry\u001b[39;00m:\n",
      "File \u001b[1;32m~\\Anaconda32\\lib\\site-packages\\pandas\\io\\common.py:798\u001b[0m, in \u001b[0;36mget_handle\u001b[1;34m(path_or_buf, mode, encoding, compression, memory_map, is_text, errors, storage_options)\u001b[0m\n\u001b[0;32m    789\u001b[0m         handle \u001b[38;5;241m=\u001b[39m \u001b[38;5;28mopen\u001b[39m(\n\u001b[0;32m    790\u001b[0m             handle,\n\u001b[0;32m    791\u001b[0m             ioargs\u001b[38;5;241m.\u001b[39mmode,\n\u001b[1;32m   (...)\u001b[0m\n\u001b[0;32m    794\u001b[0m             newline\u001b[38;5;241m=\u001b[39m\u001b[38;5;124m\"\u001b[39m\u001b[38;5;124m\"\u001b[39m,\n\u001b[0;32m    795\u001b[0m         )\n\u001b[0;32m    796\u001b[0m     \u001b[38;5;28;01melse\u001b[39;00m:\n\u001b[0;32m    797\u001b[0m         \u001b[38;5;66;03m# Binary mode\u001b[39;00m\n\u001b[1;32m--> 798\u001b[0m         handle \u001b[38;5;241m=\u001b[39m \u001b[38;5;28;43mopen\u001b[39;49m\u001b[43m(\u001b[49m\u001b[43mhandle\u001b[49m\u001b[43m,\u001b[49m\u001b[43m \u001b[49m\u001b[43mioargs\u001b[49m\u001b[38;5;241;43m.\u001b[39;49m\u001b[43mmode\u001b[49m\u001b[43m)\u001b[49m\n\u001b[0;32m    799\u001b[0m     handles\u001b[38;5;241m.\u001b[39mappend(handle)\n\u001b[0;32m    801\u001b[0m \u001b[38;5;66;03m# Convert BytesIO or file objects passed with an encoding\u001b[39;00m\n",
      "\u001b[1;31mFileNotFoundError\u001b[0m: [Errno 2] No such file or directory: 'C:\\\\Users\\\\paull\\\\OneDrive - Scandinavian Tobacco Group A S\\\\Documents\\\\GitHub\\\\Weatherman\\\\data\\\\data\\\\octweatherraw.pkl'"
     ]
    }
   ],
   "source": [
    "ROOT_DIR = os.path.realpath(os.path.join(os.getcwd(), '..'))\n",
    "pkl_loc = os.path.join(ROOT_DIR, 'data', 'data','octweatherraw.pkl')\n",
    "pkl_loc\n",
    "df2 = pd.read_pickle(pkl_loc)\n",
    "df2.info()"
   ]
  },
  {
   "cell_type": "code",
   "execution_count": 10,
   "metadata": {
    "collapsed": false,
    "jupyter": {
     "outputs_hidden": false
    },
    "pycharm": {
     "name": "#%%\n"
    }
   },
   "outputs": [
    {
     "data": {
      "text/html": [
       "<div>\n",
       "<style scoped>\n",
       "    .dataframe tbody tr th:only-of-type {\n",
       "        vertical-align: middle;\n",
       "    }\n",
       "\n",
       "    .dataframe tbody tr th {\n",
       "        vertical-align: top;\n",
       "    }\n",
       "\n",
       "    .dataframe thead th {\n",
       "        text-align: right;\n",
       "    }\n",
       "</style>\n",
       "<table border=\"1\" class=\"dataframe\">\n",
       "  <thead>\n",
       "    <tr style=\"text-align: right;\">\n",
       "      <th></th>\n",
       "      <th>temp</th>\n",
       "      <th>dwpt</th>\n",
       "      <th>rhum</th>\n",
       "      <th>prcp</th>\n",
       "      <th>snow</th>\n",
       "      <th>wdir</th>\n",
       "      <th>wspd</th>\n",
       "      <th>wpgt</th>\n",
       "      <th>pres</th>\n",
       "      <th>tsun</th>\n",
       "      <th>coco</th>\n",
       "    </tr>\n",
       "  </thead>\n",
       "  <tbody>\n",
       "    <tr>\n",
       "      <th>count</th>\n",
       "      <td>8143364.000</td>\n",
       "      <td>8143349.000</td>\n",
       "      <td>8143369.000</td>\n",
       "      <td>8108127.000</td>\n",
       "      <td>0.000</td>\n",
       "      <td>8143263.000</td>\n",
       "      <td>8143299.000</td>\n",
       "      <td>0.000</td>\n",
       "      <td>8143108.000</td>\n",
       "      <td>0.000</td>\n",
       "      <td>3232619.000</td>\n",
       "    </tr>\n",
       "    <tr>\n",
       "      <th>mean</th>\n",
       "      <td>10.367</td>\n",
       "      <td>4.488</td>\n",
       "      <td>70.391</td>\n",
       "      <td>0.117</td>\n",
       "      <td>NaN</td>\n",
       "      <td>176.150</td>\n",
       "      <td>12.871</td>\n",
       "      <td>NaN</td>\n",
       "      <td>1016.337</td>\n",
       "      <td>NaN</td>\n",
       "      <td>2.976</td>\n",
       "    </tr>\n",
       "    <tr>\n",
       "      <th>std</th>\n",
       "      <td>12.527</td>\n",
       "      <td>11.790</td>\n",
       "      <td>19.645</td>\n",
       "      <td>0.920</td>\n",
       "      <td>NaN</td>\n",
       "      <td>112.485</td>\n",
       "      <td>9.181</td>\n",
       "      <td>NaN</td>\n",
       "      <td>7.606</td>\n",
       "      <td>NaN</td>\n",
       "      <td>2.736</td>\n",
       "    </tr>\n",
       "    <tr>\n",
       "      <th>min</th>\n",
       "      <td>-43.000</td>\n",
       "      <td>-52.900</td>\n",
       "      <td>0.000</td>\n",
       "      <td>0.000</td>\n",
       "      <td>NaN</td>\n",
       "      <td>0.000</td>\n",
       "      <td>0.000</td>\n",
       "      <td>NaN</td>\n",
       "      <td>880.000</td>\n",
       "      <td>NaN</td>\n",
       "      <td>1.000</td>\n",
       "    </tr>\n",
       "    <tr>\n",
       "      <th>25%</th>\n",
       "      <td>1.400</td>\n",
       "      <td>-3.400</td>\n",
       "      <td>57.000</td>\n",
       "      <td>0.000</td>\n",
       "      <td>NaN</td>\n",
       "      <td>80.000</td>\n",
       "      <td>7.000</td>\n",
       "      <td>NaN</td>\n",
       "      <td>1012.000</td>\n",
       "      <td>NaN</td>\n",
       "      <td>1.000</td>\n",
       "    </tr>\n",
       "    <tr>\n",
       "      <th>50%</th>\n",
       "      <td>11.700</td>\n",
       "      <td>5.100</td>\n",
       "      <td>73.000</td>\n",
       "      <td>0.000</td>\n",
       "      <td>NaN</td>\n",
       "      <td>190.000</td>\n",
       "      <td>11.200</td>\n",
       "      <td>NaN</td>\n",
       "      <td>1016.400</td>\n",
       "      <td>NaN</td>\n",
       "      <td>3.000</td>\n",
       "    </tr>\n",
       "    <tr>\n",
       "      <th>75%</th>\n",
       "      <td>20.000</td>\n",
       "      <td>14.400</td>\n",
       "      <td>86.000</td>\n",
       "      <td>0.000</td>\n",
       "      <td>NaN</td>\n",
       "      <td>270.000</td>\n",
       "      <td>18.400</td>\n",
       "      <td>NaN</td>\n",
       "      <td>1021.000</td>\n",
       "      <td>NaN</td>\n",
       "      <td>3.000</td>\n",
       "    </tr>\n",
       "    <tr>\n",
       "      <th>max</th>\n",
       "      <td>65.000</td>\n",
       "      <td>60.000</td>\n",
       "      <td>100.000</td>\n",
       "      <td>332.000</td>\n",
       "      <td>NaN</td>\n",
       "      <td>360.000</td>\n",
       "      <td>243.000</td>\n",
       "      <td>NaN</td>\n",
       "      <td>1061.000</td>\n",
       "      <td>NaN</td>\n",
       "      <td>25.000</td>\n",
       "    </tr>\n",
       "  </tbody>\n",
       "</table>\n",
       "</div>"
      ],
      "text/plain": [
       "             temp        dwpt        rhum        prcp  snow        wdir  \\\n",
       "count 8143364.000 8143349.000 8143369.000 8108127.000 0.000 8143263.000   \n",
       "mean       10.367       4.488      70.391       0.117   NaN     176.150   \n",
       "std        12.527      11.790      19.645       0.920   NaN     112.485   \n",
       "min       -43.000     -52.900       0.000       0.000   NaN       0.000   \n",
       "25%         1.400      -3.400      57.000       0.000   NaN      80.000   \n",
       "50%        11.700       5.100      73.000       0.000   NaN     190.000   \n",
       "75%        20.000      14.400      86.000       0.000   NaN     270.000   \n",
       "max        65.000      60.000     100.000     332.000   NaN     360.000   \n",
       "\n",
       "             wspd  wpgt        pres  tsun        coco  \n",
       "count 8143299.000 0.000 8143108.000 0.000 3232619.000  \n",
       "mean       12.871   NaN    1016.337   NaN       2.976  \n",
       "std         9.181   NaN       7.606   NaN       2.736  \n",
       "min         0.000   NaN     880.000   NaN       1.000  \n",
       "25%         7.000   NaN    1012.000   NaN       1.000  \n",
       "50%        11.200   NaN    1016.400   NaN       3.000  \n",
       "75%        18.400   NaN    1021.000   NaN       3.000  \n",
       "max       243.000   NaN    1061.000   NaN      25.000  "
      ]
     },
     "execution_count": 10,
     "metadata": {},
     "output_type": "execute_result"
    }
   ],
   "source": [
    "pd.set_option('display.float_format', lambda x: '%.3f' % x)\n",
    "df.describe()"
   ]
  },
  {
   "cell_type": "code",
   "execution_count": 9,
   "metadata": {
    "collapsed": false,
    "jupyter": {
     "outputs_hidden": false
    },
    "pycharm": {
     "name": "#%%\n"
    }
   },
   "outputs": [
    {
     "ename": "NameError",
     "evalue": "name 'df2' is not defined",
     "output_type": "error",
     "traceback": [
      "\u001b[1;31m---------------------------------------------------------------------------\u001b[0m",
      "\u001b[1;31mNameError\u001b[0m                                 Traceback (most recent call last)",
      "Input \u001b[1;32mIn [9]\u001b[0m, in \u001b[0;36m<cell line: 1>\u001b[1;34m()\u001b[0m\n\u001b[1;32m----> 1\u001b[0m df \u001b[38;5;241m=\u001b[39m pd\u001b[38;5;241m.\u001b[39mconcat([df, \u001b[43mdf2\u001b[49m])\n\u001b[0;32m      2\u001b[0m df\u001b[38;5;241m.\u001b[39mshape\n",
      "\u001b[1;31mNameError\u001b[0m: name 'df2' is not defined"
     ]
    }
   ],
   "source": [
    "df = pd.concat([df, df2])\n",
    "df.shape\n"
   ]
  },
  {
   "cell_type": "markdown",
   "metadata": {},
   "source": [
    "### _3. Remove unneeded columns_\n"
   ]
  },
  {
   "cell_type": "code",
   "execution_count": 11,
   "metadata": {
    "collapsed": false,
    "jupyter": {
     "outputs_hidden": false
    },
    "pycharm": {
     "name": "#%%\n"
    }
   },
   "outputs": [
    {
     "data": {
      "text/html": [
       "<div>\n",
       "<style scoped>\n",
       "    .dataframe tbody tr th:only-of-type {\n",
       "        vertical-align: middle;\n",
       "    }\n",
       "\n",
       "    .dataframe tbody tr th {\n",
       "        vertical-align: top;\n",
       "    }\n",
       "\n",
       "    .dataframe thead th {\n",
       "        text-align: right;\n",
       "    }\n",
       "</style>\n",
       "<table border=\"1\" class=\"dataframe\">\n",
       "  <thead>\n",
       "    <tr style=\"text-align: right;\">\n",
       "      <th></th>\n",
       "      <th></th>\n",
       "      <th>temp</th>\n",
       "      <th>dwpt</th>\n",
       "      <th>rhum</th>\n",
       "      <th>prcp</th>\n",
       "      <th>wdir</th>\n",
       "      <th>wspd</th>\n",
       "      <th>pres</th>\n",
       "    </tr>\n",
       "    <tr>\n",
       "      <th>station</th>\n",
       "      <th>time</th>\n",
       "      <th></th>\n",
       "      <th></th>\n",
       "      <th></th>\n",
       "      <th></th>\n",
       "      <th></th>\n",
       "      <th></th>\n",
       "      <th></th>\n",
       "    </tr>\n",
       "  </thead>\n",
       "  <tbody>\n",
       "    <tr>\n",
       "      <th rowspan=\"5\" valign=\"top\">0CNUO</th>\n",
       "      <th>2021-10-15 00:00:00</th>\n",
       "      <td>9.900</td>\n",
       "      <td>7.800</td>\n",
       "      <td>87.000</td>\n",
       "      <td>0.100</td>\n",
       "      <td>226.000</td>\n",
       "      <td>20.900</td>\n",
       "      <td>1002.800</td>\n",
       "    </tr>\n",
       "    <tr>\n",
       "      <th>2021-10-15 01:00:00</th>\n",
       "      <td>9.800</td>\n",
       "      <td>7.700</td>\n",
       "      <td>87.000</td>\n",
       "      <td>0.100</td>\n",
       "      <td>227.000</td>\n",
       "      <td>20.200</td>\n",
       "      <td>1003.500</td>\n",
       "    </tr>\n",
       "    <tr>\n",
       "      <th>2021-10-15 02:00:00</th>\n",
       "      <td>9.600</td>\n",
       "      <td>7.400</td>\n",
       "      <td>86.000</td>\n",
       "      <td>0.100</td>\n",
       "      <td>228.000</td>\n",
       "      <td>19.400</td>\n",
       "      <td>1004.000</td>\n",
       "    </tr>\n",
       "    <tr>\n",
       "      <th>2021-10-15 03:00:00</th>\n",
       "      <td>9.400</td>\n",
       "      <td>7.000</td>\n",
       "      <td>85.000</td>\n",
       "      <td>0.100</td>\n",
       "      <td>231.000</td>\n",
       "      <td>18.400</td>\n",
       "      <td>1004.400</td>\n",
       "    </tr>\n",
       "    <tr>\n",
       "      <th>2021-10-15 04:00:00</th>\n",
       "      <td>9.100</td>\n",
       "      <td>6.900</td>\n",
       "      <td>86.000</td>\n",
       "      <td>0.100</td>\n",
       "      <td>233.000</td>\n",
       "      <td>18.400</td>\n",
       "      <td>1004.800</td>\n",
       "    </tr>\n",
       "  </tbody>\n",
       "</table>\n",
       "</div>"
      ],
      "text/plain": [
       "                             temp  dwpt   rhum  prcp    wdir   wspd     pres\n",
       "station time                                                                \n",
       "0CNUO   2021-10-15 00:00:00 9.900 7.800 87.000 0.100 226.000 20.900 1002.800\n",
       "        2021-10-15 01:00:00 9.800 7.700 87.000 0.100 227.000 20.200 1003.500\n",
       "        2021-10-15 02:00:00 9.600 7.400 86.000 0.100 228.000 19.400 1004.000\n",
       "        2021-10-15 03:00:00 9.400 7.000 85.000 0.100 231.000 18.400 1004.400\n",
       "        2021-10-15 04:00:00 9.100 6.900 86.000 0.100 233.000 18.400 1004.800"
      ]
     },
     "execution_count": 11,
     "metadata": {},
     "output_type": "execute_result"
    }
   ],
   "source": [
    "df.drop(columns=['snow', 'wpgt','tsun','coco'],inplace=True)\n",
    "df.head()"
   ]
  },
  {
   "cell_type": "code",
   "execution_count": 12,
   "metadata": {
    "collapsed": false,
    "jupyter": {
     "outputs_hidden": false
    },
    "pycharm": {
     "name": "#%%\n"
    }
   },
   "outputs": [],
   "source": [
    "df=df.reset_index()"
   ]
  },
  {
   "cell_type": "markdown",
   "metadata": {},
   "source": [
    "### _4. Counting Stations_"
   ]
  },
  {
   "cell_type": "code",
   "execution_count": 13,
   "metadata": {
    "collapsed": false,
    "jupyter": {
     "outputs_hidden": false
    },
    "pycharm": {
     "name": "#%%\n"
    }
   },
   "outputs": [
    {
     "data": {
      "text/html": [
       "<div>\n",
       "<style scoped>\n",
       "    .dataframe tbody tr th:only-of-type {\n",
       "        vertical-align: middle;\n",
       "    }\n",
       "\n",
       "    .dataframe tbody tr th {\n",
       "        vertical-align: top;\n",
       "    }\n",
       "\n",
       "    .dataframe thead th {\n",
       "        text-align: right;\n",
       "    }\n",
       "</style>\n",
       "<table border=\"1\" class=\"dataframe\">\n",
       "  <thead>\n",
       "    <tr style=\"text-align: right;\">\n",
       "      <th></th>\n",
       "      <th>time</th>\n",
       "      <th>temp</th>\n",
       "      <th>dwpt</th>\n",
       "      <th>rhum</th>\n",
       "      <th>prcp</th>\n",
       "      <th>wdir</th>\n",
       "      <th>wspd</th>\n",
       "      <th>pres</th>\n",
       "    </tr>\n",
       "    <tr>\n",
       "      <th>station</th>\n",
       "      <th></th>\n",
       "      <th></th>\n",
       "      <th></th>\n",
       "      <th></th>\n",
       "      <th></th>\n",
       "      <th></th>\n",
       "      <th></th>\n",
       "      <th></th>\n",
       "    </tr>\n",
       "  </thead>\n",
       "  <tbody>\n",
       "    <tr>\n",
       "      <th>0CNUO</th>\n",
       "      <td>8776</td>\n",
       "      <td>8776</td>\n",
       "      <td>8776</td>\n",
       "      <td>8776</td>\n",
       "      <td>8774</td>\n",
       "      <td>8776</td>\n",
       "      <td>8776</td>\n",
       "      <td>8776</td>\n",
       "    </tr>\n",
       "    <tr>\n",
       "      <th>0CO7B</th>\n",
       "      <td>8776</td>\n",
       "      <td>8776</td>\n",
       "      <td>8776</td>\n",
       "      <td>8776</td>\n",
       "      <td>8774</td>\n",
       "      <td>8776</td>\n",
       "      <td>8776</td>\n",
       "      <td>8776</td>\n",
       "    </tr>\n",
       "    <tr>\n",
       "      <th>0FV1F</th>\n",
       "      <td>8776</td>\n",
       "      <td>8776</td>\n",
       "      <td>8776</td>\n",
       "      <td>8776</td>\n",
       "      <td>8774</td>\n",
       "      <td>8776</td>\n",
       "      <td>8776</td>\n",
       "      <td>8776</td>\n",
       "    </tr>\n",
       "    <tr>\n",
       "      <th>0NNEW</th>\n",
       "      <td>3888</td>\n",
       "      <td>3888</td>\n",
       "      <td>3888</td>\n",
       "      <td>3888</td>\n",
       "      <td>3872</td>\n",
       "      <td>3888</td>\n",
       "      <td>3888</td>\n",
       "      <td>3875</td>\n",
       "    </tr>\n",
       "    <tr>\n",
       "      <th>1CZCV</th>\n",
       "      <td>4210</td>\n",
       "      <td>4210</td>\n",
       "      <td>4210</td>\n",
       "      <td>4210</td>\n",
       "      <td>4173</td>\n",
       "      <td>4210</td>\n",
       "      <td>4210</td>\n",
       "      <td>4210</td>\n",
       "    </tr>\n",
       "    <tr>\n",
       "      <th>...</th>\n",
       "      <td>...</td>\n",
       "      <td>...</td>\n",
       "      <td>...</td>\n",
       "      <td>...</td>\n",
       "      <td>...</td>\n",
       "      <td>...</td>\n",
       "      <td>...</td>\n",
       "      <td>...</td>\n",
       "    </tr>\n",
       "    <tr>\n",
       "      <th>ZFZUV</th>\n",
       "      <td>8784</td>\n",
       "      <td>8784</td>\n",
       "      <td>8784</td>\n",
       "      <td>8784</td>\n",
       "      <td>8782</td>\n",
       "      <td>8784</td>\n",
       "      <td>8784</td>\n",
       "      <td>8784</td>\n",
       "    </tr>\n",
       "    <tr>\n",
       "      <th>ZNWZW</th>\n",
       "      <td>4210</td>\n",
       "      <td>4210</td>\n",
       "      <td>4210</td>\n",
       "      <td>4210</td>\n",
       "      <td>4190</td>\n",
       "      <td>4210</td>\n",
       "      <td>4210</td>\n",
       "      <td>4210</td>\n",
       "    </tr>\n",
       "    <tr>\n",
       "      <th>ZUQJS</th>\n",
       "      <td>3894</td>\n",
       "      <td>3894</td>\n",
       "      <td>3894</td>\n",
       "      <td>3894</td>\n",
       "      <td>3881</td>\n",
       "      <td>3894</td>\n",
       "      <td>3894</td>\n",
       "      <td>3883</td>\n",
       "    </tr>\n",
       "    <tr>\n",
       "      <th>ZWC6W</th>\n",
       "      <td>8784</td>\n",
       "      <td>8784</td>\n",
       "      <td>8784</td>\n",
       "      <td>8784</td>\n",
       "      <td>8782</td>\n",
       "      <td>8784</td>\n",
       "      <td>8784</td>\n",
       "      <td>8784</td>\n",
       "    </tr>\n",
       "    <tr>\n",
       "      <th>ZYITU</th>\n",
       "      <td>4210</td>\n",
       "      <td>4210</td>\n",
       "      <td>4210</td>\n",
       "      <td>4210</td>\n",
       "      <td>4190</td>\n",
       "      <td>4210</td>\n",
       "      <td>4210</td>\n",
       "      <td>4210</td>\n",
       "    </tr>\n",
       "  </tbody>\n",
       "</table>\n",
       "<p>963 rows × 8 columns</p>\n",
       "</div>"
      ],
      "text/plain": [
       "         time  temp  dwpt  rhum  prcp  wdir  wspd  pres\n",
       "station                                                \n",
       "0CNUO    8776  8776  8776  8776  8774  8776  8776  8776\n",
       "0CO7B    8776  8776  8776  8776  8774  8776  8776  8776\n",
       "0FV1F    8776  8776  8776  8776  8774  8776  8776  8776\n",
       "0NNEW    3888  3888  3888  3888  3872  3888  3888  3875\n",
       "1CZCV    4210  4210  4210  4210  4173  4210  4210  4210\n",
       "...       ...   ...   ...   ...   ...   ...   ...   ...\n",
       "ZFZUV    8784  8784  8784  8784  8782  8784  8784  8784\n",
       "ZNWZW    4210  4210  4210  4210  4190  4210  4210  4210\n",
       "ZUQJS    3894  3894  3894  3894  3881  3894  3894  3883\n",
       "ZWC6W    8784  8784  8784  8784  8782  8784  8784  8784\n",
       "ZYITU    4210  4210  4210  4210  4190  4210  4210  4210\n",
       "\n",
       "[963 rows x 8 columns]"
      ]
     },
     "execution_count": 13,
     "metadata": {},
     "output_type": "execute_result"
    }
   ],
   "source": [
    "df.groupby(\"station\").count() #clearly some stations are missing"
   ]
  },
  {
   "cell_type": "code",
   "execution_count": 14,
   "metadata": {
    "collapsed": false,
    "jupyter": {
     "outputs_hidden": false
    },
    "pycharm": {
     "name": "#%%\n"
    }
   },
   "outputs": [],
   "source": [
    "dfstations=df.groupby(\"station\").count()\n",
    "df_stationskeep = dfstations[dfstations['time']>5000].reset_index() #creating this to know which stations to keep later"
   ]
  },
  {
   "cell_type": "code",
   "execution_count": 15,
   "metadata": {
    "collapsed": false,
    "jupyter": {
     "outputs_hidden": false
    },
    "pycharm": {
     "name": "#%%\n"
    }
   },
   "outputs": [
    {
     "name": "stderr",
     "output_type": "stream",
     "text": [
      "C:\\Users\\paull\\AppData\\Local\\Temp\\ipykernel_35476\\3482922840.py:1: FutureWarning: Treating datetime data as categorical rather than numeric in `.describe` is deprecated and will be removed in a future version of pandas. Specify `datetime_is_numeric=True` to silence this warning and adopt the future behavior now.\n",
      "  df.time.describe()\n"
     ]
    },
    {
     "data": {
      "text/plain": [
       "count                 8143419\n",
       "unique                   8784\n",
       "top       2022-07-20 15:00:00\n",
       "freq                      960\n",
       "first     2021-10-15 00:00:00\n",
       "last      2022-10-15 23:00:00\n",
       "Name: time, dtype: object"
      ]
     },
     "execution_count": 15,
     "metadata": {},
     "output_type": "execute_result"
    }
   ],
   "source": [
    "df.time.describe()"
   ]
  },
  {
   "cell_type": "code",
   "execution_count": 16,
   "metadata": {
    "collapsed": false,
    "jupyter": {
     "outputs_hidden": false
    },
    "pycharm": {
     "name": "#%%\n"
    }
   },
   "outputs": [],
   "source": [
    "cln_pkl_loc = os.path.join(ROOT_DIR, 'data_cleaning','cleanweather.pkl')\n",
    "df.to_pickle(cln_pkl_loc)"
   ]
  },
  {
   "cell_type": "code",
   "execution_count": null,
   "metadata": {
    "collapsed": false,
    "jupyter": {
     "outputs_hidden": false
    },
    "pycharm": {
     "name": "#%%\n"
    }
   },
   "outputs": [],
   "source": []
  }
 ],
 "metadata": {
  "kernelspec": {
   "display_name": "Python 3 (ipykernel)",
   "language": "python",
   "name": "python3"
  },
  "language_info": {
   "codemirror_mode": {
    "name": "ipython",
    "version": 3
   },
   "file_extension": ".py",
   "mimetype": "text/x-python",
   "name": "python",
   "nbconvert_exporter": "python",
   "pygments_lexer": "ipython3",
   "version": "3.9.12"
  }
 },
 "nbformat": 4,
 "nbformat_minor": 4
}
