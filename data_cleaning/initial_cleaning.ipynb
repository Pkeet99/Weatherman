{
 "cells": [
  {
   "cell_type": "markdown",
   "metadata": {
    "pycharm": {
     "name": "#%% md\n"
    }
   },
   "source": [
    "# Initial Cleaning/ setup procedures\n"
   ]
  },
  {
   "cell_type": "markdown",
   "metadata": {},
   "source": [
    "#### _1. Import libraries and set path to pkl file_"
   ]
  },
  {
   "cell_type": "code",
   "execution_count": 4,
   "metadata": {
    "collapsed": false,
    "jupyter": {
     "outputs_hidden": false
    },
    "pycharm": {
     "name": "#%%\n"
    }
   },
   "outputs": [
    {
     "data": {
      "text/plain": [
       "'C:\\\\Users\\\\paull\\\\OneDrive - Scandinavian Tobacco Group A S\\\\Documents\\\\GitHub\\\\Weatherman\\\\data\\\\data\\\\weathersmallraw.pkl'"
      ]
     },
     "execution_count": 4,
     "metadata": {},
     "output_type": "execute_result"
    }
   ],
   "source": [
    "import pandas as pd\n",
    "import os\n",
    "ROOT_DIR = os.path.realpath(os.path.join(os.getcwd(), '..'))\n",
    "pkl_loc = os.path.join(ROOT_DIR, 'data', 'data','weathersmallraw.pkl')\n",
    "pkl_loc"
   ]
  },
  {
   "cell_type": "markdown",
   "metadata": {},
   "source": [
    "### _2. Create dataframe and run basic eda_"
   ]
  },
  {
   "cell_type": "code",
   "execution_count": 5,
   "metadata": {
    "collapsed": false,
    "jupyter": {
     "outputs_hidden": false
    },
    "pycharm": {
     "name": "#%%\n"
    }
   },
   "outputs": [
    {
     "name": "stdout",
     "output_type": "stream",
     "text": [
      "<class 'pandas.core.frame.DataFrame'>\n",
      "MultiIndex: 3765246 entries, ('0CNUO', Timestamp('2022-01-01 00:00:00')) to ('ZYITU', Timestamp('2022-09-22 23:00:00'))\n",
      "Data columns (total 11 columns):\n",
      " #   Column  Dtype  \n",
      "---  ------  -----  \n",
      " 0   temp    float64\n",
      " 1   dwpt    float64\n",
      " 2   rhum    float64\n",
      " 3   prcp    float64\n",
      " 4   snow    float64\n",
      " 5   wdir    float64\n",
      " 6   wspd    float64\n",
      " 7   wpgt    float64\n",
      " 8   pres    float64\n",
      " 9   tsun    float64\n",
      " 10  coco    float64\n",
      "dtypes: float64(11)\n",
      "memory usage: 330.7+ MB\n"
     ]
    }
   ],
   "source": [
    "df = pd.read_pickle(pkl_loc)\n",
    "df.info()"
   ]
  },
  {
   "cell_type": "code",
   "execution_count": 6,
   "metadata": {
    "collapsed": false,
    "jupyter": {
     "outputs_hidden": false
    },
    "pycharm": {
     "name": "#%%\n"
    }
   },
   "outputs": [
    {
     "data": {
      "text/html": [
       "<div>\n",
       "<style scoped>\n",
       "    .dataframe tbody tr th:only-of-type {\n",
       "        vertical-align: middle;\n",
       "    }\n",
       "\n",
       "    .dataframe tbody tr th {\n",
       "        vertical-align: top;\n",
       "    }\n",
       "\n",
       "    .dataframe thead th {\n",
       "        text-align: right;\n",
       "    }\n",
       "</style>\n",
       "<table border=\"1\" class=\"dataframe\">\n",
       "  <thead>\n",
       "    <tr style=\"text-align: right;\">\n",
       "      <th></th>\n",
       "      <th>temp</th>\n",
       "      <th>dwpt</th>\n",
       "      <th>rhum</th>\n",
       "      <th>prcp</th>\n",
       "      <th>snow</th>\n",
       "      <th>wdir</th>\n",
       "      <th>wspd</th>\n",
       "      <th>wpgt</th>\n",
       "      <th>pres</th>\n",
       "      <th>tsun</th>\n",
       "      <th>coco</th>\n",
       "    </tr>\n",
       "  </thead>\n",
       "  <tbody>\n",
       "    <tr>\n",
       "      <th>count</th>\n",
       "      <td>3765202.000</td>\n",
       "      <td>3765187.000</td>\n",
       "      <td>3765207.000</td>\n",
       "      <td>3744744.000</td>\n",
       "      <td>0.000</td>\n",
       "      <td>3765167.000</td>\n",
       "      <td>3765177.000</td>\n",
       "      <td>0.000</td>\n",
       "      <td>3765066.000</td>\n",
       "      <td>0.000</td>\n",
       "      <td>1614583.000</td>\n",
       "    </tr>\n",
       "    <tr>\n",
       "      <th>mean</th>\n",
       "      <td>9.246</td>\n",
       "      <td>3.645</td>\n",
       "      <td>71.106</td>\n",
       "      <td>0.116</td>\n",
       "      <td>NaN</td>\n",
       "      <td>184.294</td>\n",
       "      <td>13.762</td>\n",
       "      <td>NaN</td>\n",
       "      <td>1015.720</td>\n",
       "      <td>NaN</td>\n",
       "      <td>3.003</td>\n",
       "    </tr>\n",
       "    <tr>\n",
       "      <th>std</th>\n",
       "      <td>13.836</td>\n",
       "      <td>13.119</td>\n",
       "      <td>18.702</td>\n",
       "      <td>1.052</td>\n",
       "      <td>NaN</td>\n",
       "      <td>111.576</td>\n",
       "      <td>9.344</td>\n",
       "      <td>NaN</td>\n",
       "      <td>7.956</td>\n",
       "      <td>NaN</td>\n",
       "      <td>2.788</td>\n",
       "    </tr>\n",
       "    <tr>\n",
       "      <th>min</th>\n",
       "      <td>-43.000</td>\n",
       "      <td>-52.900</td>\n",
       "      <td>0.000</td>\n",
       "      <td>0.000</td>\n",
       "      <td>NaN</td>\n",
       "      <td>0.000</td>\n",
       "      <td>0.000</td>\n",
       "      <td>NaN</td>\n",
       "      <td>970.300</td>\n",
       "      <td>NaN</td>\n",
       "      <td>1.000</td>\n",
       "    </tr>\n",
       "    <tr>\n",
       "      <th>25%</th>\n",
       "      <td>-0.700</td>\n",
       "      <td>-5.700</td>\n",
       "      <td>58.000</td>\n",
       "      <td>0.000</td>\n",
       "      <td>NaN</td>\n",
       "      <td>91.000</td>\n",
       "      <td>7.600</td>\n",
       "      <td>NaN</td>\n",
       "      <td>1011.000</td>\n",
       "      <td>NaN</td>\n",
       "      <td>1.000</td>\n",
       "    </tr>\n",
       "    <tr>\n",
       "      <th>50%</th>\n",
       "      <td>12.200</td>\n",
       "      <td>6.200</td>\n",
       "      <td>73.000</td>\n",
       "      <td>0.000</td>\n",
       "      <td>NaN</td>\n",
       "      <td>191.000</td>\n",
       "      <td>13.000</td>\n",
       "      <td>NaN</td>\n",
       "      <td>1015.800</td>\n",
       "      <td>NaN</td>\n",
       "      <td>3.000</td>\n",
       "    </tr>\n",
       "    <tr>\n",
       "      <th>75%</th>\n",
       "      <td>20.300</td>\n",
       "      <td>14.800</td>\n",
       "      <td>86.000</td>\n",
       "      <td>0.000</td>\n",
       "      <td>NaN</td>\n",
       "      <td>280.000</td>\n",
       "      <td>18.400</td>\n",
       "      <td>NaN</td>\n",
       "      <td>1020.200</td>\n",
       "      <td>NaN</td>\n",
       "      <td>3.000</td>\n",
       "    </tr>\n",
       "    <tr>\n",
       "      <th>max</th>\n",
       "      <td>60.000</td>\n",
       "      <td>60.000</td>\n",
       "      <td>100.000</td>\n",
       "      <td>332.000</td>\n",
       "      <td>NaN</td>\n",
       "      <td>360.000</td>\n",
       "      <td>189.000</td>\n",
       "      <td>NaN</td>\n",
       "      <td>1058.700</td>\n",
       "      <td>NaN</td>\n",
       "      <td>25.000</td>\n",
       "    </tr>\n",
       "  </tbody>\n",
       "</table>\n",
       "</div>"
      ],
      "text/plain": [
       "             temp        dwpt        rhum        prcp  snow        wdir  \\\n",
       "count 3765202.000 3765187.000 3765207.000 3744744.000 0.000 3765167.000   \n",
       "mean        9.246       3.645      71.106       0.116   NaN     184.294   \n",
       "std        13.836      13.119      18.702       1.052   NaN     111.576   \n",
       "min       -43.000     -52.900       0.000       0.000   NaN       0.000   \n",
       "25%        -0.700      -5.700      58.000       0.000   NaN      91.000   \n",
       "50%        12.200       6.200      73.000       0.000   NaN     191.000   \n",
       "75%        20.300      14.800      86.000       0.000   NaN     280.000   \n",
       "max        60.000      60.000     100.000     332.000   NaN     360.000   \n",
       "\n",
       "             wspd  wpgt        pres  tsun        coco  \n",
       "count 3765177.000 0.000 3765066.000 0.000 1614583.000  \n",
       "mean       13.762   NaN    1015.720   NaN       3.003  \n",
       "std         9.344   NaN       7.956   NaN       2.788  \n",
       "min         0.000   NaN     970.300   NaN       1.000  \n",
       "25%         7.600   NaN    1011.000   NaN       1.000  \n",
       "50%        13.000   NaN    1015.800   NaN       3.000  \n",
       "75%        18.400   NaN    1020.200   NaN       3.000  \n",
       "max       189.000   NaN    1058.700   NaN      25.000  "
      ]
     },
     "execution_count": 6,
     "metadata": {},
     "output_type": "execute_result"
    }
   ],
   "source": [
    "pd.set_option('display.float_format', lambda x: '%.3f' % x)\n",
    "df.describe()"
   ]
  },
  {
   "cell_type": "code",
   "execution_count": 7,
   "metadata": {
    "collapsed": false,
    "jupyter": {
     "outputs_hidden": false
    },
    "pycharm": {
     "name": "#%%\n"
    }
   },
   "outputs": [
    {
     "data": {
      "text/plain": [
       "(3765246, 11)"
      ]
     },
     "execution_count": 7,
     "metadata": {},
     "output_type": "execute_result"
    }
   ],
   "source": [
    "df.shape"
   ]
  },
  {
   "cell_type": "markdown",
   "metadata": {
    "pycharm": {
     "name": "#%% md\n"
    }
   },
   "source": [
    "### _3. Remove unneeded columns_\n"
   ]
  },
  {
   "cell_type": "code",
   "execution_count": 8,
   "metadata": {
    "collapsed": false,
    "jupyter": {
     "outputs_hidden": false
    },
    "pycharm": {
     "name": "#%%\n"
    }
   },
   "outputs": [
    {
     "data": {
      "text/html": [
       "<div>\n",
       "<style scoped>\n",
       "    .dataframe tbody tr th:only-of-type {\n",
       "        vertical-align: middle;\n",
       "    }\n",
       "\n",
       "    .dataframe tbody tr th {\n",
       "        vertical-align: top;\n",
       "    }\n",
       "\n",
       "    .dataframe thead th {\n",
       "        text-align: right;\n",
       "    }\n",
       "</style>\n",
       "<table border=\"1\" class=\"dataframe\">\n",
       "  <thead>\n",
       "    <tr style=\"text-align: right;\">\n",
       "      <th></th>\n",
       "      <th></th>\n",
       "      <th>temp</th>\n",
       "      <th>dwpt</th>\n",
       "      <th>rhum</th>\n",
       "      <th>prcp</th>\n",
       "      <th>wdir</th>\n",
       "      <th>wspd</th>\n",
       "      <th>pres</th>\n",
       "    </tr>\n",
       "    <tr>\n",
       "      <th>station</th>\n",
       "      <th>time</th>\n",
       "      <th></th>\n",
       "      <th></th>\n",
       "      <th></th>\n",
       "      <th></th>\n",
       "      <th></th>\n",
       "      <th></th>\n",
       "      <th></th>\n",
       "    </tr>\n",
       "  </thead>\n",
       "  <tbody>\n",
       "    <tr>\n",
       "      <th rowspan=\"5\" valign=\"top\">0CNUO</th>\n",
       "      <th>2022-01-01 00:00:00</th>\n",
       "      <td>-25.100</td>\n",
       "      <td>-28.100</td>\n",
       "      <td>76.000</td>\n",
       "      <td>0.000</td>\n",
       "      <td>271.000</td>\n",
       "      <td>12.600</td>\n",
       "      <td>1020.800</td>\n",
       "    </tr>\n",
       "    <tr>\n",
       "      <th>2022-01-01 01:00:00</th>\n",
       "      <td>-25.700</td>\n",
       "      <td>-28.700</td>\n",
       "      <td>76.000</td>\n",
       "      <td>0.000</td>\n",
       "      <td>275.000</td>\n",
       "      <td>13.000</td>\n",
       "      <td>1021.500</td>\n",
       "    </tr>\n",
       "    <tr>\n",
       "      <th>2022-01-01 02:00:00</th>\n",
       "      <td>-26.200</td>\n",
       "      <td>-29.300</td>\n",
       "      <td>75.000</td>\n",
       "      <td>0.000</td>\n",
       "      <td>273.000</td>\n",
       "      <td>12.600</td>\n",
       "      <td>1022.500</td>\n",
       "    </tr>\n",
       "    <tr>\n",
       "      <th>2022-01-01 03:00:00</th>\n",
       "      <td>-26.100</td>\n",
       "      <td>-29.100</td>\n",
       "      <td>76.000</td>\n",
       "      <td>0.000</td>\n",
       "      <td>277.000</td>\n",
       "      <td>13.700</td>\n",
       "      <td>1022.600</td>\n",
       "    </tr>\n",
       "    <tr>\n",
       "      <th>2022-01-01 04:00:00</th>\n",
       "      <td>-26.500</td>\n",
       "      <td>-29.600</td>\n",
       "      <td>75.000</td>\n",
       "      <td>0.000</td>\n",
       "      <td>275.000</td>\n",
       "      <td>13.300</td>\n",
       "      <td>1023.200</td>\n",
       "    </tr>\n",
       "  </tbody>\n",
       "</table>\n",
       "</div>"
      ],
      "text/plain": [
       "                               temp    dwpt   rhum  prcp    wdir   wspd  \\\n",
       "station time                                                              \n",
       "0CNUO   2022-01-01 00:00:00 -25.100 -28.100 76.000 0.000 271.000 12.600   \n",
       "        2022-01-01 01:00:00 -25.700 -28.700 76.000 0.000 275.000 13.000   \n",
       "        2022-01-01 02:00:00 -26.200 -29.300 75.000 0.000 273.000 12.600   \n",
       "        2022-01-01 03:00:00 -26.100 -29.100 76.000 0.000 277.000 13.700   \n",
       "        2022-01-01 04:00:00 -26.500 -29.600 75.000 0.000 275.000 13.300   \n",
       "\n",
       "                                pres  \n",
       "station time                          \n",
       "0CNUO   2022-01-01 00:00:00 1020.800  \n",
       "        2022-01-01 01:00:00 1021.500  \n",
       "        2022-01-01 02:00:00 1022.500  \n",
       "        2022-01-01 03:00:00 1022.600  \n",
       "        2022-01-01 04:00:00 1023.200  "
      ]
     },
     "execution_count": 8,
     "metadata": {},
     "output_type": "execute_result"
    }
   ],
   "source": [
    "df.drop(columns=['snow', 'wpgt','tsun','coco'],inplace=True)\n",
    "df.head()"
   ]
  },
  {
   "cell_type": "code",
   "execution_count": 13,
   "metadata": {
    "collapsed": false,
    "jupyter": {
     "outputs_hidden": false
    },
    "pycharm": {
     "name": "#%%\n"
    }
   },
   "outputs": [],
   "source": [
    "df=df.reset_index()"
   ]
  },
  {
   "cell_type": "code",
   "execution_count": 14,
   "metadata": {},
   "outputs": [
    {
     "data": {
      "text/html": [
       "<div>\n",
       "<style scoped>\n",
       "    .dataframe tbody tr th:only-of-type {\n",
       "        vertical-align: middle;\n",
       "    }\n",
       "\n",
       "    .dataframe tbody tr th {\n",
       "        vertical-align: top;\n",
       "    }\n",
       "\n",
       "    .dataframe thead th {\n",
       "        text-align: right;\n",
       "    }\n",
       "</style>\n",
       "<table border=\"1\" class=\"dataframe\">\n",
       "  <thead>\n",
       "    <tr style=\"text-align: right;\">\n",
       "      <th></th>\n",
       "      <th>time</th>\n",
       "      <th>temp</th>\n",
       "      <th>dwpt</th>\n",
       "      <th>rhum</th>\n",
       "      <th>prcp</th>\n",
       "      <th>wdir</th>\n",
       "      <th>wspd</th>\n",
       "      <th>pres</th>\n",
       "    </tr>\n",
       "    <tr>\n",
       "      <th>station</th>\n",
       "      <th></th>\n",
       "      <th></th>\n",
       "      <th></th>\n",
       "      <th></th>\n",
       "      <th></th>\n",
       "      <th></th>\n",
       "      <th></th>\n",
       "      <th></th>\n",
       "    </tr>\n",
       "  </thead>\n",
       "  <tbody>\n",
       "    <tr>\n",
       "      <th>0CNUO</th>\n",
       "      <td>6352</td>\n",
       "      <td>6352</td>\n",
       "      <td>6352</td>\n",
       "      <td>6352</td>\n",
       "      <td>6350</td>\n",
       "      <td>6352</td>\n",
       "      <td>6352</td>\n",
       "      <td>6352</td>\n",
       "    </tr>\n",
       "    <tr>\n",
       "      <th>0CO7B</th>\n",
       "      <td>6352</td>\n",
       "      <td>6352</td>\n",
       "      <td>6352</td>\n",
       "      <td>6352</td>\n",
       "      <td>6350</td>\n",
       "      <td>6352</td>\n",
       "      <td>6352</td>\n",
       "      <td>6352</td>\n",
       "    </tr>\n",
       "    <tr>\n",
       "      <th>0FV1F</th>\n",
       "      <td>6352</td>\n",
       "      <td>6352</td>\n",
       "      <td>6352</td>\n",
       "      <td>6352</td>\n",
       "      <td>6350</td>\n",
       "      <td>6352</td>\n",
       "      <td>6352</td>\n",
       "      <td>6352</td>\n",
       "    </tr>\n",
       "    <tr>\n",
       "      <th>1J1PJ</th>\n",
       "      <td>6360</td>\n",
       "      <td>6360</td>\n",
       "      <td>6360</td>\n",
       "      <td>6360</td>\n",
       "      <td>6360</td>\n",
       "      <td>6360</td>\n",
       "      <td>6360</td>\n",
       "      <td>6360</td>\n",
       "    </tr>\n",
       "    <tr>\n",
       "      <th>1JWST</th>\n",
       "      <td>6360</td>\n",
       "      <td>6360</td>\n",
       "      <td>6360</td>\n",
       "      <td>6360</td>\n",
       "      <td>6360</td>\n",
       "      <td>6359</td>\n",
       "      <td>6360</td>\n",
       "      <td>6360</td>\n",
       "    </tr>\n",
       "    <tr>\n",
       "      <th>...</th>\n",
       "      <td>...</td>\n",
       "      <td>...</td>\n",
       "      <td>...</td>\n",
       "      <td>...</td>\n",
       "      <td>...</td>\n",
       "      <td>...</td>\n",
       "      <td>...</td>\n",
       "      <td>...</td>\n",
       "    </tr>\n",
       "    <tr>\n",
       "      <th>ZFZUV</th>\n",
       "      <td>6360</td>\n",
       "      <td>6360</td>\n",
       "      <td>6360</td>\n",
       "      <td>6360</td>\n",
       "      <td>6358</td>\n",
       "      <td>6360</td>\n",
       "      <td>6360</td>\n",
       "      <td>6360</td>\n",
       "    </tr>\n",
       "    <tr>\n",
       "      <th>ZNWZW</th>\n",
       "      <td>3658</td>\n",
       "      <td>3658</td>\n",
       "      <td>3658</td>\n",
       "      <td>3658</td>\n",
       "      <td>3638</td>\n",
       "      <td>3658</td>\n",
       "      <td>3658</td>\n",
       "      <td>3658</td>\n",
       "    </tr>\n",
       "    <tr>\n",
       "      <th>ZUQJS</th>\n",
       "      <td>3342</td>\n",
       "      <td>3342</td>\n",
       "      <td>3342</td>\n",
       "      <td>3342</td>\n",
       "      <td>3329</td>\n",
       "      <td>3342</td>\n",
       "      <td>3342</td>\n",
       "      <td>3331</td>\n",
       "    </tr>\n",
       "    <tr>\n",
       "      <th>ZWC6W</th>\n",
       "      <td>6360</td>\n",
       "      <td>6360</td>\n",
       "      <td>6360</td>\n",
       "      <td>6360</td>\n",
       "      <td>6358</td>\n",
       "      <td>6360</td>\n",
       "      <td>6360</td>\n",
       "      <td>6360</td>\n",
       "    </tr>\n",
       "    <tr>\n",
       "      <th>ZYITU</th>\n",
       "      <td>3658</td>\n",
       "      <td>3658</td>\n",
       "      <td>3658</td>\n",
       "      <td>3658</td>\n",
       "      <td>3638</td>\n",
       "      <td>3658</td>\n",
       "      <td>3658</td>\n",
       "      <td>3658</td>\n",
       "    </tr>\n",
       "  </tbody>\n",
       "</table>\n",
       "<p>607 rows × 8 columns</p>\n",
       "</div>"
      ],
      "text/plain": [
       "         time  temp  dwpt  rhum  prcp  wdir  wspd  pres\n",
       "station                                                \n",
       "0CNUO    6352  6352  6352  6352  6350  6352  6352  6352\n",
       "0CO7B    6352  6352  6352  6352  6350  6352  6352  6352\n",
       "0FV1F    6352  6352  6352  6352  6350  6352  6352  6352\n",
       "1J1PJ    6360  6360  6360  6360  6360  6360  6360  6360\n",
       "1JWST    6360  6360  6360  6360  6360  6359  6360  6360\n",
       "...       ...   ...   ...   ...   ...   ...   ...   ...\n",
       "ZFZUV    6360  6360  6360  6360  6358  6360  6360  6360\n",
       "ZNWZW    3658  3658  3658  3658  3638  3658  3658  3658\n",
       "ZUQJS    3342  3342  3342  3342  3329  3342  3342  3331\n",
       "ZWC6W    6360  6360  6360  6360  6358  6360  6360  6360\n",
       "ZYITU    3658  3658  3658  3658  3638  3658  3658  3658\n",
       "\n",
       "[607 rows x 8 columns]"
      ]
     },
     "execution_count": 14,
     "metadata": {},
     "output_type": "execute_result"
    }
   ],
   "source": [
    "df.groupby(\"station\").count()"
   ]
  },
  {
   "cell_type": "code",
   "execution_count": null,
   "metadata": {},
   "outputs": [],
   "source": []
  }
 ],
 "metadata": {
  "kernelspec": {
   "display_name": "Python 3 (ipykernel)",
   "language": "python",
   "name": "python3"
  },
  "language_info": {
   "codemirror_mode": {
    "name": "ipython",
    "version": 3
   },
   "file_extension": ".py",
   "mimetype": "text/x-python",
   "name": "python",
   "nbconvert_exporter": "python",
   "pygments_lexer": "ipython3",
   "version": "3.9.12"
  }
 },
 "nbformat": 4,
 "nbformat_minor": 4
}
